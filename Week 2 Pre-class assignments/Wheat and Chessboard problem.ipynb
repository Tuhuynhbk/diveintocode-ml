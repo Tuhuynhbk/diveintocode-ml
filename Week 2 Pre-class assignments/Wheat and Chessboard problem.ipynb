{
 "cells": [
  {
   "cell_type": "markdown",
   "id": "maritime-surveillance",
   "metadata": {},
   "source": [
    "**Student Name: Huynh Truong Tu**"
   ]
  },
  {
   "cell_type": "markdown",
   "id": "structured-center",
   "metadata": {},
   "source": [
    "Below are my assignment for the wheat and chessboard problem"
   ]
  },
  {
   "cell_type": "markdown",
   "id": "recent-support",
   "metadata": {},
   "source": [
    "------------------------------------------------------------------------------------------------------------------"
   ]
  },
  {
   "cell_type": "markdown",
   "id": "bound-exclusive",
   "metadata": {},
   "source": [
    "$$S_{n} = 2^0+2^1+2^2+...2^{n-1} $$"
   ]
  },
  {
   "cell_type": "markdown",
   "id": "unusual-underground",
   "metadata": {},
   "source": [
    "> **Sample code for list method:**"
   ]
  },
  {
   "cell_type": "code",
   "execution_count": 5,
   "id": "painted-salad",
   "metadata": {},
   "outputs": [
    {
     "name": "stdout",
     "output_type": "stream",
     "text": [
      "Arrange wheat on a plate of 4 squares (list)：[1, 2, 4, 8]\n"
     ]
    }
   ],
   "source": [
    "n_squares = 4\n",
    "small_board_list = [1]\n",
    "for _ in range(n_squares - 1):\n",
    "    small_board_list.append(2*small_board_list[-1])\n",
    "print(\"Arrange wheat on a plate of 4 squares (list)：{}\".format(small_board_list))"
   ]
  },
  {
   "cell_type": "code",
   "execution_count": 156,
   "id": "vietnamese-spare",
   "metadata": {},
   "outputs": [
    {
     "name": "stdout",
     "output_type": "stream",
     "text": [
      "Arrange wheat on a plate of 4 squares (ndarray)：[1 2 4 8]\n"
     ]
    }
   ],
   "source": [
    "import numpy as np\n",
    "small_board_ndarray = np.array(small_board_list)\n",
    "print(\"Arrange wheat on a plate of 4 squares (ndarray)：{}\".format(small_board_ndarray))"
   ]
  },
  {
   "cell_type": "markdown",
   "id": "square-french",
   "metadata": {},
   "source": [
    "**[Problem 1] Number of wheat on a 2 x 2 square chess board**"
   ]
  },
  {
   "cell_type": "code",
   "execution_count": 158,
   "id": "received-acquisition",
   "metadata": {},
   "outputs": [
    {
     "name": "stdout",
     "output_type": "stream",
     "text": [
      "I modified from a list into: (2, 2)\n",
      "[[1 2]\n",
      " [4 8]]\n"
     ]
    }
   ],
   "source": [
    "two_board_array = small_board_ndarray.reshape(2,2)\n",
    "print(\"I modified from a list into: {}\".format(two_board_array.shape))\n",
    "print(two_board_array)"
   ]
  },
  {
   "cell_type": "markdown",
   "id": "pressing-wisconsin",
   "metadata": {},
   "source": [
    "**[Problem 2] Expansion to n × m mass using append**"
   ]
  },
  {
   "cell_type": "code",
   "execution_count": 159,
   "id": "lightweight-bracelet",
   "metadata": {},
   "outputs": [
    {
     "data": {
      "text/plain": [
       "array([[1.00000000e+00, 2.00000000e+00, 4.00000000e+00, 8.00000000e+00,\n",
       "        1.60000000e+01, 3.20000000e+01, 6.40000000e+01, 1.28000000e+02],\n",
       "       [2.56000000e+02, 5.12000000e+02, 1.02400000e+03, 2.04800000e+03,\n",
       "        4.09600000e+03, 8.19200000e+03, 1.63840000e+04, 3.27680000e+04],\n",
       "       [6.55360000e+04, 1.31072000e+05, 2.62144000e+05, 5.24288000e+05,\n",
       "        1.04857600e+06, 2.09715200e+06, 4.19430400e+06, 8.38860800e+06],\n",
       "       [1.67772160e+07, 3.35544320e+07, 6.71088640e+07, 1.34217728e+08,\n",
       "        2.68435456e+08, 5.36870912e+08, 1.07374182e+09, 2.14748365e+09],\n",
       "       [4.29496730e+09, 8.58993459e+09, 1.71798692e+10, 3.43597384e+10,\n",
       "        6.87194767e+10, 1.37438953e+11, 2.74877907e+11, 5.49755814e+11],\n",
       "       [1.09951163e+12, 2.19902326e+12, 4.39804651e+12, 8.79609302e+12,\n",
       "        1.75921860e+13, 3.51843721e+13, 7.03687442e+13, 1.40737488e+14],\n",
       "       [2.81474977e+14, 5.62949953e+14, 1.12589991e+15, 2.25179981e+15,\n",
       "        4.50359963e+15, 9.00719925e+15, 1.80143985e+16, 3.60287970e+16],\n",
       "       [7.20575940e+16, 1.44115188e+17, 2.88230376e+17, 5.76460752e+17,\n",
       "        1.15292150e+18, 2.30584301e+18, 4.61168602e+18, 9.22337204e+18]])"
      ]
     },
     "execution_count": 159,
     "metadata": {},
     "output_type": "execute_result"
    }
   ],
   "source": [
    "import numpy as np\n",
    "def wheat_number(n,m):\n",
    "    size=n*m\n",
    "    board_list = list(map(int,[1])) #initialize the first value into the board\n",
    "    for _ in range(size-1):\n",
    "        board_list.append(2*board_list[-1])\n",
    "    board_array = np.array(board_list)\n",
    "    board_array = board_array.reshape(n,m)\n",
    "    return board_array\n",
    "wheat_number(8,8)"
   ]
  },
  {
   "cell_type": "markdown",
   "id": "crucial-dryer",
   "metadata": {},
   "source": [
    "**[Problem 3] Total number of wheat**"
   ]
  },
  {
   "cell_type": "code",
   "execution_count": 163,
   "id": "liberal-sodium",
   "metadata": {},
   "outputs": [
    {
     "name": "stdout",
     "output_type": "stream",
     "text": [
      "The total number of wheat is: 1.8446744073709552e+19 grains\n",
      " [9.04252160e+15 1.80850432e+16 3.61700864e+16 7.23401728e+16\n",
      " 1.44680346e+17 2.89360691e+17 5.78721383e+17 1.15744277e+18]\n"
     ]
    },
    {
     "data": {
      "image/png": "[encoded data removed]",
      "text/plain": [
       "<Figure size 432x288 with 1 Axes>"
      ]
     },
     "metadata": {
      "needs_background": "light"
     },
     "output_type": "display_data"
    }
   ],
   "source": [
    "p3_board = wheat_number(8,8)\n",
    "print(\"The total number of wheat is: {} grains\".format(p3_board.sum()))\n",
    "mean_board = np.mean(p3_board,axis=0)\n",
    "print(\" {}\".format(mean_board)) #axis = 0 is to indicate the column\n",
    "##############################\n",
    "import matplotlib.pyplot as plt\n",
    "%matplotlib inline\n",
    "plt.xlabel(\"column\")\n",
    "plt.ylabel(\"number\")\n",
    "plt.title(\"number in each column\")\n",
    "plt.bar(np.arange(8),mean_board)\n",
    "plt.show()"
   ]
  },
  {
   "cell_type": "markdown",
   "id": "funded-crack",
   "metadata": {},
   "source": [
    "**[Problem 4] Heat map of the number of wheat**"
   ]
  },
  {
   "cell_type": "markdown",
   "id": "gross-peeing",
   "metadata": {},
   "source": [
    "* I'll follow the provided sample code:"
   ]
  },
  {
   "cell_type": "code",
   "execution_count": 164,
   "id": "protective-necklace",
   "metadata": {},
   "outputs": [
    {
     "name": "stdout",
     "output_type": "stream",
     "text": [
      "[[1.00000000e+00 2.00000000e+00 4.00000000e+00 8.00000000e+00\n",
      "  1.60000000e+01 3.20000000e+01 6.40000000e+01 1.28000000e+02]\n",
      " [2.56000000e+02 5.12000000e+02 1.02400000e+03 2.04800000e+03\n",
      "  4.09600000e+03 8.19200000e+03 1.63840000e+04 3.27680000e+04]\n",
      " [6.55360000e+04 1.31072000e+05 2.62144000e+05 5.24288000e+05\n",
      "  1.04857600e+06 2.09715200e+06 4.19430400e+06 8.38860800e+06]\n",
      " [1.67772160e+07 3.35544320e+07 6.71088640e+07 1.34217728e+08\n",
      "  2.68435456e+08 5.36870912e+08 1.07374182e+09 2.14748365e+09]\n",
      " [4.29496730e+09 8.58993459e+09 1.71798692e+10 3.43597384e+10\n",
      "  6.87194767e+10 1.37438953e+11 2.74877907e+11 5.49755814e+11]\n",
      " [1.09951163e+12 2.19902326e+12 4.39804651e+12 8.79609302e+12\n",
      "  1.75921860e+13 3.51843721e+13 7.03687442e+13 1.40737488e+14]\n",
      " [2.81474977e+14 5.62949953e+14 1.12589991e+15 2.25179981e+15\n",
      "  4.50359963e+15 9.00719925e+15 1.80143985e+16 3.60287970e+16]\n",
      " [7.20575940e+16 1.44115188e+17 2.88230376e+17 5.76460752e+17\n",
      "  1.15292150e+18 2.30584301e+18 4.61168602e+18 9.22337204e+18]]\n"
     ]
    },
    {
     "data": {
      "image/png": "[encoded data removed]",
      "text/plain": [
       "<Figure size 432x288 with 1 Axes>"
      ]
     },
     "metadata": {
      "needs_background": "light"
     },
     "output_type": "display_data"
    }
   ],
   "source": [
    "print(p3_board)\n",
    "plt.xlabel(\"column\")\n",
    "plt.ylabel(\"row\")\n",
    "plt.title(\"heatmap\")\n",
    "plt.pcolor(p3_board)\n",
    "plt.show()"
   ]
  },
  {
   "cell_type": "markdown",
   "id": "vocational-review",
   "metadata": {},
   "source": [
    "**[Problem 5] Find how many times the number of wheat in the second half of the chessboard is greater than the number of wheat in the first half.**"
   ]
  },
  {
   "cell_type": "markdown",
   "id": "adapted-registrar",
   "metadata": {},
   "source": [
    "* First I will calculate the number of wheat in the first half"
   ]
  },
  {
   "cell_type": "markdown",
   "id": "emerging-better",
   "metadata": {},
   "source": [
    "* Then compare sequentially the above sum for each value of the second half"
   ]
  },
  {
   "cell_type": "code",
   "execution_count": 136,
   "id": "positive-glenn",
   "metadata": {},
   "outputs": [
    {
     "name": "stdout",
     "output_type": "stream",
     "text": [
      "Sum of first half is: 4294967295.0\n",
      "Here is the second half :\n",
      "[[4.29496730e+09 8.58993459e+09 1.71798692e+10 3.43597384e+10\n",
      "  6.87194767e+10 1.37438953e+11 2.74877907e+11 5.49755814e+11\n",
      "  1.09951163e+12 2.19902326e+12 4.39804651e+12 8.79609302e+12\n",
      "  1.75921860e+13 3.51843721e+13 7.03687442e+13 1.40737488e+14\n",
      "  2.81474977e+14 5.62949953e+14 1.12589991e+15 2.25179981e+15\n",
      "  4.50359963e+15 9.00719925e+15 1.80143985e+16 3.60287970e+16\n",
      "  7.20575940e+16 1.44115188e+17 2.88230376e+17 5.76460752e+17\n",
      "  1.15292150e+18 2.30584301e+18 4.61168602e+18 9.22337204e+18]]\n",
      "There are 32 times that the number of wheat in the second half of the chessboard is greater than the number of wheat in the first half.\n"
     ]
    }
   ],
   "source": [
    "sum_first_half = p3_board[:4,0:8].sum()\n",
    "print(\"Sum of first half is: {}\".format(first_half))\n",
    "second_half = p3_board[4:8,:].reshape(1,32)\n",
    "print(\"Here is the second half :\\n{}\".format(second_half))\n",
    "t_counter = int(second_half[0,0]) #initial the first value of the counter\n",
    "n = 0\n",
    "while t_counter < sum_first_half:\n",
    "    t_counter += int(second_half[:,n])\n",
    "    n +=1\n",
    "print(\"There are {} times that the number of wheat in the second half of the chessboard is greater than the number of wheat in the first half.\".format(int(64/2-n)))"
   ]
  },
  {
   "cell_type": "markdown",
   "id": "intellectual-montreal",
   "metadata": {},
   "source": [
    "**[Problem 6] Expansion to n × m mass by another calculation method**"
   ]
  },
  {
   "cell_type": "markdown",
   "id": "visible-court",
   "metadata": {},
   "source": [
    "* Np.append() method"
   ]
  },
  {
   "cell_type": "code",
   "execution_count": 170,
   "id": "northern-generator",
   "metadata": {},
   "outputs": [
    {
     "data": {
      "text/plain": [
       "array([1.00000000e+00, 2.00000000e+00, 4.00000000e+00, 8.00000000e+00,\n",
       "       1.60000000e+01, 3.20000000e+01, 6.40000000e+01, 1.28000000e+02,\n",
       "       2.56000000e+02, 5.12000000e+02, 1.02400000e+03, 2.04800000e+03,\n",
       "       4.09600000e+03, 8.19200000e+03, 1.63840000e+04, 3.27680000e+04,\n",
       "       6.55360000e+04, 1.31072000e+05, 2.62144000e+05, 5.24288000e+05,\n",
       "       1.04857600e+06, 2.09715200e+06, 4.19430400e+06, 8.38860800e+06,\n",
       "       1.67772160e+07, 3.35544320e+07, 6.71088640e+07, 1.34217728e+08,\n",
       "       2.68435456e+08, 5.36870912e+08, 1.07374182e+09, 2.14748365e+09,\n",
       "       4.29496730e+09, 8.58993459e+09, 1.71798692e+10, 3.43597384e+10,\n",
       "       6.87194767e+10, 1.37438953e+11, 2.74877907e+11, 5.49755814e+11,\n",
       "       1.09951163e+12, 2.19902326e+12, 4.39804651e+12, 8.79609302e+12,\n",
       "       1.75921860e+13, 3.51843721e+13, 7.03687442e+13, 1.40737488e+14,\n",
       "       2.81474977e+14, 5.62949953e+14, 1.12589991e+15, 2.25179981e+15,\n",
       "       4.50359963e+15, 9.00719925e+15, 1.80143985e+16, 3.60287970e+16,\n",
       "       7.20575940e+16, 1.44115188e+17, 2.88230376e+17, 5.76460752e+17,\n",
       "       1.15292150e+18, 2.30584301e+18, 4.61168602e+18, 9.22337204e+18])"
      ]
     },
     "execution_count": 170,
     "metadata": {},
     "output_type": "execute_result"
    }
   ],
   "source": [
    "import numpy as np\n",
    "def wheat_number_ver1(n,m):\n",
    "    n_squares = n*m\n",
    "    board_ndarray_ver1 = np.array([1]).astype(np.uint64)\n",
    "    for _ in range(n_squares - 1):\n",
    "        board_ndarray_ver1 = np.append(board_ndarray_ver1, 2*board_ndarray_ver1[-1])\n",
    "    return board_ndarray_ver1\n",
    "wheat_number_ver1(8,8)"
   ]
  },
  {
   "cell_type": "markdown",
   "id": "concerned-margin",
   "metadata": {},
   "source": [
    "* Numpy broadcast:"
   ]
  },
  {
   "cell_type": "code",
   "execution_count": 150,
   "id": "extensive-viewer",
   "metadata": {},
   "outputs": [
    {
     "data": {
      "text/plain": [
       "array([                  1,                   2,                   4,\n",
       "                         8,                  16,                  32,\n",
       "                        64,                 128,                 256,\n",
       "                       512,                1024,                2048,\n",
       "                      4096,                8192,               16384,\n",
       "                     32768,               65536,              131072,\n",
       "                    262144,              524288,             1048576,\n",
       "                   2097152,             4194304,             8388608,\n",
       "                  16777216,            33554432,            67108864,\n",
       "                 134217728,           268435456,           536870912,\n",
       "                1073741824,          2147483648,          4294967296,\n",
       "                8589934592,         17179869184,         34359738368,\n",
       "               68719476736,        137438953472,        274877906944,\n",
       "              549755813888,       1099511627776,       2199023255552,\n",
       "             4398046511104,       8796093022208,      17592186044416,\n",
       "            35184372088832,      70368744177664,     140737488355328,\n",
       "           281474976710656,     562949953421312,    1125899906842624,\n",
       "          2251799813685248,    4503599627370496,    9007199254740992,\n",
       "         18014398509481984,   36028797018963968,   72057594037927936,\n",
       "        144115188075855872,  288230376151711744,  576460752303423488,\n",
       "       1152921504606846976, 2305843009213693952, 4611686018427387904,\n",
       "       9223372036854775808], dtype=uint64)"
      ]
     },
     "execution_count": 150,
     "metadata": {},
     "output_type": "execute_result"
    }
   ],
   "source": [
    "import numpy as np\n",
    "def wheat_number_ver2(n,m):\n",
    "    n_squares = n*m\n",
    "    indices_of_squares = np.arange(n_squares).astype(np.uint64)\n",
    "    board_ndarray_ver2 = np.array([1])\n",
    "    for _ in range(n_squares - 1):\n",
    "       board_ndarray_ver2 = 2**indices_of_squares\n",
    "    return board_ndarray_ver2\n",
    "wheat_number_ver2(8,8)"
   ]
  },
  {
   "cell_type": "markdown",
   "id": "bulgarian-sally",
   "metadata": {},
   "source": [
    "**[Problem 7] Comparing calculation times**"
   ]
  },
  {
   "cell_type": "code",
   "execution_count": 153,
   "id": "durable-technician",
   "metadata": {},
   "outputs": [
    {
     "name": "stdout",
     "output_type": "stream",
     "text": [
      "13.5 µs ± 1.11 µs per loop (mean ± std. dev. of 7 runs, 100000 loops each)\n"
     ]
    }
   ],
   "source": [
    "%%timeit #list method\n",
    "wheat_number(8,8)"
   ]
  },
  {
   "cell_type": "code",
   "execution_count": 171,
   "id": "norman-smell",
   "metadata": {},
   "outputs": [
    {
     "name": "stdout",
     "output_type": "stream",
     "text": [
      "321 µs ± 5.03 µs per loop (mean ± std. dev. of 7 runs, 1000 loops each)\n"
     ]
    }
   ],
   "source": [
    "%%timeit #np.append() method\n",
    "wheat_number_ver1(8,8)"
   ]
  },
  {
   "cell_type": "code",
   "execution_count": 152,
   "id": "optional-pasta",
   "metadata": {},
   "outputs": [
    {
     "name": "stdout",
     "output_type": "stream",
     "text": [
      "91.3 µs ± 1.33 µs per loop (mean ± std. dev. of 7 runs, 10000 loops each)\n"
     ]
    }
   ],
   "source": [
    "%%timeit #numpy broadcast method\n",
    "wheat_number_ver2(8,8)"
   ]
  },
  {
   "cell_type": "markdown",
   "id": "bored-suspension",
   "metadata": {},
   "source": [
    "> In conclusion, even though the boardcast is better than the np.append(), the first method using list is the fastest according to %%timeit"
   ]
  },
  {
   "cell_type": "markdown",
   "id": "painful-funeral",
   "metadata": {},
   "source": [
    "====================================================================================================================="
   ]
  },
  {
   "cell_type": "markdown",
   "id": "adult-bloom",
   "metadata": {},
   "source": [
    "This is the end of my assignment, thank you for reading!"
   ]
  }
 ],
 "metadata": {
  "kernelspec": {
   "display_name": "Python 3",
   "language": "python",
   "name": "python3"
  },
  "language_info": {
   "codemirror_mode": {
    "name": "ipython",
    "version": 3
   },
   "file_extension": ".py",
   "mimetype": "text/x-python",
   "name": "python",
   "nbconvert_exporter": "python",
   "pygments_lexer": "ipython3",
   "version": "3.9.0"
  }
 },
 "nbformat": 4,
 "nbformat_minor": 5
}
