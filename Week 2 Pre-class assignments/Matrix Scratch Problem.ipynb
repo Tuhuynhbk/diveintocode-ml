{
 "cells": [
  {
   "cell_type": "markdown",
   "id": "wireless-special",
   "metadata": {},
   "source": [
    "**Student Name: Huynh Truong Tu**"
   ]
  },
  {
   "cell_type": "markdown",
   "id": "grave-subcommittee",
   "metadata": {},
   "source": [
    "Below are my assignment for Matrix Scratch problem"
   ]
  },
  {
   "cell_type": "markdown",
   "id": "finite-scene",
   "metadata": {},
   "source": [
    "----------------------------------------------------------------------"
   ]
  },
  {
   "cell_type": "markdown",
   "id": "foreign-frontier",
   "metadata": {},
   "source": [
    "### [Problem 1] Matrix product is calculated manually"
   ]
  },
  {
   "cell_type": "markdown",
   "id": "through-terrain",
   "metadata": {},
   "source": [
    "**Formula:**"
   ]
  },
  {
   "cell_type": "markdown",
   "id": "amber-midnight",
   "metadata": {},
   "source": [
    "If A is an m × n matrix and B is an n × p matrix,\n",
    "\n",
    "$$ \\mathbf {A} ={\\begin{pmatrix}a_{11}&a_{12}&\\cdots &a_{1n}\\\\a_{21}&a_{22}&\\cdots &a_{2n}\\\\\\vdots &\\vdots &\\ddots &\\vdots \\\\a_{m1}&a_{m2}&\\cdots &a_{mn}\\\\\\end{pmatrix}},\n",
    "\\quad \\mathbf {B} ={\\begin{pmatrix}b_{11}&b_{12}&\\cdots &b_{1p}\\\\b_{21}&b_{22}&\\cdots &b_{2p}\\\\\\vdots &\\vdots &\\ddots &\\vdots \\\\b_{n1}&b_{n2}&\\cdots &b_{np}\\\\\\end{pmatrix}} $$"
   ]
  },
  {
   "cell_type": "markdown",
   "id": "mediterranean-earthquake",
   "metadata": {},
   "source": [
    "the matrix product C = AB (denoted without multiplication signs or dots) is defined to be the m × p matrix\n",
    "\n",
    "$$ {\\displaystyle \\mathbf {C} ={\\begin{pmatrix}c_{11}&c_{12}&\\cdots &c_{1p}\\\\c_{21}&c_{22}&\\cdots &c_{2p}\\\\\\vdots &\\vdots &\\ddots &\\vdots \\\\c_{m1}&c_{m2}&\\cdots &c_{mp}\\\\\\end{pmatrix}}}$$"
   ]
  },
  {
   "cell_type": "markdown",
   "id": "accepted-composite",
   "metadata": {},
   "source": [
    "Such that\n",
    "$$ c_{ij}=a_{i1}b_{1j}+a_{i2}b_{2j}+\\cdots +a_{in}b_{nj}=\\sum _{k=1}^{n}a_{ik}b_{kj}$$\n",
    "<center>for i = 1, ..., m and j = 1, ..., p."
   ]
  },
  {
   "cell_type": "markdown",
   "id": "fresh-treasurer",
   "metadata": {},
   "source": [
    "> Source: https://en.wikipedia.org/wiki/Matrix_multiplication"
   ]
  },
  {
   "cell_type": "markdown",
   "id": "hybrid-kazakhstan",
   "metadata": {},
   "source": [
    "Thus, we have:\n",
    "$$ \\mathbf {A} ={\\begin{pmatrix}-1&2&3\\\\4&-5&6\\\\7&8&9\\\\\\end{pmatrix}},\n",
    "\\quad \\mathbf {B} = {\\begin{pmatrix}0&2&1\\\\0&2&-8\\\\2&9&-1\\\\\\end{pmatrix}} $$"
   ]
  },
  {
   "cell_type": "markdown",
   "id": "patient-teddy",
   "metadata": {},
   "source": [
    "$$ c_{11}=\\sum _{k=1}^{3}a_{1k}b_{k1}=(-1)x0+2x0+3x2=6 $$\n",
    "$$c_{12}=\\sum _{k=1}^{3}a_{1k}b_{k2}=29$$\n",
    "$$c_{13}=\\sum _{k=1}^{3}a_{1k}b_{k3}=-20$$\n",
    "$$c_{21}=\\sum _{k=1}^{3}a_{2k}b_{k1}=12$$\n",
    "$$c_{22}=\\sum _{k=1}^{3}a_{2k}b_{k2}=52$$\n",
    "$$c_{23}=\\sum _{k=1}^{3}a_{2k}b_{k3}=38$$\n",
    "$$c_{31}=\\sum _{k=1}^{3}a_{3k}b_{k1}=-18$$\n",
    "$$c_{32}=\\sum _{k=1}^{3}a_{3k}b_{k2}=-51$$\n",
    "$$c_{33}=\\sum _{k=1}^{3}a_{3k}b_{k3}=-48$$\n",
    "\n"
   ]
  },
  {
   "cell_type": "markdown",
   "id": "secondary-environment",
   "metadata": {},
   "source": [
    "$$ \\mathbf {C} ={\\begin{pmatrix}6&29&-20\\\\12&52&38\\\\-18&-51&-48\\\\\\end{pmatrix}} $$"
   ]
  },
  {
   "cell_type": "markdown",
   "id": "local-recycling",
   "metadata": {},
   "source": [
    "### [Problem 2] Calculation by NumPy function"
   ]
  },
  {
   "cell_type": "code",
   "execution_count": 77,
   "id": "controversial-multiple",
   "metadata": {},
   "outputs": [],
   "source": [
    "import numpy as np\n",
    "a_ndarray = np.array([[-1, 2, 3], [4, -5, 6], [7, 8, -9]])\n",
    "b_ndarray = np.array([[0, 2, 1], [0, 2, -8], [2, 9, -1]])"
   ]
  },
  {
   "cell_type": "code",
   "execution_count": 78,
   "id": "horizontal-paragraph",
   "metadata": {},
   "outputs": [
    {
     "name": "stdout",
     "output_type": "stream",
     "text": [
      "[[  6  29 -20]\n",
      " [ 12  52  38]\n",
      " [-18 -51 -48]]\n"
     ]
    }
   ],
   "source": [
    "c_ndarray = np.matmul(a_ndarray,b_ndarray)\n",
    "print(c_ndarray)"
   ]
  },
  {
   "cell_type": "markdown",
   "id": "modular-enlargement",
   "metadata": {},
   "source": [
    "* Yes, this matches my manual result"
   ]
  },
  {
   "cell_type": "markdown",
   "id": "institutional-dating",
   "metadata": {},
   "source": [
    "### [Problem 3] Implementation of calculation of a certain element"
   ]
  },
  {
   "cell_type": "code",
   "execution_count": 80,
   "id": "steady-peoples",
   "metadata": {},
   "outputs": [
    {
     "name": "stdout",
     "output_type": "stream",
     "text": [
      "The (0,0) element's value is: 6\n"
     ]
    }
   ],
   "source": [
    "zero_element=0\n",
    "for _ in range(0,3):\n",
    "            zero_element += a_ndarray[0,_]*b_ndarray[_,0]\n",
    "print(\"The (0,0) element's value is: {}\".format(zero_element))"
   ]
  },
  {
   "cell_type": "markdown",
   "id": "different-audio",
   "metadata": {},
   "source": [
    "### [Problem 4] Creating a function that performs matrix multiplication"
   ]
  },
  {
   "cell_type": "code",
   "execution_count": 66,
   "id": "precious-agriculture",
   "metadata": {},
   "outputs": [
    {
     "data": {
      "text/plain": [
       "array([[  6.,  29., -20.],\n",
       "       [ 12.,  52.,  38.],\n",
       "       [-18., -51., -48.]])"
      ]
     },
     "execution_count": 66,
     "metadata": {},
     "output_type": "execute_result"
    }
   ],
   "source": [
    "def matrix_product(a,b):\n",
    "    c_ndarray_ver2 = np.zeros((3,3))\n",
    "    for col in range(0,3):\n",
    "        for row in range(0,3):\n",
    "            for _ in range(0,3):\n",
    "                c_ndarray_ver2[col,row] += a_ndarray[col,_]*b_ndarray[_,row]\n",
    "    return c_ndarray_ver2\n",
    "matrix_product(a_ndarray,b_ndarray)"
   ]
  },
  {
   "cell_type": "markdown",
   "id": "strange-forward",
   "metadata": {},
   "source": [
    "### [Problem 5] Judge the input whose calculation is not defined"
   ]
  },
  {
   "cell_type": "code",
   "execution_count": 53,
   "id": "freelance-maintenance",
   "metadata": {},
   "outputs": [],
   "source": [
    "d_ndarray = np.array([[-1, 2, 3], [4, -5, 6]])\n",
    "e_ndarray = np.array([[-9, 8, 7], [6, -5, 4]])"
   ]
  },
  {
   "cell_type": "code",
   "execution_count": 74,
   "id": "labeled-webcam",
   "metadata": {},
   "outputs": [
    {
     "name": "stdout",
     "output_type": "stream",
     "text": [
      "The matrix product is defined\n"
     ]
    }
   ],
   "source": [
    "def matrix_product(a,b):\n",
    "    a_num_cols, a_num_rows = a.shape\n",
    "    b_num_cols, b_num_rows = b.shape\n",
    "    if a_num_rows == b_num_cols:\n",
    "        c_ndarray_ver2 = np.zeros((a_num_cols,b_num_rows))\n",
    "        for col in range(0,a_num_cols):\n",
    "            for row in range(0,b_num_rows):\n",
    "                for _ in range(0,b_num_cols):\n",
    "                    c_ndarray_ver2[col,row] += a[col,_]*b[_,row]\n",
    "        return c_ndarray_ver2\n",
    "    else: \n",
    "        print('The matrix product is defined') \n",
    "        return None\n",
    "matrix_product(d_ndarray,e_ndarray)"
   ]
  },
  {
   "cell_type": "markdown",
   "id": "historic-myrtle",
   "metadata": {},
   "source": [
    "### [Problem 6] Transposition"
   ]
  },
  {
   "cell_type": "code",
   "execution_count": 75,
   "id": "intellectual-force",
   "metadata": {},
   "outputs": [
    {
     "data": {
      "text/plain": [
       "array([[ 33., -28.,   9.],\n",
       "       [-48.,  41.,  -6.],\n",
       "       [  9.,  -6.,  45.]])"
      ]
     },
     "execution_count": 75,
     "metadata": {},
     "output_type": "execute_result"
    }
   ],
   "source": [
    "d_transpose = np.transpose(d_ndarray)\n",
    "matrix_product(d_transpose, e_ndarray)"
   ]
  },
  {
   "cell_type": "markdown",
   "id": "bigger-teacher",
   "metadata": {},
   "source": [
    "======================================================================================================================"
   ]
  },
  {
   "cell_type": "markdown",
   "id": "passing-pillow",
   "metadata": {},
   "source": [
    "This is the end of my assignment, thank you for reading!"
   ]
  }
 ],
 "metadata": {
  "kernelspec": {
   "display_name": "Python 3",
   "language": "python",
   "name": "python3"
  },
  "language_info": {
   "codemirror_mode": {
    "name": "ipython",
    "version": 3
   },
   "file_extension": ".py",
   "mimetype": "text/x-python",
   "name": "python",
   "nbconvert_exporter": "python",
   "pygments_lexer": "ipython3",
   "version": "3.9.0"
  }
 },
 "nbformat": 4,
 "nbformat_minor": 5
}
