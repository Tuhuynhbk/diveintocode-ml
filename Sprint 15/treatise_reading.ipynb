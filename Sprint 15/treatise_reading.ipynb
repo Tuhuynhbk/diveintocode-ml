{
 "cells": [
  {
   "cell_type": "markdown",
   "metadata": {},
   "source": [
    "# Student Name: Huynh Truong Tu\n",
    " Below is my assignment for Sprint15's \"Treatise Reading\""
   ]
  },
  {
   "cell_type": "markdown",
   "metadata": {},
   "source": [
    "-------------------------------------------------------------------------------------------"
   ]
  },
  {
   "cell_type": "markdown",
   "metadata": {},
   "source": [
    "# Introduction\n",
    "Please read the following papers and answer the questions. This is a representative study of object detection using CNN.\n",
    "\n",
    "\n",
    "[8] Ren, S., He, K., Girshick, R., Sun, J.: Faster r-cnn: Towards real-time object detection with region proposal networks.In: Advances in neural information processing systems. (2015 ) 91–99\n",
    "\n",
    "\n",
    "[https://arxiv.org/pdf/1506.01497.pdf]()"
   ]
  },
  {
   "cell_type": "markdown",
   "metadata": {},
   "source": [
    "# Questions\n",
    "\n",
    "(1) What kind of method exists in the field of object detection?\n",
    "\n",
    "\n",
    "(2) It says \"Faster\", but what mechanism was used to make it faster?\n",
    "\n",
    "\n",
    "(3) How is the One-Stage method different from the Two-Stage method?\n",
    "\n",
    "\n",
    "(4) What is RPN?\n",
    "\n",
    "\n",
    "(5) What is RoI pooling?\n",
    "\n",
    "\n",
    "(6) What is the proper size for Anchor?\n",
    "\n",
    "\n",
    "(7) What kind of data set is used and what kind of index value is obtained compared to the previous research?\n",
    "\n",
    "\n",
    "(8) (Advance assignment) How is Faster R-CNN cited in the article on object detection newer than Faster R-CNN?"
   ]
  },
  {
   "cell_type": "markdown",
   "metadata": {},
   "source": [
    "# Q1  - Object detection methods:\n",
    "- Fast R-CNN.\n",
    "- Faster R-CNN.\n",
    "- RPN\n",
    "- SS\n",
    "- VGG\n",
    "- ..."
   ]
  },
  {
   "cell_type": "markdown",
   "metadata": {},
   "source": [
    "# Q2 - What mechanism use to make it faster?\n",
    "- The network modules are trained with shared features\n",
    "- Even faster with joint training approach\n",
    "- Take advantage of GPU rather than CPU\n",
    "- Share convolution with object detection\n",
    "- Use good region proposal method like EdgeBoxes instead of a more accurate but slower SelectiveSearch"
   ]
  },
  {
   "cell_type": "markdown",
   "metadata": {},
   "source": [
    "# Q3 - Difference of one stage and two stage method\n",
    "- One stage does region proposal and classify at the same time while two stage does region proposal first and classify later\n",
    "- One stage is slow cause more proposal to process"
   ]
  },
  {
   "cell_type": "markdown",
   "metadata": {},
   "source": [
    "# Q4 - What is RPN?\n",
    "An RPN is a fully convolutional network that simultaneously predicts object bounds and objectness scores at each position"
   ]
  },
  {
   "cell_type": "markdown",
   "metadata": {},
   "source": [
    "# Q5 - Rol Polling\n",
    "The RoI pooling layer uses max pooling to convert the\n",
    "features inside any valid region of interest into a small feature map with a fixed spatial extent of H × W\n",
    "\n",
    "[Fast R-CNN paper](https://deepsense.ai/wp-content/uploads/2017/02/1504.08083.pdf)"
   ]
  },
  {
   "cell_type": "markdown",
   "metadata": {},
   "source": [
    "# Q6 - Proper anchor size\n",
    "\n",
    "Three scales combination of 128^2, 256^2 and 512^2 with one aspect ratio of 1:1 showed to be best in the paper"
   ]
  },
  {
   "cell_type": "markdown",
   "metadata": {},
   "source": [
    "# Q7 - What kind of data set is used and what kind of index value is obtained compared to the previous research?\n",
    "\n",
    "Datasets: MS COCO dataset, PASCAL VOC dataset\n",
    "\n",
    "This research also test on MS COCO compared to previous one and also discuss improvement on PASCAL VOC using MS COCO data"
   ]
  },
  {
   "cell_type": "markdown",
   "metadata": {},
   "source": [
    "# Q8 - How can the cited Faster R-CNN be newer than the Faster R-CNN\n",
    "\n",
    "Cause one is a conference version and one is a publish version"
   ]
  },
  {
   "cell_type": "markdown",
   "metadata": {},
   "source": [
    "-------------------------------------------------------------------------------------------"
   ]
  },
  {
   "cell_type": "markdown",
   "metadata": {},
   "source": [
    "This is the end of my assignment. Thank you for reading!"
   ]
  }
 ],
 "metadata": {
  "language_info": {
   "name": "python"
  },
  "orig_nbformat": 4
 },
 "nbformat": 4,
 "nbformat_minor": 2
}
