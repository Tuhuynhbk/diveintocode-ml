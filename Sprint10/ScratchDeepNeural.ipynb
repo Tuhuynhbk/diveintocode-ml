{
  "cells": [
    {
      "cell_type": "markdown",
      "metadata": {},
      "source": [
        "# Student Name: Huynh Truong Tu\n",
        " Below is my assignment for Sprint10's \"Deep Neural Scratch\""
      ]
    },
    {
      "cell_type": "markdown",
      "metadata": {},
      "source": [
        "-----------------------------------------------------------------------------------------"
      ]
    },
    {
      "cell_type": "markdown",
      "metadata": {
        "id": "kRSnDIbO6kLK"
      },
      "source": [
        "# Introduction"
      ]
    },
    {
      "cell_type": "code",
      "execution_count": 1,
      "metadata": {
        "id": "EMnIuiAl6PFU"
      },
      "outputs": [],
      "source": [
        "#dependencies\n",
        "import pandas as pd\n",
        "import numpy as np\n",
        "import matplotlib.pyplot as plt\n",
        "import seaborn as sns"
      ]
    },
    {
      "cell_type": "markdown",
      "metadata": {
        "id": "IaiEVcL8hUPN"
      },
      "source": [
        "# Data Set Prep"
      ]
    },
    {
      "cell_type": "code",
      "execution_count": 2,
      "metadata": {
        "colab": {
          "base_uri": "https://localhost:8080/"
        },
        "id": "gYvxe-vn6llv",
        "outputId": "ec57d7a8-64b1-4188-f254-cebf67938398"
      },
      "outputs": [
        {
          "name": "stderr",
          "output_type": "stream",
          "text": [
            "C:\\Users\\ADMIN\\AppData\\Local\\Temp/ipykernel_12424/3284439299.py:8: DeprecationWarning: `np.float` is a deprecated alias for the builtin `float`. To silence this warning, use `float` by itself. Doing this will not modify any behavior and is safe. If you specifically wanted the numpy scalar type, use `np.float64` here.\n",
            "Deprecated in NumPy 1.20; for more details and guidance: https://numpy.org/devdocs/release/1.20.0-notes.html#deprecations\n",
            "  X_train = X_train.astype(np.float)\n",
            "C:\\Users\\ADMIN\\AppData\\Local\\Temp/ipykernel_12424/3284439299.py:9: DeprecationWarning: `np.float` is a deprecated alias for the builtin `float`. To silence this warning, use `float` by itself. Doing this will not modify any behavior and is safe. If you specifically wanted the numpy scalar type, use `np.float64` here.\n",
            "Deprecated in NumPy 1.20; for more details and guidance: https://numpy.org/devdocs/release/1.20.0-notes.html#deprecations\n",
            "  X_test = X_test.astype(np.float)\n"
          ]
        }
      ],
      "source": [
        "#data set\n",
        "from keras.datasets import mnist\n",
        "(X_train, y_train), (X_test, y_test) = mnist.load_data()\n",
        "#reshape\n",
        "X_train = X_train.reshape(-1, 784)\n",
        "X_test = X_test.reshape(-1, 784)\n",
        "#scaling\n",
        "X_train = X_train.astype(np.float)\n",
        "X_test = X_test.astype(np.float)\n",
        "X_train /= 255\n",
        "X_test /= 255\n",
        "#one hot encode for multiclass labels!\n",
        "from sklearn.preprocessing import OneHotEncoder\n",
        "enc = OneHotEncoder(handle_unknown='ignore', sparse=False)\n",
        "y_train_one_hot = enc.fit_transform(y_train[:, np.newaxis])\n",
        "y_test_one_hot = enc.transform(y_test[:, np.newaxis])\n",
        "#validation split\n",
        "from sklearn.model_selection import train_test_split\n",
        "X_train, X_val, y_train, y_val = train_test_split(X_train, y_train_one_hot, test_size=0.2)"
      ]
    },
    {
      "cell_type": "markdown",
      "metadata": {
        "id": "w4X-mPbdhXXl"
      },
      "source": [
        "# Mini Batch"
      ]
    },
    {
      "cell_type": "code",
      "execution_count": 3,
      "metadata": {
        "id": "1JbQAtYB66z-"
      },
      "outputs": [],
      "source": [
        "#mini batch\n",
        "class GetMiniBatch:\n",
        "    \"\"\"\n",
        "Iterator to get a mini-batch\n",
        "    Parameters\n",
        "    ----------\n",
        "    X : The following forms of ndarray, shape (n_samples, n_features)\n",
        "      Training data\n",
        "    y : The following form of ndarray, shape (n_samples, 1)\n",
        "      Correct answer value\n",
        "    batch_size : int\n",
        "      Batch size\n",
        "    seed : int\n",
        "      NumPy random number seed\n",
        "    \"\"\"\n",
        "    def __init__(self, X, y, batch_size = 20, seed=0):\n",
        "        self.batch_size = batch_size\n",
        "        np.random.seed(seed)\n",
        "        shuffle_index = np.random.permutation(np.arange(X.shape[0]))\n",
        "        self._X = X[shuffle_index]\n",
        "        self._y = y[shuffle_index]\n",
        "        self._stop = np.ceil(X.shape[0]/self.batch_size).astype(np.int)\n",
        "    def __len__(self):\n",
        "        return self._stop\n",
        "    def __getitem__(self,item):\n",
        "        p0 = item*self.batch_size\n",
        "        p1 = item*self.batch_size + self.batch_size\n",
        "        return self._X[p0:p1], self._y[p0:p1]        \n",
        "    def __iter__(self):\n",
        "        self._counter = 0\n",
        "        return self\n",
        "    def __next__(self):\n",
        "        if self._counter >= self._stop:\n",
        "            raise StopIteration()\n",
        "        p0 = self._counter*self.batch_size\n",
        "        p1 = self._counter*self.batch_size + self.batch_size\n",
        "        self._counter += 1\n",
        "        return self._X[p0:p1], self._y[p0:p1]"
      ]
    },
    {
      "cell_type": "markdown",
      "metadata": {
        "id": "5Tixzo3OhZ2j"
      },
      "source": [
        "# Old Prototype"
      ]
    },
    {
      "cell_type": "code",
      "execution_count": 4,
      "metadata": {
        "id": "gcF58I5t7dYT"
      },
      "outputs": [],
      "source": [
        "# 3 layers prototype\n",
        "from sklearn.metrics import accuracy_score\n",
        "\n",
        "class Scratch3LayerNeural():\n",
        "    def __init__(self, max_iter = 50, lr = 0.1, encoder = enc, verbose = False, debug = False):\n",
        "        self.epoch = max_iter\n",
        "        self.verbose = verbose\n",
        "        self.debug = debug\n",
        "        self.lr = lr\n",
        "        #other non-parametric vars:\n",
        "        self.encoder = encoder\n",
        "        self.activation = sigmoid\n",
        "        self.sigma = 0.01\n",
        "        self.batch_size = 20 # batch size \n",
        "        self.n_features = 784 # number of features \n",
        "        self.n_nodes1 = 400 # number of first layer nodes \n",
        "        self.n_nodes2 = 200 # number of second layer nodes \n",
        "        self.n_output = 10 # number of output classes (number of nodes in the 3rd layer)\n",
        "\n",
        "    def _init_params_and_output_container(self, prev_n_nodes, current_n_nodes):\n",
        "        weight = self.sigma * np.random.randn(prev_n_nodes,current_n_nodes)\n",
        "        bias = self.sigma * np.random.randn(1,current_n_nodes)\n",
        "        return weight,bias\n",
        "    def fit(self,X,y, X_val = None, y_val = None):\n",
        "        #prepare\n",
        "        self.n_features = X.shape[1]\n",
        "        self.lenx = len(X)\n",
        "        self.batch_count = len(GetMiniBatch(X,y,batch_size= self.batch_size)) #for debug\n",
        "        #init weights,bias and z_container\n",
        "        self.W1,self.B1 = self._init_params_and_output_container(n_features,self.n_nodes1)\n",
        "        self.W2,self.B2 = self._init_params_and_output_container(self.n_nodes1,self.n_nodes2)\n",
        "        self.W3,self.B3 = self._init_params_and_output_container(self.n_nodes2,self.n_output)\n",
        "        if self.verbose:\n",
        "            print('X shape: ', X.shape, 'type: ', X.dtype)\n",
        "            print('Batch count: ', self.batch_count)\n",
        "            print('1st layer: ', self.W1.shape, self.B1.shape)\n",
        "            print('2nd layer: ', self.W2.shape, self.B2.shape)\n",
        "            print('3rd layer: ', self.W3.shape, self.B3.shape)\n",
        "\n",
        "        #train\n",
        "        self.loss = np.zeros(self.epoch)\n",
        "        self.accuracy = np.zeros(self.epoch)\n",
        "        for i in range(self.epoch): #one full data ilteration\n",
        "            if self.verbose: print('Epoch: ', i)\n",
        "            self.get_mini_batch = GetMiniBatch(X, y, batch_size=self.batch_size)\n",
        "            for idx, (mini_X_train, mini_y_train) in enumerate(self.get_mini_batch):\n",
        "                if self.debug: print('Current batch: ', idx)\n",
        "                #train mini_batch\n",
        "                self.forward_prop(mini_X_train,mini_y_train)\n",
        "                self.backward_prop(mini_X_train,mini_y_train)\n",
        "\n",
        "\n",
        "            #record loss data\n",
        "            Z3 = self.forward_prop(X,y,update = False)\n",
        "            self.loss[i] = self.cross_entropy_error(Z3,y)\n",
        "            train_pred = self.predict(X)\n",
        "            self.accuracy[i]  = accuracy_score(train_pred,y)\n",
        "            if self.verbose:\n",
        "                print(f'Loss {i}:', self.loss[i])\n",
        "                print(f'Acc {i}:', self.accuracy[i])\n",
        "                \n",
        "        #verbose\n",
        "        if self.verbose:\n",
        "            print('Final train loss:',self.loss[-1])\n",
        "            print('Final train accuracy:',self.accuracy[-1])\n",
        "\n",
        "    def forward_prop(self,X,y, update = True):\n",
        "        activation = self.activation\n",
        "        W1,B1 = self.W1,self.B1\n",
        "        W2,B2 = self.W2,self.B2\n",
        "        W3,B3 = self.W3,self.B3\n",
        "        # first layer\n",
        "        A1 = X@W1 + B1\n",
        "        Z1= activation(A1)\n",
        "        # second layer\n",
        "        A2 = Z1@W2 + B2\n",
        "        Z2 = activation(A2)\n",
        "        #last (third) layer\n",
        "        A3 = Z2@W3 + B3\n",
        "        Z3 = softmax(A3)\n",
        "\n",
        "        if update: #for training\n",
        "            self.A1 = A1\n",
        "            self.Z1 = Z1\n",
        "            self.A2 = A2\n",
        "            self.Z2 = Z2\n",
        "            self.A3 = A3\n",
        "            self.Z3 = Z3\n",
        "        else: # for predicting\n",
        "            return Z3\n",
        "\n",
        "    def backward_prop(self,X,y):\n",
        "        A1 = self.A1 \n",
        "        Z1 = self.Z1 \n",
        "        A2 = self.A2 \n",
        "        Z2 = self.Z2 \n",
        "        A3 = self.A3 \n",
        "        Z3 = self.Z3 \n",
        "        #third\n",
        "        grad_L_A3 = 1/nb * (Z3 - y)\n",
        "        grad_L_B3 = grad_L_A3.sum(axis = 0).reshape(1,-1)\n",
        "        grad_L_W3 = Z2.T @ grad_L_A3\n",
        "        grad_L_Z2 = grad_L_A3 @ W3.T\n",
        "        #second\n",
        "        grad_L_A2 = grad_L_Z2 * (1 - np.tanh(A2)** 2)\n",
        "        grad_L_B2 = grad_L_A2.sum(axis = 0).reshape(1,-1)\n",
        "        grad_L_W2 = Z1.T @ grad_L_A2\n",
        "        grad_L_Z1 = grad_L_A2 @ W2.T\n",
        "        #first\n",
        "        grad_L_A1 = grad_L_Z1 * (1 - np.tanh(A1) ** 2)\n",
        "        grad_L_B1 = grad_L_A1.sum(axis = 0).reshape(1,-1)\n",
        "        grad_L_W1 = X.T @ grad_L_A1\n",
        "        \n",
        "        #new params\n",
        "        lr = self.lr\n",
        "        self.W1 += - lr * grad_L_W1\n",
        "        self.B1 += - lr * grad_L_B1\n",
        "        self.W2 += - lr * grad_L_W2\n",
        "        self.B2 += - lr * grad_L_B2\n",
        "        self.W3 += - lr * grad_L_W3\n",
        "        self.B3 += - lr * grad_L_B3\n",
        "        \n",
        "    \n",
        "    def cross_entropy_error(self,Z3,y):\n",
        "        return (np.log(Z3) * y).sum() / (- len(Z3))\n",
        "\n",
        "    def predict(self,X):\n",
        "        y = np.zeros(X.shape[0])\n",
        "        Z3  = self.forward_prop(X,y,update = False)\n",
        "        return self.encoder.transform(np.argmax(Z3, axis = 1).reshape(-1,1))"
      ]
    },
    {
      "cell_type": "markdown",
      "metadata": {
        "id": "R81UNdtEhceP"
      },
      "source": [
        "# Problem 1 - Classifying fully connected layer"
      ]
    },
    {
      "cell_type": "code",
      "execution_count": 5,
      "metadata": {
        "id": "y6H97BS0-ZeL"
      },
      "outputs": [],
      "source": [
        "class FC:\n",
        "  \"\"\"\n",
        "  Number of nodes Fully connected layer from n_nodes1 to n_nodes2\n",
        "  Parameters\n",
        "  ----------\n",
        "  n_nodes1 : int\n",
        "    Number of nodes in the previous layer\n",
        "  n_nodes2 : int\n",
        "    Number of nodes in the later layer\n",
        "  initializer: instance of initialization method\n",
        "  optimizer: instance of optimization method\n",
        "  \"\"\"\n",
        "  def __init__(self, n_nodes1, n_nodes2, initializer, optimizer):\n",
        "      # Initialize\n",
        "      self.optimizer = optimizer\n",
        "      self.n_nodes1, self.n_nodes2 = n_nodes1, n_nodes2\n",
        "      # Initialize self.W and self.B using the initializer method\n",
        "      self.W = initializer.W(n_nodes1, n_nodes2)\n",
        "      self.B = initializer.B(n_nodes2)\n",
        "      pass\n",
        "  def forward(self, X):\n",
        "      \"\"\"\n",
        "      forward\n",
        "      Parameters\n",
        "      ----------\n",
        "      X : The following forms of ndarray, shape (batch_size, n_nodes1)\n",
        "          入力\n",
        "      Returns\n",
        "      ----------\n",
        "      A : The following forms of ndarray, shape (batch_size, n_nodes2)\n",
        "          output\n",
        "      \"\"\"        \n",
        "      self.X = X\n",
        "      A = X @ self.W + self.B\n",
        "      return A\n",
        "  def backward(self, dA):\n",
        "      \"\"\"\n",
        "      Backward\n",
        "      Parameters\n",
        "      ----------\n",
        "      dA : The following forms of ndarray, shape (batch_size, n_nodes2)\n",
        "          Gradient flowing from behind\n",
        "      Returns\n",
        "      ----------\n",
        "      dZ : The following forms of ndarray, shape (batch_size, n_nodes1)\n",
        "          Gradient to flow forward\n",
        "      \"\"\"\n",
        "      # update\n",
        "      self.dA = dA\n",
        "\n",
        "      self.dZ = None #update in optimizer!\n",
        "      self = self.optimizer.update(self)\n",
        "      return self.dZ"
      ]
    },
    {
      "cell_type": "markdown",
      "metadata": {
        "id": "deyYXwH9hjeb"
      },
      "source": [
        "# Problem 2 - Classifying initialization method"
      ]
    },
    {
      "cell_type": "code",
      "execution_count": 6,
      "metadata": {
        "id": "-AkIjsn3Aqlp"
      },
      "outputs": [],
      "source": [
        "class SimpleInitializer:\n",
        "  \"\"\"\n",
        "  Simple initialization with Gaussian distribution\n",
        "  Parameters\n",
        "  ----------\n",
        "  sigma : float\n",
        "    Standard deviation of Gaussian distribution\n",
        "  \"\"\"\n",
        "  def __init__(self, sigma):\n",
        "    self.sigma = sigma\n",
        "  def W(self, n_nodes1, n_nodes2):\n",
        "    \"\"\"\n",
        "    Weight initialization\n",
        "    Parameters\n",
        "    ----------\n",
        "    n_nodes1 : int\n",
        "      Number of nodes in the previous layer\n",
        "    n_nodes2 : int\n",
        "      Number of nodes in the later layer\n",
        "    Returns\n",
        "    ----------\n",
        "    W :\n",
        "    \"\"\"\n",
        "    W = self.sigma * np.random.randn(n_nodes1,n_nodes2)\n",
        "    return W\n",
        "  def B(self, n_nodes2):\n",
        "    \"\"\"\n",
        "    Bias initialization\n",
        "    Parameters\n",
        "    ----------\n",
        "    n_nodes2 : int\n",
        "      Number of nodes in the later layer\n",
        "    Returns\n",
        "    ----------\n",
        "    B :\n",
        "    \"\"\"\n",
        "    B = self.sigma * np.random.randn(1,n_nodes2)\n",
        "    return B"
      ]
    },
    {
      "cell_type": "markdown",
      "metadata": {
        "id": "GT9yX5UrhnQ7"
      },
      "source": [
        "# Problem 3 - Classifying Optimization method"
      ]
    },
    {
      "cell_type": "code",
      "execution_count": 7,
      "metadata": {
        "id": "CvjcuJMkB1_y"
      },
      "outputs": [],
      "source": [
        "class SGD:\n",
        "    \"\"\"\n",
        "    Stochastic gradient descent\n",
        "    Parameters\n",
        "    ----------\n",
        "    lr : Learning rate\n",
        "    \"\"\"\n",
        "    def __init__(self, lr):\n",
        "        self.lr = lr\n",
        "    def update(self, layer):\n",
        "        \"\"\"\n",
        "        Update weights and biases for a layer\n",
        "        Parameters\n",
        "        ----------\n",
        "        layer : Instance of the layer before update\n",
        "        \"\"\"\n",
        "        dA = layer.dA #this is flow from back\n",
        "        X = layer.X # input to the layer (X or Z)\n",
        "        W,B = layer.W, layer.B\n",
        "\n",
        "        dB = dA.sum(axis = 0).reshape(1,-1)  \n",
        "        dW = X.T @ dA\n",
        "        dZ = dA @ W.T #this will flow to the front\n",
        "        #update\n",
        "        layer.B += - self.lr * dB\n",
        "        layer.W += - self.lr * dW\n",
        "        layer.dZ = dZ\n",
        "        return layer"
      ]
    },
    {
      "cell_type": "markdown",
      "metadata": {
        "id": "3RrMxj2BhsKM"
      },
      "source": [
        "# Problem 4 - Classifying Activation Function"
      ]
    },
    {
      "cell_type": "code",
      "execution_count": 8,
      "metadata": {
        "id": "912e8_nAIFRC"
      },
      "outputs": [],
      "source": [
        "# Problem 4: Classifying activation function\n",
        "class ActivationFunction():\n",
        "  def forward(self,A):\n",
        "    pass\n",
        "  def backward(self,dZ):\n",
        "    pass\n",
        "class Sigmoid(ActivationFunction):\n",
        "  def func(self,A):\n",
        "    return 1/(1+np.exp(-A))\n",
        "  def forward(self,A):\n",
        "    self.A = A\n",
        "    return self.func(A)\n",
        "  def backward(self,dZ):\n",
        "    A = self.A\n",
        "    dA = dZ * (1 - self.func(A))@self.func(A)\n",
        "class Tanh(ActivationFunction):\n",
        "  def forward(self,A):\n",
        "    self.A = A\n",
        "    Z = (np.exp(A) - np.exp(-A)) / (np.exp(A) + np.exp(-A))\n",
        "    return Z\n",
        "  def backward(self,dZ):\n",
        "    A = self.A\n",
        "    dA = dZ * (1 - np.tanh(A) ** 2)\n",
        "    return dA\n",
        "  \n",
        "class SoftMax(ActivationFunction):\n",
        "  def forward(self,A):\n",
        "    self.A = A\n",
        "    Z = np.exp(A) / np.sum(np.exp(A), axis = 1).reshape(-1,1)\n",
        "    return Z\n",
        "  def backward(self,Z,Y):\n",
        "    A = self.A\n",
        "    nb = Z.shape[0]\n",
        "    dA = 1/nb * (Z - Y)\n",
        "    return dA"
      ]
    },
    {
      "cell_type": "markdown",
      "metadata": {
        "id": "BpQth5ppif8b"
      },
      "source": [
        "# Deep Neural Network Prototype"
      ]
    },
    {
      "cell_type": "code",
      "execution_count": 9,
      "metadata": {
        "id": "aR-7rucDPTQU"
      },
      "outputs": [],
      "source": [
        "# the deepneural net proto\n",
        "class ScratchDeepNeuralNetworkClassifier():\n",
        "    def __init__(self, max_iter = 50, lr = 0.1, encoder = enc, verbose = False, debug = False):\n",
        "        self.epoch = max_iter\n",
        "        self.verbose = verbose\n",
        "        self.debug = debug\n",
        "        self.lr = lr\n",
        "        #other non-parametric vars:\n",
        "        self.encoder = encoder\n",
        "        self.sigma = 0.01\n",
        "        self.batch_size = 20 # batch size \n",
        "        self.n_features = 784 # number of features \n",
        "        self.n_nodes1 = 400 # number of first layer nodes \n",
        "        self.n_nodes2 = 200 # number of second layer nodes \n",
        "        self.n_output = 10 # number of output classes (number of nodes in the 3rd layer)\n",
        "        #layers\n",
        "        optimizer = SGD(self.lr)\n",
        "        self.FC1 = FC(self.n_features, self.n_nodes1, SimpleInitializer(self.sigma), optimizer)\n",
        "        self.activation1 = Tanh()\n",
        "        self.FC2 = FC(self.n_nodes1, self.n_nodes2, SimpleInitializer(self.sigma), optimizer)\n",
        "        self.activation2 = Tanh()\n",
        "        self.FC3 = FC(self.n_nodes2, self.n_output, SimpleInitializer(self.sigma), optimizer)\n",
        "        self.activation3 = SoftMax()\n",
        "        #wrap up\n",
        "        self.layers = [self.FC1,self.FC2, self.FC3]\n",
        "        self.activations = [self.activation1, self.activation2, self.activation3]\n",
        "    def enum_layer_act(self, rev = False):\n",
        "        zipped = zip(self.layers, self.activations)\n",
        "        if rev:\n",
        "          return enumerate(reversed(list(zipped)))\n",
        "        return enumerate(zipped)\n",
        "    def fit(self,X,y, X_val = None, y_val = None):\n",
        "        #prepare\n",
        "        self.n_features = X.shape[1]\n",
        "        self.lenx = len(X)\n",
        "        self.batch_count = len(GetMiniBatch(X,y,batch_size= self.batch_size)) #for debug\n",
        "\n",
        "        if self.verbose:\n",
        "            print('X shape: ', X.shape, 'type: ', X.dtype)\n",
        "            print('Batch count: ', self.batch_count)\n",
        "            for i, (layer, activation) in self.enum_layer_act():\n",
        "              print(f'Layer {i+1}: ', layer.n_nodes1, layer.n_nodes2)\n",
        "              print(f'Activ: {i+1}:', activation.__class__.__name__)\n",
        "\n",
        "        #train\n",
        "        self.loss = np.zeros(self.epoch)\n",
        "        self.accuracy = np.zeros(self.epoch)\n",
        "        for i in range(self.epoch): #one full data ilteration\n",
        "            if self.verbose: print('Epoch: ', i)\n",
        "            self.get_mini_batch = GetMiniBatch(X, y, batch_size=self.batch_size)\n",
        "            for idx, (mini_X_train, mini_y_train) in enumerate(self.get_mini_batch):\n",
        "                if self.debug: print('Current batch: ', idx)\n",
        "                #train mini_batch\n",
        "                Z = self.forward_prop(mini_X_train)\n",
        "                self.backward_prop(Z,mini_y_train)\n",
        "\n",
        "\n",
        "            #record loss data\n",
        "            Z = self.forward_prop(X)\n",
        "            self.loss[i] = self.cross_entropy_error(Z,y)\n",
        "            train_pred = self.predict(X)\n",
        "            self.accuracy[i]  = accuracy_score(train_pred,y)\n",
        "            if self.verbose:\n",
        "                print(f'Loss {i}:', self.loss[i])\n",
        "                print(f'Acc {i}:', self.accuracy[i])\n",
        "                \n",
        "        #verbose\n",
        "        if self.verbose:\n",
        "            print('Final train loss:',self.loss[-1])\n",
        "            print('Final train accuracy:',self.accuracy[-1])\n",
        "\n",
        "    def forward_prop(self,X):\n",
        "        Z = X\n",
        "        for i, (layer, activation) in self.enum_layer_act():\n",
        "          A = layer.forward(Z)\n",
        "          Z = activation.forward(A)\n",
        "          if self.debug:\n",
        "            print(f'Z{i+1}: ', Z.shape, A.shape)\n",
        "        return Z\n",
        "\n",
        "    def backward_prop(self,Z,y):\n",
        "        dA = self.activations[-1].backward(Z,y)\n",
        "        for i, (layer, activation) in self.enum_layer_act(rev = True):\n",
        "          if i == 0: #last layer has different activation backward!\n",
        "            dZ = layer.backward(dA)\n",
        "            continue\n",
        "          dA = activation.backward(dZ)\n",
        "          dZ = layer.backward(dA)\n",
        "        \n",
        "    \n",
        "    def cross_entropy_error(self,Z,y):\n",
        "        return (np.log(Z) * y).sum() / (- len(Z))\n",
        "\n",
        "    def predict(self,X):\n",
        "        y = np.zeros(X.shape[0])\n",
        "        Z  = self.forward_prop(X)\n",
        "        return self.encoder.transform(np.argmax(Z, axis = 1).reshape(-1,1))"
      ]
    },
    {
      "cell_type": "code",
      "execution_count": 10,
      "metadata": {
        "colab": {
          "base_uri": "https://localhost:8080/"
        },
        "id": "yamoSBB9YIdy",
        "outputId": "60a63480-6031-4acd-d4bb-f2e43d85379c"
      },
      "outputs": [
        {
          "name": "stderr",
          "output_type": "stream",
          "text": [
            "C:\\Users\\ADMIN\\AppData\\Local\\Temp/ipykernel_12424/1544501054.py:22: DeprecationWarning: `np.int` is a deprecated alias for the builtin `int`. To silence this warning, use `int` by itself. Doing this will not modify any behavior and is safe. When replacing `np.int`, you may wish to use e.g. `np.int64` or `np.int32` to specify the precision. If you wish to review your current use, check the release note link for additional information.\n",
            "Deprecated in NumPy 1.20; for more details and guidance: https://numpy.org/devdocs/release/1.20.0-notes.html#deprecations\n",
            "  self._stop = np.ceil(X.shape[0]/self.batch_size).astype(np.int)\n"
          ]
        },
        {
          "name": "stdout",
          "output_type": "stream",
          "text": [
            "X shape:  (48000, 784) type:  float64\n",
            "Batch count:  2400\n",
            "Layer 1:  784 400\n",
            "Activ: 1: Tanh\n",
            "Layer 2:  400 200\n",
            "Activ: 2: Tanh\n",
            "Layer 3:  200 10\n",
            "Activ: 3: SoftMax\n",
            "Epoch:  0\n",
            "Loss 0: 0.2544986324627638\n",
            "Acc 0: 0.9238958333333334\n",
            "Epoch:  1\n"
          ]
        },
        {
          "name": "stderr",
          "output_type": "stream",
          "text": [
            "C:\\Users\\ADMIN\\AppData\\Local\\Temp/ipykernel_12424/1544501054.py:22: DeprecationWarning: `np.int` is a deprecated alias for the builtin `int`. To silence this warning, use `int` by itself. Doing this will not modify any behavior and is safe. When replacing `np.int`, you may wish to use e.g. `np.int64` or `np.int32` to specify the precision. If you wish to review your current use, check the release note link for additional information.\n",
            "Deprecated in NumPy 1.20; for more details and guidance: https://numpy.org/devdocs/release/1.20.0-notes.html#deprecations\n",
            "  self._stop = np.ceil(X.shape[0]/self.batch_size).astype(np.int)\n"
          ]
        },
        {
          "name": "stdout",
          "output_type": "stream",
          "text": [
            "Loss 1: 0.16230532039331802\n",
            "Acc 1: 0.9506458333333333\n",
            "Epoch:  2\n"
          ]
        },
        {
          "name": "stderr",
          "output_type": "stream",
          "text": [
            "C:\\Users\\ADMIN\\AppData\\Local\\Temp/ipykernel_12424/1544501054.py:22: DeprecationWarning: `np.int` is a deprecated alias for the builtin `int`. To silence this warning, use `int` by itself. Doing this will not modify any behavior and is safe. When replacing `np.int`, you may wish to use e.g. `np.int64` or `np.int32` to specify the precision. If you wish to review your current use, check the release note link for additional information.\n",
            "Deprecated in NumPy 1.20; for more details and guidance: https://numpy.org/devdocs/release/1.20.0-notes.html#deprecations\n",
            "  self._stop = np.ceil(X.shape[0]/self.batch_size).astype(np.int)\n"
          ]
        },
        {
          "name": "stdout",
          "output_type": "stream",
          "text": [
            "Loss 2: 0.11880331938520491\n",
            "Acc 2: 0.9631875\n",
            "Epoch:  3\n"
          ]
        },
        {
          "name": "stderr",
          "output_type": "stream",
          "text": [
            "C:\\Users\\ADMIN\\AppData\\Local\\Temp/ipykernel_12424/1544501054.py:22: DeprecationWarning: `np.int` is a deprecated alias for the builtin `int`. To silence this warning, use `int` by itself. Doing this will not modify any behavior and is safe. When replacing `np.int`, you may wish to use e.g. `np.int64` or `np.int32` to specify the precision. If you wish to review your current use, check the release note link for additional information.\n",
            "Deprecated in NumPy 1.20; for more details and guidance: https://numpy.org/devdocs/release/1.20.0-notes.html#deprecations\n",
            "  self._stop = np.ceil(X.shape[0]/self.batch_size).astype(np.int)\n"
          ]
        },
        {
          "name": "stdout",
          "output_type": "stream",
          "text": [
            "Loss 3: 0.0899072372201784\n",
            "Acc 3: 0.9720833333333333\n",
            "Epoch:  4\n"
          ]
        },
        {
          "name": "stderr",
          "output_type": "stream",
          "text": [
            "C:\\Users\\ADMIN\\AppData\\Local\\Temp/ipykernel_12424/1544501054.py:22: DeprecationWarning: `np.int` is a deprecated alias for the builtin `int`. To silence this warning, use `int` by itself. Doing this will not modify any behavior and is safe. When replacing `np.int`, you may wish to use e.g. `np.int64` or `np.int32` to specify the precision. If you wish to review your current use, check the release note link for additional information.\n",
            "Deprecated in NumPy 1.20; for more details and guidance: https://numpy.org/devdocs/release/1.20.0-notes.html#deprecations\n",
            "  self._stop = np.ceil(X.shape[0]/self.batch_size).astype(np.int)\n"
          ]
        },
        {
          "name": "stdout",
          "output_type": "stream",
          "text": [
            "Loss 4: 0.06978653952804144\n",
            "Acc 4: 0.9777291666666666\n",
            "Final train loss: 0.06978653952804144\n",
            "Final train accuracy: 0.9777291666666666\n"
          ]
        }
      ],
      "source": [
        "model = ScratchDeepNeuralNetworkClassifier(max_iter = 5,verbose = True, debug = False)\n",
        "model.fit(X_train,y_train)"
      ]
    },
    {
      "cell_type": "markdown",
      "metadata": {
        "id": "S6K0XA7bilU3"
      },
      "source": [
        "# Problem 5 - ReLU"
      ]
    },
    {
      "cell_type": "code",
      "execution_count": 11,
      "metadata": {
        "id": "18EJf11ilWXK"
      },
      "outputs": [],
      "source": [
        "class ReLU(ActivationFunction):\n",
        "  def forward(self,A):\n",
        "    self.A = A\n",
        "    relu = A * np.where(A > 0, 1,0)\n",
        "    return relu\n",
        "  def backward(self,dZ):\n",
        "    df = np.where(self.A > 0, 1,0)\n",
        "    dA = dZ * df\n",
        "    return dA"
      ]
    },
    {
      "cell_type": "markdown",
      "metadata": {
        "id": "JuAbTweyivWD"
      },
      "source": [
        "# Problem 6 - Init value of Weight"
      ]
    },
    {
      "cell_type": "code",
      "execution_count": 12,
      "metadata": {
        "id": "Yxpfh6sqn5zI"
      },
      "outputs": [],
      "source": [
        "#sample\n",
        "# W = self.sigma * np.random.randn(n_nodes1,n_nodes2)\n",
        "# B = self.sigma * np.random.randn(1,n_nodes2)\n",
        "#..\n",
        "\n",
        "class XavierInitializer():\n",
        "  def __init__(self,sigma):\n",
        "    pass\n",
        "  def W(self, n_nodes1, n_nodes2):\n",
        "    self.sigma = 1 / np.sqrt(n_nodes1)\n",
        "    W = self.sigma * np.random.randn(n_nodes1,n_nodes2)\n",
        "    return W\n",
        "  def B(self, n_nodes2):\n",
        "    B = self.sigma * np.random.randn(1,n_nodes2)\n",
        "    return B\n",
        "\n",
        "class HelnInitializer():\n",
        "  def __init__(self,sigma):\n",
        "    pass\n",
        "  def W(self, n_nodes1, n_nodes2):\n",
        "    self.sigma = np.sqrt(2/n_nodes1)\n",
        "    W = self.sigma * np.random.randn(n_nodes1,n_nodes2)\n",
        "    return W\n",
        "  def B(self, n_nodes2):\n",
        "    B = self.sigma * np.random.randn(1,n_nodes2)\n",
        "    return B"
      ]
    },
    {
      "cell_type": "markdown",
      "metadata": {
        "id": "dMrx2c43u0fg"
      },
      "source": [
        "# Problem 7 - Optimization Method"
      ]
    },
    {
      "cell_type": "code",
      "execution_count": 13,
      "metadata": {
        "id": "izHlJYC1qagp"
      },
      "outputs": [],
      "source": [
        "class AdaGrad():\n",
        "    \"\"\"\n",
        "    Stochastic gradient descent\n",
        "    Parameters\n",
        "    ----------\n",
        "    lr : Learning rate\n",
        "    \"\"\"\n",
        "    def __init__(self, lr):\n",
        "        self.lr = lr\n",
        "        self.Hw = 0\n",
        "        self.Hb = 0\n",
        "    def update(self, layer):\n",
        "        \"\"\"\n",
        "        Update weights and biases for a layer\n",
        "        Parameters\n",
        "        ----------\n",
        "        layer : Instance of the layer before update\n",
        "        \"\"\"\n",
        "        dA = layer.dA #this is flow from back\n",
        "        X = layer.X # input to the layer (X or Z)\n",
        "        W,B = layer.W, layer.B\n",
        "\n",
        "        dB = dA.sum(axis = 0).reshape(1,-1)  \n",
        "        dW = X.T @ dA\n",
        "        dZ = dA @ W.T #this will flow to the front\n",
        "        #ada weight\n",
        "        eps = 1e-6\n",
        "\n",
        "        self.Hw += dW ** 2\n",
        "        self.Hb += dB ** 2\n",
        "        \n",
        "        layer.W += - self.lr * (1 / np.sqrt(self.Hw + eps)) * dW\n",
        "        layer.B += - self.lr * (1 / np.sqrt(self.Hb + eps)) * dB\n",
        "        layer.dZ = dZ\n",
        "        return layer"
      ]
    },
    {
      "cell_type": "markdown",
      "metadata": {
        "id": "fcZ83E8Fi6nu"
      },
      "source": [
        "# Problem 8 - Class Completion"
      ]
    },
    {
      "cell_type": "code",
      "execution_count": 14,
      "metadata": {
        "id": "LI3x2GS2rhrY"
      },
      "outputs": [],
      "source": [
        "# Just fixing up the class to be flexible!\n",
        "class FinishedDeepNeuralNetworkClassifier(ScratchDeepNeuralNetworkClassifier):\n",
        "  def __init__(self, max_iter = 50, lr = 0.1, \n",
        "               layers_n_nodes = [400,200,10],\n",
        "               encoder = enc, optimizer_class = SGD,\n",
        "               activation_class = Tanh, initializer_class = SimpleInitializer,\n",
        "               verbose = False, debug = False):\n",
        "        self.epoch = max_iter\n",
        "        self.verbose = verbose\n",
        "        self.debug = debug\n",
        "        self.lr = lr\n",
        "        #other non-parametric vars:\n",
        "        self.encoder = encoder\n",
        "        self.sigma = 0.01\n",
        "        self.batch_size = 20 # batch size \n",
        " \n",
        "        #prep layers\n",
        "        self.layers_n_nodes = layers_n_nodes\n",
        "        self.initializer_class = initializer_class\n",
        "        self.activation_class = activation_class\n",
        "        self.optimizer_class = optimizer_class\n",
        "        self.layers = []\n",
        "        self.activations = []\n",
        "        for i in range(len(layers_n_nodes)): \n",
        "          if i == 0: continue #specify first layer later when have X\n",
        "          n_nodes1 = layers_n_nodes[i-1]\n",
        "          n_nodes2 = layers_n_nodes[i]\n",
        "          layer = FC(n_nodes1, n_nodes2, initializer_class(self.sigma), optimizer_class(self.lr))\n",
        "          self.layers.append(layer)\n",
        "          if i != len(layers_n_nodes)- 1: #last activation is softmax!\n",
        "            self.activations.append(activation_class())\n",
        "          else:\n",
        "            self.activations.append(SoftMax())\n",
        "  def fit(self,X,y, X_val = None, y_val = None):\n",
        "        first_layer = FC(X.shape[1], self.layers_n_nodes[0], self.initializer_class(self.sigma), self.optimizer_class(self.lr))\n",
        "        self.layers.insert(0,first_layer)\n",
        "        self.activations.insert(0,self.activation_class())\n",
        "        super(FinishedDeepNeuralNetworkClassifier,self).fit(X,y,X_val,y_val)\n"
      ]
    },
    {
      "cell_type": "markdown",
      "metadata": {
        "id": "HZQRNtw_05Mj"
      },
      "source": [
        "# Problem 9 - Learning and completion"
      ]
    },
    {
      "cell_type": "code",
      "execution_count": 15,
      "metadata": {
        "colab": {
          "base_uri": "https://localhost:8080/"
        },
        "id": "lAm9V2Fk06mq",
        "outputId": "21da85ed-f547-4c1b-8098-d83fa37f4af5"
      },
      "outputs": [
        {
          "name": "stderr",
          "output_type": "stream",
          "text": [
            "C:\\Users\\ADMIN\\AppData\\Local\\Temp/ipykernel_12424/1544501054.py:22: DeprecationWarning: `np.int` is a deprecated alias for the builtin `int`. To silence this warning, use `int` by itself. Doing this will not modify any behavior and is safe. When replacing `np.int`, you may wish to use e.g. `np.int64` or `np.int32` to specify the precision. If you wish to review your current use, check the release note link for additional information.\n",
            "Deprecated in NumPy 1.20; for more details and guidance: https://numpy.org/devdocs/release/1.20.0-notes.html#deprecations\n",
            "  self._stop = np.ceil(X.shape[0]/self.batch_size).astype(np.int)\n"
          ]
        },
        {
          "name": "stdout",
          "output_type": "stream",
          "text": [
            "X shape:  (48000, 784) type:  float64\n",
            "Batch count:  2400\n",
            "Layer 1:  784 100\n",
            "Activ: 1: ReLU\n",
            "Layer 2:  100 50\n",
            "Activ: 2: ReLU\n",
            "Layer 3:  50 120\n",
            "Activ: 3: ReLU\n",
            "Layer 4:  120 10\n",
            "Activ: 4: SoftMax\n",
            "Epoch:  0\n",
            "Loss 0: 0.21813837393613256\n",
            "Acc 0: 0.9328958333333334\n",
            "Epoch:  1\n"
          ]
        },
        {
          "name": "stderr",
          "output_type": "stream",
          "text": [
            "C:\\Users\\ADMIN\\AppData\\Local\\Temp/ipykernel_12424/1544501054.py:22: DeprecationWarning: `np.int` is a deprecated alias for the builtin `int`. To silence this warning, use `int` by itself. Doing this will not modify any behavior and is safe. When replacing `np.int`, you may wish to use e.g. `np.int64` or `np.int32` to specify the precision. If you wish to review your current use, check the release note link for additional information.\n",
            "Deprecated in NumPy 1.20; for more details and guidance: https://numpy.org/devdocs/release/1.20.0-notes.html#deprecations\n",
            "  self._stop = np.ceil(X.shape[0]/self.batch_size).astype(np.int)\n"
          ]
        },
        {
          "name": "stdout",
          "output_type": "stream",
          "text": [
            "Loss 1: 0.15185767598184094\n",
            "Acc 1: 0.9548333333333333\n",
            "Epoch:  2\n"
          ]
        },
        {
          "name": "stderr",
          "output_type": "stream",
          "text": [
            "C:\\Users\\ADMIN\\AppData\\Local\\Temp/ipykernel_12424/1544501054.py:22: DeprecationWarning: `np.int` is a deprecated alias for the builtin `int`. To silence this warning, use `int` by itself. Doing this will not modify any behavior and is safe. When replacing `np.int`, you may wish to use e.g. `np.int64` or `np.int32` to specify the precision. If you wish to review your current use, check the release note link for additional information.\n",
            "Deprecated in NumPy 1.20; for more details and guidance: https://numpy.org/devdocs/release/1.20.0-notes.html#deprecations\n",
            "  self._stop = np.ceil(X.shape[0]/self.batch_size).astype(np.int)\n"
          ]
        },
        {
          "name": "stdout",
          "output_type": "stream",
          "text": [
            "Loss 2: 0.12718656761458033\n",
            "Acc 2: 0.9611666666666666\n",
            "Epoch:  3\n"
          ]
        },
        {
          "name": "stderr",
          "output_type": "stream",
          "text": [
            "C:\\Users\\ADMIN\\AppData\\Local\\Temp/ipykernel_12424/1544501054.py:22: DeprecationWarning: `np.int` is a deprecated alias for the builtin `int`. To silence this warning, use `int` by itself. Doing this will not modify any behavior and is safe. When replacing `np.int`, you may wish to use e.g. `np.int64` or `np.int32` to specify the precision. If you wish to review your current use, check the release note link for additional information.\n",
            "Deprecated in NumPy 1.20; for more details and guidance: https://numpy.org/devdocs/release/1.20.0-notes.html#deprecations\n",
            "  self._stop = np.ceil(X.shape[0]/self.batch_size).astype(np.int)\n"
          ]
        },
        {
          "name": "stdout",
          "output_type": "stream",
          "text": [
            "Loss 3: 0.11312254170293916\n",
            "Acc 3: 0.964625\n",
            "Epoch:  4\n"
          ]
        },
        {
          "name": "stderr",
          "output_type": "stream",
          "text": [
            "C:\\Users\\ADMIN\\AppData\\Local\\Temp/ipykernel_12424/1544501054.py:22: DeprecationWarning: `np.int` is a deprecated alias for the builtin `int`. To silence this warning, use `int` by itself. Doing this will not modify any behavior and is safe. When replacing `np.int`, you may wish to use e.g. `np.int64` or `np.int32` to specify the precision. If you wish to review your current use, check the release note link for additional information.\n",
            "Deprecated in NumPy 1.20; for more details and guidance: https://numpy.org/devdocs/release/1.20.0-notes.html#deprecations\n",
            "  self._stop = np.ceil(X.shape[0]/self.batch_size).astype(np.int)\n"
          ]
        },
        {
          "name": "stdout",
          "output_type": "stream",
          "text": [
            "Loss 4: 0.09814826818497913\n",
            "Acc 4: 0.9693958333333333\n",
            "Final train loss: 0.09814826818497913\n",
            "Final train accuracy: 0.9693958333333333\n"
          ]
        }
      ],
      "source": [
        "model = FinishedDeepNeuralNetworkClassifier(\n",
        "    max_iter = 5, lr = 0.1,\n",
        "    layers_n_nodes = [100,50,120,10],\n",
        "    optimizer_class = AdaGrad, \n",
        "    activation_class = ReLU,\n",
        "    initializer_class = XavierInitializer,\n",
        "    verbose = True, debug = False\n",
        "    \n",
        ")\n",
        "model.fit(X_train,y_train)"
      ]
    },
    {
      "cell_type": "code",
      "execution_count": 16,
      "metadata": {
        "colab": {
          "base_uri": "https://localhost:8080/",
          "height": 281
        },
        "id": "EEFCfS_njPUr",
        "outputId": "e8fdfc36-676f-4f5a-b891-a3c79113ee5a"
      },
      "outputs": [
        {
          "data": {
            "image/png": "[encoded data removed]",
            "text/plain": [
              "<Figure size 432x288 with 1 Axes>"
            ]
          },
          "metadata": {
            "needs_background": "light"
          },
          "output_type": "display_data"
        }
      ],
      "source": [
        "# loss result\n",
        "plt.plot(model.loss, label = 'TrainLoss')\n",
        "plt.plot(model.accuracy, label = 'TrainAccuracy')\n",
        "plt.title('Training Metrics')\n",
        "plt.legend()\n",
        "plt.show()"
      ]
    },
    {
      "cell_type": "markdown",
      "metadata": {},
      "source": [
        "-----------------------------------------------------------------------------------------"
      ]
    },
    {
      "cell_type": "markdown",
      "metadata": {},
      "source": [
        "This is the end of my assignment. Thank you for reading!"
      ]
    }
  ],
  "metadata": {
    "colab": {
      "authorship_tag": "ABX9TyMZ1QZeonUkYaL8ERfbLAj/",
      "include_colab_link": true,
      "name": "ScratchDeepNeural.ipynb",
      "provenance": []
    },
    "kernelspec": {
      "display_name": "Python 3",
      "name": "python3"
    },
    "language_info": {
      "codemirror_mode": {
        "name": "ipython",
        "version": 3
      },
      "file_extension": ".py",
      "mimetype": "text/x-python",
      "name": "python",
      "nbconvert_exporter": "python",
      "pygments_lexer": "ipython3",
      "version": "3.8.10"
    }
  },
  "nbformat": 4,
  "nbformat_minor": 0
}
