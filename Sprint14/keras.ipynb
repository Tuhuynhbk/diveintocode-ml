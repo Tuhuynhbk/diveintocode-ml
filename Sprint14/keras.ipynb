{
 "cells": [
  {
   "cell_type": "markdown",
   "metadata": {},
   "source": [
    "# Student Name: Huynh Truong Tu\n",
    " Below is my assignment for Sprint14's \"Keras\""
   ]
  },
  {
   "cell_type": "markdown",
   "metadata": {},
   "source": [
    "-------------------------------------------------------------------------------------------"
   ]
  },
  {
   "cell_type": "markdown",
   "metadata": {},
   "source": [
    "# Introduction"
   ]
  },
  {
   "cell_type": "markdown",
   "metadata": {},
   "source": [
    "# Problem 1 - Sharing and executing the official tutorial model"
   ]
  },
  {
   "cell_type": "markdown",
   "metadata": {},
   "source": [
    "### NOTE\n",
    "- Since it's computationally expensive, i've moved it to another notebook named problem1.ipynb in the same folder\n",
    "- Relative Link: [./problem1.ipynb](./problem1.ipynb)"
   ]
  },
  {
   "cell_type": "markdown",
   "metadata": {},
   "source": [
    "# Problem 2 - (Advance assignment) Execute various methods"
   ]
  },
  {
   "cell_type": "markdown",
   "metadata": {},
   "source": [
    "### NOTE\n",
    "- Since it's computationally expensive, i've moved it to another notebook named problem2.ipynb in the same folder\n",
    "- Relative Link: [./problem2.ipynb](./problem2.ipynb)"
   ]
  },
  {
   "cell_type": "markdown",
   "metadata": {},
   "source": [
    "# Problem 3 - Learning Iris (binary classification) with Keras"
   ]
  },
  {
   "cell_type": "markdown",
   "metadata": {},
   "source": [
    "## Prep"
   ]
  },
  {
   "cell_type": "code",
   "execution_count": 23,
   "metadata": {},
   "outputs": [
    {
     "name": "stdout",
     "output_type": "stream",
     "text": [
      "features ['sepal length (cm)', 'sepal width (cm)', 'petal length (cm)', 'petal width (cm)']\n",
      "targets ['setosa' 'versicolor' 'virginica']\n"
     ]
    }
   ],
   "source": [
    "# load data\n",
    "from sklearn.datasets import load_iris\n",
    "\n",
    "iris_bunch = load_iris(as_frame = True)\n",
    "print('features', iris_bunch.feature_names)\n",
    "print('targets', iris_bunch.target_names)"
   ]
  },
  {
   "cell_type": "code",
   "execution_count": 24,
   "metadata": {},
   "outputs": [
    {
     "name": "stdout",
     "output_type": "stream",
     "text": [
      "   sepal length (cm)  sepal width (cm)  petal length (cm)  petal width (cm)\n",
      "0                5.1               3.5                1.4               0.2\n",
      "1                4.9               3.0                1.4               0.2\n",
      "2                4.7               3.2                1.3               0.2\n",
      "3                4.6               3.1                1.5               0.2\n",
      "4                5.0               3.6                1.4               0.2\n"
     ]
    }
   ],
   "source": [
    "# check features\n",
    "features_data = iris_bunch.data\n",
    "print(features_data.head())"
   ]
  },
  {
   "cell_type": "code",
   "execution_count": 25,
   "metadata": {},
   "outputs": [
    {
     "name": "stdout",
     "output_type": "stream",
     "text": [
      "labels:  [0 1 2]\n",
      "0    0\n",
      "1    0\n",
      "2    0\n",
      "3    0\n",
      "4    0\n",
      "Name: target, dtype: int32\n"
     ]
    }
   ],
   "source": [
    "# check target\n",
    "target_data = iris_bunch.target\n",
    "print('labels: ', target_data.unique())\n",
    "print(target_data.head())"
   ]
  },
  {
   "cell_type": "code",
   "execution_count": 26,
   "metadata": {},
   "outputs": [
    {
     "name": "stdout",
     "output_type": "stream",
     "text": [
      "Before shape:  (150, 4) (150,)\n",
      "After shape:  (100, 4) (100,)\n"
     ]
    }
   ],
   "source": [
    "# binary classification filter\n",
    "first_two_laybel_indexes =  target_data.lt(2)\n",
    "binary_x = features_data[first_two_laybel_indexes]\n",
    "binary_y = target_data[first_two_laybel_indexes]\n",
    "\n",
    "print('Before shape: ', features_data.shape, target_data.shape)\n",
    "print('After shape: ', binary_x.shape, binary_y.shape)"
   ]
  },
  {
   "cell_type": "code",
   "execution_count": 27,
   "metadata": {},
   "outputs": [],
   "source": [
    "# standardization\n",
    "from sklearn.preprocessing import StandardScaler\n",
    "import pandas as pd\n",
    "scaler = StandardScaler()\n",
    "processed_bin_x = scaler.fit_transform(binary_x.to_numpy())\n",
    "# print('before trans')\n",
    "# print(binary_x.describe())\n",
    "# print('after scale')\n",
    "# print(pd.DataFrame(processed_bin_x).describe())\n",
    "\n",
    "# onehot encode\n",
    "from sklearn.preprocessing import OneHotEncoder\n",
    "enc = OneHotEncoder()\n",
    "binary_y = binary_y.to_numpy().reshape(-1,1)\n",
    "processed_bin_y = enc.fit_transform(binary_y).toarray()\n",
    "# print('before trans')\n",
    "# print(pd.DataFrame(binary_y).describe())\n",
    "# print('after scale')\n",
    "# print(pd.DataFrame(processed_bin_y).describe())"
   ]
  },
  {
   "cell_type": "code",
   "execution_count": 28,
   "metadata": {},
   "outputs": [
    {
     "name": "stdout",
     "output_type": "stream",
     "text": [
      "[(75, 4), (25, 4), (75, 2), (25, 2)]\n"
     ]
    }
   ],
   "source": [
    "# train test split\n",
    "from sklearn.model_selection import train_test_split\n",
    "\n",
    "x_train, x_test, y_train,y_test = train_test_split(processed_bin_x, processed_bin_y)\n",
    "print([x.shape for x in [x_train, x_test, y_train,y_test]])"
   ]
  },
  {
   "cell_type": "markdown",
   "metadata": {},
   "source": [
    "## Model"
   ]
  },
  {
   "cell_type": "code",
   "execution_count": 29,
   "metadata": {},
   "outputs": [],
   "source": [
    "import tensorflow as tf\n",
    "import tensorflow.keras as keras"
   ]
  },
  {
   "cell_type": "code",
   "execution_count": 30,
   "metadata": {},
   "outputs": [
    {
     "data": {
      "text/plain": [
       "[<keras.layers.core.dense.Dense at 0x25cb93294c0>,\n",
       " <keras.layers.core.dense.Dense at 0x25cb92d0640>,\n",
       " <keras.layers.core.dense.Dense at 0x25cb93363a0>]"
      ]
     },
     "execution_count": 30,
     "metadata": {},
     "output_type": "execute_result"
    }
   ],
   "source": [
    "# model\n",
    "model = keras.Sequential()\n",
    "\n",
    "# layers\n",
    "from tensorflow.keras import layers\n",
    "\n",
    "model.add(layers.Dense(20, activation=\"relu\", name=\"layer1\"))\n",
    "model.add(layers.Dense(10, activation=\"relu\", name=\"layer2\"))\n",
    "model.add(layers.Dense(2, name=\"layer3\"))\n",
    "\n",
    "\n",
    "model.layers"
   ]
  },
  {
   "cell_type": "code",
   "execution_count": 31,
   "metadata": {},
   "outputs": [
    {
     "name": "stdout",
     "output_type": "stream",
     "text": [
      "Model: \"sequential_2\"\n",
      "_________________________________________________________________\n",
      " Layer (type)                Output Shape              Param #   \n",
      "=================================================================\n",
      " layer1 (Dense)              (75, 20)                  100       \n",
      "                                                                 \n",
      " layer2 (Dense)              (75, 10)                  210       \n",
      "                                                                 \n",
      " layer3 (Dense)              (75, 2)                   22        \n",
      "                                                                 \n",
      "=================================================================\n",
      "Total params: 332\n",
      "Trainable params: 332\n",
      "Non-trainable params: 0\n",
      "_________________________________________________________________\n"
     ]
    }
   ],
   "source": [
    "model.build(x_train.shape)\n",
    "model.summary()"
   ]
  },
  {
   "cell_type": "code",
   "execution_count": 32,
   "metadata": {},
   "outputs": [],
   "source": [
    "# loss\n",
    "loss = 'binary_crossentropy'\n",
    "# optimizer\n",
    "optimizer = 'adam'\n",
    "#metrics\n",
    "metrics = ['accuracy']"
   ]
  },
  {
   "cell_type": "code",
   "execution_count": 33,
   "metadata": {},
   "outputs": [],
   "source": [
    "model.compile(optimizer, loss, metrics = metrics)"
   ]
  },
  {
   "cell_type": "code",
   "execution_count": 34,
   "metadata": {},
   "outputs": [
    {
     "name": "stdout",
     "output_type": "stream",
     "text": [
      "Epoch 1/100\n",
      "8/8 [==============================] - 0s 16ms/step - loss: 4.2572 - accuracy: 0.4533 - val_loss: 2.7585 - val_accuracy: 0.6000\n",
      "Epoch 2/100\n",
      "8/8 [==============================] - 0s 4ms/step - loss: 3.7316 - accuracy: 0.5467 - val_loss: 2.6881 - val_accuracy: 0.6400\n",
      "Epoch 3/100\n",
      "8/8 [==============================] - 0s 3ms/step - loss: 3.1643 - accuracy: 0.5733 - val_loss: 2.1800 - val_accuracy: 0.6800\n",
      "Epoch 4/100\n",
      "8/8 [==============================] - 0s 3ms/step - loss: 2.6987 - accuracy: 0.6133 - val_loss: 1.8632 - val_accuracy: 0.6800\n",
      "Epoch 5/100\n",
      "8/8 [==============================] - 0s 3ms/step - loss: 2.0952 - accuracy: 0.7467 - val_loss: 1.5620 - val_accuracy: 0.7200\n",
      "Epoch 6/100\n",
      "8/8 [==============================] - 0s 3ms/step - loss: 1.6856 - accuracy: 0.8667 - val_loss: 1.0295 - val_accuracy: 0.8800\n",
      "Epoch 7/100\n",
      "8/8 [==============================] - 0s 3ms/step - loss: 1.1204 - accuracy: 0.9067 - val_loss: 0.6972 - val_accuracy: 0.9200\n",
      "Epoch 8/100\n",
      "8/8 [==============================] - 0s 3ms/step - loss: 0.8500 - accuracy: 0.9600 - val_loss: 0.6414 - val_accuracy: 0.9600\n",
      "Epoch 9/100\n",
      "8/8 [==============================] - 0s 4ms/step - loss: 0.7042 - accuracy: 0.9867 - val_loss: 0.3695 - val_accuracy: 1.0000\n",
      "Epoch 10/100\n",
      "8/8 [==============================] - 0s 4ms/step - loss: 0.5860 - accuracy: 0.9867 - val_loss: 0.3365 - val_accuracy: 1.0000\n",
      "Epoch 11/100\n",
      "8/8 [==============================] - 0s 4ms/step - loss: 0.5008 - accuracy: 1.0000 - val_loss: 0.3018 - val_accuracy: 1.0000\n",
      "Epoch 12/100\n",
      "8/8 [==============================] - 0s 3ms/step - loss: 0.4207 - accuracy: 1.0000 - val_loss: 0.2725 - val_accuracy: 1.0000\n",
      "Epoch 13/100\n",
      "8/8 [==============================] - 0s 3ms/step - loss: 0.3871 - accuracy: 1.0000 - val_loss: 0.2576 - val_accuracy: 1.0000\n",
      "Epoch 14/100\n",
      "8/8 [==============================] - 0s 3ms/step - loss: 0.3682 - accuracy: 1.0000 - val_loss: 0.2476 - val_accuracy: 1.0000\n",
      "Epoch 15/100\n",
      "8/8 [==============================] - 0s 4ms/step - loss: 0.3558 - accuracy: 1.0000 - val_loss: 0.2396 - val_accuracy: 1.0000\n",
      "Epoch 16/100\n",
      "8/8 [==============================] - 0s 3ms/step - loss: 0.3445 - accuracy: 1.0000 - val_loss: 0.2326 - val_accuracy: 1.0000\n",
      "Epoch 17/100\n",
      "8/8 [==============================] - 0s 3ms/step - loss: 0.3342 - accuracy: 1.0000 - val_loss: 0.2262 - val_accuracy: 1.0000\n",
      "Epoch 18/100\n",
      "8/8 [==============================] - 0s 4ms/step - loss: 0.3245 - accuracy: 1.0000 - val_loss: 0.2200 - val_accuracy: 1.0000\n",
      "Epoch 19/100\n",
      "8/8 [==============================] - 0s 3ms/step - loss: 0.3143 - accuracy: 1.0000 - val_loss: 0.2136 - val_accuracy: 1.0000\n",
      "Epoch 20/100\n",
      "8/8 [==============================] - 0s 4ms/step - loss: 0.3029 - accuracy: 1.0000 - val_loss: 0.2070 - val_accuracy: 1.0000\n",
      "Epoch 21/100\n",
      "8/8 [==============================] - 0s 3ms/step - loss: 0.2919 - accuracy: 1.0000 - val_loss: 0.2003 - val_accuracy: 1.0000\n",
      "Epoch 22/100\n",
      "8/8 [==============================] - 0s 3ms/step - loss: 0.2808 - accuracy: 1.0000 - val_loss: 0.1929 - val_accuracy: 1.0000\n",
      "Epoch 23/100\n",
      "8/8 [==============================] - 0s 3ms/step - loss: 0.2686 - accuracy: 1.0000 - val_loss: 0.1858 - val_accuracy: 1.0000\n",
      "Epoch 24/100\n",
      "8/8 [==============================] - 0s 3ms/step - loss: 0.2566 - accuracy: 1.0000 - val_loss: 0.1786 - val_accuracy: 1.0000\n",
      "Epoch 25/100\n",
      "8/8 [==============================] - 0s 4ms/step - loss: 0.2434 - accuracy: 1.0000 - val_loss: 0.1710 - val_accuracy: 1.0000\n",
      "Epoch 26/100\n",
      "8/8 [==============================] - 0s 4ms/step - loss: 0.2294 - accuracy: 1.0000 - val_loss: 0.1626 - val_accuracy: 1.0000\n",
      "Epoch 27/100\n",
      "8/8 [==============================] - 0s 3ms/step - loss: 0.2153 - accuracy: 1.0000 - val_loss: 0.1527 - val_accuracy: 1.0000\n",
      "Epoch 28/100\n",
      "8/8 [==============================] - 0s 4ms/step - loss: 0.1980 - accuracy: 1.0000 - val_loss: 0.1432 - val_accuracy: 1.0000\n",
      "Epoch 29/100\n",
      "8/8 [==============================] - 0s 3ms/step - loss: 0.1810 - accuracy: 1.0000 - val_loss: 0.1289 - val_accuracy: 1.0000\n",
      "Epoch 30/100\n",
      "8/8 [==============================] - 0s 4ms/step - loss: 0.1627 - accuracy: 1.0000 - val_loss: 0.1152 - val_accuracy: 1.0000\n",
      "Epoch 31/100\n",
      "8/8 [==============================] - 0s 4ms/step - loss: 0.1461 - accuracy: 1.0000 - val_loss: 0.1021 - val_accuracy: 1.0000\n",
      "Epoch 32/100\n",
      "8/8 [==============================] - 0s 3ms/step - loss: 0.1300 - accuracy: 1.0000 - val_loss: 0.0911 - val_accuracy: 1.0000\n",
      "Epoch 33/100\n",
      "8/8 [==============================] - 0s 3ms/step - loss: 0.1160 - accuracy: 1.0000 - val_loss: 0.0809 - val_accuracy: 1.0000\n",
      "Epoch 34/100\n",
      "8/8 [==============================] - 0s 4ms/step - loss: 0.1037 - accuracy: 1.0000 - val_loss: 0.0716 - val_accuracy: 1.0000\n",
      "Epoch 35/100\n",
      "8/8 [==============================] - 0s 3ms/step - loss: 0.0924 - accuracy: 1.0000 - val_loss: 0.0626 - val_accuracy: 1.0000\n",
      "Epoch 36/100\n",
      "8/8 [==============================] - 0s 3ms/step - loss: 0.0817 - accuracy: 1.0000 - val_loss: 0.0544 - val_accuracy: 1.0000\n",
      "Epoch 37/100\n",
      "8/8 [==============================] - 0s 4ms/step - loss: 0.0714 - accuracy: 1.0000 - val_loss: 0.0472 - val_accuracy: 1.0000\n",
      "Epoch 38/100\n",
      "8/8 [==============================] - 0s 4ms/step - loss: 0.0609 - accuracy: 1.0000 - val_loss: 0.0402 - val_accuracy: 1.0000\n",
      "Epoch 39/100\n",
      "8/8 [==============================] - 0s 3ms/step - loss: 0.0522 - accuracy: 1.0000 - val_loss: 0.0342 - val_accuracy: 1.0000\n",
      "Epoch 40/100\n",
      "8/8 [==============================] - 0s 3ms/step - loss: 0.0442 - accuracy: 1.0000 - val_loss: 0.0291 - val_accuracy: 1.0000\n",
      "Epoch 41/100\n",
      "8/8 [==============================] - 0s 4ms/step - loss: 0.0355 - accuracy: 1.0000 - val_loss: 0.0244 - val_accuracy: 1.0000\n",
      "Epoch 42/100\n",
      "8/8 [==============================] - 0s 4ms/step - loss: 0.0286 - accuracy: 1.0000 - val_loss: 0.0206 - val_accuracy: 1.0000\n",
      "Epoch 43/100\n",
      "8/8 [==============================] - 0s 4ms/step - loss: 0.0229 - accuracy: 1.0000 - val_loss: 0.0171 - val_accuracy: 1.0000\n",
      "Epoch 44/100\n",
      "8/8 [==============================] - 0s 4ms/step - loss: 0.0176 - accuracy: 1.0000 - val_loss: 0.0147 - val_accuracy: 1.0000\n",
      "Epoch 45/100\n",
      "8/8 [==============================] - 0s 4ms/step - loss: 0.0135 - accuracy: 1.0000 - val_loss: 0.0126 - val_accuracy: 1.0000\n",
      "Epoch 46/100\n",
      "8/8 [==============================] - 0s 4ms/step - loss: 0.0114 - accuracy: 1.0000 - val_loss: 0.0102 - val_accuracy: 1.0000\n",
      "Epoch 47/100\n",
      "8/8 [==============================] - 0s 4ms/step - loss: 0.0094 - accuracy: 1.0000 - val_loss: 0.0085 - val_accuracy: 1.0000\n",
      "Epoch 48/100\n",
      "8/8 [==============================] - 0s 4ms/step - loss: 0.0083 - accuracy: 1.0000 - val_loss: 0.0073 - val_accuracy: 1.0000\n",
      "Epoch 49/100\n",
      "8/8 [==============================] - 0s 3ms/step - loss: 0.0073 - accuracy: 1.0000 - val_loss: 0.0065 - val_accuracy: 1.0000\n",
      "Epoch 50/100\n",
      "8/8 [==============================] - 0s 4ms/step - loss: 0.0067 - accuracy: 1.0000 - val_loss: 0.0058 - val_accuracy: 1.0000\n",
      "Epoch 51/100\n",
      "8/8 [==============================] - 0s 3ms/step - loss: 0.0063 - accuracy: 1.0000 - val_loss: 0.0050 - val_accuracy: 1.0000\n",
      "Epoch 52/100\n",
      "8/8 [==============================] - 0s 4ms/step - loss: 0.0058 - accuracy: 1.0000 - val_loss: 0.0035 - val_accuracy: 1.0000\n",
      "Epoch 53/100\n",
      "8/8 [==============================] - 0s 4ms/step - loss: 0.0055 - accuracy: 1.0000 - val_loss: 0.0024 - val_accuracy: 1.0000\n",
      "Epoch 54/100\n",
      "8/8 [==============================] - 0s 3ms/step - loss: 0.0052 - accuracy: 1.0000 - val_loss: 6.1450e-04 - val_accuracy: 1.0000\n",
      "Epoch 55/100\n",
      "8/8 [==============================] - 0s 4ms/step - loss: 0.0049 - accuracy: 1.0000 - val_loss: 1.7641e-04 - val_accuracy: 1.0000\n",
      "Epoch 56/100\n",
      "8/8 [==============================] - 0s 3ms/step - loss: 0.0046 - accuracy: 1.0000 - val_loss: 1.3007e-04 - val_accuracy: 1.0000\n",
      "Epoch 57/100\n",
      "8/8 [==============================] - 0s 3ms/step - loss: 0.0045 - accuracy: 1.0000 - val_loss: 9.2162e-05 - val_accuracy: 1.0000\n",
      "Epoch 58/100\n",
      "8/8 [==============================] - 0s 3ms/step - loss: 0.0044 - accuracy: 1.0000 - val_loss: 7.7907e-05 - val_accuracy: 1.0000\n",
      "Epoch 59/100\n",
      "8/8 [==============================] - 0s 3ms/step - loss: 0.0042 - accuracy: 1.0000 - val_loss: 7.3562e-05 - val_accuracy: 1.0000\n",
      "Epoch 60/100\n",
      "8/8 [==============================] - 0s 4ms/step - loss: 0.0041 - accuracy: 1.0000 - val_loss: 7.4135e-05 - val_accuracy: 1.0000\n",
      "Epoch 61/100\n",
      "8/8 [==============================] - 0s 3ms/step - loss: 0.0040 - accuracy: 1.0000 - val_loss: 1.1369e-04 - val_accuracy: 1.0000\n",
      "Epoch 62/100\n",
      "8/8 [==============================] - 0s 3ms/step - loss: 0.0038 - accuracy: 1.0000 - val_loss: 2.4339e-04 - val_accuracy: 1.0000\n",
      "Epoch 63/100\n",
      "8/8 [==============================] - 0s 4ms/step - loss: 0.0037 - accuracy: 1.0000 - val_loss: 5.1226e-04 - val_accuracy: 1.0000\n",
      "Epoch 64/100\n",
      "8/8 [==============================] - 0s 4ms/step - loss: 0.0036 - accuracy: 1.0000 - val_loss: 3.2385e-04 - val_accuracy: 1.0000\n",
      "Epoch 65/100\n",
      "8/8 [==============================] - 0s 3ms/step - loss: 0.0034 - accuracy: 1.0000 - val_loss: 2.3963e-04 - val_accuracy: 1.0000\n",
      "Epoch 66/100\n",
      "8/8 [==============================] - 0s 3ms/step - loss: 0.0033 - accuracy: 1.0000 - val_loss: 2.3935e-04 - val_accuracy: 1.0000\n",
      "Epoch 67/100\n",
      "8/8 [==============================] - 0s 3ms/step - loss: 0.0032 - accuracy: 1.0000 - val_loss: 2.9425e-04 - val_accuracy: 1.0000\n",
      "Epoch 68/100\n",
      "8/8 [==============================] - 0s 4ms/step - loss: 0.0031 - accuracy: 1.0000 - val_loss: 2.3634e-04 - val_accuracy: 1.0000\n",
      "Epoch 69/100\n",
      "8/8 [==============================] - 0s 4ms/step - loss: 0.0029 - accuracy: 1.0000 - val_loss: 1.1738e-04 - val_accuracy: 1.0000\n",
      "Epoch 70/100\n",
      "8/8 [==============================] - 0s 3ms/step - loss: 0.0028 - accuracy: 1.0000 - val_loss: 1.6285e-04 - val_accuracy: 1.0000\n",
      "Epoch 71/100\n",
      "8/8 [==============================] - 0s 4ms/step - loss: 0.0027 - accuracy: 1.0000 - val_loss: 2.5612e-04 - val_accuracy: 1.0000\n",
      "Epoch 72/100\n",
      "8/8 [==============================] - 0s 4ms/step - loss: 0.0025 - accuracy: 1.0000 - val_loss: 3.3836e-04 - val_accuracy: 1.0000\n",
      "Epoch 73/100\n",
      "8/8 [==============================] - 0s 3ms/step - loss: 0.0024 - accuracy: 1.0000 - val_loss: 1.3766e-04 - val_accuracy: 1.0000\n",
      "Epoch 74/100\n",
      "8/8 [==============================] - 0s 4ms/step - loss: 0.0024 - accuracy: 1.0000 - val_loss: 1.2308e-04 - val_accuracy: 1.0000\n",
      "Epoch 75/100\n",
      "8/8 [==============================] - 0s 3ms/step - loss: 0.0023 - accuracy: 1.0000 - val_loss: 1.3130e-04 - val_accuracy: 1.0000\n",
      "Epoch 76/100\n",
      "8/8 [==============================] - 0s 4ms/step - loss: 0.0022 - accuracy: 1.0000 - val_loss: 1.8366e-04 - val_accuracy: 1.0000\n",
      "Epoch 77/100\n",
      "8/8 [==============================] - 0s 3ms/step - loss: 0.0021 - accuracy: 1.0000 - val_loss: 2.8259e-04 - val_accuracy: 1.0000\n",
      "Epoch 78/100\n",
      "8/8 [==============================] - 0s 4ms/step - loss: 0.0020 - accuracy: 1.0000 - val_loss: 2.2761e-04 - val_accuracy: 1.0000\n",
      "Epoch 79/100\n",
      "8/8 [==============================] - 0s 4ms/step - loss: 0.0019 - accuracy: 1.0000 - val_loss: 1.3486e-04 - val_accuracy: 1.0000\n",
      "Epoch 80/100\n",
      "8/8 [==============================] - 0s 3ms/step - loss: 0.0019 - accuracy: 1.0000 - val_loss: 9.0586e-05 - val_accuracy: 1.0000\n",
      "Epoch 81/100\n",
      "8/8 [==============================] - 0s 4ms/step - loss: 0.0017 - accuracy: 1.0000 - val_loss: 2.2135e-05 - val_accuracy: 1.0000\n",
      "Epoch 82/100\n",
      "8/8 [==============================] - 0s 4ms/step - loss: 0.0017 - accuracy: 1.0000 - val_loss: 0.0000e+00 - val_accuracy: 1.0000\n",
      "Epoch 83/100\n",
      "8/8 [==============================] - 0s 3ms/step - loss: 0.0016 - accuracy: 1.0000 - val_loss: 0.0000e+00 - val_accuracy: 1.0000\n",
      "Epoch 84/100\n",
      "8/8 [==============================] - 0s 3ms/step - loss: 0.0015 - accuracy: 1.0000 - val_loss: 0.0000e+00 - val_accuracy: 1.0000\n",
      "Epoch 85/100\n",
      "8/8 [==============================] - 0s 4ms/step - loss: 0.0014 - accuracy: 1.0000 - val_loss: 0.0000e+00 - val_accuracy: 1.0000\n",
      "Epoch 86/100\n",
      "8/8 [==============================] - 0s 3ms/step - loss: 0.0014 - accuracy: 1.0000 - val_loss: 0.0000e+00 - val_accuracy: 1.0000\n",
      "Epoch 87/100\n",
      "8/8 [==============================] - 0s 4ms/step - loss: 0.0013 - accuracy: 1.0000 - val_loss: 0.0000e+00 - val_accuracy: 1.0000\n",
      "Epoch 88/100\n",
      "8/8 [==============================] - 0s 4ms/step - loss: 0.0013 - accuracy: 1.0000 - val_loss: 0.0000e+00 - val_accuracy: 1.0000\n",
      "Epoch 89/100\n",
      "8/8 [==============================] - 0s 3ms/step - loss: 0.0013 - accuracy: 1.0000 - val_loss: 0.0000e+00 - val_accuracy: 1.0000\n",
      "Epoch 90/100\n",
      "8/8 [==============================] - 0s 4ms/step - loss: 0.0012 - accuracy: 1.0000 - val_loss: 0.0000e+00 - val_accuracy: 1.0000\n",
      "Epoch 91/100\n",
      "8/8 [==============================] - 0s 3ms/step - loss: 0.0012 - accuracy: 1.0000 - val_loss: 3.4859e-05 - val_accuracy: 1.0000\n",
      "Epoch 92/100\n",
      "8/8 [==============================] - 0s 4ms/step - loss: 0.0011 - accuracy: 1.0000 - val_loss: 4.0026e-05 - val_accuracy: 1.0000\n",
      "Epoch 93/100\n",
      "8/8 [==============================] - 0s 4ms/step - loss: 0.0011 - accuracy: 1.0000 - val_loss: 5.8099e-05 - val_accuracy: 1.0000\n",
      "Epoch 94/100\n",
      "8/8 [==============================] - 0s 4ms/step - loss: 0.0011 - accuracy: 1.0000 - val_loss: 9.0685e-05 - val_accuracy: 1.0000\n",
      "Epoch 95/100\n",
      "8/8 [==============================] - 0s 7ms/step - loss: 0.0010 - accuracy: 1.0000 - val_loss: 1.3652e-04 - val_accuracy: 1.0000\n",
      "Epoch 96/100\n",
      "8/8 [==============================] - 0s 4ms/step - loss: 0.0010 - accuracy: 1.0000 - val_loss: 6.6613e-05 - val_accuracy: 1.0000\n",
      "Epoch 97/100\n",
      "8/8 [==============================] - 0s 4ms/step - loss: 9.5864e-04 - accuracy: 1.0000 - val_loss: 0.0000e+00 - val_accuracy: 1.0000\n",
      "Epoch 98/100\n",
      "8/8 [==============================] - 0s 4ms/step - loss: 9.3068e-04 - accuracy: 1.0000 - val_loss: 0.0000e+00 - val_accuracy: 1.0000\n",
      "Epoch 99/100\n",
      "8/8 [==============================] - 0s 4ms/step - loss: 9.0570e-04 - accuracy: 1.0000 - val_loss: 0.0000e+00 - val_accuracy: 1.0000\n",
      "Epoch 100/100\n",
      "8/8 [==============================] - 0s 4ms/step - loss: 8.4816e-04 - accuracy: 1.0000 - val_loss: 0.0000e+00 - val_accuracy: 1.0000\n"
     ]
    }
   ],
   "source": [
    "history = model.fit(x_train, y_train,\n",
    "                    batch_size=10,\n",
    "                    epochs=100,\n",
    "                    verbose=1,\n",
    "                    validation_data= (x_test, y_test))\n"
   ]
  },
  {
   "cell_type": "code",
   "execution_count": 35,
   "metadata": {},
   "outputs": [
    {
     "name": "stdout",
     "output_type": "stream",
     "text": [
      "train loss\n"
     ]
    },
    {
     "data": {
      "image/png": "[encoded data removed]",
      "text/plain": [
       "<Figure size 432x288 with 1 Axes>"
      ]
     },
     "metadata": {
      "needs_background": "light"
     },
     "output_type": "display_data"
    },
    {
     "name": "stdout",
     "output_type": "stream",
     "text": [
      "val loss\n"
     ]
    },
    {
     "data": {
      "image/png": "[encoded data removed]",
      "text/plain": [
       "<Figure size 432x288 with 1 Axes>"
      ]
     },
     "metadata": {
      "needs_background": "light"
     },
     "output_type": "display_data"
    }
   ],
   "source": [
    "import seaborn as sns\n",
    "import matplotlib.pyplot as plt\n",
    "# loss\n",
    "print('train loss')\n",
    "sns.lineplot(data = history.history['loss'])\n",
    "sns.lineplot(data = history.history['accuracy'])\n",
    "\n",
    "plt.show()\n",
    "print('val loss')\n",
    "sns.lineplot(data = history.history['val_loss'])\n",
    "sns.lineplot(data = history.history['val_accuracy'])\n",
    "plt.show()"
   ]
  },
  {
   "cell_type": "markdown",
   "metadata": {},
   "source": [
    "# Problem 4 - Learn Iris (multi-level classification) with Keras"
   ]
  },
  {
   "cell_type": "code",
   "execution_count": 36,
   "metadata": {},
   "outputs": [],
   "source": [
    "# standardization\n",
    "from sklearn.preprocessing import StandardScaler\n",
    "import pandas as pd\n",
    "scaler = StandardScaler()\n",
    "processed_x = scaler.fit_transform(features_data.to_numpy())\n",
    "# print('before trans')\n",
    "# print(binary_x.describe())\n",
    "# print('after scale')\n",
    "# print(pd.DataFrame(processed_bin_x).describe())\n",
    "\n",
    "# onehot encode\n",
    "from sklearn.preprocessing import OneHotEncoder\n",
    "enc = OneHotEncoder()\n",
    "processed_y = enc.fit_transform(target_data.to_numpy().reshape(-1,1)).toarray()\n",
    "# print('before trans')\n",
    "# print(pd.DataFrame(binary_y).describe())\n",
    "# print('after scale')\n",
    "# print(pd.DataFrame(processed_bin_y).describe())\n",
    "# processed_y[0]"
   ]
  },
  {
   "cell_type": "code",
   "execution_count": 37,
   "metadata": {},
   "outputs": [
    {
     "name": "stdout",
     "output_type": "stream",
     "text": [
      "[(112, 4), (38, 4), (112, 3), (38, 3)]\n",
      "[-0.7795133   0.78880759 -1.34022653 -1.3154443 ]\n",
      "[1. 0. 0.]\n"
     ]
    }
   ],
   "source": [
    "# train test split\n",
    "from sklearn.model_selection import train_test_split\n",
    "\n",
    "x_train, x_test, y_train,y_test = train_test_split(processed_x, processed_y)\n",
    "print([x.shape for x in [x_train, x_test, y_train,y_test]])\n",
    "print(x_train[0])\n",
    "print(y_train[0])"
   ]
  },
  {
   "cell_type": "code",
   "execution_count": 38,
   "metadata": {},
   "outputs": [
    {
     "data": {
      "text/plain": [
       "[<keras.layers.core.dense.Dense at 0x25cba4f4cd0>,\n",
       " <keras.layers.core.dense.Dense at 0x25cba514790>,\n",
       " <keras.layers.core.dense.Dense at 0x25cba12f880>]"
      ]
     },
     "execution_count": 38,
     "metadata": {},
     "output_type": "execute_result"
    }
   ],
   "source": [
    "# model\n",
    "model = keras.Sequential()\n",
    "\n",
    "# layers\n",
    "from tensorflow.keras import layers\n",
    "\n",
    "model.add(layers.Dense(20, activation=\"relu\", name=\"layer1\"))\n",
    "model.add(layers.Dense(10, activation=\"relu\", name=\"layer2\"))\n",
    "model.add(layers.Dense(3, name=\"layer3\"))\n",
    "\n",
    "\n",
    "model.layers"
   ]
  },
  {
   "cell_type": "code",
   "execution_count": 39,
   "metadata": {},
   "outputs": [
    {
     "name": "stdout",
     "output_type": "stream",
     "text": [
      "Model: \"sequential_3\"\n",
      "_________________________________________________________________\n",
      " Layer (type)                Output Shape              Param #   \n",
      "=================================================================\n",
      " layer1 (Dense)              (112, 20)                 100       \n",
      "                                                                 \n",
      " layer2 (Dense)              (112, 10)                 210       \n",
      "                                                                 \n",
      " layer3 (Dense)              (112, 3)                  33        \n",
      "                                                                 \n",
      "=================================================================\n",
      "Total params: 343\n",
      "Trainable params: 343\n",
      "Non-trainable params: 0\n",
      "_________________________________________________________________\n"
     ]
    }
   ],
   "source": [
    "model.build(x_train.shape)\n",
    "model.summary()"
   ]
  },
  {
   "cell_type": "code",
   "execution_count": 40,
   "metadata": {},
   "outputs": [],
   "source": [
    "# loss\n",
    "loss = 'categorical_crossentropy'\n",
    "# compile\n",
    "model.compile(optimizer, loss, metrics = metrics)"
   ]
  },
  {
   "cell_type": "code",
   "execution_count": 41,
   "metadata": {},
   "outputs": [
    {
     "name": "stdout",
     "output_type": "stream",
     "text": [
      "Epoch 1/100\n",
      "12/12 [==============================] - 0s 12ms/step - loss: 4.9988 - accuracy: 0.4107 - val_loss: 2.7423 - val_accuracy: 0.3158\n",
      "Epoch 2/100\n",
      "12/12 [==============================] - 0s 3ms/step - loss: 4.1304 - accuracy: 0.4018 - val_loss: 1.8695 - val_accuracy: 0.3947\n",
      "Epoch 3/100\n",
      "12/12 [==============================] - 0s 3ms/step - loss: 3.3066 - accuracy: 0.4018 - val_loss: 1.7742 - val_accuracy: 0.4474\n",
      "Epoch 4/100\n",
      "12/12 [==============================] - 0s 3ms/step - loss: 3.0674 - accuracy: 0.4107 - val_loss: 1.6566 - val_accuracy: 0.5000\n",
      "Epoch 5/100\n",
      "12/12 [==============================] - 0s 3ms/step - loss: 2.9827 - accuracy: 0.4196 - val_loss: 1.5854 - val_accuracy: 0.5526\n",
      "Epoch 6/100\n",
      "12/12 [==============================] - 0s 3ms/step - loss: 2.6295 - accuracy: 0.4107 - val_loss: 1.0996 - val_accuracy: 0.5526\n",
      "Epoch 7/100\n",
      "12/12 [==============================] - 0s 3ms/step - loss: 2.7235 - accuracy: 0.4286 - val_loss: 1.0657 - val_accuracy: 0.5526\n",
      "Epoch 8/100\n",
      "12/12 [==============================] - 0s 3ms/step - loss: 2.8234 - accuracy: 0.4554 - val_loss: 1.0053 - val_accuracy: 0.6316\n",
      "Epoch 9/100\n",
      "12/12 [==============================] - 0s 3ms/step - loss: 2.6387 - accuracy: 0.4643 - val_loss: 0.9547 - val_accuracy: 0.7105\n",
      "Epoch 10/100\n",
      "12/12 [==============================] - 0s 3ms/step - loss: 2.8860 - accuracy: 0.4643 - val_loss: 1.3425 - val_accuracy: 0.7105\n",
      "Epoch 11/100\n",
      "12/12 [==============================] - 0s 3ms/step - loss: 2.7427 - accuracy: 0.4911 - val_loss: 1.2962 - val_accuracy: 0.6842\n",
      "Epoch 12/100\n",
      "12/12 [==============================] - 0s 3ms/step - loss: 2.6332 - accuracy: 0.5089 - val_loss: 1.6553 - val_accuracy: 0.6316\n",
      "Epoch 13/100\n",
      "12/12 [==============================] - 0s 3ms/step - loss: 2.8775 - accuracy: 0.5268 - val_loss: 2.0129 - val_accuracy: 0.6316\n",
      "Epoch 14/100\n",
      "12/12 [==============================] - 0s 3ms/step - loss: 4.0306 - accuracy: 0.5268 - val_loss: 3.6800 - val_accuracy: 0.6842\n",
      "Epoch 15/100\n",
      "12/12 [==============================] - 0s 3ms/step - loss: 4.4498 - accuracy: 0.5268 - val_loss: 4.1265 - val_accuracy: 0.6842\n",
      "Epoch 16/100\n",
      "12/12 [==============================] - 0s 3ms/step - loss: 4.9470 - accuracy: 0.5536 - val_loss: 3.0154 - val_accuracy: 0.6842\n",
      "Epoch 17/100\n",
      "12/12 [==============================] - 0s 3ms/step - loss: 4.8400 - accuracy: 0.5625 - val_loss: 3.6422 - val_accuracy: 0.6842\n",
      "Epoch 18/100\n",
      "12/12 [==============================] - 0s 2ms/step - loss: 4.0822 - accuracy: 0.5625 - val_loss: 3.6663 - val_accuracy: 0.7105\n",
      "Epoch 19/100\n",
      "12/12 [==============================] - 0s 2ms/step - loss: 3.8703 - accuracy: 0.5625 - val_loss: 3.5809 - val_accuracy: 0.7105\n",
      "Epoch 20/100\n",
      "12/12 [==============================] - 0s 2ms/step - loss: 3.4281 - accuracy: 0.5982 - val_loss: 3.1564 - val_accuracy: 0.7368\n",
      "Epoch 21/100\n",
      "12/12 [==============================] - 0s 3ms/step - loss: 2.7825 - accuracy: 0.6071 - val_loss: 3.0981 - val_accuracy: 0.7368\n",
      "Epoch 22/100\n",
      "12/12 [==============================] - 0s 3ms/step - loss: 3.0190 - accuracy: 0.6250 - val_loss: 3.0727 - val_accuracy: 0.7368\n",
      "Epoch 23/100\n",
      "12/12 [==============================] - 0s 2ms/step - loss: 2.9863 - accuracy: 0.6250 - val_loss: 3.4769 - val_accuracy: 0.7368\n",
      "Epoch 24/100\n",
      "12/12 [==============================] - 0s 2ms/step - loss: 3.1089 - accuracy: 0.6339 - val_loss: 3.4621 - val_accuracy: 0.7368\n",
      "Epoch 25/100\n",
      "12/12 [==============================] - 0s 2ms/step - loss: 3.0987 - accuracy: 0.6339 - val_loss: 3.8764 - val_accuracy: 0.7368\n",
      "Epoch 26/100\n",
      "12/12 [==============================] - 0s 3ms/step - loss: 3.2354 - accuracy: 0.6339 - val_loss: 3.8666 - val_accuracy: 0.7368\n",
      "Epoch 27/100\n",
      "12/12 [==============================] - 0s 3ms/step - loss: 3.0846 - accuracy: 0.6339 - val_loss: 3.8574 - val_accuracy: 0.7368\n",
      "Epoch 28/100\n",
      "12/12 [==============================] - 0s 3ms/step - loss: 3.0778 - accuracy: 0.6339 - val_loss: 3.8502 - val_accuracy: 0.7368\n",
      "Epoch 29/100\n",
      "12/12 [==============================] - 0s 3ms/step - loss: 3.0728 - accuracy: 0.6339 - val_loss: 4.2694 - val_accuracy: 0.7368\n",
      "Epoch 30/100\n",
      "12/12 [==============================] - 0s 3ms/step - loss: 3.2115 - accuracy: 0.6339 - val_loss: 4.2645 - val_accuracy: 0.7368\n",
      "Epoch 31/100\n",
      "12/12 [==============================] - 0s 3ms/step - loss: 3.2075 - accuracy: 0.6339 - val_loss: 4.2599 - val_accuracy: 0.7368\n",
      "Epoch 32/100\n",
      "12/12 [==============================] - 0s 3ms/step - loss: 3.2040 - accuracy: 0.6339 - val_loss: 4.2557 - val_accuracy: 0.7368\n",
      "Epoch 33/100\n",
      "12/12 [==============================] - 0s 3ms/step - loss: 3.3451 - accuracy: 0.6339 - val_loss: 4.2530 - val_accuracy: 0.7368\n",
      "Epoch 34/100\n",
      "12/12 [==============================] - 0s 3ms/step - loss: 3.3427 - accuracy: 0.6339 - val_loss: 4.2505 - val_accuracy: 0.7368\n",
      "Epoch 35/100\n",
      "12/12 [==============================] - 0s 3ms/step - loss: 3.3396 - accuracy: 0.6339 - val_loss: 4.6714 - val_accuracy: 0.7368\n",
      "Epoch 36/100\n",
      "12/12 [==============================] - 0s 3ms/step - loss: 3.3367 - accuracy: 0.6339 - val_loss: 5.0920 - val_accuracy: 0.7368\n",
      "Epoch 37/100\n",
      "12/12 [==============================] - 0s 3ms/step - loss: 3.3338 - accuracy: 0.6339 - val_loss: 4.6669 - val_accuracy: 0.7368\n",
      "Epoch 38/100\n",
      "12/12 [==============================] - 0s 3ms/step - loss: 3.3318 - accuracy: 0.6429 - val_loss: 4.6665 - val_accuracy: 0.7368\n",
      "Epoch 39/100\n",
      "12/12 [==============================] - 0s 3ms/step - loss: 3.3300 - accuracy: 0.6429 - val_loss: 4.6661 - val_accuracy: 0.7368\n",
      "Epoch 40/100\n",
      "12/12 [==============================] - 0s 3ms/step - loss: 3.3285 - accuracy: 0.6429 - val_loss: 4.6658 - val_accuracy: 0.7368\n",
      "Epoch 41/100\n",
      "12/12 [==============================] - 0s 2ms/step - loss: 3.3264 - accuracy: 0.6429 - val_loss: 4.6658 - val_accuracy: 0.7368\n",
      "Epoch 42/100\n",
      "12/12 [==============================] - 0s 3ms/step - loss: 3.3249 - accuracy: 0.6429 - val_loss: 5.0899 - val_accuracy: 0.7368\n",
      "Epoch 43/100\n",
      "12/12 [==============================] - 0s 2ms/step - loss: 3.4665 - accuracy: 0.6429 - val_loss: 5.0904 - val_accuracy: 0.7368\n",
      "Epoch 44/100\n",
      "12/12 [==============================] - 0s 2ms/step - loss: 3.6082 - accuracy: 0.6429 - val_loss: 5.0926 - val_accuracy: 0.7368\n",
      "Epoch 45/100\n",
      "12/12 [==============================] - 0s 3ms/step - loss: 3.6062 - accuracy: 0.6429 - val_loss: 5.0932 - val_accuracy: 0.7368\n",
      "Epoch 46/100\n",
      "12/12 [==============================] - 0s 3ms/step - loss: 3.6041 - accuracy: 0.6429 - val_loss: 5.5182 - val_accuracy: 0.7368\n",
      "Epoch 47/100\n",
      "12/12 [==============================] - 0s 3ms/step - loss: 3.6023 - accuracy: 0.6429 - val_loss: 5.5141 - val_accuracy: 0.7368\n",
      "Epoch 48/100\n",
      "12/12 [==============================] - 0s 3ms/step - loss: 3.6017 - accuracy: 0.6429 - val_loss: 5.5141 - val_accuracy: 0.7368\n",
      "Epoch 49/100\n",
      "12/12 [==============================] - 0s 2ms/step - loss: 3.6012 - accuracy: 0.6429 - val_loss: 5.5141 - val_accuracy: 0.7368\n",
      "Epoch 50/100\n",
      "12/12 [==============================] - 0s 3ms/step - loss: 3.6007 - accuracy: 0.6429 - val_loss: 5.5141 - val_accuracy: 0.7368\n",
      "Epoch 51/100\n",
      "12/12 [==============================] - 0s 3ms/step - loss: 3.6003 - accuracy: 0.6429 - val_loss: 5.5141 - val_accuracy: 0.7368\n",
      "Epoch 52/100\n",
      "12/12 [==============================] - 0s 3ms/step - loss: 3.8878 - accuracy: 0.6429 - val_loss: 5.5141 - val_accuracy: 0.7368\n",
      "Epoch 53/100\n",
      "12/12 [==============================] - 0s 3ms/step - loss: 3.8872 - accuracy: 0.6429 - val_loss: 5.5141 - val_accuracy: 0.7368\n",
      "Epoch 54/100\n",
      "12/12 [==============================] - 0s 3ms/step - loss: 3.8871 - accuracy: 0.6429 - val_loss: 5.5141 - val_accuracy: 0.7368\n",
      "Epoch 55/100\n",
      "12/12 [==============================] - 0s 2ms/step - loss: 3.8869 - accuracy: 0.6429 - val_loss: 5.5141 - val_accuracy: 0.7368\n",
      "Epoch 56/100\n",
      "12/12 [==============================] - 0s 3ms/step - loss: 3.8868 - accuracy: 0.6429 - val_loss: 5.5141 - val_accuracy: 0.7368\n",
      "Epoch 57/100\n",
      "12/12 [==============================] - 0s 3ms/step - loss: 3.8866 - accuracy: 0.6429 - val_loss: 5.5141 - val_accuracy: 0.7368\n",
      "Epoch 58/100\n",
      "12/12 [==============================] - 0s 3ms/step - loss: 3.8895 - accuracy: 0.6429 - val_loss: 5.5221 - val_accuracy: 0.7368\n",
      "Epoch 59/100\n",
      "12/12 [==============================] - 0s 3ms/step - loss: 4.6133 - accuracy: 0.6429 - val_loss: 5.5430 - val_accuracy: 0.7368\n",
      "Epoch 60/100\n",
      "12/12 [==============================] - 0s 3ms/step - loss: 4.6168 - accuracy: 0.6429 - val_loss: 5.5450 - val_accuracy: 0.7368\n",
      "Epoch 61/100\n",
      "12/12 [==============================] - 0s 2ms/step - loss: 4.6154 - accuracy: 0.6429 - val_loss: 5.5385 - val_accuracy: 0.7368\n",
      "Epoch 62/100\n",
      "12/12 [==============================] - 0s 3ms/step - loss: 4.6127 - accuracy: 0.6429 - val_loss: 5.5345 - val_accuracy: 0.7368\n",
      "Epoch 63/100\n",
      "12/12 [==============================] - 0s 3ms/step - loss: 4.6105 - accuracy: 0.6429 - val_loss: 5.5295 - val_accuracy: 0.7368\n",
      "Epoch 64/100\n",
      "12/12 [==============================] - 0s 3ms/step - loss: 4.6089 - accuracy: 0.6429 - val_loss: 5.5261 - val_accuracy: 0.7368\n",
      "Epoch 65/100\n",
      "12/12 [==============================] - 0s 3ms/step - loss: 4.4642 - accuracy: 0.6429 - val_loss: 5.5234 - val_accuracy: 0.7368\n",
      "Epoch 66/100\n",
      "12/12 [==============================] - 0s 3ms/step - loss: 4.4633 - accuracy: 0.6429 - val_loss: 5.5217 - val_accuracy: 0.7368\n",
      "Epoch 67/100\n",
      "12/12 [==============================] - 0s 3ms/step - loss: 4.4630 - accuracy: 0.6429 - val_loss: 5.5203 - val_accuracy: 0.7368\n",
      "Epoch 68/100\n",
      "12/12 [==============================] - 0s 3ms/step - loss: 4.4626 - accuracy: 0.6429 - val_loss: 5.5189 - val_accuracy: 0.7368\n",
      "Epoch 69/100\n",
      "12/12 [==============================] - 0s 3ms/step - loss: 4.4622 - accuracy: 0.6429 - val_loss: 5.5175 - val_accuracy: 0.7368\n",
      "Epoch 70/100\n",
      "12/12 [==============================] - 0s 2ms/step - loss: 4.4618 - accuracy: 0.6429 - val_loss: 5.5164 - val_accuracy: 0.7368\n",
      "Epoch 71/100\n",
      "12/12 [==============================] - 0s 3ms/step - loss: 4.4615 - accuracy: 0.6429 - val_loss: 5.5149 - val_accuracy: 0.7368\n",
      "Epoch 72/100\n",
      "12/12 [==============================] - 0s 3ms/step - loss: 4.4613 - accuracy: 0.6429 - val_loss: 5.5144 - val_accuracy: 0.7368\n",
      "Epoch 73/100\n",
      "12/12 [==============================] - 0s 3ms/step - loss: 4.4613 - accuracy: 0.6429 - val_loss: 5.5143 - val_accuracy: 0.7368\n",
      "Epoch 74/100\n",
      "12/12 [==============================] - 0s 3ms/step - loss: 4.4613 - accuracy: 0.6429 - val_loss: 5.5143 - val_accuracy: 0.7368\n",
      "Epoch 75/100\n",
      "12/12 [==============================] - 0s 3ms/step - loss: 4.4613 - accuracy: 0.6429 - val_loss: 5.5142 - val_accuracy: 0.7368\n",
      "Epoch 76/100\n",
      "12/12 [==============================] - 0s 3ms/step - loss: 4.4613 - accuracy: 0.6429 - val_loss: 5.5142 - val_accuracy: 0.7368\n",
      "Epoch 77/100\n",
      "12/12 [==============================] - 0s 3ms/step - loss: 4.4613 - accuracy: 0.6429 - val_loss: 5.5142 - val_accuracy: 0.7368\n",
      "Epoch 78/100\n",
      "12/12 [==============================] - 0s 3ms/step - loss: 4.4613 - accuracy: 0.6429 - val_loss: 5.5142 - val_accuracy: 0.7368\n",
      "Epoch 79/100\n",
      "12/12 [==============================] - 0s 3ms/step - loss: 4.4613 - accuracy: 0.6429 - val_loss: 5.5142 - val_accuracy: 0.7368\n",
      "Epoch 80/100\n",
      "12/12 [==============================] - 0s 3ms/step - loss: 4.4613 - accuracy: 0.6429 - val_loss: 5.5142 - val_accuracy: 0.7368\n",
      "Epoch 81/100\n",
      "12/12 [==============================] - 0s 3ms/step - loss: 4.4613 - accuracy: 0.6429 - val_loss: 5.5142 - val_accuracy: 0.7368\n",
      "Epoch 82/100\n",
      "12/12 [==============================] - 0s 3ms/step - loss: 4.4613 - accuracy: 0.6429 - val_loss: 5.5142 - val_accuracy: 0.7368\n",
      "Epoch 83/100\n",
      "12/12 [==============================] - 0s 3ms/step - loss: 4.4613 - accuracy: 0.6429 - val_loss: 5.5142 - val_accuracy: 0.7368\n",
      "Epoch 84/100\n",
      "12/12 [==============================] - 0s 3ms/step - loss: 4.4613 - accuracy: 0.6429 - val_loss: 5.5142 - val_accuracy: 0.7368\n",
      "Epoch 85/100\n",
      "12/12 [==============================] - 0s 3ms/step - loss: 4.4613 - accuracy: 0.6429 - val_loss: 5.5142 - val_accuracy: 0.7368\n",
      "Epoch 86/100\n",
      "12/12 [==============================] - 0s 3ms/step - loss: 4.4613 - accuracy: 0.6429 - val_loss: 5.5142 - val_accuracy: 0.7368\n",
      "Epoch 87/100\n",
      "12/12 [==============================] - 0s 3ms/step - loss: 4.4613 - accuracy: 0.6429 - val_loss: 5.5142 - val_accuracy: 0.7368\n",
      "Epoch 88/100\n",
      "12/12 [==============================] - 0s 3ms/step - loss: 4.4613 - accuracy: 0.6429 - val_loss: 5.5142 - val_accuracy: 0.7368\n",
      "Epoch 89/100\n",
      "12/12 [==============================] - 0s 3ms/step - loss: 4.4613 - accuracy: 0.6429 - val_loss: 5.5142 - val_accuracy: 0.7368\n",
      "Epoch 90/100\n",
      "12/12 [==============================] - 0s 3ms/step - loss: 4.4613 - accuracy: 0.6429 - val_loss: 5.5142 - val_accuracy: 0.7368\n",
      "Epoch 91/100\n",
      "12/12 [==============================] - 0s 3ms/step - loss: 4.4613 - accuracy: 0.6429 - val_loss: 5.5142 - val_accuracy: 0.7368\n",
      "Epoch 92/100\n",
      "12/12 [==============================] - 0s 3ms/step - loss: 4.4613 - accuracy: 0.6429 - val_loss: 5.5142 - val_accuracy: 0.7368\n",
      "Epoch 93/100\n",
      "12/12 [==============================] - 0s 3ms/step - loss: 4.4613 - accuracy: 0.6429 - val_loss: 5.5142 - val_accuracy: 0.7368\n",
      "Epoch 94/100\n",
      "12/12 [==============================] - 0s 3ms/step - loss: 4.4613 - accuracy: 0.6429 - val_loss: 5.5142 - val_accuracy: 0.7368\n",
      "Epoch 95/100\n",
      "12/12 [==============================] - 0s 3ms/step - loss: 4.4613 - accuracy: 0.6429 - val_loss: 5.5142 - val_accuracy: 0.7368\n",
      "Epoch 96/100\n",
      "12/12 [==============================] - 0s 3ms/step - loss: 4.4613 - accuracy: 0.6429 - val_loss: 5.5142 - val_accuracy: 0.7368\n",
      "Epoch 97/100\n",
      "12/12 [==============================] - 0s 3ms/step - loss: 4.4613 - accuracy: 0.6429 - val_loss: 5.5142 - val_accuracy: 0.7368\n",
      "Epoch 98/100\n",
      "12/12 [==============================] - 0s 3ms/step - loss: 4.4613 - accuracy: 0.6429 - val_loss: 5.5142 - val_accuracy: 0.7368\n",
      "Epoch 99/100\n",
      "12/12 [==============================] - 0s 3ms/step - loss: 4.4613 - accuracy: 0.6429 - val_loss: 5.5142 - val_accuracy: 0.7368\n",
      "Epoch 100/100\n",
      "12/12 [==============================] - 0s 3ms/step - loss: 4.4613 - accuracy: 0.6429 - val_loss: 5.5142 - val_accuracy: 0.7368\n"
     ]
    }
   ],
   "source": [
    "history = model.fit(x_train, y_train,\n",
    "                    batch_size=10,\n",
    "                    epochs=100,\n",
    "                    verbose=1,\n",
    "                    validation_data= (x_test, y_test))\n"
   ]
  },
  {
   "cell_type": "code",
   "execution_count": 42,
   "metadata": {},
   "outputs": [
    {
     "name": "stdout",
     "output_type": "stream",
     "text": [
      "train loss\n"
     ]
    },
    {
     "data": {
      "image/png": "[encoded data removed]",
      "text/plain": [
       "<Figure size 432x288 with 1 Axes>"
      ]
     },
     "metadata": {
      "needs_background": "light"
     },
     "output_type": "display_data"
    },
    {
     "name": "stdout",
     "output_type": "stream",
     "text": [
      "val loss\n"
     ]
    },
    {
     "data": {
      "image/png": "[encoded data removed]",
      "text/plain": [
       "<Figure size 432x288 with 1 Axes>"
      ]
     },
     "metadata": {
      "needs_background": "light"
     },
     "output_type": "display_data"
    }
   ],
   "source": [
    "import seaborn as sns\n",
    "import matplotlib.pyplot as plt\n",
    "# loss\n",
    "print('train loss')\n",
    "sns.lineplot(data = history.history['loss'])\n",
    "sns.lineplot(data = history.history['accuracy'])\n",
    "\n",
    "plt.show()\n",
    "print('val loss')\n",
    "sns.lineplot(data = history.history['val_loss'])\n",
    "sns.lineplot(data = history.history['val_accuracy'])\n",
    "plt.show()"
   ]
  },
  {
   "cell_type": "markdown",
   "metadata": {},
   "source": [
    "# Problem 5 - Learning House Prices with Keras"
   ]
  },
  {
   "cell_type": "code",
   "execution_count": 43,
   "metadata": {},
   "outputs": [
    {
     "data": {
      "text/html": [
       "<div>\n",
       "<style scoped>\n",
       "    .dataframe tbody tr th:only-of-type {\n",
       "        vertical-align: middle;\n",
       "    }\n",
       "\n",
       "    .dataframe tbody tr th {\n",
       "        vertical-align: top;\n",
       "    }\n",
       "\n",
       "    .dataframe thead th {\n",
       "        text-align: right;\n",
       "    }\n",
       "</style>\n",
       "<table border=\"1\" class=\"dataframe\">\n",
       "  <thead>\n",
       "    <tr style=\"text-align: right;\">\n",
       "      <th></th>\n",
       "      <th>Id</th>\n",
       "      <th>MSSubClass</th>\n",
       "      <th>MSZoning</th>\n",
       "      <th>LotFrontage</th>\n",
       "      <th>LotArea</th>\n",
       "      <th>Street</th>\n",
       "      <th>Alley</th>\n",
       "      <th>LotShape</th>\n",
       "      <th>LandContour</th>\n",
       "      <th>Utilities</th>\n",
       "      <th>...</th>\n",
       "      <th>PoolArea</th>\n",
       "      <th>PoolQC</th>\n",
       "      <th>Fence</th>\n",
       "      <th>MiscFeature</th>\n",
       "      <th>MiscVal</th>\n",
       "      <th>MoSold</th>\n",
       "      <th>YrSold</th>\n",
       "      <th>SaleType</th>\n",
       "      <th>SaleCondition</th>\n",
       "      <th>SalePrice</th>\n",
       "    </tr>\n",
       "  </thead>\n",
       "  <tbody>\n",
       "    <tr>\n",
       "      <th>0</th>\n",
       "      <td>1</td>\n",
       "      <td>60</td>\n",
       "      <td>RL</td>\n",
       "      <td>65.0</td>\n",
       "      <td>8450</td>\n",
       "      <td>Pave</td>\n",
       "      <td>NaN</td>\n",
       "      <td>Reg</td>\n",
       "      <td>Lvl</td>\n",
       "      <td>AllPub</td>\n",
       "      <td>...</td>\n",
       "      <td>0</td>\n",
       "      <td>NaN</td>\n",
       "      <td>NaN</td>\n",
       "      <td>NaN</td>\n",
       "      <td>0</td>\n",
       "      <td>2</td>\n",
       "      <td>2008</td>\n",
       "      <td>WD</td>\n",
       "      <td>Normal</td>\n",
       "      <td>208500</td>\n",
       "    </tr>\n",
       "    <tr>\n",
       "      <th>1</th>\n",
       "      <td>2</td>\n",
       "      <td>20</td>\n",
       "      <td>RL</td>\n",
       "      <td>80.0</td>\n",
       "      <td>9600</td>\n",
       "      <td>Pave</td>\n",
       "      <td>NaN</td>\n",
       "      <td>Reg</td>\n",
       "      <td>Lvl</td>\n",
       "      <td>AllPub</td>\n",
       "      <td>...</td>\n",
       "      <td>0</td>\n",
       "      <td>NaN</td>\n",
       "      <td>NaN</td>\n",
       "      <td>NaN</td>\n",
       "      <td>0</td>\n",
       "      <td>5</td>\n",
       "      <td>2007</td>\n",
       "      <td>WD</td>\n",
       "      <td>Normal</td>\n",
       "      <td>181500</td>\n",
       "    </tr>\n",
       "    <tr>\n",
       "      <th>2</th>\n",
       "      <td>3</td>\n",
       "      <td>60</td>\n",
       "      <td>RL</td>\n",
       "      <td>68.0</td>\n",
       "      <td>11250</td>\n",
       "      <td>Pave</td>\n",
       "      <td>NaN</td>\n",
       "      <td>IR1</td>\n",
       "      <td>Lvl</td>\n",
       "      <td>AllPub</td>\n",
       "      <td>...</td>\n",
       "      <td>0</td>\n",
       "      <td>NaN</td>\n",
       "      <td>NaN</td>\n",
       "      <td>NaN</td>\n",
       "      <td>0</td>\n",
       "      <td>9</td>\n",
       "      <td>2008</td>\n",
       "      <td>WD</td>\n",
       "      <td>Normal</td>\n",
       "      <td>223500</td>\n",
       "    </tr>\n",
       "    <tr>\n",
       "      <th>3</th>\n",
       "      <td>4</td>\n",
       "      <td>70</td>\n",
       "      <td>RL</td>\n",
       "      <td>60.0</td>\n",
       "      <td>9550</td>\n",
       "      <td>Pave</td>\n",
       "      <td>NaN</td>\n",
       "      <td>IR1</td>\n",
       "      <td>Lvl</td>\n",
       "      <td>AllPub</td>\n",
       "      <td>...</td>\n",
       "      <td>0</td>\n",
       "      <td>NaN</td>\n",
       "      <td>NaN</td>\n",
       "      <td>NaN</td>\n",
       "      <td>0</td>\n",
       "      <td>2</td>\n",
       "      <td>2006</td>\n",
       "      <td>WD</td>\n",
       "      <td>Abnorml</td>\n",
       "      <td>140000</td>\n",
       "    </tr>\n",
       "    <tr>\n",
       "      <th>4</th>\n",
       "      <td>5</td>\n",
       "      <td>60</td>\n",
       "      <td>RL</td>\n",
       "      <td>84.0</td>\n",
       "      <td>14260</td>\n",
       "      <td>Pave</td>\n",
       "      <td>NaN</td>\n",
       "      <td>IR1</td>\n",
       "      <td>Lvl</td>\n",
       "      <td>AllPub</td>\n",
       "      <td>...</td>\n",
       "      <td>0</td>\n",
       "      <td>NaN</td>\n",
       "      <td>NaN</td>\n",
       "      <td>NaN</td>\n",
       "      <td>0</td>\n",
       "      <td>12</td>\n",
       "      <td>2008</td>\n",
       "      <td>WD</td>\n",
       "      <td>Normal</td>\n",
       "      <td>250000</td>\n",
       "    </tr>\n",
       "  </tbody>\n",
       "</table>\n",
       "<p>5 rows × 81 columns</p>\n",
       "</div>"
      ],
      "text/plain": [
       "   Id  MSSubClass MSZoning  LotFrontage  LotArea Street Alley LotShape  \\\n",
       "0   1          60       RL         65.0     8450   Pave   NaN      Reg   \n",
       "1   2          20       RL         80.0     9600   Pave   NaN      Reg   \n",
       "2   3          60       RL         68.0    11250   Pave   NaN      IR1   \n",
       "3   4          70       RL         60.0     9550   Pave   NaN      IR1   \n",
       "4   5          60       RL         84.0    14260   Pave   NaN      IR1   \n",
       "\n",
       "  LandContour Utilities  ... PoolArea PoolQC Fence MiscFeature MiscVal MoSold  \\\n",
       "0         Lvl    AllPub  ...        0    NaN   NaN         NaN       0      2   \n",
       "1         Lvl    AllPub  ...        0    NaN   NaN         NaN       0      5   \n",
       "2         Lvl    AllPub  ...        0    NaN   NaN         NaN       0      9   \n",
       "3         Lvl    AllPub  ...        0    NaN   NaN         NaN       0      2   \n",
       "4         Lvl    AllPub  ...        0    NaN   NaN         NaN       0     12   \n",
       "\n",
       "  YrSold  SaleType  SaleCondition  SalePrice  \n",
       "0   2008        WD         Normal     208500  \n",
       "1   2007        WD         Normal     181500  \n",
       "2   2008        WD         Normal     223500  \n",
       "3   2006        WD        Abnorml     140000  \n",
       "4   2008        WD         Normal     250000  \n",
       "\n",
       "[5 rows x 81 columns]"
      ]
     },
     "execution_count": 43,
     "metadata": {},
     "output_type": "execute_result"
    }
   ],
   "source": [
    "# data set\n",
    "house_price_pd = pd.read_csv('./houseprice_train.csv')\n",
    "house_price_pd.head()"
   ]
  },
  {
   "cell_type": "code",
   "execution_count": 44,
   "metadata": {},
   "outputs": [
    {
     "name": "stdout",
     "output_type": "stream",
     "text": [
      "selected:  (1460, 3) Index(['GrLivArea', 'YearBuilt', 'SalePrice'], dtype='object')\n",
      "   GrLivArea  YearBuilt  SalePrice\n",
      "0       1710       2003     208500\n",
      "1       1262       1976     181500\n",
      "2       1786       2001     223500\n",
      "3       1717       1915     140000\n",
      "4       2198       2000     250000\n"
     ]
    }
   ],
   "source": [
    "# selection\n",
    "selected = house_price_pd[['GrLivArea', 'YearBuilt','SalePrice']]\n",
    "print('selected: ', selected.shape, selected.columns)\n",
    "print(selected.head())"
   ]
  },
  {
   "cell_type": "code",
   "execution_count": 45,
   "metadata": {},
   "outputs": [
    {
     "name": "stdout",
     "output_type": "stream",
     "text": [
      "GrLivArea    0\n",
      "YearBuilt    0\n",
      "SalePrice    0\n",
      "dtype: int64\n"
     ]
    }
   ],
   "source": [
    "# check nan\n",
    "print(selected.isna().sum(axis = 0))"
   ]
  },
  {
   "cell_type": "code",
   "execution_count": 46,
   "metadata": {},
   "outputs": [
    {
     "name": "stdout",
     "output_type": "stream",
     "text": [
      "                    mean           std\n",
      "GrLivArea    1515.463699    525.480383\n",
      "YearBuilt    1971.267808     30.202904\n",
      "SalePrice  180921.195890  79442.502883\n",
      "        mean       std\n",
      "0   7.268512  0.333303\n",
      "1   7.586821  0.015389\n",
      "2  12.024057  0.399449\n",
      "(1460, 2) [[7.44483327 7.60290046]\n",
      " [7.14124512 7.58933582]\n",
      " [7.48829352 7.60190196]]\n",
      "(1460, 1) [[12.24769912]\n",
      " [12.10901644]\n",
      " [12.31717117]]\n"
     ]
    }
   ],
   "source": [
    "# normalize\n",
    "print(selected.describe().transpose()[['mean', 'std']])\n",
    "\n",
    "import numpy as np\n",
    "from sklearn.preprocessing import FunctionTransformer\n",
    "transformer = FunctionTransformer(np.log1p, validate=True)\n",
    "scaled = transformer.fit_transform(selected)\n",
    "print(pd.DataFrame(scaled).describe().transpose()[['mean', 'std']])\n",
    "\n",
    "explainatory = scaled[:,:-1]\n",
    "objective = scaled[:,-1].reshape(-1,1)\n",
    "print(explainatory.shape, explainatory[:3])\n",
    "print(objective.shape, objective[:3])"
   ]
  },
  {
   "cell_type": "code",
   "execution_count": 47,
   "metadata": {},
   "outputs": [
    {
     "name": "stdout",
     "output_type": "stream",
     "text": [
      "train shape:  [(1168, 2), (292, 2), (1168, 1), (292, 1)]\n"
     ]
    }
   ],
   "source": [
    "# train test split\n",
    "from sklearn.model_selection import train_test_split\n",
    "X_train, X_val, y_train, y_val = train_test_split(explainatory, objective, train_size = 0.8)\n",
    "print('train shape: ', [i.shape for i in [X_train, X_val, y_train, y_val]])"
   ]
  },
  {
   "cell_type": "code",
   "execution_count": 48,
   "metadata": {},
   "outputs": [
    {
     "name": "stdout",
     "output_type": "stream",
     "text": [
      "Model: \"sequential_4\"\n",
      "_________________________________________________________________\n",
      " Layer (type)                Output Shape              Param #   \n",
      "=================================================================\n",
      " dense (Dense)               (1168, 1)                 3         \n",
      "                                                                 \n",
      "=================================================================\n",
      "Total params: 3\n",
      "Trainable params: 3\n",
      "Non-trainable params: 0\n",
      "_________________________________________________________________\n"
     ]
    }
   ],
   "source": [
    "# linear regression model\n",
    "model = keras.Sequential(\n",
    "  [\n",
    "    layers.Dense(1)\n",
    "  ]\n",
    ")\n",
    "\n",
    "model.build(X_train.shape)\n",
    "model.summary()"
   ]
  },
  {
   "cell_type": "code",
   "execution_count": 49,
   "metadata": {},
   "outputs": [],
   "source": [
    "model.compile(\n",
    "    optimizer='adam',\n",
    "    loss='mean_absolute_error')"
   ]
  },
  {
   "cell_type": "code",
   "execution_count": 50,
   "metadata": {},
   "outputs": [
    {
     "name": "stdout",
     "output_type": "stream",
     "text": [
      "Epoch 1/100\n",
      "117/117 [==============================] - 0s 1ms/step - loss: 18.9128 - val_loss: 17.9673\n",
      "Epoch 2/100\n",
      "117/117 [==============================] - 0s 1ms/step - loss: 17.0577 - val_loss: 16.1133\n",
      "Epoch 3/100\n",
      "117/117 [==============================] - 0s 965us/step - loss: 15.2026 - val_loss: 14.2594\n",
      "Epoch 4/100\n",
      "117/117 [==============================] - 0s 977us/step - loss: 13.3475 - val_loss: 12.4052\n",
      "Epoch 5/100\n",
      "117/117 [==============================] - 0s 943us/step - loss: 11.4923 - val_loss: 10.5514\n",
      "Epoch 6/100\n",
      "117/117 [==============================] - 0s 937us/step - loss: 9.6370 - val_loss: 8.6973\n",
      "Epoch 7/100\n",
      "117/117 [==============================] - 0s 1000us/step - loss: 7.7818 - val_loss: 6.8428\n",
      "Epoch 8/100\n",
      "117/117 [==============================] - 0s 770us/step - loss: 5.9266 - val_loss: 4.9889\n",
      "Epoch 9/100\n",
      "117/117 [==============================] - 0s 854us/step - loss: 4.0714 - val_loss: 3.1346\n",
      "Epoch 10/100\n",
      "117/117 [==============================] - 0s 961us/step - loss: 2.2161 - val_loss: 1.2806\n",
      "Epoch 11/100\n",
      "117/117 [==============================] - 0s 785us/step - loss: 0.5339 - val_loss: 0.1910\n",
      "Epoch 12/100\n",
      "117/117 [==============================] - 0s 795us/step - loss: 0.2016 - val_loss: 0.1918\n",
      "Epoch 13/100\n",
      "117/117 [==============================] - 0s 791us/step - loss: 0.2026 - val_loss: 0.1912\n",
      "Epoch 14/100\n",
      "117/117 [==============================] - 0s 773us/step - loss: 0.2020 - val_loss: 0.1910\n",
      "Epoch 15/100\n",
      "117/117 [==============================] - 0s 957us/step - loss: 0.2015 - val_loss: 0.1913\n",
      "Epoch 16/100\n",
      "117/117 [==============================] - 0s 782us/step - loss: 0.2014 - val_loss: 0.1900\n",
      "Epoch 17/100\n",
      "117/117 [==============================] - 0s 785us/step - loss: 0.2012 - val_loss: 0.1900\n",
      "Epoch 18/100\n",
      "117/117 [==============================] - 0s 1ms/step - loss: 0.2016 - val_loss: 0.1900\n",
      "Epoch 19/100\n",
      "117/117 [==============================] - 0s 1ms/step - loss: 0.2018 - val_loss: 0.1904\n",
      "Epoch 20/100\n",
      "117/117 [==============================] - 0s 1ms/step - loss: 0.2017 - val_loss: 0.1936\n",
      "Epoch 21/100\n",
      "117/117 [==============================] - 0s 1ms/step - loss: 0.2016 - val_loss: 0.1903\n",
      "Epoch 22/100\n",
      "117/117 [==============================] - 0s 875us/step - loss: 0.2016 - val_loss: 0.1912\n",
      "Epoch 23/100\n",
      "117/117 [==============================] - 0s 854us/step - loss: 0.2025 - val_loss: 0.1905\n",
      "Epoch 24/100\n",
      "117/117 [==============================] - 0s 871us/step - loss: 0.2024 - val_loss: 0.1900\n",
      "Epoch 25/100\n",
      "117/117 [==============================] - 0s 1ms/step - loss: 0.2026 - val_loss: 0.1900\n",
      "Epoch 26/100\n",
      "117/117 [==============================] - 0s 946us/step - loss: 0.2019 - val_loss: 0.1900\n",
      "Epoch 27/100\n",
      "117/117 [==============================] - 0s 939us/step - loss: 0.2019 - val_loss: 0.1905\n",
      "Epoch 28/100\n",
      "117/117 [==============================] - 0s 1ms/step - loss: 0.2026 - val_loss: 0.1903\n",
      "Epoch 29/100\n",
      "117/117 [==============================] - 0s 871us/step - loss: 0.2012 - val_loss: 0.1910\n",
      "Epoch 30/100\n",
      "117/117 [==============================] - 0s 865us/step - loss: 0.2020 - val_loss: 0.1900\n",
      "Epoch 31/100\n",
      "117/117 [==============================] - 0s 1ms/step - loss: 0.2020 - val_loss: 0.1902\n",
      "Epoch 32/100\n",
      "117/117 [==============================] - 0s 912us/step - loss: 0.2034 - val_loss: 0.1963\n",
      "Epoch 33/100\n",
      "117/117 [==============================] - 0s 778us/step - loss: 0.2019 - val_loss: 0.1903\n",
      "Epoch 34/100\n",
      "117/117 [==============================] - 0s 973us/step - loss: 0.2019 - val_loss: 0.1904\n",
      "Epoch 35/100\n",
      "117/117 [==============================] - 0s 1ms/step - loss: 0.2035 - val_loss: 0.1916\n",
      "Epoch 36/100\n",
      "117/117 [==============================] - 0s 780us/step - loss: 0.2021 - val_loss: 0.1939\n",
      "Epoch 37/100\n",
      "117/117 [==============================] - 0s 773us/step - loss: 0.2016 - val_loss: 0.1927\n",
      "Epoch 38/100\n",
      "117/117 [==============================] - 0s 949us/step - loss: 0.2017 - val_loss: 0.1902\n",
      "Epoch 39/100\n",
      "117/117 [==============================] - 0s 898us/step - loss: 0.2022 - val_loss: 0.1931\n",
      "Epoch 40/100\n",
      "117/117 [==============================] - 0s 793us/step - loss: 0.2030 - val_loss: 0.1909\n",
      "Epoch 41/100\n",
      "117/117 [==============================] - 0s 956us/step - loss: 0.2022 - val_loss: 0.1901\n",
      "Epoch 42/100\n",
      "117/117 [==============================] - 0s 886us/step - loss: 0.2021 - val_loss: 0.1910\n",
      "Epoch 43/100\n",
      "117/117 [==============================] - 0s 849us/step - loss: 0.2025 - val_loss: 0.1909\n",
      "Epoch 44/100\n",
      "117/117 [==============================] - 0s 825us/step - loss: 0.2020 - val_loss: 0.1900\n",
      "Epoch 45/100\n",
      "117/117 [==============================] - 0s 794us/step - loss: 0.2027 - val_loss: 0.1916\n",
      "Epoch 46/100\n",
      "117/117 [==============================] - 0s 934us/step - loss: 0.2024 - val_loss: 0.1910\n",
      "Epoch 47/100\n",
      "117/117 [==============================] - 0s 839us/step - loss: 0.2027 - val_loss: 0.1933\n",
      "Epoch 48/100\n",
      "117/117 [==============================] - 0s 977us/step - loss: 0.2032 - val_loss: 0.1899\n",
      "Epoch 49/100\n",
      "117/117 [==============================] - 0s 847us/step - loss: 0.2027 - val_loss: 0.1906\n",
      "Epoch 50/100\n",
      "117/117 [==============================] - 0s 812us/step - loss: 0.2022 - val_loss: 0.1900\n",
      "Epoch 51/100\n",
      "117/117 [==============================] - 0s 807us/step - loss: 0.2024 - val_loss: 0.1900\n",
      "Epoch 52/100\n",
      "117/117 [==============================] - 0s 813us/step - loss: 0.2028 - val_loss: 0.1900\n",
      "Epoch 53/100\n",
      "117/117 [==============================] - 0s 798us/step - loss: 0.2017 - val_loss: 0.1912\n",
      "Epoch 54/100\n",
      "117/117 [==============================] - 0s 779us/step - loss: 0.2029 - val_loss: 0.1900\n",
      "Epoch 55/100\n",
      "117/117 [==============================] - 0s 796us/step - loss: 0.2026 - val_loss: 0.1914\n",
      "Epoch 56/100\n",
      "117/117 [==============================] - 0s 833us/step - loss: 0.2029 - val_loss: 0.1899\n",
      "Epoch 57/100\n",
      "117/117 [==============================] - 0s 792us/step - loss: 0.2019 - val_loss: 0.1902\n",
      "Epoch 58/100\n",
      "117/117 [==============================] - 0s 804us/step - loss: 0.2019 - val_loss: 0.1906\n",
      "Epoch 59/100\n",
      "117/117 [==============================] - 0s 770us/step - loss: 0.2016 - val_loss: 0.1900\n",
      "Epoch 60/100\n",
      "117/117 [==============================] - 0s 774us/step - loss: 0.2023 - val_loss: 0.1911\n",
      "Epoch 61/100\n",
      "117/117 [==============================] - 0s 785us/step - loss: 0.2026 - val_loss: 0.1938\n",
      "Epoch 62/100\n",
      "117/117 [==============================] - 0s 748us/step - loss: 0.2027 - val_loss: 0.1905\n",
      "Epoch 63/100\n",
      "117/117 [==============================] - 0s 829us/step - loss: 0.2017 - val_loss: 0.1931\n",
      "Epoch 64/100\n",
      "117/117 [==============================] - 0s 781us/step - loss: 0.2033 - val_loss: 0.1912\n",
      "Epoch 65/100\n",
      "117/117 [==============================] - 0s 791us/step - loss: 0.2027 - val_loss: 0.1902\n",
      "Epoch 66/100\n",
      "117/117 [==============================] - 0s 793us/step - loss: 0.2024 - val_loss: 0.1901\n",
      "Epoch 67/100\n",
      "117/117 [==============================] - 0s 853us/step - loss: 0.2020 - val_loss: 0.1899\n",
      "Epoch 68/100\n",
      "117/117 [==============================] - 0s 789us/step - loss: 0.2019 - val_loss: 0.1906\n",
      "Epoch 69/100\n",
      "117/117 [==============================] - 0s 834us/step - loss: 0.2026 - val_loss: 0.1903\n",
      "Epoch 70/100\n",
      "117/117 [==============================] - 0s 819us/step - loss: 0.2021 - val_loss: 0.1970\n",
      "Epoch 71/100\n",
      "117/117 [==============================] - 0s 793us/step - loss: 0.2026 - val_loss: 0.1909\n",
      "Epoch 72/100\n",
      "117/117 [==============================] - 0s 988us/step - loss: 0.2020 - val_loss: 0.1913\n",
      "Epoch 73/100\n",
      "117/117 [==============================] - 0s 772us/step - loss: 0.2023 - val_loss: 0.1900\n",
      "Epoch 74/100\n",
      "117/117 [==============================] - 0s 778us/step - loss: 0.2021 - val_loss: 0.1945\n",
      "Epoch 75/100\n",
      "117/117 [==============================] - 0s 812us/step - loss: 0.2033 - val_loss: 0.1901\n",
      "Epoch 76/100\n",
      "117/117 [==============================] - 0s 771us/step - loss: 0.2019 - val_loss: 0.1914\n",
      "Epoch 77/100\n",
      "117/117 [==============================] - 0s 771us/step - loss: 0.2023 - val_loss: 0.1912\n",
      "Epoch 78/100\n",
      "117/117 [==============================] - 0s 769us/step - loss: 0.2021 - val_loss: 0.1902\n",
      "Epoch 79/100\n",
      "117/117 [==============================] - 0s 976us/step - loss: 0.2020 - val_loss: 0.1902\n",
      "Epoch 80/100\n",
      "117/117 [==============================] - 0s 934us/step - loss: 0.2030 - val_loss: 0.1899\n",
      "Epoch 81/100\n",
      "117/117 [==============================] - 0s 784us/step - loss: 0.2023 - val_loss: 0.1909\n",
      "Epoch 82/100\n",
      "117/117 [==============================] - 0s 858us/step - loss: 0.2021 - val_loss: 0.1954\n",
      "Epoch 83/100\n",
      "117/117 [==============================] - 0s 1ms/step - loss: 0.2025 - val_loss: 0.1916\n",
      "Epoch 84/100\n",
      "117/117 [==============================] - 0s 811us/step - loss: 0.2015 - val_loss: 0.1899\n",
      "Epoch 85/100\n",
      "117/117 [==============================] - 0s 837us/step - loss: 0.2032 - val_loss: 0.1899\n",
      "Epoch 86/100\n",
      "117/117 [==============================] - 0s 775us/step - loss: 0.2031 - val_loss: 0.1902\n",
      "Epoch 87/100\n",
      "117/117 [==============================] - 0s 889us/step - loss: 0.2026 - val_loss: 0.1923\n",
      "Epoch 88/100\n",
      "117/117 [==============================] - 0s 868us/step - loss: 0.2026 - val_loss: 0.1914\n",
      "Epoch 89/100\n",
      "117/117 [==============================] - 0s 778us/step - loss: 0.2021 - val_loss: 0.1985\n",
      "Epoch 90/100\n",
      "117/117 [==============================] - 0s 894us/step - loss: 0.2028 - val_loss: 0.1977\n",
      "Epoch 91/100\n",
      "117/117 [==============================] - 0s 841us/step - loss: 0.2037 - val_loss: 0.1902\n",
      "Epoch 92/100\n",
      "117/117 [==============================] - 0s 1ms/step - loss: 0.2016 - val_loss: 0.1975\n",
      "Epoch 93/100\n",
      "117/117 [==============================] - 0s 813us/step - loss: 0.2024 - val_loss: 0.1899\n",
      "Epoch 94/100\n",
      "117/117 [==============================] - 0s 783us/step - loss: 0.2018 - val_loss: 0.1899\n",
      "Epoch 95/100\n",
      "117/117 [==============================] - 0s 1ms/step - loss: 0.2013 - val_loss: 0.1927\n",
      "Epoch 96/100\n",
      "117/117 [==============================] - 0s 797us/step - loss: 0.2022 - val_loss: 0.1982\n",
      "Epoch 97/100\n",
      "117/117 [==============================] - 0s 792us/step - loss: 0.2025 - val_loss: 0.1916\n",
      "Epoch 98/100\n",
      "117/117 [==============================] - 0s 823us/step - loss: 0.2027 - val_loss: 0.1915\n",
      "Epoch 99/100\n",
      "117/117 [==============================] - 0s 1ms/step - loss: 0.2019 - val_loss: 0.1925\n",
      "Epoch 100/100\n",
      "117/117 [==============================] - 0s 781us/step - loss: 0.2021 - val_loss: 0.1900\n"
     ]
    }
   ],
   "source": [
    "history = model.fit(X_train, y_train,\n",
    "                    batch_size=10,\n",
    "                    epochs=100,\n",
    "                    verbose=1,\n",
    "                    validation_data= (X_val, y_val))\n"
   ]
  },
  {
   "cell_type": "code",
   "execution_count": 51,
   "metadata": {},
   "outputs": [
    {
     "name": "stdout",
     "output_type": "stream",
     "text": [
      "train loss\n"
     ]
    },
    {
     "data": {
      "image/png": "[encoded data removed]",
      "text/plain": [
       "<Figure size 432x288 with 1 Axes>"
      ]
     },
     "metadata": {
      "needs_background": "light"
     },
     "output_type": "display_data"
    },
    {
     "name": "stdout",
     "output_type": "stream",
     "text": [
      "val loss\n"
     ]
    },
    {
     "data": {
      "image/png": "[encoded data removed]",
      "text/plain": [
       "<Figure size 432x288 with 1 Axes>"
      ]
     },
     "metadata": {
      "needs_background": "light"
     },
     "output_type": "display_data"
    }
   ],
   "source": [
    "import seaborn as sns\n",
    "import matplotlib.pyplot as plt\n",
    "# loss\n",
    "print('train loss')\n",
    "sns.lineplot(data = history.history['loss'])\n",
    "\n",
    "plt.show()\n",
    "print('val loss')\n",
    "sns.lineplot(data = history.history['val_loss'])\n",
    "plt.show()"
   ]
  },
  {
   "cell_type": "markdown",
   "metadata": {},
   "source": [
    "# Problem 6 - Learning MNIST with Keras"
   ]
  },
  {
   "cell_type": "code",
   "execution_count": 52,
   "metadata": {},
   "outputs": [
    {
     "name": "stdout",
     "output_type": "stream",
     "text": [
      "Shapes:  (60000, 28, 28) (60000,)\n"
     ]
    }
   ],
   "source": [
    "# load dataset\n",
    "number_minist = keras.datasets.mnist\n",
    "(train_images, train_labels), (test_images, test_labels) = number_minist.load_data()\n",
    "print('Shapes: ', train_images.shape, train_labels.shape)"
   ]
  },
  {
   "cell_type": "code",
   "execution_count": 53,
   "metadata": {},
   "outputs": [
    {
     "data": {
      "image/png": "[encoded data removed]",
      "text/plain": [
       "<Figure size 432x288 with 2 Axes>"
      ]
     },
     "metadata": {
      "needs_background": "light"
     },
     "output_type": "display_data"
    }
   ],
   "source": [
    "plt.figure()\n",
    "plt.imshow(train_images[0])\n",
    "plt.colorbar()\n",
    "plt.grid(False)\n",
    "plt.show()"
   ]
  },
  {
   "cell_type": "code",
   "execution_count": 54,
   "metadata": {},
   "outputs": [],
   "source": [
    "train_images = train_images / 255.0\n",
    "\n",
    "test_images = test_images / 255.0"
   ]
  },
  {
   "cell_type": "code",
   "execution_count": 55,
   "metadata": {},
   "outputs": [
    {
     "data": {
      "image/png": "[encoded data removed]",
      "text/plain": [
       "<Figure size 720x720 with 25 Axes>"
      ]
     },
     "metadata": {},
     "output_type": "display_data"
    }
   ],
   "source": [
    "plt.figure(figsize=(10,10))\n",
    "for i in range(25):\n",
    "    plt.subplot(5,5,i+1)\n",
    "    plt.xticks([])\n",
    "    plt.yticks([])\n",
    "    plt.grid(False)\n",
    "    plt.imshow(train_images[i], cmap=plt.cm.binary)\n",
    "plt.show()"
   ]
  },
  {
   "cell_type": "code",
   "execution_count": 56,
   "metadata": {},
   "outputs": [
    {
     "name": "stdout",
     "output_type": "stream",
     "text": [
      "y sample:  [0. 0. 0. 1. 0. 0. 0. 0. 0. 0.]\n",
      "shapes:  [(33750, 28, 28, 1), (11250, 28, 28, 1), (33750, 10), (11250, 10)]\n"
     ]
    }
   ],
   "source": [
    "# Reduce train val size\n",
    "from sklearn.model_selection import train_test_split\n",
    "init_x_train, _, init_y_train, _ = train_test_split(train_images, train_labels)\n",
    "\n",
    "# encode\n",
    "from sklearn.preprocessing import OneHotEncoder\n",
    "enc = OneHotEncoder()\n",
    "y_train = enc.fit_transform(init_y_train.reshape(-1,1)).toarray()\n",
    "print('y sample: ', y_train[0])\n",
    "\n",
    "# Add one dimension as the channel into the dataset\n",
    "x_train = tf.expand_dims(init_x_train, axis = -1).numpy()\n",
    "\n",
    "x_train, x_val, y_train, y_val = train_test_split(x_train, y_train)\n",
    "print('shapes: ', [x.shape for x in [x_train, x_val, y_train, y_val]])"
   ]
  },
  {
   "cell_type": "code",
   "execution_count": 57,
   "metadata": {},
   "outputs": [
    {
     "name": "stdout",
     "output_type": "stream",
     "text": [
      "[<keras.layers.convolutional.Conv2D object at 0x0000025CB9217220>, <keras.layers.convolutional.Conv2D object at 0x0000025CB9217EB0>, <keras.layers.core.flatten.Flatten object at 0x0000025CB92175B0>, <keras.layers.core.dense.Dense object at 0x0000025CB9217BE0>, <keras.layers.core.dense.Dense object at 0x0000025CB47562E0>]\n"
     ]
    }
   ],
   "source": [
    "# a simple model\n",
    "model = keras.Sequential([\n",
    "  keras.layers.Conv2D(3, (3,3), activation = 'relu'),\n",
    "  keras.layers.Conv2D(2, (3,3), activation = 'relu'),\n",
    "  keras.layers.Flatten(),\n",
    "  keras.layers.Dense(20, activation = 'relu'),\n",
    "  keras.layers.Dense(10)\n",
    "])\n",
    "print(model.layers)"
   ]
  },
  {
   "cell_type": "code",
   "execution_count": 58,
   "metadata": {},
   "outputs": [
    {
     "name": "stdout",
     "output_type": "stream",
     "text": [
      "Model: \"sequential_5\"\n",
      "_________________________________________________________________\n",
      " Layer (type)                Output Shape              Param #   \n",
      "=================================================================\n",
      " conv2d (Conv2D)             (33750, 26, 26, 3)        30        \n",
      "                                                                 \n",
      " conv2d_1 (Conv2D)           (33750, 24, 24, 2)        56        \n",
      "                                                                 \n",
      " flatten (Flatten)           (33750, 1152)             0         \n",
      "                                                                 \n",
      " dense_1 (Dense)             (33750, 20)               23060     \n",
      "                                                                 \n",
      " dense_2 (Dense)             (33750, 10)               210       \n",
      "                                                                 \n",
      "=================================================================\n",
      "Total params: 23,356\n",
      "Trainable params: 23,356\n",
      "Non-trainable params: 0\n",
      "_________________________________________________________________\n"
     ]
    }
   ],
   "source": [
    "model.build(input_shape = x_train.shape)\n",
    "model.summary()"
   ]
  },
  {
   "cell_type": "code",
   "execution_count": 59,
   "metadata": {},
   "outputs": [],
   "source": [
    "model.compile(optimizer='adam',\n",
    "              loss=tf.keras.losses.CategoricalCrossentropy(from_logits=True),\n",
    "              metrics=['accuracy'])"
   ]
  },
  {
   "cell_type": "code",
   "execution_count": 60,
   "metadata": {},
   "outputs": [
    {
     "name": "stdout",
     "output_type": "stream",
     "text": [
      "Epoch 1/10\n",
      "1688/1688 [==============================] - 8s 5ms/step - loss: 0.3853 - accuracy: 0.8839 - val_loss: 0.2549 - val_accuracy: 0.9265\n",
      "Epoch 2/10\n",
      "1688/1688 [==============================] - 8s 5ms/step - loss: 0.2093 - accuracy: 0.9389 - val_loss: 0.2193 - val_accuracy: 0.9357\n",
      "Epoch 3/10\n",
      "1688/1688 [==============================] - 8s 5ms/step - loss: 0.1435 - accuracy: 0.9570 - val_loss: 0.1533 - val_accuracy: 0.9556\n",
      "Epoch 4/10\n",
      "1688/1688 [==============================] - 8s 5ms/step - loss: 0.1021 - accuracy: 0.9691 - val_loss: 0.1169 - val_accuracy: 0.9657\n",
      "Epoch 5/10\n",
      "1688/1688 [==============================] - 8s 5ms/step - loss: 0.0816 - accuracy: 0.9739 - val_loss: 0.1125 - val_accuracy: 0.9683\n",
      "Epoch 6/10\n",
      "1688/1688 [==============================] - 8s 5ms/step - loss: 0.0692 - accuracy: 0.9785 - val_loss: 0.1174 - val_accuracy: 0.9661\n",
      "Epoch 7/10\n",
      "1688/1688 [==============================] - 8s 5ms/step - loss: 0.0609 - accuracy: 0.9803 - val_loss: 0.1073 - val_accuracy: 0.9694\n",
      "Epoch 8/10\n",
      "1688/1688 [==============================] - 8s 5ms/step - loss: 0.0519 - accuracy: 0.9831 - val_loss: 0.1071 - val_accuracy: 0.9701\n",
      "Epoch 9/10\n",
      "1688/1688 [==============================] - 8s 5ms/step - loss: 0.0469 - accuracy: 0.9853 - val_loss: 0.1139 - val_accuracy: 0.9690\n",
      "Epoch 10/10\n",
      "1688/1688 [==============================] - 8s 5ms/step - loss: 0.0421 - accuracy: 0.9867 - val_loss: 0.1122 - val_accuracy: 0.9688\n"
     ]
    }
   ],
   "source": [
    "history = model.fit(\n",
    "  x_train,y_train,\n",
    "  validation_data = (x_val,y_val),\n",
    "  epochs = 10,\n",
    "  batch_size = 20,\n",
    ")"
   ]
  },
  {
   "cell_type": "code",
   "execution_count": 61,
   "metadata": {},
   "outputs": [
    {
     "name": "stdout",
     "output_type": "stream",
     "text": [
      "loss\n"
     ]
    },
    {
     "data": {
      "image/png": "[encoded data removed]",
      "text/plain": [
       "<Figure size 432x288 with 1 Axes>"
      ]
     },
     "metadata": {
      "needs_background": "light"
     },
     "output_type": "display_data"
    },
    {
     "name": "stdout",
     "output_type": "stream",
     "text": [
      "accuracy\n"
     ]
    },
    {
     "data": {
      "image/png": "[encoded data removed]",
      "text/plain": [
       "<Figure size 432x288 with 1 Axes>"
      ]
     },
     "metadata": {
      "needs_background": "light"
     },
     "output_type": "display_data"
    }
   ],
   "source": [
    "import seaborn as sns\n",
    "import matplotlib.pyplot as plt\n",
    "# loss\n",
    "print('loss')\n",
    "sns.lineplot(data = history.history['loss'], label = 'train')\n",
    "sns.lineplot(data = history.history['val_loss'], label = 'val')\n",
    "plt.show()\n",
    "print('accuracy')\n",
    "sns.lineplot(data = history.history['accuracy'], label = 'train')\n",
    "sns.lineplot(data = history.history['val_accuracy'], label = 'val')\n",
    "\n",
    "plt.show()"
   ]
  },
  {
   "cell_type": "markdown",
   "metadata": {},
   "source": [
    "# Problem 7 - Rewrite to pytorch"
   ]
  },
  {
   "cell_type": "markdown",
   "metadata": {},
   "source": [
    "## NOTE:\n",
    "**Let's just implement the MINIST Problem to see the difference**"
   ]
  },
  {
   "cell_type": "code",
   "execution_count": 62,
   "metadata": {},
   "outputs": [
    {
     "ename": "ModuleNotFoundError",
     "evalue": "No module named 'torchvision'",
     "output_type": "error",
     "traceback": [
      "\u001b[1;31m---------------------------------------------------------------------------\u001b[0m",
      "\u001b[1;31mModuleNotFoundError\u001b[0m                       Traceback (most recent call last)",
      "\u001b[1;32m~\\AppData\\Local\\Temp/ipykernel_2684/349673178.py\u001b[0m in \u001b[0;36m<module>\u001b[1;34m\u001b[0m\n\u001b[0;32m      2\u001b[0m \u001b[1;32mfrom\u001b[0m \u001b[0mtorch\u001b[0m \u001b[1;32mimport\u001b[0m \u001b[0mnn\u001b[0m\u001b[1;33m\u001b[0m\u001b[1;33m\u001b[0m\u001b[0m\n\u001b[0;32m      3\u001b[0m \u001b[1;32mfrom\u001b[0m \u001b[0mtorch\u001b[0m\u001b[1;33m.\u001b[0m\u001b[0mutils\u001b[0m\u001b[1;33m.\u001b[0m\u001b[0mdata\u001b[0m \u001b[1;32mimport\u001b[0m \u001b[0mDataLoader\u001b[0m\u001b[1;33m\u001b[0m\u001b[1;33m\u001b[0m\u001b[0m\n\u001b[1;32m----> 4\u001b[1;33m \u001b[1;32mfrom\u001b[0m \u001b[0mtorchvision\u001b[0m \u001b[1;32mimport\u001b[0m \u001b[0mdatasets\u001b[0m\u001b[1;33m\u001b[0m\u001b[1;33m\u001b[0m\u001b[0m\n\u001b[0m\u001b[0;32m      5\u001b[0m \u001b[1;32mfrom\u001b[0m \u001b[0mtorchvision\u001b[0m\u001b[1;33m.\u001b[0m\u001b[0mtransforms\u001b[0m \u001b[1;32mimport\u001b[0m \u001b[0mToTensor\u001b[0m\u001b[1;33m,\u001b[0m \u001b[0mLambda\u001b[0m\u001b[1;33m,\u001b[0m \u001b[0mCompose\u001b[0m\u001b[1;33m\u001b[0m\u001b[1;33m\u001b[0m\u001b[0m\n",
      "\u001b[1;31mModuleNotFoundError\u001b[0m: No module named 'torchvision'"
     ]
    }
   ],
   "source": [
    "import torch\n",
    "from torch import nn\n",
    "from torch.utils.data import DataLoader\n",
    "from torchvision import datasets\n",
    "from torchvision.transforms import ToTensor, Lambda, Compose"
   ]
  },
  {
   "cell_type": "code",
   "execution_count": null,
   "metadata": {},
   "outputs": [
    {
     "name": "stdout",
     "output_type": "stream",
     "text": [
      "Downloading http://yann.lecun.com/exdb/mnist/train-images-idx3-ubyte.gz\n",
      "Downloading http://yann.lecun.com/exdb/mnist/train-images-idx3-ubyte.gz to data/MNIST/raw/train-images-idx3-ubyte.gz\n"
     ]
    },
    {
     "name": "stderr",
     "output_type": "stream",
     "text": [
      "100.0%\n"
     ]
    },
    {
     "name": "stdout",
     "output_type": "stream",
     "text": [
      "Extracting data/MNIST/raw/train-images-idx3-ubyte.gz to data/MNIST/raw\n",
      "\n",
      "Downloading http://yann.lecun.com/exdb/mnist/train-labels-idx1-ubyte.gz\n",
      "Downloading http://yann.lecun.com/exdb/mnist/train-labels-idx1-ubyte.gz to data/MNIST/raw/train-labels-idx1-ubyte.gz\n"
     ]
    },
    {
     "name": "stderr",
     "output_type": "stream",
     "text": [
      "102.8%\n"
     ]
    },
    {
     "name": "stdout",
     "output_type": "stream",
     "text": [
      "Extracting data/MNIST/raw/train-labels-idx1-ubyte.gz to data/MNIST/raw\n",
      "\n",
      "Downloading http://yann.lecun.com/exdb/mnist/t10k-images-idx3-ubyte.gz\n",
      "Downloading http://yann.lecun.com/exdb/mnist/t10k-images-idx3-ubyte.gz to data/MNIST/raw/t10k-images-idx3-ubyte.gz\n"
     ]
    },
    {
     "name": "stderr",
     "output_type": "stream",
     "text": [
      "100.0%\n"
     ]
    },
    {
     "name": "stdout",
     "output_type": "stream",
     "text": [
      "Extracting data/MNIST/raw/t10k-images-idx3-ubyte.gz to data/MNIST/raw\n",
      "\n",
      "Downloading http://yann.lecun.com/exdb/mnist/t10k-labels-idx1-ubyte.gz\n",
      "Downloading http://yann.lecun.com/exdb/mnist/t10k-labels-idx1-ubyte.gz to data/MNIST/raw/t10k-labels-idx1-ubyte.gz\n"
     ]
    },
    {
     "name": "stderr",
     "output_type": "stream",
     "text": [
      "112.7%"
     ]
    },
    {
     "name": "stdout",
     "output_type": "stream",
     "text": [
      "Extracting data/MNIST/raw/t10k-labels-idx1-ubyte.gz to data/MNIST/raw\n",
      "\n"
     ]
    },
    {
     "name": "stderr",
     "output_type": "stream",
     "text": [
      "\n",
      "/Users/long.th/.pyenv/versions/3.6.8/lib/python3.6/site-packages/torchvision/datasets/mnist.py:498: UserWarning: The given NumPy array is not writeable, and PyTorch does not support non-writeable tensors. This means you can write to the underlying (supposedly non-writeable) NumPy array using the tensor. You may want to copy the array to protect its data or make it writeable before converting it to a tensor. This type of warning will be suppressed for the rest of this program. (Triggered internally at  ../torch/csrc/utils/tensor_numpy.cpp:180.)\n",
      "  return torch.from_numpy(parsed.astype(m[2], copy=False)).view(*s)\n"
     ]
    }
   ],
   "source": [
    "training_data = datasets.MNIST(\n",
    "    root=\"data\",\n",
    "    train=True,\n",
    "    download=True,\n",
    "    transform=ToTensor(),\n",
    ")"
   ]
  },
  {
   "cell_type": "code",
   "execution_count": null,
   "metadata": {},
   "outputs": [
    {
     "data": {
      "text/plain": [
       "38400"
      ]
     },
     "execution_count": 127,
     "metadata": {},
     "output_type": "execute_result"
    }
   ],
   "source": [
    "train_size = int(0.8 * len(training_data))\n",
    "test_size = len(training_data) - train_size\n",
    "train_dataset, test_dataset = torch.utils.data.random_split(training_data, [train_size, test_size])\n",
    "\n",
    "train_size = int(0.8 * len(train_dataset))\n",
    "test_size = len(train_dataset) - train_size\n",
    "train_dataset, test_dataset = torch.utils.data.random_split(train_dataset, [train_size, test_size])\n",
    "\n",
    "len(train_dataset)"
   ]
  },
  {
   "cell_type": "code",
   "execution_count": null,
   "metadata": {},
   "outputs": [],
   "source": [
    "# Create data loaders.\n",
    "batch_size = 20\n",
    "train_dataloader = DataLoader(train_dataset, batch_size=batch_size)\n",
    "test_dataloader = DataLoader(test_dataset, batch_size=batch_size)"
   ]
  },
  {
   "cell_type": "code",
   "execution_count": null,
   "metadata": {},
   "outputs": [
    {
     "name": "stdout",
     "output_type": "stream",
     "text": [
      "Using cpu device\n"
     ]
    }
   ],
   "source": [
    "# Get cpu or gpu device for training.\n",
    "device = \"cuda\" if torch.cuda.is_available() else \"cpu\"\n",
    "print(\"Using {} device\".format(device))"
   ]
  },
  {
   "cell_type": "code",
   "execution_count": null,
   "metadata": {},
   "outputs": [
    {
     "name": "stdout",
     "output_type": "stream",
     "text": [
      "NeuralNetwork(\n",
      "  (convolutional): Sequential(\n",
      "    (0): Conv2d(1, 3, kernel_size=(3, 3), stride=(1, 1))\n",
      "    (1): ReLU()\n",
      "    (2): Conv2d(3, 2, kernel_size=(3, 3), stride=(1, 1))\n",
      "    (3): ReLU()\n",
      "  )\n",
      "  (flatten): Flatten(start_dim=1, end_dim=-1)\n",
      "  (linear_relu_stack): Sequential(\n",
      "    (0): Linear(in_features=1152, out_features=20, bias=True)\n",
      "    (1): ReLU()\n",
      "    (2): Linear(in_features=20, out_features=10, bias=True)\n",
      "    (3): ReLU()\n",
      "  )\n",
      ")\n"
     ]
    }
   ],
   "source": [
    "# Define model\n",
    "class NeuralNetwork(nn.Module):\n",
    "    def __init__(self):\n",
    "        super(NeuralNetwork, self).__init__()\n",
    "        self.convolutional = nn.Sequential(\n",
    "            nn.Conv2d(1,3,(3,3)),\n",
    "            nn.ReLU(),\n",
    "            nn.Conv2d(3,2,(3,3)),\n",
    "            nn.ReLU(),\n",
    "        )\n",
    "        self.flatten = nn.Flatten()\n",
    "        self.linear_relu_stack = nn.Sequential(\n",
    "            nn.Linear(24*24*2, 20),\n",
    "            nn.ReLU(),\n",
    "            nn.Linear(20,10),\n",
    "            nn.ReLU(),\n",
    "        )\n",
    "\n",
    "    def forward(self, x):\n",
    "        conv = self.convolutional(x)\n",
    "        flatten = self.flatten(conv)\n",
    "        logits = self.linear_relu_stack(flatten)\n",
    "        return logits\n",
    "\n",
    "model = NeuralNetwork().to(device)\n",
    "print(model)"
   ]
  },
  {
   "cell_type": "code",
   "execution_count": null,
   "metadata": {},
   "outputs": [],
   "source": [
    "loss_fn = nn.CrossEntropyLoss()\n",
    "optimizer = torch.optim.SGD(model.parameters(), lr=1e-3)\n"
   ]
  },
  {
   "cell_type": "code",
   "execution_count": null,
   "metadata": {},
   "outputs": [],
   "source": [
    "def train(dataloader, model, loss_fn, optimizer):\n",
    "    size = len(dataloader.dataset)\n",
    "    model.train()\n",
    "\n",
    "    for batch, (X, y) in enumerate(dataloader):\n",
    "        X, y = X.to(device), y.to(device)\n",
    "\n",
    "        # Compute prediction error\n",
    "        pred = model(X)\n",
    "        loss = loss_fn(pred, y)\n",
    "\n",
    "        # Backpropagation\n",
    "        optimizer.zero_grad()\n",
    "        loss.backward()\n",
    "        optimizer.step()\n",
    "\n",
    "        if batch % 100 == 0:\n",
    "            loss, current = loss.item(), batch * len(X)\n",
    "            print(f\"loss: {loss:>7f}  [{current:>5d}/{size:>5d}]\")\n",
    "\n",
    "def test(dataloader, model, loss_fn):\n",
    "    size = len(dataloader.dataset)\n",
    "    num_batches = len(dataloader)\n",
    "    model.eval()\n",
    "    test_loss, correct = 0, 0\n",
    "    with torch.no_grad():\n",
    "        for X, y in dataloader:\n",
    "            X, y = X.to(device), y.to(device)\n",
    "            pred = model(X)\n",
    "            test_loss += loss_fn(pred, y).item()\n",
    "            correct += (pred.argmax(1) == y).type(torch.float).sum().item()\n",
    "    test_loss /= num_batches\n",
    "    correct /= size\n",
    "    print(f\"Test Error: \\n Accuracy: {(100*correct):>0.1f}%, Avg loss: {test_loss:>8f} \\n\")"
   ]
  },
  {
   "cell_type": "code",
   "execution_count": null,
   "metadata": {},
   "outputs": [
    {
     "name": "stdout",
     "output_type": "stream",
     "text": [
      "Epoch 1\n",
      "-------------------------------\n",
      "loss: 2.311054  [    0/38400]\n",
      "loss: 2.294491  [ 2000/38400]\n",
      "loss: 2.302927  [ 4000/38400]\n",
      "loss: 2.316278  [ 6000/38400]\n",
      "loss: 2.311922  [ 8000/38400]\n",
      "loss: 2.290359  [10000/38400]\n",
      "loss: 2.303864  [12000/38400]\n",
      "loss: 2.333958  [14000/38400]\n",
      "loss: 2.291232  [16000/38400]\n",
      "loss: 2.283972  [18000/38400]\n",
      "loss: 2.300795  [20000/38400]\n",
      "loss: 2.304616  [22000/38400]\n",
      "loss: 2.303644  [24000/38400]\n",
      "loss: 2.305770  [26000/38400]\n",
      "loss: 2.284513  [28000/38400]\n",
      "loss: 2.275257  [30000/38400]\n",
      "loss: 2.284856  [32000/38400]\n",
      "loss: 2.299062  [34000/38400]\n",
      "loss: 2.289065  [36000/38400]\n",
      "loss: 2.277783  [38000/38400]\n",
      "Test Error: \n",
      " Accuracy: 26.4%, Avg loss: 2.287649 \n",
      "\n",
      "Epoch 2\n",
      "-------------------------------\n",
      "loss: 2.302605  [    0/38400]\n",
      "loss: 2.290083  [ 2000/38400]\n",
      "loss: 2.284952  [ 4000/38400]\n",
      "loss: 2.281401  [ 6000/38400]\n",
      "loss: 2.304350  [ 8000/38400]\n",
      "loss: 2.269722  [10000/38400]\n",
      "loss: 2.284285  [12000/38400]\n",
      "loss: 2.303769  [14000/38400]\n",
      "loss: 2.273209  [16000/38400]\n",
      "loss: 2.278044  [18000/38400]\n",
      "loss: 2.257944  [20000/38400]\n",
      "loss: 2.269222  [22000/38400]\n",
      "loss: 2.288497  [24000/38400]\n",
      "loss: 2.281012  [26000/38400]\n",
      "loss: 2.254904  [28000/38400]\n",
      "loss: 2.223894  [30000/38400]\n",
      "loss: 2.263256  [32000/38400]\n",
      "loss: 2.248079  [34000/38400]\n",
      "loss: 2.248719  [36000/38400]\n",
      "loss: 2.227574  [38000/38400]\n",
      "Test Error: \n",
      " Accuracy: 34.1%, Avg loss: 2.234895 \n",
      "\n",
      "Epoch 3\n",
      "-------------------------------\n",
      "loss: 2.272746  [    0/38400]\n",
      "loss: 2.249622  [ 2000/38400]\n",
      "loss: 2.219940  [ 4000/38400]\n",
      "loss: 2.212402  [ 6000/38400]\n",
      "loss: 2.262935  [ 8000/38400]\n",
      "loss: 2.172491  [10000/38400]\n",
      "loss: 2.218223  [12000/38400]\n",
      "loss: 2.245486  [14000/38400]\n",
      "loss: 2.175051  [16000/38400]\n",
      "loss: 2.186835  [18000/38400]\n",
      "loss: 2.121727  [20000/38400]\n",
      "loss: 2.151049  [22000/38400]\n",
      "loss: 2.205760  [24000/38400]\n",
      "loss: 2.200617  [26000/38400]\n",
      "loss: 2.111459  [28000/38400]\n",
      "loss: 1.980849  [30000/38400]\n",
      "loss: 2.110350  [32000/38400]\n",
      "loss: 2.074090  [34000/38400]\n",
      "loss: 2.082786  [36000/38400]\n",
      "loss: 1.972253  [38000/38400]\n",
      "Test Error: \n",
      " Accuracy: 40.1%, Avg loss: 2.007832 \n",
      "\n",
      "Epoch 4\n",
      "-------------------------------\n",
      "loss: 2.145165  [    0/38400]\n",
      "loss: 2.051673  [ 2000/38400]\n",
      "loss: 1.922527  [ 4000/38400]\n",
      "loss: 1.967148  [ 6000/38400]\n",
      "loss: 2.096515  [ 8000/38400]\n",
      "loss: 1.767249  [10000/38400]\n",
      "loss: 1.934470  [12000/38400]\n",
      "loss: 2.045978  [14000/38400]\n",
      "loss: 1.782344  [16000/38400]\n",
      "loss: 1.807455  [18000/38400]\n",
      "loss: 1.657625  [20000/38400]\n",
      "loss: 1.752766  [22000/38400]\n",
      "loss: 1.894587  [24000/38400]\n",
      "loss: 1.935060  [26000/38400]\n",
      "loss: 1.727487  [28000/38400]\n",
      "loss: 1.375355  [30000/38400]\n",
      "loss: 1.692567  [32000/38400]\n",
      "loss: 1.731987  [34000/38400]\n",
      "loss: 1.695744  [36000/38400]\n",
      "loss: 1.522478  [38000/38400]\n",
      "Test Error: \n",
      " Accuracy: 48.0%, Avg loss: 1.566530 \n",
      "\n",
      "Epoch 5\n",
      "-------------------------------\n",
      "loss: 1.848257  [    0/38400]\n",
      "loss: 1.672588  [ 2000/38400]\n",
      "loss: 1.396589  [ 4000/38400]\n",
      "loss: 1.625113  [ 6000/38400]\n",
      "loss: 1.780273  [ 8000/38400]\n",
      "loss: 1.286956  [10000/38400]\n",
      "loss: 1.593897  [12000/38400]\n",
      "loss: 1.773919  [14000/38400]\n",
      "loss: 1.379121  [16000/38400]\n",
      "loss: 1.359615  [18000/38400]\n",
      "loss: 1.293552  [20000/38400]\n",
      "loss: 1.407122  [22000/38400]\n",
      "loss: 1.543959  [24000/38400]\n",
      "loss: 1.656119  [26000/38400]\n",
      "loss: 1.488645  [28000/38400]\n",
      "loss: 1.021241  [30000/38400]\n",
      "loss: 1.390560  [32000/38400]\n",
      "loss: 1.550955  [34000/38400]\n",
      "loss: 1.467495  [36000/38400]\n",
      "loss: 1.353936  [38000/38400]\n",
      "Test Error: \n",
      " Accuracy: 52.9%, Avg loss: 1.335927 \n",
      "\n",
      "Epoch 6\n",
      "-------------------------------\n",
      "loss: 1.685516  [    0/38400]\n",
      "loss: 1.472851  [ 2000/38400]\n",
      "loss: 1.138273  [ 4000/38400]\n",
      "loss: 1.449172  [ 6000/38400]\n",
      "loss: 1.665679  [ 8000/38400]\n",
      "loss: 1.051135  [10000/38400]\n",
      "loss: 1.429853  [12000/38400]\n",
      "loss: 1.678787  [14000/38400]\n",
      "loss: 1.183388  [16000/38400]\n",
      "loss: 1.040267  [18000/38400]\n",
      "loss: 1.090534  [20000/38400]\n",
      "loss: 1.145583  [22000/38400]\n",
      "loss: 1.304781  [24000/38400]\n",
      "loss: 1.444097  [26000/38400]\n",
      "loss: 1.394474  [28000/38400]\n",
      "loss: 0.846107  [30000/38400]\n",
      "loss: 1.067188  [32000/38400]\n",
      "loss: 1.367655  [34000/38400]\n",
      "loss: 1.331556  [36000/38400]\n",
      "loss: 1.314259  [38000/38400]\n",
      "Test Error: \n",
      " Accuracy: 64.1%, Avg loss: 1.109945 \n",
      "\n",
      "Epoch 7\n",
      "-------------------------------\n",
      "loss: 1.472891  [    0/38400]\n",
      "loss: 1.321229  [ 2000/38400]\n",
      "loss: 0.780442  [ 4000/38400]\n",
      "loss: 1.214900  [ 6000/38400]\n",
      "loss: 1.560724  [ 8000/38400]\n",
      "loss: 0.739949  [10000/38400]\n",
      "loss: 1.189870  [12000/38400]\n",
      "loss: 1.563455  [14000/38400]\n",
      "loss: 0.939238  [16000/38400]\n",
      "loss: 0.837168  [18000/38400]\n",
      "loss: 0.958581  [20000/38400]\n",
      "loss: 0.946893  [22000/38400]\n",
      "loss: 0.948500  [24000/38400]\n",
      "loss: 1.223845  [26000/38400]\n",
      "loss: 1.097472  [28000/38400]\n",
      "loss: 0.742182  [30000/38400]\n",
      "loss: 0.909307  [32000/38400]\n",
      "loss: 1.192882  [34000/38400]\n",
      "loss: 1.009506  [36000/38400]\n",
      "loss: 1.273123  [38000/38400]\n",
      "Test Error: \n",
      " Accuracy: 71.2%, Avg loss: 0.913206 \n",
      "\n",
      "Epoch 8\n",
      "-------------------------------\n",
      "loss: 1.207235  [    0/38400]\n",
      "loss: 1.213199  [ 2000/38400]\n",
      "loss: 0.591123  [ 4000/38400]\n",
      "loss: 0.884800  [ 6000/38400]\n",
      "loss: 1.439147  [ 8000/38400]\n",
      "loss: 0.507008  [10000/38400]\n",
      "loss: 1.038555  [12000/38400]\n",
      "loss: 1.306341  [14000/38400]\n",
      "loss: 0.839483  [16000/38400]\n",
      "loss: 0.649095  [18000/38400]\n",
      "loss: 0.809251  [20000/38400]\n",
      "loss: 0.738372  [22000/38400]\n",
      "loss: 0.696605  [24000/38400]\n",
      "loss: 0.987639  [26000/38400]\n",
      "loss: 0.909970  [28000/38400]\n",
      "loss: 0.699493  [30000/38400]\n",
      "loss: 0.810064  [32000/38400]\n",
      "loss: 1.064454  [34000/38400]\n",
      "loss: 0.951265  [36000/38400]\n",
      "loss: 1.202694  [38000/38400]\n",
      "Test Error: \n",
      " Accuracy: 72.7%, Avg loss: 0.803532 \n",
      "\n",
      "Epoch 9\n",
      "-------------------------------\n",
      "loss: 1.048327  [    0/38400]\n",
      "loss: 1.064191  [ 2000/38400]\n",
      "loss: 0.522790  [ 4000/38400]\n",
      "loss: 0.742791  [ 6000/38400]\n",
      "loss: 1.350301  [ 8000/38400]\n",
      "loss: 0.410669  [10000/38400]\n",
      "loss: 0.930681  [12000/38400]\n",
      "loss: 1.273695  [14000/38400]\n",
      "loss: 0.792018  [16000/38400]\n",
      "loss: 0.587462  [18000/38400]\n",
      "loss: 0.761124  [20000/38400]\n",
      "loss: 0.662402  [22000/38400]\n",
      "loss: 0.609337  [24000/38400]\n",
      "loss: 0.910653  [26000/38400]\n",
      "loss: 0.841800  [28000/38400]\n",
      "loss: 0.677221  [30000/38400]\n",
      "loss: 0.756625  [32000/38400]\n",
      "loss: 1.017878  [34000/38400]\n",
      "loss: 0.934357  [36000/38400]\n",
      "loss: 1.165556  [38000/38400]\n",
      "Test Error: \n",
      " Accuracy: 73.2%, Avg loss: 0.760950 \n",
      "\n",
      "Epoch 10\n",
      "-------------------------------\n",
      "loss: 0.984132  [    0/38400]\n",
      "loss: 1.025063  [ 2000/38400]\n",
      "loss: 0.507155  [ 4000/38400]\n",
      "loss: 0.666340  [ 6000/38400]\n",
      "loss: 1.297631  [ 8000/38400]\n",
      "loss: 0.376018  [10000/38400]\n",
      "loss: 0.871428  [12000/38400]\n",
      "loss: 1.290477  [14000/38400]\n",
      "loss: 0.768604  [16000/38400]\n",
      "loss: 0.571601  [18000/38400]\n",
      "loss: 0.711618  [20000/38400]\n",
      "loss: 0.636161  [22000/38400]\n",
      "loss: 0.567240  [24000/38400]\n",
      "loss: 0.878876  [26000/38400]\n",
      "loss: 0.820430  [28000/38400]\n",
      "loss: 0.653648  [30000/38400]\n",
      "loss: 0.742637  [32000/38400]\n",
      "loss: 0.995130  [34000/38400]\n",
      "loss: 0.929058  [36000/38400]\n",
      "loss: 1.134580  [38000/38400]\n",
      "Test Error: \n",
      " Accuracy: 73.6%, Avg loss: 0.737557 \n",
      "\n",
      "Done!\n"
     ]
    }
   ],
   "source": [
    "epochs = 10\n",
    "for t in range(epochs):\n",
    "    print(f\"Epoch {t+1}\\n-------------------------------\")\n",
    "    train(train_dataloader, model, loss_fn, optimizer)\n",
    "    test(test_dataloader, model, loss_fn)\n",
    "print(\"Done!\")"
   ]
  },
  {
   "cell_type": "markdown",
   "metadata": {},
   "source": [
    "# Problem 8 - (Advance assignment) Comparison of frameworks"
   ]
  },
  {
   "cell_type": "markdown",
   "metadata": {},
   "source": [
    "### Framework Comparison\n",
    "\n",
    "| Point      | Keras | Pytorch    |\n",
    "| :---        |    ----:   |          ---: |\n",
    "| API Level      | Very High  | Lower level, but higher than TF   |\n",
    "| Code Length   | Extreme short, unless customized | Rather lengthy |\n",
    "| Flexibility   | Enough with functional api and extension | Low level -> Very flexible |\n",
    "| Speed   | Decent, of course slower due to high level | As fast as TF, faster in some cases |\n",
    "| Debugging  | High level and not so verbose so hard to debug | Good to debug |\n",
    "| Ease Of Use   | Very easy to use | Decent |\n",
    "| Popularity   | Coupled with TF, super popular | Less popular, but still one of the biggest |"
   ]
  },
  {
   "cell_type": "markdown",
   "metadata": {},
   "source": [
    "-------------------------------------------------------------------------------------------"
   ]
  },
  {
   "cell_type": "markdown",
   "metadata": {},
   "source": [
    "This is the end of my assignment. Thank you for reading!"
   ]
  }
 ],
 "metadata": {
  "interpreter": {
   "hash": "b6dca31c40dac0508fe8bb571189613e8b58bfb2f14d9df93b31762f58f9068a"
  },
  "kernelspec": {
   "display_name": "Python 3.6.8 64-bit ('3.6.8': pyenv)",
   "name": "python3"
  },
  "language_info": {
   "codemirror_mode": {
    "name": "ipython",
    "version": 3
   },
   "file_extension": ".py",
   "mimetype": "text/x-python",
   "name": "python",
   "nbconvert_exporter": "python",
   "pygments_lexer": "ipython3",
   "version": "3.8.10"
  },
  "orig_nbformat": 4
 },
 "nbformat": 4,
 "nbformat_minor": 2
}
