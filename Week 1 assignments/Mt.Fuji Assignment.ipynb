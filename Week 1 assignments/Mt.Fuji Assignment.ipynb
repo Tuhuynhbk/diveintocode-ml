{
 "cells": [
  {
   "cell_type": "markdown",
   "id": "electrical-brooks",
   "metadata": {},
   "source": [
    "Student Name: Huynh Truong Tu "
   ]
  },
  {
   "cell_type": "markdown",
   "id": "british-above",
   "metadata": {},
   "source": [
    "Below are my assignment for Python introductory lesson assignment on how many diffractions will accross Mt.Fuji."
   ]
  },
  {
   "cell_type": "markdown",
   "id": "cathedral-rings",
   "metadata": {},
   "source": [
    "----------------------------------------------------------------------"
   ]
  },
  {
   "cell_type": "markdown",
   "id": "handmade-telling",
   "metadata": {},
   "source": [
    "## What I know: "
   ]
  },
  {
   "cell_type": "markdown",
   "id": "selective-acoustic",
   "metadata": {},
   "source": [
    "* The distance to  the  moon  is  384400 km "
   ]
  },
  {
   "cell_type": "code",
   "execution_count": 9,
   "id": "intellectual-salmon",
   "metadata": {},
   "outputs": [],
   "source": [
    "MOON_DISTANCE = 384400 #kilometers"
   ]
  },
  {
   "cell_type": "markdown",
   "id": "moved-office",
   "metadata": {},
   "source": [
    "* The distance to  Mt. Fuji  is  3776 m "
   ]
  },
  {
   "cell_type": "code",
   "execution_count": 1,
   "id": "split-configuration",
   "metadata": {},
   "outputs": [],
   "source": [
    "FUJI_DISTANCE = 3776 #meters"
   ]
  },
  {
   "cell_type": "markdown",
   "id": "waiting-strategy",
   "metadata": {},
   "source": [
    "* The original thickness of the paper before folding is 0.00008m."
   ]
  },
  {
   "cell_type": "code",
   "execution_count": 2,
   "id": "advisory-permission",
   "metadata": {},
   "outputs": [],
   "source": [
    "O_THICKNESS_M = 0.00008 #original Thickness in Meters"
   ]
  },
  {
   "cell_type": "markdown",
   "id": "devoted-naples",
   "metadata": {},
   "source": [
    "* Folding Formular:"
   ]
  },
  {
   "cell_type": "markdown",
   "id": "extreme-check",
   "metadata": {},
   "source": [
    "$$\n",
    "t_{n} = t_{0} x 2^{n}\n",
    "$$\n"
   ]
  },
  {
   "cell_type": "markdown",
   "id": "happy-hungarian",
   "metadata": {},
   "source": [
    "> With: $n$ is the number of fold, $t_{0}$ is the original thickness."
   ]
  },
  {
   "cell_type": "markdown",
   "id": "favorite-insertion",
   "metadata": {},
   "source": [
    "## Problems to solve:"
   ]
  },
  {
   "cell_type": "markdown",
   "id": "announced-parallel",
   "metadata": {},
   "source": [
    "**[Problem 1] Minimum number of folds over Mt. Fuji**"
   ]
  },
  {
   "cell_type": "markdown",
   "id": "split-bridge",
   "metadata": {},
   "source": [
    "> In this problem, I make used of the pre-class week 1 function:"
   ]
  },
  {
   "cell_type": "code",
   "execution_count": 33,
   "id": "fuzzy-singer",
   "metadata": {},
   "outputs": [
    {
     "name": "stdout",
     "output_type": "stream",
     "text": [
      "Our paper need to be folded 26 times to exceed Mt.Fuji\n"
     ]
    }
   ],
   "source": [
    "folded_thickness = 0.00008 #initiate the folded length\n",
    "counter = 0 #initiate the counter\n",
    "while (folded_thickness <= FUJI_DISTANCE):\n",
    "    counter += 1;\n",
    "    folded_thickness *= 2;\n",
    "print(\"Our paper need to be folded {} times to exceed Mt.Fuji\".format(counter))\n",
    "    \n",
    "    "
   ]
  },
  {
   "cell_type": "markdown",
   "id": "accessory-species",
   "metadata": {},
   "source": [
    "**[Problem 2] Creating a function corresponding to an arbitrary thickness**"
   ]
  },
  {
   "cell_type": "markdown",
   "id": "desirable-produce",
   "metadata": {},
   "source": [
    "**<center> The \"closest non-sun star\" Distance Information </center>**\n",
    " Proxima Centauri, the closest star to our own, is still 40,208,000,000,000 km away. (Or about 268,770 AU.) When we talk about the distances to the stars, we no longer use the AU, or Astronomical Unit; commonly, the light year is used. A light year is the distance light travels in one year - it is equal to 9.461 x 1012 km. \n",
    "> Source: https://imagine.gsfc.nasa.gov/features/cosmic/nearest_star_info.html#:~:text=Alpha%20Centauri%20A%20%26%20B%20are,closer%20at%204.25%20light%20years."
   ]
  },
  {
   "cell_type": "markdown",
   "id": "strange-winter",
   "metadata": {},
   "source": [
    "Thus, the distance from Proxima Centauri is 40,208,000,000,000,000 m"
   ]
  },
  {
   "cell_type": "code",
   "execution_count": 35,
   "id": "extensive-bosnia",
   "metadata": {},
   "outputs": [],
   "source": [
    "STAR_DISTANCE = 40208000000000000 #meters"
   ]
  },
  {
   "cell_type": "code",
   "execution_count": 36,
   "id": "designing-musical",
   "metadata": {},
   "outputs": [
    {
     "name": "stdout",
     "output_type": "stream",
     "text": [
      "Please set the thickness in meter :0.00008\n",
      "Your paper need to be folded 69 times to read the closet non-sun star\n"
     ]
    }
   ],
   "source": [
    "def compute_diff(thickness,distance):\n",
    "    if thickness is None : \n",
    "        try:\n",
    "            thickness=float(input('Please set the thickness in meter :'))\n",
    "            #please use \".\" for decimal point\n",
    "        except ValueError:\n",
    "            print(\"Your thickness is not a number\")\n",
    "            return None\n",
    "    if distance is None:\n",
    "        try:\n",
    "            distance=float(input('Please set the distance in meter:'))\n",
    "            #please use \".\" for decimal point\n",
    "        except ValueError:\n",
    "            print(\"Your distance is not a number\")\n",
    "            return None\n",
    "    if (distance < thickness):\n",
    "        print(\"Please don't make the problem harder!\")\n",
    "        return None\n",
    "    counter = 0 #initiate the counter\n",
    "    while (thickness <= distance):\n",
    "        counter += 1;\n",
    "        thickness *= 2;\n",
    "    return counter\n",
    "print(\"Your paper need to be folded {} times to read the closet non-sun star\".format(compute_diff(None ,STAR_DISTANCE)))"
   ]
  },
  {
   "cell_type": "markdown",
   "id": "breeding-essence",
   "metadata": {},
   "source": [
    "**[Problem 3] Required paper length**"
   ]
  },
  {
   "cell_type": "markdown",
   "id": "heated-ontario",
   "metadata": {},
   "source": [
    "> Below are the formular to calculate length of the paper provided:"
   ]
  },
  {
   "cell_type": "markdown",
   "id": "biblical-orientation",
   "metadata": {},
   "source": [
    "$$ L = \\frac{\\pi t_{0}}{6}(2^{n}+4)(2^{n}-1) $$"
   ]
  },
  {
   "cell_type": "code",
   "execution_count": 37,
   "id": "electronic-beatles",
   "metadata": {},
   "outputs": [
    {
     "name": "stdout",
     "output_type": "stream",
     "text": [
      "We need a 3090781636525682.5 meter-long paper to reach the moon\n",
      "We need a 188646348487.24017 meter-long paper to reach Mt.Fuji\n",
      "We need a 1.4595803601100348e+37 meter-long paper to reach the closet non-sun star\n"
     ]
    }
   ],
   "source": [
    "# Import math Library\n",
    "import math\n",
    "def paper_length(t,n,destination):\n",
    "    l= ((math.pi*t)/6)*(2**n+4)*(2**n-1)\n",
    "    return print(\"We need a {} meter-long paper to reach {}\".format(l,destination))\n",
    "#calculate the number of folds required\n",
    "n_moon = compute_diff(O_THICKNESS_M,MOON_DISTANCE)\n",
    "n_fuji = compute_diff(O_THICKNESS_M,FUJI_DISTANCE)\n",
    "n_star = compute_diff(O_THICKNESS_M,STAR_DISTANCE)\n",
    "#then calculate the \n",
    "paper_length(O_THICKNESS_M,n_moon,\"the moon\")\n",
    "paper_length(O_THICKNESS_M,n_fuji,\"Mt.Fuji\")\n",
    "paper_length(O_THICKNESS_M,n_star,\"the closet non-sun star\")\n"
   ]
  },
  {
   "cell_type": "markdown",
   "id": "loved-topic",
   "metadata": {},
   "source": [
    "========================================================================================================================"
   ]
  },
  {
   "cell_type": "markdown",
   "id": "bronze-ready",
   "metadata": {},
   "source": [
    "This is the end of my assignment, thank you for reading!"
   ]
  }
 ],
 "metadata": {
  "kernelspec": {
   "display_name": "Python 3",
   "language": "python",
   "name": "python3"
  },
  "language_info": {
   "codemirror_mode": {
    "name": "ipython",
    "version": 3
   },
   "file_extension": ".py",
   "mimetype": "text/x-python",
   "name": "python",
   "nbconvert_exporter": "python",
   "pygments_lexer": "ipython3",
   "version": "3.9.0"
  }
 },
 "nbformat": 4,
 "nbformat_minor": 5
}
