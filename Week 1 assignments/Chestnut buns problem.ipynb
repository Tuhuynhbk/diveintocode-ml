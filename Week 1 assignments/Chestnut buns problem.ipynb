{
 "cells": [
  {
   "cell_type": "markdown",
   "id": "powerful-haiti",
   "metadata": {},
   "source": [
    "# Student Name: **Huynh Truong Tu**"
   ]
  },
  {
   "cell_type": "markdown",
   "id": "resistant-palestinian",
   "metadata": {},
   "source": [
    "<em>Below are my assignment for the chestnut buns' problem.</em>"
   ]
  },
  {
   "cell_type": "markdown",
   "id": "straight-arrival",
   "metadata": {},
   "source": [
    "---------------------------------------------------------------------------------------------------------------------"
   ]
  },
  {
   "cell_type": "markdown",
   "id": "immediate-foundation",
   "metadata": {},
   "source": [
    "## What I know:"
   ]
  },
  {
   "cell_type": "markdown",
   "id": "scenic-latitude",
   "metadata": {},
   "source": [
    "- The chestnut bun will double in quantity in every 5 minutes, so after t (minutes) they will double t/5 times."
   ]
  },
  {
   "cell_type": "markdown",
   "id": "waiting-nitrogen",
   "metadata": {},
   "source": [
    "- Each chestnut bun is made of two spherical-cap-shaped sides, and below are the formula to calculate the volumn of a spherical cap:"
   ]
  },
  {
   "cell_type": "markdown",
   "id": "identified-afghanistan",
   "metadata": {},
   "source": [
    "$$ V_{Spherical Cap}= \\frac{\\pi h}{6}(3a^{2}+h^{2})$$"
   ]
  },
  {
   "cell_type": "markdown",
   "id": "loved-immunology",
   "metadata": {},
   "source": [
    " * Thus, the volumn of a whole chestnut bun will be:"
   ]
  },
  {
   "cell_type": "markdown",
   "id": "solid-straight",
   "metadata": {},
   "source": [
    "$$ V_{EachChestnutBun}= \\frac{\\pi h}{3}(3a^{2}+h^{2})$$"
   ]
  },
  {
   "cell_type": "markdown",
   "id": "consistent-change",
   "metadata": {},
   "source": [
    "<pre>                                              With: \n",
    "                                                        a = 5(cm) \n",
    "                                                        h = 1(cm) \n"
   ]
  },
  {
   "cell_type": "markdown",
   "id": "generous-wonder",
   "metadata": {},
   "source": [
    "> Source: https://www.thespruceeats.com/japanese-dorayaki-recipe-2031077"
   ]
  },
  {
   "cell_type": "code",
   "execution_count": 1,
   "id": "manual-logging",
   "metadata": {},
   "outputs": [
    {
     "name": "stdout",
     "output_type": "stream",
     "text": [
      "Volume of each chestnut bun is: 79.6 cm^3 \n"
     ]
    }
   ],
   "source": [
    "import math\n",
    "a=5 #cm\n",
    "h=1 #cm\n",
    "bun_volume = (math.pi*h/3)*(3*(a**2)+h**2)\n",
    "print(\"Volume of each chestnut bun is: {:.1f} cm^3 \".format(bun_volume))"
   ]
  },
  {
   "cell_type": "markdown",
   "id": "damaged-homeless",
   "metadata": {},
   "source": [
    "Then, we assume that the solar system is sphere-shaped and below is the diameter of solar system:"
   ]
  },
  {
   "cell_type": "markdown",
   "id": "solid-thing",
   "metadata": {},
   "source": [
    "> Sedna is three times farther away from Earth than Pluto, making it the most distant observable object known in the solar system. It is 143.73 billion km from the Sun, thus giving the Solar System a diameter of 287.46 billion km. \n"
   ]
  },
  {
   "cell_type": "markdown",
   "id": "relative-morrison",
   "metadata": {},
   "source": [
    "$$ d = 287.46x10^{9} (km) = 287460x10^{9} (cm)$$"
   ]
  },
  {
   "cell_type": "markdown",
   "id": "accredited-plenty",
   "metadata": {},
   "source": [
    "* Source: https://www.universetoday.com/15585/diameter-of-the-solar-system/#:~:text=It%20is%20143.73%20billion%20km,diameter%20of%20287.46%20billion%20km."
   ]
  },
  {
   "cell_type": "markdown",
   "id": "natural-period",
   "metadata": {},
   "source": [
    "Formula for sphere volume calculation using diameter:"
   ]
  },
  {
   "cell_type": "markdown",
   "id": "neural-utilization",
   "metadata": {},
   "source": [
    "$$ V_{Sphere}=\\frac{\\pi}{6}d^{3} $$\n",
    "* Source: https://en.wikipedia.org/wiki/Sphere"
   ]
  },
  {
   "cell_type": "code",
   "execution_count": 2,
   "id": "vertical-lithuania",
   "metadata": {},
   "outputs": [
    {
     "name": "stdout",
     "output_type": "stream",
     "text": [
      "Volumn of the solar system is: 1.2437436774647063e+43 (cm^3)\n"
     ]
    }
   ],
   "source": [
    "import math\n",
    "d=287460*(10**9) #cm\n",
    "ssystem_volume=math.pi/6*(d**3)\n",
    "print(\"Volumn of the solar system is: {} (cm^3)\".format(ssystem_volume))"
   ]
  },
  {
   "cell_type": "markdown",
   "id": "associate-lunch",
   "metadata": {},
   "source": [
    "Since the number of chestnut buns will be doubled after every 5 minutes, so the time required for a bun to fill the solar system will be the number of time it has been doubled multiples by 5 minutes:"
   ]
  },
  {
   "cell_type": "markdown",
   "id": "requested-lindsay",
   "metadata": {},
   "source": [
    "$$ V_{SolarSystem}=V_{ChestnutBun}x2^{n} $$"
   ]
  },
  {
   "cell_type": "markdown",
   "id": "lesbian-graph",
   "metadata": {},
   "source": [
    "$$ t = 5.n $$\n",
    "                                         "
   ]
  },
  {
   "cell_type": "markdown",
   "id": "bright-wrestling",
   "metadata": {},
   "source": [
    "Usualy we'll use <em> log </em> to find out n. However, with python I can use \"while\" to practice a little:"
   ]
  },
  {
   "cell_type": "code",
   "execution_count": 3,
   "id": "manufactured-layer",
   "metadata": {},
   "outputs": [
    {
     "name": "stdout",
     "output_type": "stream",
     "text": [
      "It will take a chestnut 685 minutes from when it's launched into space to fill the solar system (after dublicate 137 times)\n",
      "Then, their total volume would be 1.3866013421045327e+43 cm^3\n"
     ]
    }
   ],
   "source": [
    "sigma_bun_volume = [] #create a list to contain the value of chestnut buns' volume after each dublication\n",
    "sigma_bun_volume.append(bun_volume)\n",
    "dub_bun_volume = bun_volume # create a copy of a chestnut bun's volumn to be used in loop\n",
    "n=0 #initial n value representing the number of dublication\n",
    "while dub_bun_volume < ssystem_volume:\n",
    "    dub_bun_volume *=2\n",
    "    sigma_bun_volume.append(dub_bun_volume)\n",
    "    n += 1\n",
    "t = n*5 #minutes\n",
    "print(\"It will take a chestnut {} minutes from when it's launched into space to fill the solar system (after dublicate {} times)\".format(t,n))\n",
    "print(\"Then, their total volume would be {} cm^3\".format(dub_bun_volume))"
   ]
  },
  {
   "cell_type": "code",
   "execution_count": 4,
   "id": "outdoor-phone",
   "metadata": {
    "scrolled": true
   },
   "outputs": [
    {
     "data": {
      "image/png": "[encoded data removed]",
      "text/plain": [
       "<Figure size 432x288 with 1 Axes>"
      ]
     },
     "metadata": {
      "needs_background": "light"
     },
     "output_type": "display_data"
    }
   ],
   "source": [
    "import matplotlib.pyplot as plt\n",
    "%matplotlib inline\n",
    "# Initalize a Figure and Axes\n",
    "line_ssystem = [] # For visualizing the Solar system's volume\n",
    "line_ssystem += n * [ssystem_volume] \n",
    "fig, ax = plt.subplots()\n",
    "plt.title(\"Volume comparation graph\")\n",
    "plt.xlabel(\"Number of Dublication\")\n",
    "plt.ylabel(\"Total volume (cm^3)\")\n",
    "plt.plot(sigma_bun_volume,label=\"Chestnut bun\")\n",
    "plt.plot(line_ssystem,label=\"Solar system\")\n",
    "plt.legend(bbox_to_anchor=(1.05, 1), loc='best', borderaxespad=0.)\n",
    "plt.show()"
   ]
  },
  {
   "cell_type": "markdown",
   "id": "cathedral-relief",
   "metadata": {},
   "source": [
    "-----------------------------------------------------------------------------------------------------------------------------"
   ]
  },
  {
   "cell_type": "markdown",
   "id": "numerous-participation",
   "metadata": {},
   "source": [
    "Below are the generic program that can be applied to other situations (in this case a ball with 0.46 m^3 volume and Tokyo Dome with 1240000 m^3 volume)"
   ]
  },
  {
   "cell_type": "markdown",
   "id": "interracial-beads",
   "metadata": {},
   "source": [
    "* Source:"
   ]
  },
  {
   "cell_type": "markdown",
   "id": "interesting-yield",
   "metadata": {},
   "source": [
    ">Ball:https://en.wikipedia.org/wiki/Ball_(association_football)#:~:text=The%20size%20of%20a%20football,to%2028%20in)%20in%20circumference.\n",
    "\n",
    ">Tokyo Dome: https://www.tokyo-dome.co.jp/en/tourists/dome/about.html"
   ]
  },
  {
   "cell_type": "code",
   "execution_count": 7,
   "id": "strong-endorsement",
   "metadata": {},
   "outputs": [
    {
     "name": "stdout",
     "output_type": "stream",
     "text": [
      "Please name the sprinkled-object: a ball\n",
      "What is the value of a ball in m^3: 0.46\n",
      "Please name the object you want to be filled by the sprinkled one: Tokyo Dome\n",
      "What is the value of Tokyo Dome in m^3:1240000\n",
      "It will take a ball 110 minutes from when it's sprinkled to fill Tokyo Dome (after dublicate 22 times)\n",
      "a ball's volume then will be 1929379.84 (m^3)\n",
      "\n",
      "Below is the graph for visualization:\n"
     ]
    },
    {
     "data": {
      "image/png": "[encoded data removed]",
      "text/plain": [
       "<Figure size 432x288 with 1 Axes>"
      ]
     },
     "metadata": {
      "needs_background": "light"
     },
     "output_type": "display_data"
    }
   ],
   "source": [
    "import sys \n",
    "try:\n",
    "    obj1=str(input('Please name the sprinkled-object: '))\n",
    "except ValueError:\n",
    "    print(\"You're making this complicated!\")\n",
    "    sys.exit()\n",
    "try:\n",
    "    volume1=float(input('What is the value of {} in m^3: '.format(obj1)))\n",
    "except ValueError:\n",
    "    print(\"Your input is not a number\")\n",
    "    sys.exit()\n",
    "try:\n",
    "    obj2=str(input('Please name the object you want to be filled by the sprinkled one: '))\n",
    "except ValueError:\n",
    "    print(\"You're making this really complicated!\")\n",
    "    sys.exit()\n",
    "try: \n",
    "    volume2=float(input('What is the value of {} in m^3:'.format(obj2)))\n",
    "except ValueError:\n",
    "    print(\"Your input is not a number\")\n",
    "    sys.exit()\n",
    "#sys.exit() usually work in other IDE, but I would cause unexpected error in this case. I don't recommend testing with ValueError.\n",
    "sigma_obj1_volume = [] #create a list to contain the value of object1's volume after each dublication\n",
    "sigma_obj1_volume.append(volume1)\n",
    "dub_obj1_volume = volume1 # create a copy of object1's volumn to be used in loop\n",
    "n=0 #initial n value representing the number of dublication\n",
    "while dub_obj1_volume < volume2:\n",
    "    dub_obj1_volume *=2\n",
    "    sigma_obj1_volume.append(dub_obj1_volume)\n",
    "    n += 1\n",
    "t = n*5 #minutes\n",
    "print(\"It will take {} {} minutes from when it's sprinkled to fill {} (after dublicate {} times)\".format(obj1,t,obj2,n))\n",
    "print(\"{}'s volume then will be {} (m^3)\".format(obj1,dub_obj1_volume))\n",
    "print(\"\\nBelow is the graph for visualization:\")\n",
    "##############################################\n",
    "import matplotlib.pyplot as plt\n",
    "%matplotlib inline\n",
    "# Initalize a Figure and Axes\n",
    "line_obj2 = [] # For visualizing object2's volume\n",
    "line_obj2 += (n+1) * [volume2] #since the list starts with 0\n",
    "fig, ax = plt.subplots()\n",
    "plt.title(\"Volume Comparation Graph\")\n",
    "plt.xlabel(\"Number of Dublication\")\n",
    "plt.ylabel(\"Total volume (m^3)\")\n",
    "plt.plot(sigma_obj1_volume,label=obj1)\n",
    "plt.plot(line_obj2,label=obj2)\n",
    "plt.legend(bbox_to_anchor=(1.05, 1), loc='best', borderaxespad=0.)\n",
    "plt.show()"
   ]
  },
  {
   "cell_type": "markdown",
   "id": "relevant-lafayette",
   "metadata": {},
   "source": [
    "===================================================================================================================="
   ]
  },
  {
   "cell_type": "markdown",
   "id": "august-steering",
   "metadata": {},
   "source": [
    "This is the end of my assignment, thank you for reading!"
   ]
  }
 ],
 "metadata": {
  "kernelspec": {
   "display_name": "Python 3",
   "language": "python",
   "name": "python3"
  },
  "language_info": {
   "codemirror_mode": {
    "name": "ipython",
    "version": 3
   },
   "file_extension": ".py",
   "mimetype": "text/x-python",
   "name": "python",
   "nbconvert_exporter": "python",
   "pygments_lexer": "ipython3",
   "version": "3.9.0"
  }
 },
 "nbformat": 4,
 "nbformat_minor": 5
}
