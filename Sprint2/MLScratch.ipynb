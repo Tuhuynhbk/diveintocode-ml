{
 "cells": [
  {
   "cell_type": "markdown",
   "source": [
    "# Student Name: Huynh Truong Tu\r\n",
    " Below is my assignment for Sprint2's \"Machine Learning Scratch\""
   ],
   "metadata": {}
  },
  {
   "cell_type": "markdown",
   "source": [
    "------------------------------------------------------------------------"
   ],
   "metadata": {}
  },
  {
   "cell_type": "code",
   "execution_count": 1,
   "source": [
    "import numpy as np\r\n",
    "import matplotlib.pyplot as plt\r\n",
    "import seaborn as sns\r\n",
    "import pandas as pd"
   ],
   "outputs": [],
   "metadata": {}
  },
  {
   "cell_type": "code",
   "execution_count": 2,
   "source": [
    "data = pd.read_csv('houseprice_train.csv')\r\n",
    "print(data.shape)\r\n",
    "print(data.columns)"
   ],
   "outputs": [
    {
     "output_type": "stream",
     "name": "stdout",
     "text": [
      "(1460, 81)\n",
      "Index(['Id', 'MSSubClass', 'MSZoning', 'LotFrontage', 'LotArea', 'Street',\n",
      "       'Alley', 'LotShape', 'LandContour', 'Utilities', 'LotConfig',\n",
      "       'LandSlope', 'Neighborhood', 'Condition1', 'Condition2', 'BldgType',\n",
      "       'HouseStyle', 'OverallQual', 'OverallCond', 'YearBuilt', 'YearRemodAdd',\n",
      "       'RoofStyle', 'RoofMatl', 'Exterior1st', 'Exterior2nd', 'MasVnrType',\n",
      "       'MasVnrArea', 'ExterQual', 'ExterCond', 'Foundation', 'BsmtQual',\n",
      "       'BsmtCond', 'BsmtExposure', 'BsmtFinType1', 'BsmtFinSF1',\n",
      "       'BsmtFinType2', 'BsmtFinSF2', 'BsmtUnfSF', 'TotalBsmtSF', 'Heating',\n",
      "       'HeatingQC', 'CentralAir', 'Electrical', '1stFlrSF', '2ndFlrSF',\n",
      "       'LowQualFinSF', 'GrLivArea', 'BsmtFullBath', 'BsmtHalfBath', 'FullBath',\n",
      "       'HalfBath', 'BedroomAbvGr', 'KitchenAbvGr', 'KitchenQual',\n",
      "       'TotRmsAbvGrd', 'Functional', 'Fireplaces', 'FireplaceQu', 'GarageType',\n",
      "       'GarageYrBlt', 'GarageFinish', 'GarageCars', 'GarageArea', 'GarageQual',\n",
      "       'GarageCond', 'PavedDrive', 'WoodDeckSF', 'OpenPorchSF',\n",
      "       'EnclosedPorch', '3SsnPorch', 'ScreenPorch', 'PoolArea', 'PoolQC',\n",
      "       'Fence', 'MiscFeature', 'MiscVal', 'MoSold', 'YrSold', 'SaleType',\n",
      "       'SaleCondition', 'SalePrice'],\n",
      "      dtype='object')\n"
     ]
    }
   ],
   "metadata": {}
  },
  {
   "cell_type": "code",
   "execution_count": 3,
   "source": [
    "X = np.array(data.drop(columns = ['SalePrice']))\r\n",
    "Y = np.array(data['SalePrice'])\r\n",
    "print(X.shape, Y.shape)"
   ],
   "outputs": [
    {
     "output_type": "stream",
     "name": "stdout",
     "text": [
      "(1460, 80) (1460,)\n"
     ]
    }
   ],
   "metadata": {}
  },
  {
   "cell_type": "markdown",
   "source": [
    "# Problem 1 - Train Test Split Scratch"
   ],
   "metadata": {}
  },
  {
   "cell_type": "code",
   "execution_count": 4,
   "source": [
    "from sklearn.model_selection import train_test_split\r\n",
    "x_train,x_test,y_train,y_test = train_test_split(X,Y, train_size = 0.8)\r\n",
    "print('Train Shape:', x_train.shape, y_train.shape)\r\n",
    "print('Test Shape:', x_test.shape, y_test.shape)"
   ],
   "outputs": [
    {
     "output_type": "stream",
     "name": "stdout",
     "text": [
      "Train Shape: (1168, 80) (1168,)\n",
      "Test Shape: (292, 80) (292,)\n"
     ]
    }
   ],
   "metadata": {}
  },
  {
   "cell_type": "code",
   "execution_count": 5,
   "source": [
    "def scratch_train_test_split(X,Y, train_size=0.8):\r\n",
    "    if X.shape[0] != Y.shape[0]:\r\n",
    "        raise TypeError('X and Y does not have same tupple count!')\r\n",
    "    if Y.ndim != 1:\r\n",
    "        raise TypeError('Y does not have the correct dimension, should be (n,)')\r\n",
    "    n = X.shape[0]\r\n",
    "    split_index =int(np.floor(n*train_size))\r\n",
    "    x_train = X[:split_index]\r\n",
    "    x_test = X[split_index:]\r\n",
    "    y_train = Y[:split_index]\r\n",
    "    y_test = Y[split_index:]\r\n",
    "\r\n",
    "    return x_train,x_test,y_train,y_test"
   ],
   "outputs": [],
   "metadata": {}
  },
  {
   "cell_type": "code",
   "execution_count": 6,
   "source": [
    "x_train,x_test,y_train,y_test = scratch_train_test_split(X,Y)\r\n",
    "print('Train Shape:', x_train.shape, y_train.shape)\r\n",
    "print('Test Shape:', x_test.shape, y_test.shape)"
   ],
   "outputs": [
    {
     "output_type": "stream",
     "name": "stdout",
     "text": [
      "Train Shape: (1168, 80) (1168,)\n",
      "Test Shape: (292, 80) (292,)\n"
     ]
    }
   ],
   "metadata": {}
  },
  {
   "cell_type": "markdown",
   "source": [
    "# Problem 2 - Creating a code to solve the classification problem"
   ],
   "metadata": {}
  },
  {
   "cell_type": "code",
   "execution_count": 7,
   "source": [
    "from sklearn.metrics import confusion_matrix\r\n",
    "def classification_problem(X, Y, models, test_size = 0.2):\r\n",
    "    result = []\r\n",
    "    x_train, x_test,y_train,y_test = train_test_split(X,Y,test_size = test_size)\r\n",
    "    for model in models:\r\n",
    "        model.fit(x_train,y_train)\r\n",
    "        y_pred = model.predict(x_test)\r\n",
    "        result.append((model.__class__.__name__,confusion_matrix(y_test, y_pred)))\r\n",
    "    \r\n",
    "    return result"
   ],
   "outputs": [],
   "metadata": {}
  },
  {
   "cell_type": "code",
   "execution_count": 8,
   "source": [
    "from sklearn.linear_model import SGDClassifier\r\n",
    "from sklearn.svm import SVC\r\n",
    "from sklearn.tree import DecisionTreeClassifier\r\n",
    "\r\n",
    "# classification models setup\r\n",
    "logistic_reg = SGDClassifier(loss = 'log')\r\n",
    "svm_c = SVC()\r\n",
    "dec_tree_c = DecisionTreeClassifier()\r\n",
    "classification_models = [logistic_reg, svm_c, dec_tree_c]"
   ],
   "outputs": [],
   "metadata": {}
  },
  {
   "cell_type": "markdown",
   "source": [
    "### Test Iris"
   ],
   "metadata": {}
  },
  {
   "cell_type": "code",
   "execution_count": 9,
   "source": [
    "from  sklearn.datasets import load_iris\r\n",
    "iris_data = load_iris(as_frame = True)\r\n",
    "i_x = iris_data.data\r\n",
    "i_y = iris_data.target\r\n",
    "result = classification_problem(i_x,i_y,classification_models)\r\n",
    "\r\n",
    "for name, conf_matrix in result:\r\n",
    "    print('Model: ',name)\r\n",
    "    display(conf_matrix)"
   ],
   "outputs": [
    {
     "output_type": "stream",
     "name": "stdout",
     "text": [
      "Model:  SGDClassifier\n"
     ]
    },
    {
     "output_type": "display_data",
     "data": {
      "text/plain": [
       "array([[ 8,  0,  0],\n",
       "       [ 0, 12,  0],\n",
       "       [ 0,  6,  4]], dtype=int64)"
      ]
     },
     "metadata": {}
    },
    {
     "output_type": "stream",
     "name": "stdout",
     "text": [
      "Model:  SVC\n"
     ]
    },
    {
     "output_type": "display_data",
     "data": {
      "text/plain": [
       "array([[ 8,  0,  0],\n",
       "       [ 0, 12,  0],\n",
       "       [ 0,  1,  9]], dtype=int64)"
      ]
     },
     "metadata": {}
    },
    {
     "output_type": "stream",
     "name": "stdout",
     "text": [
      "Model:  DecisionTreeClassifier\n"
     ]
    },
    {
     "output_type": "display_data",
     "data": {
      "text/plain": [
       "array([[ 8,  0,  0],\n",
       "       [ 0, 12,  0],\n",
       "       [ 0,  0, 10]], dtype=int64)"
      ]
     },
     "metadata": {}
    }
   ],
   "metadata": {}
  },
  {
   "cell_type": "markdown",
   "source": [
    "### Test Simple 1"
   ],
   "metadata": {}
  },
  {
   "cell_type": "code",
   "execution_count": 10,
   "source": [
    "np.random.seed(seed=0)\r\n",
    "n_samples = 500\r\n",
    "f0 = [-1, 2]\r\n",
    "f1 = [2, -1]\r\n",
    "cov = [[1.0,0.8], [0.8, 1.0]]\r\n",
    "f0 = np.random.multivariate_normal(f0, cov, n_samples // 2)\r\n",
    "f1 = np.random.multivariate_normal(f1, cov, n_samples // 2)\r\n",
    "X = np.concatenate([f0, f1])\r\n",
    "y = np.concatenate([\r\n",
    "    np.full(n_samples // 2, 1),\r\n",
    "    np.full(n_samples // 2, -1)\r\n",
    "])\r\n",
    "result = classification_problem(X,y,classification_models)\r\n",
    "\r\n",
    "for name, conf_matrix in result:\r\n",
    "    print('Model: ',name)\r\n",
    "    display(conf_matrix)"
   ],
   "outputs": [
    {
     "output_type": "stream",
     "name": "stdout",
     "text": [
      "Model:  SGDClassifier\n"
     ]
    },
    {
     "output_type": "display_data",
     "data": {
      "text/plain": [
       "array([[43,  0],\n",
       "       [ 0, 57]], dtype=int64)"
      ]
     },
     "metadata": {}
    },
    {
     "output_type": "stream",
     "name": "stdout",
     "text": [
      "Model:  SVC\n"
     ]
    },
    {
     "output_type": "display_data",
     "data": {
      "text/plain": [
       "array([[43,  0],\n",
       "       [ 0, 57]], dtype=int64)"
      ]
     },
     "metadata": {}
    },
    {
     "output_type": "stream",
     "name": "stdout",
     "text": [
      "Model:  DecisionTreeClassifier\n"
     ]
    },
    {
     "output_type": "display_data",
     "data": {
      "text/plain": [
       "array([[43,  0],\n",
       "       [ 0, 57]], dtype=int64)"
      ]
     },
     "metadata": {}
    }
   ],
   "metadata": {}
  },
  {
   "cell_type": "markdown",
   "source": [
    "### Test Simple 2"
   ],
   "metadata": {}
  },
  {
   "cell_type": "code",
   "execution_count": 11,
   "source": [
    "X = np.array([\r\n",
    "    [-0.44699 , -2.8073  ],[-1.4621  , -2.4586  ],\r\n",
    "    [ 0.10645 ,  1.9242  ],[-3.5944  , -4.0112  ],\r\n",
    "    [-0.9888  ,  4.5718  ],[-3.1625  , -3.9606  ],\r\n",
    "    [ 0.56421 ,  0.72888 ],[-0.60216 ,  8.4636  ],\r\n",
    "    [-0.61251 , -0.75345 ],[-0.73535 , -2.2718  ],\r\n",
    "    [-0.80647 , -2.2135  ],[ 0.86291 ,  2.3946  ],\r\n",
    "    [-3.1108  ,  0.15394 ],[-2.9362  ,  2.5462  ],\r\n",
    "    [-0.57242 , -2.9915  ],[ 1.4771  ,  3.4896  ],\r\n",
    "    [ 0.58619 ,  0.37158 ],[ 0.6017  ,  4.3439  ],\r\n",
    "    [-2.1086  ,  8.3428  ],[-4.1013  , -4.353   ],\r\n",
    "    [-1.9948  , -1.3927  ],[ 0.35084 , -0.031994],\r\n",
    "    [ 0.96765 ,  7.8929  ],[-1.281   , 15.6824  ],\r\n",
    "    [ 0.96765 , 10.083   ],[ 1.3763  ,  1.3347  ],\r\n",
    "    [-2.234   , -2.5323  ],[-2.9452  , -1.8219  ],\r\n",
    "    [ 0.14654 , -0.28733 ],[ 0.5461  ,  5.8245  ],\r\n",
    "    [-0.65259 ,  9.3444  ],[ 0.59912 ,  5.3524  ],\r\n",
    "    [ 0.50214 , -0.31818 ],[-3.0603  , -3.6461  ],\r\n",
    "    [-6.6797  ,  0.67661 ],[-2.353   , -0.72261 ],\r\n",
    "    [ 1.1319  ,  2.4023  ],[-0.12243 ,  9.0162  ],\r\n",
    "    [-2.5677  , 13.1779  ],[ 0.057313,  5.4681  ],\r\n",
    "])\r\n",
    "y = np.array([0, 0, 0, 0, 0, 0, 0, 0, 0, 0, 0, 0, 0, 0, 0, 0, 0, 0, 0, 0, 1, 1,\r\n",
    "       1, 1, 1, 1, 1, 1, 1, 1, 1, 1, 1, 1, 1, 1, 1, 1, 1, 1])\r\n",
    "\r\n",
    "result = classification_problem(X,y,classification_models)\r\n",
    "\r\n",
    "for name, conf_matrix in result:\r\n",
    "    print('Model: ',name)\r\n",
    "    display(conf_matrix)"
   ],
   "outputs": [
    {
     "output_type": "stream",
     "name": "stdout",
     "text": [
      "Model:  SGDClassifier\n"
     ]
    },
    {
     "output_type": "display_data",
     "data": {
      "text/plain": [
       "array([[2, 2],\n",
       "       [1, 3]], dtype=int64)"
      ]
     },
     "metadata": {}
    },
    {
     "output_type": "stream",
     "name": "stdout",
     "text": [
      "Model:  SVC\n"
     ]
    },
    {
     "output_type": "display_data",
     "data": {
      "text/plain": [
       "array([[1, 3],\n",
       "       [1, 3]], dtype=int64)"
      ]
     },
     "metadata": {}
    },
    {
     "output_type": "stream",
     "name": "stdout",
     "text": [
      "Model:  DecisionTreeClassifier\n"
     ]
    },
    {
     "output_type": "display_data",
     "data": {
      "text/plain": [
       "array([[2, 2],\n",
       "       [0, 4]], dtype=int64)"
      ]
     },
     "metadata": {}
    }
   ],
   "metadata": {}
  },
  {
   "cell_type": "markdown",
   "source": [
    "# Problem 3 - Creating a code to solve the regression problem"
   ],
   "metadata": {}
  },
  {
   "cell_type": "code",
   "execution_count": 13,
   "source": [
    "from sklearn.metrics import mean_squared_error\r\n",
    "from sklearn.linear_model import SGDRegressor\r\n",
    "def regression_problem(X, Y, model , test_size = 0.2):\r\n",
    "    random_state=11\r\n",
    "    x_train, x_test,y_train,y_test = train_test_split(X,Y,test_size = test_size, random_state = random_state)\r\n",
    "    model.fit(x_train,y_train)\r\n",
    "    y_pred = model.predict(x_test)\r\n",
    "    result = (model.__class__.__name__,mean_squared_error(y_test, y_pred, squared = False))\r\n",
    "    \r\n",
    "#     print('pred',y_pred,'real',y_test)\r\n",
    "    index = np.arange(y_pred.shape[0])\r\n",
    "    plt.plot(index,y_pred, label = 'Prediction')\r\n",
    "    plt.plot(index,y_test, label = 'Real Value')\r\n",
    "    plt.legend()\r\n",
    "    plt.show()\r\n",
    "    \r\n",
    "    return result\r\n",
    "\r\n",
    "from sklearn.preprocessing import StandardScaler\r\n",
    "house_data = pd.read_csv('houseprice_train.csv')\r\n",
    "hou_x = StandardScaler().fit_transform(house_data[['GrLivArea','YearBuilt']])\r\n",
    "hou_y = house_data['SalePrice']\r\n",
    "model =  SGDRegressor()\r\n",
    "result = regression_problem(hou_x,hou_y,model)\r\n",
    "print('Model: ', result[0], 'RMSE: ', result[1])"
   ],
   "outputs": [
    {
     "output_type": "display_data",
     "data": {
      "text/plain": [
       "<Figure size 432x288 with 1 Axes>"
      ],
      "image/png": "[encoded data removed]"
     },
     "metadata": {
      "needs_background": "light"
     }
    },
    {
     "output_type": "stream",
     "name": "stdout",
     "text": [
      "Model:  SGDRegressor RMSE:  47595.199344986155\n"
     ]
    }
   ],
   "metadata": {}
  },
  {
   "cell_type": "markdown",
   "source": [
    "-----------------------------------------------------------------------"
   ],
   "metadata": {}
  },
  {
   "cell_type": "markdown",
   "source": [
    "This is the end of my assignment, thank you for your reading!"
   ],
   "metadata": {}
  }
 ],
 "metadata": {
  "orig_nbformat": 4,
  "language_info": {
   "name": "python",
   "version": "3.9.0",
   "mimetype": "text/x-python",
   "codemirror_mode": {
    "name": "ipython",
    "version": 3
   },
   "pygments_lexer": "ipython3",
   "nbconvert_exporter": "python",
   "file_extension": ".py"
  },
  "kernelspec": {
   "name": "python3",
   "display_name": "Python 3.9.0 64-bit"
  },
  "interpreter": {
   "hash": "cf6663ca35ebd57d6121109460e534e72c1e1f8ff142ad985cdcb4b7e585eb79"
  }
 },
 "nbformat": 4,
 "nbformat_minor": 2
}