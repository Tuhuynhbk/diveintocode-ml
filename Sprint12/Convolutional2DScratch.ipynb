{
 "cells": [
  {
   "cell_type": "markdown",
   "metadata": {},
   "source": [
    "# Student Name: Huynh Truong Tu\n",
    " Below is my assignment for Sprint12's \"Convolutional 2D Scratch\""
   ]
  },
  {
   "cell_type": "markdown",
   "metadata": {},
   "source": [
    "--------------------------------------------------------------------------------------------"
   ]
  },
  {
   "cell_type": "markdown",
   "metadata": {},
   "source": [
    "# Introduction"
   ]
  },
  {
   "cell_type": "code",
   "execution_count": 12,
   "metadata": {},
   "outputs": [],
   "source": [
    "import numpy as np\n",
    "import pandas as pd\n",
    "import matplotlib.pyplot as plt\n",
    "import seaborn as sns\n",
    "\n",
    "def println(*str):\n",
    "    for i in str:\n",
    "        print(i)"
   ]
  },
  {
   "cell_type": "markdown",
   "metadata": {},
   "source": [
    "# Test Forward Propagation (problem 2)"
   ]
  },
  {
   "cell_type": "code",
   "execution_count": 13,
   "metadata": {},
   "outputs": [
    {
     "name": "stdout",
     "output_type": "stream",
     "text": [
      "n_in 1\n",
      "n_out 2\n",
      "dim (4, 4)\n",
      "kernel_size (3, 3)\n",
      "X\n",
      "(1, 4, 4)\n",
      "[[[ 1  2  3  4]\n",
      "  [ 5  6  7  8]\n",
      "  [ 9 10 11 12]\n",
      "  [13 14 15 16]]]\n",
      "W\n",
      "(2, 1, 3, 3)\n",
      "[[[[ 0.  0.  0.]\n",
      "   [ 0.  1.  0.]\n",
      "   [ 0. -1.  0.]]]\n",
      "\n",
      "\n",
      " [[[ 0.  0.  0.]\n",
      "   [ 0. -1.  1.]\n",
      "   [ 0.  0.  0.]]]]\n",
      "B\n",
      "[0 0]\n"
     ]
    }
   ],
   "source": [
    "# creating data, weight and bias\n",
    "np.random.seed(0)\n",
    "n_in = 1\n",
    "n_out = 2\n",
    "dim = (4,4)\n",
    "kernel_size = (3,3)\n",
    "print('n_in', n_in)\n",
    "print('n_out', n_out)\n",
    "print('dim',dim)\n",
    "print('kernel_size', kernel_size)\n",
    "\n",
    "# X = np.random.randint(0,10,(n_in, *dim))\n",
    "X = np.array([[[ 1,  2,  3,  4],\n",
    "                [ 5,  6,  7,  8],\n",
    "                [ 9, 10, 11, 12],\n",
    "                [13, 14, 15, 16]]])\n",
    "println('X',X.shape,  X)\n",
    "\n",
    "dup_needed = True\n",
    "# W = np.random.randint(0,2,(n_out, n_in, *kernel_size)) #init kernel\n",
    "W = np.array([[[[ 0.,  0.,  0.],\n",
    "               [ 0.,  1.,  0.],\n",
    "               [ 0., -1.,  0.]]],\n",
    "              [[[ 0.,  0.,  0.],\n",
    "               [ 0., -1.,  1.],\n",
    "               [ 0.,  0.,  0.]]]])\n",
    "B = np.random.randint(0,1, n_out)\n",
    "println('W', W.shape, W)\n",
    "println('B', B)"
   ]
  },
  {
   "cell_type": "code",
   "execution_count": 14,
   "metadata": {},
   "outputs": [
    {
     "name": "stdout",
     "output_type": "stream",
     "text": [
      "X\n",
      "(2, 1, 4, 4)\n",
      "[[[[ 1  2  3  4]\n",
      "   [ 5  6  7  8]\n",
      "   [ 9 10 11 12]\n",
      "   [13 14 15 16]]]\n",
      "\n",
      "\n",
      " [[[ 1  2  3  4]\n",
      "   [ 5  6  7  8]\n",
      "   [ 9 10 11 12]\n",
      "   [13 14 15 16]]]]\n"
     ]
    }
   ],
   "source": [
    "# duplicate X to match n_out\n",
    "if dup_needed:\n",
    "    X = np.vstack([[X]] * n_out)\n",
    "    println('X', X.shape, X)"
   ]
  },
  {
   "cell_type": "code",
   "execution_count": 15,
   "metadata": {},
   "outputs": [
    {
     "name": "stdout",
     "output_type": "stream",
     "text": [
      "expected output shape:  (2, 2)\n",
      "result shape:  (2, 2, 2)\n",
      "Xshape:  (2, 1, 4, 4)\n",
      "convolving at:  0 0\n",
      "4 [-4.  1.]\n",
      "convolving at:  0 1\n",
      "4 [-4.  1.]\n",
      "convolving at:  1 0\n",
      "4 [-4.  1.]\n",
      "convolving at:  1 1\n",
      "4 [-4.  1.]\n",
      "Forward\n",
      "(2, 2, 2)\n",
      "[[[-4. -4.]\n",
      "  [-4. -4.]]\n",
      "\n",
      " [[ 1.  1.]\n",
      "  [ 1.  1.]]]\n"
     ]
    }
   ],
   "source": [
    "# forward\n",
    "\n",
    "in_x, in_y = dim\n",
    "ker_x, ker_y = kernel_size\n",
    "conv_size_x = in_x - ker_x + 1\n",
    "conv_size_y = in_y - ker_y + 1\n",
    "output_shape = (conv_size_x, conv_size_y)\n",
    "result = np.ones((n_out, *output_shape))\n",
    "print('expected output shape: ', output_shape)\n",
    "print('result shape: ', result.shape)\n",
    "print('Xshape: ', X.shape)\n",
    "for i in range(conv_size_x):\n",
    "    for j in range(conv_size_y):\n",
    "        print('convolving at: ', i,j)\n",
    "        temp_x = X[:,:, i : i + ker_x, j : j + ker_y]\n",
    "        # println('before: ', temp_x, temp_x.shape)\n",
    "        temp = temp_x * W\n",
    "        # print(1,temp)\n",
    "        temp = np.sum(temp, axis = (2,3))\n",
    "        # print(2, temp)\n",
    "        temp = np.sum(temp, axis = 1) \n",
    "        # print(3,temp)\n",
    "        result[:,i,j] = temp + B\n",
    "        print(4,result[:,i,j] )\n",
    "\n",
    "println('Forward', result.shape, result)"
   ]
  },
  {
   "cell_type": "markdown",
   "metadata": {},
   "source": [
    "# Test backward prop (problem 2)"
   ]
  },
  {
   "cell_type": "markdown",
   "metadata": {},
   "source": [
    "## NOTEs\n",
    "- Basic backward prop [Ref](https://www.youtube.com/watch?v=i94OvYb6noo)\n",
    "- Using this property of chain rule, plus some clever tricks, we can find a great way to back propagate on conv neural network"
   ]
  },
  {
   "cell_type": "markdown",
   "metadata": {},
   "source": [
    "### In ultra simplification form\n",
    "The formula for forward propagation is basically (super simpilifield):\n",
    "\n",
    "Given z is one cell of the output propagation, x are the selected cells from input X for one convolution, W is kernel and b is bias, the forward prop formula is as follows (for one output cell):\n",
    "$$ z = y + b $$\n",
    "$$ y = \\sum_ix_i*w_i $$"
   ]
  },
  {
   "cell_type": "markdown",
   "metadata": {},
   "source": [
    "So in backward propagation, given $\\frac{dL}{dZ}$, with dz is one cell of dZ\n",
    "$$\\frac{dz}{dy} = \\frac{dz}{db} = 1 \\Rightarrow \\frac{dL}{db} = \\frac{dL}{dz}\\frac{dz}{db} = \\frac{dL}{dz}$$\n",
    "\n",
    "Continuing, let's simply denote any sum $\\sum$  as all the values that has the contribution of (or related to) a cell xi, So:\n",
    "$$\\frac{dL}{dx_i} = \\sum \\frac{dL}{dz}\\frac{dz}{dy}\\frac{dy}{dx_i}$$\n",
    "$$ = \\sum (\\frac{dL}{dz} *1* w_i) $$ \n",
    "with wi being the weight that was use to multiply with xi to get corresponding y\n",
    "\n",
    "To put this in words, the gradient of some $x_i$ is gradient of each of the output cell that $x_i$ contributed to multiply with the corresponding weight of $x_i$ used in that output cell.\n",
    "\n",
    "So our formula is just basically some correct W multiply with some correct dZ. Just need to select the correct ones for each x. Here's an example of the gradient dX for (3,3) input with (2,2) kernel\n",
    "\n",
    "- **X:**\n",
    "$$\\begin{bmatrix} 1 & 2 & 3 \\\\ 4 & 5 & 6 \\\\ 7 & 8 & 9 \\end{bmatrix}$$\n",
    "\n",
    "- **dL/dx**, given the formula i described above, y here is actually dy or dz (i write y for simplicity)\n",
    "\n",
    "$$\\begin{bmatrix}\n",
    "y1w1 & y1w2 + y2w3 & y3w3 \\\\ \n",
    "y1w3 + y3w1 & y1w4 + y2w3 + y3w2 + y4w1 & y2w4 + y4w2 \\\\ \n",
    "y3w3 & y3w4 + y4w3 & y4w4 \n",
    "\\end{bmatrix}$$\n",
    "\n",
    "The way to get this output is to use a clever trick: **convolution + padding + transformed kernel**\n",
    "- We rotate the kernel by 180 degrees\n",
    "- And convove it through the padded gradient dZ (or dY)\n",
    "- In the previoud example, padding is one, after convole gives expected result"
   ]
  },
  {
   "cell_type": "markdown",
   "metadata": {},
   "source": [
    "### Gradient of weight\n",
    "$$ y = \\sum_ix_i*w_i $$\n",
    "\n",
    "Given that, the formula is basically the same, just with different selection of x and z and different output shape\n",
    "\n",
    "We, similar to the above tric, will\n",
    "- Use the gradient of output Z as a kernel\n",
    "- Convolve it through the input X\n",
    "- Result is gradient of kernel W ( or K what ever you call it )"
   ]
  },
  {
   "cell_type": "code",
   "execution_count": 16,
   "metadata": {},
   "outputs": [
    {
     "name": "stdout",
     "output_type": "stream",
     "text": [
      "Grad dZ shape:  (2, 2, 2)\n"
     ]
    }
   ],
   "source": [
    "# sample dZ\n",
    "dZ = np.array([[[ -4,  -4],\n",
    "                   [ 10,  11]],\n",
    "                  [[  1,  -7],\n",
    "                   [  1, -11]]])\n",
    "print('Grad dZ shape: ', dZ.shape)"
   ]
  },
  {
   "cell_type": "code",
   "execution_count": 17,
   "metadata": {},
   "outputs": [],
   "source": [
    "# let's quickly define a convolve method, copying from the forward method\n",
    "def convolve(X,K, B = None): #NOTE: INPUT FOR THIS METHOD MUST HAVE 4 dimensions (out, in, height, width)\n",
    "    in_x, in_y = X.shape[-2], X.shape[-1]\n",
    "    c_out, c_in, ker_x, ker_y = K.shape\n",
    "    B = B if not B is None else np.zeros(c_out)\n",
    "    x_out = in_x - ker_x + 1\n",
    "    y_out = in_y - ker_y + 1\n",
    "    output_shape = (x_out, y_out)\n",
    "    result = np.ones((c_out, *output_shape))\n",
    "    # print('result shape: ', result.shape)\n",
    "    # print('in,out: ', c_in, c_out)\n",
    "    # print('kshape: ', K.shape, 'Xshape: ', X.shape)\n",
    "    for i in range(x_out):\n",
    "        for j in range(y_out):\n",
    "            temp_x = X[:,:, i : i + ker_x, j : j + ker_y]\n",
    "            temp = temp_x * K\n",
    "            temp = np.sum(temp, axis = (2,3))\n",
    "            temp = np.sum(temp, axis = 1) \n",
    "            result[:,i,j] = temp + B\n",
    "\n",
    "    # println('Final convolve result: ', result, result.shape)\n",
    "    return result\n",
    "\n",
    "def flip180(arr, axes = (-2,-1)):\n",
    "    new_arr = np.rot90(arr,2, axes = axes)\n",
    "    return new_arr\n",
    "def padded(arr, pad_size = 1):\n",
    "    return np.pad(arr, ((0,0),(0,0),(pad_size, pad_size),(pad_size, pad_size)), 'constant')\n",
    "def swap_in_out_channels(arr, ax1 = 0, ax2 = 1):\n",
    "    return np.swapaxes(arr, ax1, ax2)"
   ]
  },
  {
   "cell_type": "code",
   "execution_count": 18,
   "metadata": {},
   "outputs": [
    {
     "name": "stdout",
     "output_type": "stream",
     "text": [
      "dZ_dB:  [[[ -4  -4]\n",
      "  [ 10  11]]\n",
      "\n",
      " [[  1  -7]\n",
      "  [  1 -11]]] (2, 2, 2)\n",
      "Dz_dX: \n",
      "[[[  0.   0.   0.   0.]\n",
      "  [  0.  -5.   4.  -7.]\n",
      "  [  0.  13.  27. -11.]\n",
      "  [  0. -10. -11.   0.]]]\n",
      "(1, 4, 4)\n",
      "dZ_dW:\n",
      "[[[30. 27. 24.]\n",
      "  [18. 15. 12.]\n",
      "  [ 6.  3.  0.]]]\n",
      "(1, 3, 3)\n"
     ]
    }
   ],
   "source": [
    "# back prop\n",
    "\n",
    "# remember to flip in/out channel of weights\n",
    "W = swap_in_out_channels(W)\n",
    "\n",
    "# bias gradient\n",
    "dZ_dB = dZ\n",
    "print('dZ_dB: ', dZ_dB, dZ_dB.shape)\n",
    "\n",
    "#z with added dimension\n",
    "dZ = np.stack([dZ]*n_in, axis = 0)\n",
    "# println('Dz: ', dZ, dZ.shape)\n",
    "# x gradient\n",
    "padded_dZ = padded(dZ, pad_size = 2)\n",
    "dZ_dX = convolve(padded_dZ, flip180(W))\n",
    "println('Dz_dX: ', dZ_dX, dZ_dX.shape)\n",
    "# w gradient\n",
    "dZ_dW = convolve(swap_in_out_channels(X), dZ)\n",
    "println('dZ_dW:', dZ_dW, dZ_dW.shape)"
   ]
  },
  {
   "cell_type": "markdown",
   "metadata": {},
   "source": [
    "# Suppporting Classes"
   ]
  },
  {
   "cell_type": "code",
   "execution_count": 19,
   "metadata": {},
   "outputs": [],
   "source": [
    "from numpy.random import default_rng\n",
    "rng = default_rng()\n",
    "\n",
    "class SimpleInitializer:\n",
    "    def __init__(self, sigma = 0.1):\n",
    "        self.sigma = sigma\n",
    "    \n",
    "    def W(self, dimension = ()):\n",
    "        return rng.normal(0, self.sigma, dimension)\n",
    "    \n",
    "    def B(self,n=0):\n",
    "        return rng.normal(0, self.sigma, n)\n",
    "\n",
    "\n",
    "# Test\n",
    "# simp_init = SimpleInitializer()\n",
    "# w = simp_init.W(dimension = (3,2))\n",
    "# b = simp_init.B(2)\n",
    "\n",
    "# println('W', w)\n",
    "# println('B', b)\n",
    "\n",
    "# x = np.random.randint(5,size = (2,3))\n",
    "# println('X', x)\n",
    "\n",
    "# println('x*w + b', x@w + b)"
   ]
  },
  {
   "cell_type": "code",
   "execution_count": 20,
   "metadata": {},
   "outputs": [],
   "source": [
    "class SGD():\n",
    "    def __init__(self, learning_rate = 0.01):\n",
    "        self.learning_rate = learning_rate\n",
    "    def update(self, layer, dW, dB):\n",
    "        layer.W = layer.W - self.learning_rate * dW\n",
    "        layer.B = layer.B - self.learning_rate * dB\n"
   ]
  },
  {
   "cell_type": "markdown",
   "metadata": {},
   "source": [
    "# Problem 1 - 2D Convolutional Layer"
   ]
  },
  {
   "cell_type": "markdown",
   "metadata": {},
   "source": [
    "# CONV2D"
   ]
  },
  {
   "cell_type": "code",
   "execution_count": 21,
   "metadata": {},
   "outputs": [],
   "source": [
    "class Conv2D:\n",
    "    def __init__(self, \n",
    "        initializer = SimpleInitializer(), \n",
    "        optimizer = SGD(), \n",
    "        kernel_size = (3,3), \n",
    "        n_out_channels = 3, \n",
    "        padding = 0, \n",
    "        stride = 1):\n",
    "        #! let's not consider padding and stride at the moment\n",
    "        \n",
    "        self.initializer = initializer\n",
    "        self.optimizer = optimizer\n",
    "        self.kernel_size = kernel_size\n",
    "        self.padding = padding\n",
    "        self.stride = stride\n",
    "        self.n_out = n_out_channels\n",
    "        self.skip_init_weight = False\n",
    "\n",
    "    def forward(self,X):\n",
    "        result = []\n",
    "        for sample in X:\n",
    "            result.append(self._forward(sample))\n",
    "        return np.stack(result,0)\n",
    "\n",
    "    def backward(self,dZ):\n",
    "        result = []\n",
    "        for sample in dZ:\n",
    "            result.append(self._backward(sample))\n",
    "        return np.stack(result,0)\n",
    "\n",
    "    def _forward(self, X):\n",
    "        if X.ndim != 3:\n",
    "            raise 'Input must be 3-dimensional (input_channels, height, width)'\n",
    "        \n",
    "        # init size\n",
    "        self.n_in, self.n_row, self.n_col = X.shape\n",
    "\n",
    "        # init weight and biases\n",
    "        if not self.skip_init_weight:\n",
    "            self.W = self.initializer.W(dimension = (self.n_out, self.n_in, *self.kernel_size))\n",
    "            self.B = self.initializer.B(self.n_out)\n",
    "            self.skip_init_weight = True\n",
    "\n",
    "        # add one duplicated dimension to X\n",
    "        self.X = np.stack([X]*self.n_out)\n",
    "\n",
    "        return self.convolve(self.X, self.W, self.B)\n",
    "\n",
    "    def _backward(self, dZ):\n",
    "        if dZ.ndim != 3:\n",
    "            raise 'Input Gradient must be 3-dimensional (output_channels, height, width)'\n",
    "\n",
    "        # remember to flip in/out channel of weights and X\n",
    "        W = self.swap_in_out_channels(self.W)\n",
    "        X = self.swap_in_out_channels(self.X)\n",
    "        # bias gradient\n",
    "        dZ_dB = dZ.sum(axis = (1,2))\n",
    "        #z with added dimension\n",
    "        dZ = np.stack([dZ]*self.n_in, axis = 0)\n",
    "        # w gradient\n",
    "        dZ_dW = self.convolve(X, dZ)\n",
    "\n",
    "        self.optimizer.update(self, dZ_dW, dZ_dB)\n",
    "\n",
    "        \n",
    "        #z with pad\n",
    "        pad_x, pad_y = self.dz_padsize()\n",
    "        padded_dZ = self.padded(dZ, pad_x, pad_y)\n",
    "        # x gradient\n",
    "        dZ_dX = self.convolve(padded_dZ, self.flip180(W))\n",
    "        return dZ_dX\n",
    "\n",
    "\n",
    "    def convolve(self, X, W, B = None):\n",
    "    #NOTE: INPUT FOR THIS METHOD MUST HAVE 4 dimensions (out, in, height, width)\n",
    "        in_x, in_y = X.shape[-2], X.shape[-1]\n",
    "        c_out, c_in, ker_x, ker_y = W.shape\n",
    "        B = B if not B is None else np.zeros(c_out)\n",
    "        x_out = in_x - ker_x + 1\n",
    "        y_out = in_y - ker_y + 1\n",
    "        output_shape = (x_out, y_out)\n",
    "        result = np.ones((c_out, *output_shape))\n",
    "        for i in range(x_out):\n",
    "            for j in range(y_out):\n",
    "                temp_x = X[:,:, i : i + ker_x, j : j + ker_y]\n",
    "                temp = temp_x * W\n",
    "                temp = np.sum(temp, axis = (2,3))\n",
    "                temp = np.sum(temp, axis = 1) \n",
    "                result[:,i,j] = temp + B\n",
    "        return result\n",
    "    \n",
    "    #! HELPERS\n",
    "\n",
    "    def flip180(self, arr, axes = (-2,-1)):\n",
    "        new_arr = np.rot90(arr,2, axes = axes)\n",
    "        return new_arr\n",
    "    def padded(self, arr, pad_x = 1, pad_y = 1):\n",
    "        return np.pad(arr, ((0,0),(0,0),(pad_x, pad_x),(pad_y, pad_y)), 'constant')\n",
    "    def swap_in_out_channels(self, arr, ax1 = 0, ax2 = 1):\n",
    "        return np.swapaxes(arr, ax1, ax2)\n",
    "    def dz_padsize(self):\n",
    "        return self.kernel_size[0] - 1, self.kernel_size[1] - 1"
   ]
  },
  {
   "cell_type": "code",
   "execution_count": 22,
   "metadata": {},
   "outputs": [
    {
     "name": "stdout",
     "output_type": "stream",
     "text": [
      "2 1\n",
      "Forward (Z): \n",
      "(1, 2, 2, 2)\n",
      "[[[[-4. -4.]\n",
      "   [-4. -4.]]\n",
      "\n",
      "  [[ 1.  1.]\n",
      "   [ 1.  1.]]]]\n",
      "Backward: (dZ/dX) \n",
      "(1, 1, 4, 4)\n",
      "[[[[  0.   0.   0.   0.]\n",
      "   [  0.  -5.   4.  -7.]\n",
      "   [  0.  13.  27. -11.]\n",
      "   [  0. -10. -11.   0.]]]]\n"
     ]
    }
   ],
   "source": [
    "# Test conv2D\n",
    "\n",
    "cnn = Conv2D(kernel_size = (3,3), n_out_channels = 2)\n",
    "cnn.skip_init_weight = True\n",
    "cnn.W = W\n",
    "cnn.B = B\n",
    "\n",
    "X = np.array([[[[ 1,  2,  3,  4],\n",
    "                [ 5,  6,  7,  8],\n",
    "                [ 9, 10, 11, 12],\n",
    "                [13, 14, 15, 16]]]])\n",
    "cnn.W = np.array([[[[ 0.,  0.,  0.],\n",
    "               [ 0.,  1.,  0.],\n",
    "               [ 0., -1.,  0.]]],\n",
    "              [[[ 0.,  0.,  0.],\n",
    "               [ 0., -1.,  1.],\n",
    "               [ 0.,  0.,  0.]]]])\n",
    "cnn.B = np.array([0,0])\n",
    "forward = cnn.forward(X)\n",
    "print(cnn.n_out, cnn.n_in)\n",
    "\n",
    "# sample dZ\n",
    "dZ = np.array([[[[ -4,  -4],\n",
    "                   [ 10,  11]],\n",
    "                  [[  1,  -7],\n",
    "                   [  1, -11]]]])\n",
    "backward = cnn.backward(dZ)\n",
    "\n",
    "println('Forward (Z): ', forward.shape, forward)\n",
    "println('Backward: (dZ/dX) ', backward.shape, backward)"
   ]
  },
  {
   "cell_type": "markdown",
   "metadata": {},
   "source": [
    "# Problem 3 - Output size after 2-dimensional convolution"
   ]
  },
  {
   "cell_type": "code",
   "execution_count": 23,
   "metadata": {},
   "outputs": [
    {
     "name": "stdout",
     "output_type": "stream",
     "text": [
      "Conv dim:  [4 4]\n"
     ]
    }
   ],
   "source": [
    "def conv_dim(dim, ker, pad, stride):\n",
    "    dim, ker, pad, stride = np.array(dim), np.array(ker), np.array(pad), np.array(stride)\n",
    "    result = (dim + 2 * pad - ker)/stride + 1\n",
    "    return result.astype(np.int64)\n",
    "\n",
    "dim = (4,4)\n",
    "ker = (2,2)\n",
    "pad = (2,2)\n",
    "stride = (2,2)\n",
    "print('Conv dim: ', conv_dim(dim, ker, pad, stride)) \n"
   ]
  },
  {
   "cell_type": "markdown",
   "metadata": {},
   "source": [
    "# Problem 4 - Creation of max pooling layer"
   ]
  },
  {
   "cell_type": "code",
   "execution_count": 24,
   "metadata": {},
   "outputs": [],
   "source": [
    "from numpy import unravel_index\n",
    "class MaxPool2D():\n",
    "    def __init__(self, pool_size = (2,2), padding = (0,0), stride = (1,1)):\n",
    "        self.pool_size = pool_size\n",
    "        self.padding = padding\n",
    "        self.stride = stride\n",
    "\n",
    "    def forward(self,X):\n",
    "        result = []\n",
    "        for sample in X:\n",
    "            result.append(self._forward(sample))\n",
    "        return np.stack(result,0)\n",
    "\n",
    "    def backward(self,dZ):\n",
    "        result = []\n",
    "        for sample in dZ:\n",
    "            result.append(self._backward(sample))\n",
    "        return np.stack(result,0)\n",
    "\n",
    "    def _forward(self, X):\n",
    "        if X.ndim != 3: raise 'Invalid dimension, must be 3 (in, height, width)'\n",
    "\n",
    "        self.dim = X.shape[1:]\n",
    "        self.out_x, self.out_y = conv_dim(self.dim, self.pool_size, self.padding, self.stride)\n",
    "\n",
    "        output = []\n",
    "        self.max_indexes_array = []\n",
    "        for X_channel in X:\n",
    "            pool_result, max_indexes = self.pool_channel(X_channel)\n",
    "            output.append(pool_result)\n",
    "            self.max_indexes_array.append(max_indexes)\n",
    "        return np.stack(output, 0)\n",
    "    \n",
    "    def pool_channel(self, X):\n",
    "        output = np.zeros((self.out_x, self.out_y))\n",
    "        x_pool, y_pool = self.pool_size\n",
    "        max_indexes = []\n",
    "        for i in range(self.out_x):\n",
    "            for j in range(self.out_y):\n",
    "                temp_x = X[i : i + x_pool,j : j + y_pool]\n",
    "\n",
    "                kernel_max_index = unravel_index(temp_x.argmax(), temp_x.shape)\n",
    "                max_index = (kernel_max_index[0] + i, kernel_max_index[1] + j)\n",
    "                output[i,j] = X[max_index]\n",
    "                max_indexes.append(max_index)\n",
    "        return output, max_indexes\n",
    "\n",
    "    def _backward(self, dZ): \n",
    "        dX = []\n",
    "        for channel, dz in enumerate(dZ):\n",
    "            dx = np.zeros(self.dim)\n",
    "            for i, gradient in enumerate(dz.flatten()):\n",
    "                max_idx = self.max_indexes_array[channel][i]\n",
    "                \n",
    "                dx[max_idx] = gradient\n",
    "            dX.append(dx)\n",
    "        return np.stack(dX, 0) \n",
    "\n",
    "\n"
   ]
  },
  {
   "cell_type": "code",
   "execution_count": 25,
   "metadata": {},
   "outputs": [
    {
     "name": "stdout",
     "output_type": "stream",
     "text": [
      "X\n",
      "[[[[ 0  1  2]\n",
      "   [ 3  4  5]\n",
      "   [ 6  7  8]]\n",
      "\n",
      "  [[ 9 10 11]\n",
      "   [12 13 14]\n",
      "   [15 16 17]]\n",
      "\n",
      "  [[18 19 20]\n",
      "   [21 22 23]\n",
      "   [24 25 26]]]]\n",
      "Pool forward: \n",
      "(1, 3, 2, 2)\n",
      "[[[[ 4.  5.]\n",
      "   [ 7.  8.]]\n",
      "\n",
      "  [[13. 14.]\n",
      "   [16. 17.]]\n",
      "\n",
      "  [[22. 23.]\n",
      "   [25. 26.]]]]\n",
      "dZ\n",
      "[[[[ 0  1]\n",
      "   [ 2  3]]\n",
      "\n",
      "  [[ 4  5]\n",
      "   [ 6  7]]\n",
      "\n",
      "  [[ 8  9]\n",
      "   [10 11]]]]\n",
      "Pool backward: \n",
      "(1, 3, 3, 3)\n",
      "[[[[ 0.  0.  0.]\n",
      "   [ 0.  0.  1.]\n",
      "   [ 0.  2.  3.]]\n",
      "\n",
      "  [[ 0.  0.  0.]\n",
      "   [ 0.  4.  5.]\n",
      "   [ 0.  6.  7.]]\n",
      "\n",
      "  [[ 0.  0.  0.]\n",
      "   [ 0.  8.  9.]\n",
      "   [ 0. 10. 11.]]]]\n"
     ]
    }
   ],
   "source": [
    "# test max pool\n",
    "X = np.arange(27)\n",
    "X = X.reshape((1,3,3,3))\n",
    "println('X', X)\n",
    "pool_layer = MaxPool2D()\n",
    "forward = pool_layer.forward(X)\n",
    "println('Pool forward: ', forward.shape, forward)\n",
    "\n",
    "dZ = np.arange(12)\n",
    "dZ = dZ.reshape((1,3,2,2))\n",
    "println('dZ', dZ)\n",
    "backward = pool_layer.backward(dZ)\n",
    "println('Pool backward: ', backward.shape, backward)"
   ]
  },
  {
   "cell_type": "markdown",
   "metadata": {},
   "source": [
    "# Problem 5 - Average Pooling layer"
   ]
  },
  {
   "cell_type": "code",
   "execution_count": 26,
   "metadata": {},
   "outputs": [],
   "source": [
    "class AveragePool2D():\n",
    "    def __init__(self, pool_size = (2,2), padding = (0,0), stride = (1,1)):\n",
    "        self.pool_size = pool_size\n",
    "        self.padding = padding\n",
    "        self.stride = stride\n",
    "\n",
    "    def _forward(self, X):\n",
    "        if X.ndim != 3: raise 'Invalid dimension, must be 3 (in, height, width)'\n",
    "\n",
    "        self.dim = X.shape[1:]\n",
    "        out_dim = conv_dim(self.dim, self.pool_size, self.padding, self.stride)\n",
    "        \n",
    "        return self.pool_full(X, out_dim)\n",
    "        \n",
    "    def forward(self,X):\n",
    "        result = []\n",
    "        for sample in X:\n",
    "            result.append(self._forward(sample))\n",
    "        return np.stack(result,0)\n",
    "\n",
    "    def backward(self,dZ):\n",
    "        result = []\n",
    "        for sample in dZ:\n",
    "            result.append(self._backward(sample))\n",
    "        return np.stack(result,0)\n",
    "\n",
    "    def pool_full(self, X, out_dim):\n",
    "        output = []\n",
    "        for X_channel in X:\n",
    "            pool_result = self.pool_channel(X_channel, out_dim)\n",
    "            output.append(pool_result)\n",
    "        return np.stack(output, 0)\n",
    "    \n",
    "    def pool_channel(self, X, out_dim):\n",
    "        out_x, out_y = out_dim\n",
    "        output = np.zeros((out_x, out_y))\n",
    "        x_pool, y_pool = self.pool_size\n",
    "        for i in range(out_x):\n",
    "            for j in range(out_y):\n",
    "                temp_x = X[i : i + x_pool, j : j + y_pool]\n",
    "                output[i,j] = temp_x.mean()\n",
    "        return output\n",
    "\n",
    "    def _backward(self, dZ): \n",
    "        pad_x, pad_y = np.array(self.pool_size) - 1\n",
    "        dZ = self.padded(dZ, pad_x, pad_y)\n",
    "\n",
    "        return self.pool_full(dZ, self.dim)\n",
    "    \n",
    "    def padded(self, arr, pad_x = 1, pad_y = 1):\n",
    "        return np.pad(arr, ((0,0),(pad_x, pad_x),(pad_y, pad_y)), 'constant')\n",
    "\n",
    "\n"
   ]
  },
  {
   "cell_type": "code",
   "execution_count": 27,
   "metadata": {},
   "outputs": [
    {
     "name": "stdout",
     "output_type": "stream",
     "text": [
      "X\n",
      "[[[[ 0  1  2]\n",
      "   [ 3  4  5]\n",
      "   [ 6  7  8]]\n",
      "\n",
      "  [[ 9 10 11]\n",
      "   [12 13 14]\n",
      "   [15 16 17]]\n",
      "\n",
      "  [[18 19 20]\n",
      "   [21 22 23]\n",
      "   [24 25 26]]]]\n",
      "dZ\n",
      "[[[[ 0  1]\n",
      "   [ 2  3]]\n",
      "\n",
      "  [[ 4  5]\n",
      "   [ 6  7]]\n",
      "\n",
      "  [[ 8  9]\n",
      "   [10 11]]]]\n",
      "Pool backward: \n",
      "(1, 3, 3, 3)\n",
      "[[[[0.   0.25 0.25]\n",
      "   [0.5  1.5  1.  ]\n",
      "   [0.5  1.25 0.75]]\n",
      "\n",
      "  [[1.   2.25 1.25]\n",
      "   [2.5  5.5  3.  ]\n",
      "   [1.5  3.25 1.75]]\n",
      "\n",
      "  [[2.   4.25 2.25]\n",
      "   [4.5  9.5  5.  ]\n",
      "   [2.5  5.25 2.75]]]]\n"
     ]
    }
   ],
   "source": [
    "# test mean pool\n",
    "X = np.arange(27)\n",
    "X = X.reshape((1,3,3,3))\n",
    "println('X', X)\n",
    "pool_layer = AveragePool2D()\n",
    "forward = pool_layer.forward(X)\n",
    "# println('Pool forward: ', forward.shape, forward)\n",
    "\n",
    "dZ = np.arange(12)\n",
    "dZ = dZ.reshape((1,3,2,2))\n",
    "println('dZ', dZ)\n",
    "backward = pool_layer.backward(dZ)\n",
    "println('Pool backward: ', backward.shape, backward)"
   ]
  },
  {
   "cell_type": "markdown",
   "metadata": {},
   "source": [
    "# Problem 6 - Smoothing"
   ]
  },
  {
   "cell_type": "code",
   "execution_count": 28,
   "metadata": {},
   "outputs": [
    {
     "name": "stdout",
     "output_type": "stream",
     "text": [
      "Pool forward: \n",
      "(3, 9)\n",
      "[[ 0  1  2  3  4  5  6  7  8]\n",
      " [ 9 10 11 12 13 14 15 16 17]\n",
      " [18 19 20 21 22 23 24 25 26]]\n",
      "Pool backward: \n",
      "(3, 1, 3, 3)\n",
      "[[[[ 0  1  2]\n",
      "   [ 3  4  5]\n",
      "   [ 6  7  8]]]\n",
      "\n",
      "\n",
      " [[[ 9 10 11]\n",
      "   [12 13 14]\n",
      "   [15 16 17]]]\n",
      "\n",
      "\n",
      " [[[18 19 20]\n",
      "   [21 22 23]\n",
      "   [24 25 26]]]]\n"
     ]
    }
   ],
   "source": [
    "class FlattenLayer():\n",
    "  def __init__(self): pass\n",
    "  def forward(self, X):\n",
    "    self.input_shape = X.shape\n",
    "    return X.reshape(X.shape[0],-1) #flatten the input dimension, keep the channels\n",
    "\n",
    "  def backward(self,dZ):\n",
    "    return dZ.reshape(self.input_shape)\n",
    "\n",
    "# test mean pool\n",
    "X = np.arange(27)\n",
    "X = X.reshape((3,1,3,3))\n",
    "# println('X', X)\n",
    "flatten_layer = FlattenLayer()\n",
    "forward = flatten_layer.forward(X)\n",
    "println('Pool forward: ', forward.shape, forward)\n",
    "# println('Pool forward: ', forward.shape, forward)\n",
    "\n",
    "dZ = X\n",
    "# println('dZ', dZ)\n",
    "backward = flatten_layer.backward(dZ)\n",
    "println('Pool backward: ', backward.shape, backward)"
   ]
  },
  {
   "cell_type": "markdown",
   "metadata": {},
   "source": [
    "# Problem 7 - Leaning and Estimation"
   ]
  },
  {
   "cell_type": "markdown",
   "metadata": {},
   "source": [
    "# Redefining other needed classes"
   ]
  },
  {
   "cell_type": "markdown",
   "metadata": {},
   "source": [
    "## Activations"
   ]
  },
  {
   "cell_type": "code",
   "execution_count": 29,
   "metadata": {},
   "outputs": [],
   "source": [
    "#! activations..............\n",
    "\n",
    "class ActivationFunction():\n",
    "  def forward(self,A):\n",
    "    pass\n",
    "  def backward(self,dZ):\n",
    "    pass\n",
    "class Tanh(ActivationFunction):\n",
    "  def forward(self,A):\n",
    "    self.A = A\n",
    "    Z = (np.exp(A) - np.exp(-A)) / (np.exp(A) + np.exp(-A))\n",
    "    return Z\n",
    "  def backward(self,dZ):\n",
    "    A = self.A\n",
    "    dA = dZ * (1 - np.tanh(A) ** 2)\n",
    "    return dA\n",
    "  \n",
    "class SoftMax(ActivationFunction):\n",
    "  def forward(self,A):\n",
    "    self.A = A\n",
    "    Z = np.exp(A) / np.sum(np.exp(A), axis = 1).reshape(-1,1)\n",
    "    return Z\n",
    "  def backward(self,Z,Y):\n",
    "    A = self.A\n",
    "    nb = Z.shape[0]\n",
    "    dA = 1/nb * (Z - Y)\n",
    "    return dA\n",
    "class ReLU(ActivationFunction):\n",
    "  def forward(self,A):\n",
    "    self.A = A\n",
    "    relu = A * np.where(A > 0, 1,0)\n",
    "    return relu\n",
    "  def backward(self,dZ):\n",
    "    df = np.where(self.A > 0, 1,0)\n",
    "    dA = dZ * df\n",
    "    return dA"
   ]
  },
  {
   "cell_type": "markdown",
   "metadata": {},
   "source": [
    "## Main Layers"
   ]
  },
  {
   "cell_type": "code",
   "execution_count": 30,
   "metadata": {},
   "outputs": [],
   "source": [
    "class FC:\n",
    "    def __init__(self, n_nodes1, n_nodes2, initializer = SimpleInitializer(), optimizer = SGD()):\n",
    "        # Initialize\n",
    "        self.optimizer = optimizer\n",
    "        self.n_nodes1, self.n_nodes2 = n_nodes1, n_nodes2\n",
    "        # Initialize self.W and self.B using the initializer method\n",
    "        self.W = initializer.W((n_nodes1, n_nodes2))\n",
    "        self.B = initializer.B(n_nodes2)\n",
    "        pass\n",
    "    def forward(self, X):   \n",
    "        self.X = X\n",
    "        A = X @ self.W + self.B\n",
    "        return A\n",
    "    def backward(self, dA):\n",
    "        # update\n",
    "        self.dA = dA\n",
    "        dW = self.calc_dW()\n",
    "        dB = self.calc_dB()\n",
    "        self.dZ = self.calc_dZ()\n",
    "\n",
    "        self.optimizer.update(self, dW, dB)\n",
    "        return self.dZ\n",
    "        # return self.dZ\n",
    "    def calc_dB(self):\n",
    "        dB = self.dA.sum(axis = 0).reshape(1,-1)  \n",
    "        return dB\n",
    "    def calc_dW(self):\n",
    "        dW = self.X.T @ self.dA\n",
    "        return dW\n",
    "    def calc_dZ(self):\n",
    "        dZ = self.dA @ self.W.T\n",
    "        return dZ\n",
    "\n",
    "class Conv1DBatch:\n",
    "  def __init__(self, filter_size = 3, n_input = 2, n_output = 3, optimizer = SGD(), initializer = SimpleInitializer(), padding = 0):\n",
    "    # Initialize\n",
    "    self.optimizer = optimizer\n",
    "    self.filter_size = filter_size\n",
    "    # Initialize self.W and self.B using the initializer method\n",
    "    self.filter_size = filter_size\n",
    "    self.n_input = n_input\n",
    "    self.n_output = n_output\n",
    "\n",
    "    if initializer == None:\n",
    "      self.W = np.ones((n_output, n_input,filter_size))\n",
    "      self.B = np.ones(n_output)\n",
    "    else:\n",
    "      self.W = initializer.W((n_output, n_input, filter_size))\n",
    "      self.B = initializer.B(n_output)\n",
    "    #padding and stride\n",
    "    self.padding = padding\n",
    "        \n",
    "  def forward(self,X): #! NOTE: X must be 3 dimensional (batch_size, channel_count, feature_count)\n",
    "    self.batch_size = len(X)\n",
    "    X = np.pad(X,[(0,0),(0,0),(self.padding, self.padding)], mode = 'constant')\n",
    "    self.X = X\n",
    "    result = []\n",
    "    for x in self.X:\n",
    "      result.append(self._forward_sample(x))\n",
    "    # print('forward: ', np.array(result).shape)\n",
    "    return np.array(result)\n",
    "  def _forward_sample(self,X):    \n",
    "    output = []\n",
    "    for i in range(self.n_output):\n",
    "      filt = self.W[i]\n",
    "      bias = self.B[i]\n",
    "      conv = self.convolve(filt, X)\n",
    "      output.append(conv.sum(axis = 0) + bias)\n",
    "    return np.array(output)\n",
    "\n",
    "  def backward(self, dA):\n",
    "    # update\n",
    "    self.dA = dA\n",
    "    self.dX = []\n",
    "\n",
    "    for i in range(self.batch_size):\n",
    "      dW = self.calc_dW(i)\n",
    "      dB = self.calc_dB(i)\n",
    "      self.dx = self.calc_dx(i)\n",
    "      self.optimizer.update(self, dW, dB)\n",
    "      self.dX.append(self.dx) #! keep updating while calculating error for prev layer\n",
    "      # print('dx: ', i, self.dx.shape,self.dx)\n",
    "    self.dX = np.array(self.dX)\n",
    "    return self.dX\n",
    "    \n",
    "\n",
    "  def calc_dW(self,sample_index):\n",
    "    dW = []\n",
    "    dupped_dA = np.repeat(self.dA[sample_index][:,np.newaxis, : ], self.n_input, axis=1)\n",
    "    for i in range(self.n_output): #convolve each output_channel through X\n",
    "      conv = self.convolve(dupped_dA[i], self.X[sample_index])\n",
    "      dW.append(conv) \n",
    "    return np.array(dW)\n",
    "  def calc_dB(self,sample_index):\n",
    "    return np.array(self.dA[sample_index].sum(axis = 1))\n",
    "\n",
    "  def calc_dx(self, sample_index): #! careful\n",
    "    pad_dA = self.pad_dA(sample_index) #match a with x\n",
    "    flipped_W = np.flip(self.W,axis = 2).reshape(self.n_input,self.n_output, -1) # flip each filter and the in_out dim also\n",
    "    output = []\n",
    "    for i in range(self.n_input):\n",
    "      filt = flipped_W[i]\n",
    "      conv = self.convolve(filt, pad_dA)\n",
    "      output.append(conv.sum(axis = 0))\n",
    "    return np.array(output)\n",
    "  def pad_dA(self,sample_index):\n",
    "    array = self.dA[sample_index]\n",
    "    n_features_in = array.shape[1]\n",
    "    n_features_out = self.X.shape[-1]\n",
    "    filter_size = self.filter_size\n",
    "    padding = (n_features_out - 1 + filter_size - n_features_in) // 2\n",
    "    return self.pad(array, padding)\n",
    "  def pad(self,array,padding):\n",
    "    return np.pad(array,[(0,0),(padding, padding)], mode = 'constant')\n",
    "  def convolve(self,F,X):\n",
    "    A = []\n",
    "    filter_size = F.shape[-1]\n",
    "    feature_count = X.shape[-1]\n",
    "    n_out_features = (feature_count - filter_size) + 1\n",
    "    for i in range(n_out_features):\n",
    "      A.append((X[...,i : i + filter_size] * F).sum(axis=-1))\n",
    "    return np.array(A).T\n",
    "\n",
    "# layer = Conv1DBatch(padding = 2)\n",
    "# X = np.array([[[1,2,3],[4,5,6]], [[2,3,4],[5,6,7]]])\n",
    "# layer.B = np.array([1,2,3])\n",
    "# fr = layer.forward(X)\n",
    "# bk = layer.backward(fr)\n",
    "# println(fr.shape, fr, bk.shape, bk)\n",
    "# X = X.reshape(X.shape[0], -1)\n",
    "# layer = FC(n_nodes1 = X.shape[1], n_nodes2 = 3)\n",
    "# fr = layer.forward(X)\n",
    "# bk = layer.backward(fr)\n",
    "# println(fr.shape, fr, bk.shape, bk)"
   ]
  },
  {
   "cell_type": "markdown",
   "metadata": {},
   "source": [
    "## Others"
   ]
  },
  {
   "cell_type": "code",
   "execution_count": 31,
   "metadata": {},
   "outputs": [],
   "source": [
    "class AdaGrad():\n",
    "    \"\"\"\n",
    "    Stochastic gradient descent\n",
    "    Parameters\n",
    "    ----------\n",
    "    lr : Learning rate\n",
    "    \"\"\"\n",
    "    def __init__(self, lr):\n",
    "        self.lr = lr\n",
    "        self.Hw = 0\n",
    "        self.Hb = 0\n",
    "    def update(self, layer, dW, dB):\n",
    "        \"\"\"\n",
    "        Update weights and biases for a layer\n",
    "        Parameters\n",
    "        ----------\n",
    "        layer : Instance of the layer before update\n",
    "        \"\"\"\n",
    "        #ada weight\n",
    "\n",
    "        eps = 1e-6\n",
    "        self.Hw += dW ** 2\n",
    "        self.Hb += dB ** 2\n",
    "        layer.W += - self.lr * (1 / np.sqrt(self.Hw + eps)) * dW\n",
    "        layer.B += - self.lr * (1 / np.sqrt(self.Hb + eps)) * dB\n",
    "\n",
    "class GetMiniBatch:\n",
    "    \"\"\"\n",
    "Iterator to get a mini-batch\n",
    "    Parameters\n",
    "    ----------\n",
    "    X : The following forms of ndarray, shape (n_samples, n_features)\n",
    "      Training data\n",
    "    y : The following form of ndarray, shape (n_samples, 1)\n",
    "      Correct answer value\n",
    "    batch_size : int\n",
    "      Batch size\n",
    "    seed : int\n",
    "      NumPy random number seed\n",
    "    \"\"\"\n",
    "    def __init__(self, X, y = None, batch_size = 20, seed=0):\n",
    "        self.batch_size = batch_size\n",
    "        np.random.seed(seed)\n",
    "        shuffle_index = np.random.permutation(np.arange(X.shape[0]))\n",
    "        self._X = X[shuffle_index]\n",
    "        self._y = y[shuffle_index] if y is not None else None\n",
    "        self._stop = np.ceil(X.shape[0]/self.batch_size).astype(np.int)\n",
    "    def __len__(self):\n",
    "        return self._stop\n",
    "    def __getitem__(self,item):\n",
    "        p0 = item*self.batch_size\n",
    "        p1 = item*self.batch_size + self.batch_size\n",
    "        if self._y is not None:\n",
    "          return self._X[p0:p1], self._y[p0:p1] \n",
    "        else:\n",
    "          return self._X[p0:p1]       \n",
    "    def __iter__(self):\n",
    "        self._counter = 0\n",
    "        return self\n",
    "    def __next__(self):\n",
    "        if self._counter >= self._stop:\n",
    "            raise StopIteration()\n",
    "        p0 = self._counter*self.batch_size\n",
    "        p1 = self._counter*self.batch_size + self.batch_size\n",
    "        self._counter += 1\n",
    "        if self._y is not None:\n",
    "          return self._X[p0:p1], self._y[p0:p1] \n",
    "        else:\n",
    "          return self._X[p0:p1]\n",
    "\n",
    "class TransparentFunction():\n",
    "    def forward(self,X):\n",
    "        return X\n",
    "    def backward(self,dA):\n",
    "        return dA"
   ]
  },
  {
   "cell_type": "markdown",
   "metadata": {},
   "source": [
    "## Neural network"
   ]
  },
  {
   "cell_type": "code",
   "execution_count": 32,
   "metadata": {},
   "outputs": [],
   "source": [
    "from sklearn.metrics import accuracy_score\n",
    "\n",
    "class DeepNeuralNetworkClassifier():\n",
    "    def __init__(self,encoder, max_iter = 5, lr = 0.1, batch_size = 20 ,\n",
    "               verbose = False, debug = False):\n",
    "        self.epoch = max_iter\n",
    "        self.verbose = verbose\n",
    "        self.debug = debug\n",
    "        self.lr = lr\n",
    "        #other non-parametric vars:\n",
    "        self.encoder = encoder\n",
    "        self.sigma = 0.01\n",
    "        self.batch_size = batch_size # batch size \n",
    "        \n",
    "        #layers and activations\n",
    "        self.layers = []\n",
    "        self.activations = []\n",
    "\n",
    "    def add(self,layer, activation):\n",
    "      self.layers.append(layer)\n",
    "      self.activations.append(activation)\n",
    "        \n",
    "    def enum_layer_act(self, rev = False):\n",
    "      zipped = zip(self.layers, self.activations)\n",
    "      if rev:\n",
    "        return enumerate(reversed(list(zipped)))\n",
    "      return enumerate(zipped)\n",
    "\n",
    "    def forward_prop(self,X):\n",
    "      Z = X\n",
    "      for i, (layer, activation) in self.enum_layer_act():\n",
    "        A = layer.forward(Z)\n",
    "        Z = activation.forward(A)\n",
    "        if self.debug:\n",
    "          print(f'Z{i+1}: ', Z.shape, A.shape)\n",
    "      return Z\n",
    "\n",
    "    def backward_prop(self,Z,y):\n",
    "      dA = self.activations[-1].backward(Z,y)\n",
    "      if self.debug:\n",
    "        print(f'Backward last Y: ', dA.shape)\n",
    "      for i, (layer, activation) in self.enum_layer_act(rev = True):\n",
    "        if i == 0: #last layer has different activation backward!\n",
    "          dZ = layer.backward(dA)\n",
    "          if self.debug:\n",
    "            print(f'Backward layer: {len(self.layers) - (i)} ', dZ.shape)\n",
    "          continue\n",
    "        dA = activation.backward(dZ)\n",
    "        dZ = layer.backward(dA)\n",
    "        if self.debug:\n",
    "          print(f'Backward layer: {len(self.layers) - (i)} ', dZ.shape)\n",
    "        \n",
    "    \n",
    "    def cross_entropy_error(self,Z,y):\n",
    "      return (np.log(Z) * y).sum() / (- len(Z))\n",
    "\n",
    "    def predict(self,X):\n",
    "      y = np.zeros(X.shape[0])\n",
    "      Z  = self.forward_prop(X)\n",
    "      return self.encoder.transform(np.argmax(Z, axis = 1).reshape(-1,1))\n",
    "\n",
    "\n",
    "    def fit(self,X,y, X_val = None, y_val = None):\n",
    "      #prepare\n",
    "      self.n_features = X.shape[1]\n",
    "      self.lenx = len(X)\n",
    "      self.batch_count = len(GetMiniBatch(X,y,batch_size= self.batch_size)) #for debug\n",
    "\n",
    "      if self.verbose:\n",
    "          print('X shape: ', X.shape, 'type: ', X.dtype)\n",
    "          print('Batch count: ', self.batch_count)\n",
    "          # for i, (layer, activation) in self.enum_layer_act():\n",
    "          #   print(f'Layer {i+1}: ', layer.n_nodes1, layer.n_nodes2)\n",
    "          #   print(f'Activ: {i+1}:', activation.__class__.__name__)\n",
    "\n",
    "      #train\n",
    "      self.loss = np.zeros(self.epoch)\n",
    "      self.accuracy = np.zeros(self.epoch)\n",
    "      for i in range(self.epoch): #one full data ilteration\n",
    "          if self.verbose: print('Epoch: ', i)\n",
    "          self.get_mini_batch = GetMiniBatch(X, y, batch_size=self.batch_size)\n",
    "          for idx, (mini_X_train, mini_y_train) in enumerate(self.get_mini_batch):\n",
    "              if self.debug: print('Current batch: ', idx, mini_X_train.shape, mini_y_train.shape)\n",
    "              #train mini_batch\n",
    "              Z = self.forward_prop(mini_X_train)\n",
    "              self.backward_prop(Z,mini_y_train)\n",
    "\n",
    "\n",
    "          #record loss data\n",
    "          if self.debug: print('Predicting and recording loss/acc')\n",
    "          Z = self.forward_prop(X)\n",
    "          self.loss[i] = self.cross_entropy_error(Z,y)\n",
    "          train_pred = self.predict(X)\n",
    "          self.accuracy[i]  = accuracy_score(train_pred,y)\n",
    "          if self.verbose:\n",
    "              print(f'Loss {i}:', self.loss[i])\n",
    "              print(f'Acc {i}:', self.accuracy[i])\n",
    "              \n",
    "      #verbose\n",
    "      if self.verbose:\n",
    "          print('Final train loss:',self.loss[-1])\n",
    "          print('Final train accuracy:',self.accuracy[-1])\n"
   ]
  },
  {
   "cell_type": "code",
   "execution_count": 33,
   "metadata": {},
   "outputs": [],
   "source": [
    "class UpdatedDNN():\n",
    "    def __init__(self,encoder, max_iter = 5, lr = 0.1, batch_size = 20 ,\n",
    "               verbose = False, debug = False):\n",
    "        self.epoch = max_iter\n",
    "        self.verbose = verbose\n",
    "        self.debug = debug\n",
    "        self.lr = lr\n",
    "        #other non-parametric vars:\n",
    "        self.encoder = encoder\n",
    "        self.sigma = 0.01\n",
    "        self.batch_size = batch_size # batch size \n",
    "        \n",
    "        #layers (including activations)\n",
    "        self.layers = []\n",
    "\n",
    "    def add(self,layer):\n",
    "      self.layers.append(layer)\n",
    "        \n",
    "    def enum_layers(self, rev = False):\n",
    "      if rev:\n",
    "        return enumerate(reversed(list(self.layers)))\n",
    "      return enumerate(self.layers)\n",
    "\n",
    "    def forward_prop(self,X):\n",
    "      try:\n",
    "        Z = X\n",
    "        for i, layer in self.enum_layers():\n",
    "          Z = layer.forward(Z)\n",
    "          if self.debug:\n",
    "            print(f'Z{i+1}: ', Z.shape)\n",
    "      except BaseException as e:\n",
    "        println('Error: ', e)\n",
    "        print('ERROR LAYER INFORMATION:', layer.__class__.__name__, 'index: ', i + 1)\n",
    "      return Z\n",
    "\n",
    "    def backward_prop(self,Z,y):\n",
    "      dZ = self.layers[-1].backward(Z,y)\n",
    "      if self.debug:\n",
    "        print(f'Backward last Y: ', dZ.shape)\n",
    "      for i, layer in self.enum_layers(rev = True):\n",
    "        if i == 0: continue #already calculated last backward\n",
    "        dZ = layer.backward(dZ)\n",
    "        if self.debug:\n",
    "          print(f'Backward layer: {len(self.layers) - (i)} ', dZ.shape)\n",
    "        \n",
    "    \n",
    "    def cross_entropy_error(self,Z,y):\n",
    "      return (np.log(Z) * y).sum() / (- len(Z))\n",
    "\n",
    "    def predict(self,X):\n",
    "      y = np.zeros(X.shape[0])\n",
    "      Z  = self.forward_prop(X)\n",
    "      return self.encoder.transform(np.argmax(Z, axis = 1).reshape(-1,1))\n",
    "\n",
    "\n",
    "    def fit(self,X,y, X_val = None, y_val = None):\n",
    "      #prepare\n",
    "      self.n_features = X.shape[1]\n",
    "      self.lenx = len(X)\n",
    "      self.batch_count = len(GetMiniBatch(X,y,batch_size= self.batch_size)) #for debug\n",
    "\n",
    "      if self.verbose:\n",
    "          print('X shape: ', X.shape, 'type: ', X.dtype)\n",
    "          print('Batch count: ', self.batch_count)\n",
    "          for i, layer in self.enum_layers():\n",
    "            print(f'Layer {i+1}: ', layer.__class__.__name__)\n",
    "\n",
    "      #train\n",
    "      self.loss = np.zeros(self.epoch)\n",
    "      self.accuracy = np.zeros(self.epoch)\n",
    "      for i in range(self.epoch): #one full data ilteration\n",
    "          if self.verbose: print('Epoch: ', i)\n",
    "          self.get_mini_batch = GetMiniBatch(X, y, batch_size=self.batch_size)\n",
    "          for idx, (mini_X_train, mini_y_train) in enumerate(self.get_mini_batch):\n",
    "              if self.debug: print('Current batch: ', idx, mini_X_train.shape, mini_y_train.shape)\n",
    "              #train mini_batch\n",
    "              Z = self.forward_prop(mini_X_train)\n",
    "              self.backward_prop(Z,mini_y_train)\n",
    "\n",
    "\n",
    "          #record loss data\n",
    "          if self.debug: print('Predicting and recording loss/acc')\n",
    "          Z = self.forward_prop(X)\n",
    "          self.loss[i] = self.cross_entropy_error(Z,y)\n",
    "          train_pred = self.predict(X)\n",
    "          self.accuracy[i]  = accuracy_score(train_pred,y)\n",
    "          if self.verbose:\n",
    "              print(f'Loss {i}:', self.loss[i])\n",
    "              print(f'Acc {i}:', self.accuracy[i])\n",
    "              \n",
    "      #verbose\n",
    "      if self.verbose:\n",
    "          print('Final train loss:',self.loss[-1])\n",
    "          print('Final train accuracy:',self.accuracy[-1])\n"
   ]
  },
  {
   "cell_type": "markdown",
   "metadata": {},
   "source": [
    "# Data Set"
   ]
  },
  {
   "cell_type": "code",
   "execution_count": 34,
   "metadata": {},
   "outputs": [
    {
     "name": "stdout",
     "output_type": "stream",
     "text": [
      "[(3600, 1, 28, 28), (900, 1, 28, 28), (3600, 10), (900, 10)]\n"
     ]
    },
    {
     "name": "stderr",
     "output_type": "stream",
     "text": [
      "C:\\Users\\ADMIN\\AppData\\Local\\Temp/ipykernel_11904/3022874838.py:14: DeprecationWarning: `np.float` is a deprecated alias for the builtin `float`. To silence this warning, use `float` by itself. Doing this will not modify any behavior and is safe. If you specifically wanted the numpy scalar type, use `np.float64` here.\n",
      "Deprecated in NumPy 1.20; for more details and guidance: https://numpy.org/devdocs/release/1.20.0-notes.html#deprecations\n",
      "  X_train = X_train.astype(np.float)\n",
      "C:\\Users\\ADMIN\\AppData\\Local\\Temp/ipykernel_11904/3022874838.py:15: DeprecationWarning: `np.float` is a deprecated alias for the builtin `float`. To silence this warning, use `float` by itself. Doing this will not modify any behavior and is safe. If you specifically wanted the numpy scalar type, use `np.float64` here.\n",
      "Deprecated in NumPy 1.20; for more details and guidance: https://numpy.org/devdocs/release/1.20.0-notes.html#deprecations\n",
      "  X_test = X_test.astype(np.float)\n"
     ]
    }
   ],
   "source": [
    "#data set\n",
    "from keras.datasets import mnist\n",
    "(X_train, y_train), (X_test, y_test) = mnist.load_data()\n",
    "\n",
    "#random subset since the data is too large\n",
    "from sklearn.model_selection import train_test_split\n",
    "X_train, _, y_train, _ = train_test_split(X_train, y_train, train_size=0.075)\n",
    "\n",
    "#reshape and add one channel to X\n",
    "X_train = np.expand_dims(X_train, axis=1)\n",
    "X_test = np.expand_dims(X_test, axis=1)\n",
    "\n",
    "#scaling\n",
    "X_train = X_train.astype(np.float)\n",
    "X_test = X_test.astype(np.float)\n",
    "X_train /= 255\n",
    "X_test /= 255\n",
    "#one hot encode for multiclass labels!\n",
    "from sklearn.preprocessing import OneHotEncoder\n",
    "enc = OneHotEncoder(handle_unknown='ignore', sparse=False)\n",
    "y_train_one_hot = enc.fit_transform(y_train[:, np.newaxis])\n",
    "y_test_one_hot = enc.transform(y_test[:, np.newaxis])\n",
    "\n",
    "#validation split\n",
    "x_train, x_val, y_train, y_val = train_test_split(X_train, y_train_one_hot, train_size=0.8)\n",
    "print([i.shape for i in [x_train, x_val, y_train, y_val]])"
   ]
  },
  {
   "cell_type": "code",
   "execution_count": 35,
   "metadata": {},
   "outputs": [
    {
     "name": "stdout",
     "output_type": "stream",
     "text": [
      "train shape:  (3600, 1, 28, 28)\n",
      "input features:  1\n",
      "input channels:  20\n"
     ]
    }
   ],
   "source": [
    "# test run deep neural\n",
    "model = UpdatedDNN(enc, debug = False, verbose = True, max_iter = 5)\n",
    "n_in_features = x_train.shape[1]\n",
    "batch_size  = 20\n",
    "print('train shape: ', x_train.shape)\n",
    "print('input features: ', n_in_features)\n",
    "print('input channels: ', batch_size)\n",
    "\n",
    "\n",
    "in_channel = x_train.shape[1]\n",
    "\n",
    "# l1 = Conv1DBatch(filter_size = 3, n_input = in_channel, n_output = 1, optimizer = AdaGrad(0.1))\n",
    "# model.add(l1)\n",
    "# model.add(Tanh())\n",
    "l1 = Conv2D(n_out_channels = 2, kernel_size = (8,8))\n",
    "model.add(l1)\n",
    "model.add(MaxPool2D(pool_size = (5,5)))\n",
    "model.add(ReLU())\n",
    "\n",
    "# l11 = MaxPool()\n",
    "# model.add()\n",
    "lshape = FlattenLayer()\n",
    "model.add(lshape)\n",
    "l2 = FC(578,100, SimpleInitializer(),SGD()) #cause output of conv is 394\n",
    "model.add(l2)\n",
    "model.add(Tanh())\n",
    "l3 = FC(100,10, SimpleInitializer(),SGD())\n",
    "model.add(l3)\n",
    "model.add(SoftMax())\n"
   ]
  },
  {
   "cell_type": "code",
   "execution_count": 36,
   "metadata": {},
   "outputs": [
    {
     "name": "stderr",
     "output_type": "stream",
     "text": [
      "C:\\Users\\ADMIN\\AppData\\Local\\Temp/ipykernel_11904/2850254816.py:47: DeprecationWarning: `np.int` is a deprecated alias for the builtin `int`. To silence this warning, use `int` by itself. Doing this will not modify any behavior and is safe. When replacing `np.int`, you may wish to use e.g. `np.int64` or `np.int32` to specify the precision. If you wish to review your current use, check the release note link for additional information.\n",
      "Deprecated in NumPy 1.20; for more details and guidance: https://numpy.org/devdocs/release/1.20.0-notes.html#deprecations\n",
      "  self._stop = np.ceil(X.shape[0]/self.batch_size).astype(np.int)\n"
     ]
    },
    {
     "name": "stdout",
     "output_type": "stream",
     "text": [
      "xshape:  (3600, 1, 28, 28) yshape:  (3600, 10)\n",
      "X shape:  (3600, 1, 28, 28) type:  float64\n",
      "Batch count:  180\n",
      "Layer 1:  Conv2D\n",
      "Layer 2:  MaxPool2D\n",
      "Layer 3:  ReLU\n",
      "Layer 4:  FlattenLayer\n",
      "Layer 5:  FC\n",
      "Layer 6:  Tanh\n",
      "Layer 7:  FC\n",
      "Layer 8:  SoftMax\n",
      "Epoch:  0\n",
      "Loss 0: 2.1111005587051306\n",
      "Acc 0: 0.3491666666666667\n",
      "Epoch:  1\n"
     ]
    },
    {
     "name": "stderr",
     "output_type": "stream",
     "text": [
      "C:\\Users\\ADMIN\\AppData\\Local\\Temp/ipykernel_11904/2850254816.py:47: DeprecationWarning: `np.int` is a deprecated alias for the builtin `int`. To silence this warning, use `int` by itself. Doing this will not modify any behavior and is safe. When replacing `np.int`, you may wish to use e.g. `np.int64` or `np.int32` to specify the precision. If you wish to review your current use, check the release note link for additional information.\n",
      "Deprecated in NumPy 1.20; for more details and guidance: https://numpy.org/devdocs/release/1.20.0-notes.html#deprecations\n",
      "  self._stop = np.ceil(X.shape[0]/self.batch_size).astype(np.int)\n"
     ]
    },
    {
     "name": "stdout",
     "output_type": "stream",
     "text": [
      "Loss 1: 1.9465130459982158\n",
      "Acc 1: 0.4463888888888889\n",
      "Epoch:  2\n"
     ]
    },
    {
     "name": "stderr",
     "output_type": "stream",
     "text": [
      "C:\\Users\\ADMIN\\AppData\\Local\\Temp/ipykernel_11904/2850254816.py:47: DeprecationWarning: `np.int` is a deprecated alias for the builtin `int`. To silence this warning, use `int` by itself. Doing this will not modify any behavior and is safe. When replacing `np.int`, you may wish to use e.g. `np.int64` or `np.int32` to specify the precision. If you wish to review your current use, check the release note link for additional information.\n",
      "Deprecated in NumPy 1.20; for more details and guidance: https://numpy.org/devdocs/release/1.20.0-notes.html#deprecations\n",
      "  self._stop = np.ceil(X.shape[0]/self.batch_size).astype(np.int)\n"
     ]
    },
    {
     "name": "stdout",
     "output_type": "stream",
     "text": [
      "Loss 2: 1.6486452173237336\n",
      "Acc 2: 0.5502777777777778\n",
      "Epoch:  3\n"
     ]
    },
    {
     "name": "stderr",
     "output_type": "stream",
     "text": [
      "C:\\Users\\ADMIN\\AppData\\Local\\Temp/ipykernel_11904/2850254816.py:47: DeprecationWarning: `np.int` is a deprecated alias for the builtin `int`. To silence this warning, use `int` by itself. Doing this will not modify any behavior and is safe. When replacing `np.int`, you may wish to use e.g. `np.int64` or `np.int32` to specify the precision. If you wish to review your current use, check the release note link for additional information.\n",
      "Deprecated in NumPy 1.20; for more details and guidance: https://numpy.org/devdocs/release/1.20.0-notes.html#deprecations\n",
      "  self._stop = np.ceil(X.shape[0]/self.batch_size).astype(np.int)\n"
     ]
    },
    {
     "name": "stdout",
     "output_type": "stream",
     "text": [
      "Loss 3: 1.4111670297782244\n",
      "Acc 3: 0.5936111111111111\n",
      "Epoch:  4\n"
     ]
    },
    {
     "name": "stderr",
     "output_type": "stream",
     "text": [
      "C:\\Users\\ADMIN\\AppData\\Local\\Temp/ipykernel_11904/2850254816.py:47: DeprecationWarning: `np.int` is a deprecated alias for the builtin `int`. To silence this warning, use `int` by itself. Doing this will not modify any behavior and is safe. When replacing `np.int`, you may wish to use e.g. `np.int64` or `np.int32` to specify the precision. If you wish to review your current use, check the release note link for additional information.\n",
      "Deprecated in NumPy 1.20; for more details and guidance: https://numpy.org/devdocs/release/1.20.0-notes.html#deprecations\n",
      "  self._stop = np.ceil(X.shape[0]/self.batch_size).astype(np.int)\n"
     ]
    },
    {
     "name": "stdout",
     "output_type": "stream",
     "text": [
      "Loss 4: 1.2611756668475704\n",
      "Acc 4: 0.6158333333333333\n",
      "Final train loss: 1.2611756668475704\n",
      "Final train accuracy: 0.6158333333333333\n"
     ]
    }
   ],
   "source": [
    "print('xshape: ', x_train.shape, 'yshape: ', y_train.shape)\n",
    "model.fit(x_train, y_train)"
   ]
  },
  {
   "cell_type": "code",
   "execution_count": 37,
   "metadata": {},
   "outputs": [
    {
     "data": {
      "image/png": "[encoded data removed]",
      "text/plain": [
       "<Figure size 432x288 with 1 Axes>"
      ]
     },
     "metadata": {
      "needs_background": "light"
     },
     "output_type": "display_data"
    },
    {
     "name": "stdout",
     "output_type": "stream",
     "text": [
      "test acc:  0.6144444444444445\n"
     ]
    }
   ],
   "source": [
    "\n",
    "# loss result\n",
    "plt.plot(model.loss, label = 'TrainLoss')\n",
    "plt.plot(model.accuracy, label = 'TrainAccuracy')\n",
    "plt.title('Training Metrics')\n",
    "plt.legend()\n",
    "plt.show()\n",
    "# test result\n",
    "pred = model.predict(x_val)\n",
    "print('test acc: ', accuracy_score(pred, y_val))"
   ]
  },
  {
   "cell_type": "markdown",
   "metadata": {},
   "source": [
    "# Problem 8 - Lenet"
   ]
  },
  {
   "cell_type": "markdown",
   "metadata": {},
   "source": [
    "**Subsampling is the modern equivalent of pooling. Let's make a modern version of it as follows. The activation function was also a sigmoid function back then, but we'll call it ReLU.**\n",
    "\n",
    "1. Convolutional layer Number of output channels 6, filter size 5 x 5, stride 1\n",
    "2. ReLU\n",
    "3. Maximum pooling\n",
    "4. Convolutional layer 16 output channels, filter size 5 x 5, stride 1\n",
    "5. ReLU\n",
    "6. Maximum pooling\n",
    "7. Smoothing\n",
    "8. All coupling layers 120 output nodes\n",
    "9. ReLU\n",
    "10. All coupling layers 84 output nodes\n",
    "11. ReLU\n",
    "12. All coupling layers Number of output nodes 10\n",
    "13. Softmax Functions"
   ]
  },
  {
   "cell_type": "code",
   "execution_count": 38,
   "metadata": {},
   "outputs": [],
   "source": [
    "lenet = UpdatedDNN(enc, debug = False, verbose = True, max_iter = 5)\n",
    "layers = [\n",
    "    Conv2D(n_out_channels=6, kernel_size = (5,5)),\n",
    "    ReLU(),\n",
    "    MaxPool2D(pool_size = (2,2)),\n",
    "    Conv2D(n_out_channels=16, kernel_size = (5,5)),\n",
    "    ReLU(),\n",
    "    MaxPool2D(pool_size = (2,2)),\n",
    "    FlattenLayer(),\n",
    "    FC(5184, 120, SimpleInitializer(),SGD()),\n",
    "    ReLU(),\n",
    "    FC(120, 84, SimpleInitializer(),SGD()),\n",
    "    ReLU(),\n",
    "    FC(84, 10, SimpleInitializer(),SGD()),\n",
    "    SoftMax()\n",
    "]\n",
    "\n",
    "[lenet.add(layer) for layer in layers];"
   ]
  },
  {
   "cell_type": "code",
   "execution_count": 39,
   "metadata": {},
   "outputs": [
    {
     "name": "stdout",
     "output_type": "stream",
     "text": [
      "xshape:  (3600, 1, 28, 28) yshape:  (3600, 10)\n",
      "X shape:  (3600, 1, 28, 28) type:  float64\n",
      "Batch count:  180\n",
      "Layer 1:  Conv2D\n",
      "Layer 2:  ReLU\n",
      "Layer 3:  MaxPool2D\n",
      "Layer 4:  Conv2D\n",
      "Layer 5:  ReLU\n",
      "Layer 6:  MaxPool2D\n",
      "Layer 7:  FlattenLayer\n",
      "Layer 8:  FC\n",
      "Layer 9:  ReLU\n",
      "Layer 10:  FC\n",
      "Layer 11:  ReLU\n",
      "Layer 12:  FC\n",
      "Layer 13:  SoftMax\n",
      "Epoch:  0\n"
     ]
    },
    {
     "name": "stderr",
     "output_type": "stream",
     "text": [
      "C:\\Users\\ADMIN\\AppData\\Local\\Temp/ipykernel_11904/2850254816.py:47: DeprecationWarning: `np.int` is a deprecated alias for the builtin `int`. To silence this warning, use `int` by itself. Doing this will not modify any behavior and is safe. When replacing `np.int`, you may wish to use e.g. `np.int64` or `np.int32` to specify the precision. If you wish to review your current use, check the release note link for additional information.\n",
      "Deprecated in NumPy 1.20; for more details and guidance: https://numpy.org/devdocs/release/1.20.0-notes.html#deprecations\n",
      "  self._stop = np.ceil(X.shape[0]/self.batch_size).astype(np.int)\n"
     ]
    },
    {
     "name": "stdout",
     "output_type": "stream",
     "text": [
      "Loss 0: 0.5925779678316666\n",
      "Acc 0: 0.8261111111111111\n",
      "Epoch:  1\n"
     ]
    },
    {
     "name": "stderr",
     "output_type": "stream",
     "text": [
      "C:\\Users\\ADMIN\\AppData\\Local\\Temp/ipykernel_11904/2850254816.py:47: DeprecationWarning: `np.int` is a deprecated alias for the builtin `int`. To silence this warning, use `int` by itself. Doing this will not modify any behavior and is safe. When replacing `np.int`, you may wish to use e.g. `np.int64` or `np.int32` to specify the precision. If you wish to review your current use, check the release note link for additional information.\n",
      "Deprecated in NumPy 1.20; for more details and guidance: https://numpy.org/devdocs/release/1.20.0-notes.html#deprecations\n",
      "  self._stop = np.ceil(X.shape[0]/self.batch_size).astype(np.int)\n"
     ]
    },
    {
     "name": "stdout",
     "output_type": "stream",
     "text": [
      "Loss 1: 0.41286158289719116\n",
      "Acc 1: 0.8825\n",
      "Epoch:  2\n"
     ]
    },
    {
     "name": "stderr",
     "output_type": "stream",
     "text": [
      "C:\\Users\\ADMIN\\AppData\\Local\\Temp/ipykernel_11904/2850254816.py:47: DeprecationWarning: `np.int` is a deprecated alias for the builtin `int`. To silence this warning, use `int` by itself. Doing this will not modify any behavior and is safe. When replacing `np.int`, you may wish to use e.g. `np.int64` or `np.int32` to specify the precision. If you wish to review your current use, check the release note link for additional information.\n",
      "Deprecated in NumPy 1.20; for more details and guidance: https://numpy.org/devdocs/release/1.20.0-notes.html#deprecations\n",
      "  self._stop = np.ceil(X.shape[0]/self.batch_size).astype(np.int)\n"
     ]
    },
    {
     "name": "stdout",
     "output_type": "stream",
     "text": [
      "Loss 2: 0.335639330336336\n",
      "Acc 2: 0.9116666666666666\n",
      "Epoch:  3\n"
     ]
    },
    {
     "name": "stderr",
     "output_type": "stream",
     "text": [
      "C:\\Users\\ADMIN\\AppData\\Local\\Temp/ipykernel_11904/2850254816.py:47: DeprecationWarning: `np.int` is a deprecated alias for the builtin `int`. To silence this warning, use `int` by itself. Doing this will not modify any behavior and is safe. When replacing `np.int`, you may wish to use e.g. `np.int64` or `np.int32` to specify the precision. If you wish to review your current use, check the release note link for additional information.\n",
      "Deprecated in NumPy 1.20; for more details and guidance: https://numpy.org/devdocs/release/1.20.0-notes.html#deprecations\n",
      "  self._stop = np.ceil(X.shape[0]/self.batch_size).astype(np.int)\n"
     ]
    },
    {
     "name": "stdout",
     "output_type": "stream",
     "text": [
      "Loss 3: 0.3346265248151593\n",
      "Acc 3: 0.9175\n",
      "Epoch:  4\n"
     ]
    },
    {
     "name": "stderr",
     "output_type": "stream",
     "text": [
      "C:\\Users\\ADMIN\\AppData\\Local\\Temp/ipykernel_11904/2850254816.py:47: DeprecationWarning: `np.int` is a deprecated alias for the builtin `int`. To silence this warning, use `int` by itself. Doing this will not modify any behavior and is safe. When replacing `np.int`, you may wish to use e.g. `np.int64` or `np.int32` to specify the precision. If you wish to review your current use, check the release note link for additional information.\n",
      "Deprecated in NumPy 1.20; for more details and guidance: https://numpy.org/devdocs/release/1.20.0-notes.html#deprecations\n",
      "  self._stop = np.ceil(X.shape[0]/self.batch_size).astype(np.int)\n"
     ]
    },
    {
     "name": "stdout",
     "output_type": "stream",
     "text": [
      "Loss 4: 0.3809345188570333\n",
      "Acc 4: 0.9044444444444445\n",
      "Final train loss: 0.3809345188570333\n",
      "Final train accuracy: 0.9044444444444445\n"
     ]
    }
   ],
   "source": [
    "print('xshape: ', x_train.shape, 'yshape: ', y_train.shape)\n",
    "lenet.fit(x_train, y_train)"
   ]
  },
  {
   "cell_type": "code",
   "execution_count": 40,
   "metadata": {},
   "outputs": [
    {
     "data": {
      "image/png": "[encoded data removed]",
      "text/plain": [
       "<Figure size 432x288 with 1 Axes>"
      ]
     },
     "metadata": {
      "needs_background": "light"
     },
     "output_type": "display_data"
    },
    {
     "name": "stdout",
     "output_type": "stream",
     "text": [
      "test acc:  0.9\n"
     ]
    }
   ],
   "source": [
    "# loss result\n",
    "plt.plot(lenet.loss, label = 'TrainLoss')\n",
    "plt.plot(lenet.accuracy, label = 'TrainAccuracy')\n",
    "plt.title('Training Metrics')\n",
    "plt.legend()\n",
    "plt.show()\n",
    "# test result\n",
    "pred = lenet.predict(x_val)\n",
    "print('test acc: ', accuracy_score(pred, y_val))"
   ]
  },
  {
   "cell_type": "markdown",
   "metadata": {},
   "source": [
    "# Problem 9 - Survey of famous image recognition models"
   ]
  },
  {
   "cell_type": "markdown",
   "metadata": {},
   "source": [
    "## AlexNet\n",
    "\n",
    "- 2012 ImageNet LSVRC-2012 winner, large impact on computer vision ML\n",
    "- ReLU activation after every convolutio or FC layer\n",
    "- This was use on multiple gpus\n",
    "- Pooling was overlapping not like previously non-overlapping methods.\n",
    "\n",
    "## VGG\n",
    "\n",
    "**Very Deep Convolutional Networks for Large-Scale Image Recognition**\n",
    "\n",
    "- A family (VGG16, 19)\n",
    "- 2014, very good even to this day, among top\n",
    "- Model is a bunch of sequential filters, using 3x3 kenels to reduce the params and use ReLU activation\n",
    "- Number of parameters is 138 bil, which makes it quite slower and larger model to train.\n",
    "- Simple and intuitive in it's idea\n",
    "- 1st Rank in the ImageNet ILSVRC-2014"
   ]
  },
  {
   "cell_type": "markdown",
   "metadata": {},
   "source": [
    "# Problem 10 - Calculation of output size and number of parameters"
   ]
  },
  {
   "cell_type": "markdown",
   "metadata": {},
   "source": [
    "**Calculate the output size and the number of parameters for the following three convolution layers. For the number of parameters, please also consider the bias term.**\n",
    "\n",
    "### In general\n",
    "\n",
    "- Weight: n_out_channel * n_in_channel * ker_height * ker_width\n",
    "- Bias: n_out_channel\n",
    "- Output size: n_out_channel * out_height * out_width\n",
    "- out_height, out_width with respect to kernel size, padding and stride\n",
    "\n",
    "### Question 1\n",
    "\n",
    "- Input size : 144 x 144, 3 channels\n",
    "- Filter size: 3 x 3, 6 channels\n",
    "- Stride : 1\n",
    "- Padding: none\n",
    "\n",
    "**Ans:**\n",
    "\n",
    "- W: 6 x 3 x 3 x 3\n",
    "- B: 6\n",
    "- (out_height, out_width): (142, 142)\n",
    "- output: 6 x 142 x 142\n",
    "\n",
    "### Question 2\n",
    "\n",
    "- Input size : 60x60, 24 channels\n",
    "- Filter size: 3 x 3, 48 channels\n",
    "- Stride : 1\n",
    "- Padding: none\n",
    "\n",
    "**Ans:**\n",
    "\n",
    "- W: 48 x 24 x 3 x 3\n",
    "- B: 48\n",
    "- (out_height, out_width): (58, 58)\n",
    "- output: 48 x 58 x 58\n",
    "\n",
    "### Question 3\n",
    "\n",
    "- Input size : 20x20, 10 channels\n",
    "- Filter size: 3 x 3, 20 channels\n",
    "- Stride: 2\n",
    "- Padding: none\n",
    "\n",
    "**Ans:**\n",
    "\n",
    "- W: 20 x 10 x 3 x 3\n",
    "- B: 20\n",
    "- (out_height, out_width): (9, 9)\n",
    "- output: 20 x 9 x 9\n"
   ]
  },
  {
   "cell_type": "markdown",
   "metadata": {},
   "source": [
    "# Problem 11 - Survey on filter size"
   ]
  },
  {
   "cell_type": "markdown",
   "metadata": {},
   "source": [
    "- Smaller is prefered to capture the local connection among pixels and reveal repeating patterns\n",
    "- Odd size filter is prefered since we want the result to be centered, given that most of convolution implementation takes the center as the place for the convolved result. \n",
    "\n",
    "### Size 1x1\n",
    "- Mostly for channel reduction, squashing many channels into one\n",
    "\n",
    "### Size 3x3\n",
    "- The smallest odd size that works\n",
    "- Computational in-expensive"
   ]
  },
  {
   "cell_type": "markdown",
   "metadata": {},
   "source": [
    "--------------------------------------------------------------------------------------------"
   ]
  },
  {
   "cell_type": "markdown",
   "metadata": {},
   "source": [
    "This is the end of my assignment. Thank you for reading!"
   ]
  }
 ],
 "metadata": {
  "interpreter": {
   "hash": "141d363dc4fa48226168697c78b1c392551357d3383cf9fbfe3b78c47f1b89a4"
  },
  "kernelspec": {
   "display_name": "Python 3.9.5 64-bit ('ML': conda)",
   "name": "python3"
  },
  "language_info": {
   "codemirror_mode": {
    "name": "ipython",
    "version": 3
   },
   "file_extension": ".py",
   "mimetype": "text/x-python",
   "name": "python",
   "nbconvert_exporter": "python",
   "pygments_lexer": "ipython3",
   "version": "3.8.10"
  },
  "orig_nbformat": 4
 },
 "nbformat": 4,
 "nbformat_minor": 2
}
