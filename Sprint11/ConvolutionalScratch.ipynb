{
    "cells": [
        {
            "cell_type": "markdown",
            "metadata": {},
            "source": [
                "# Student Name: Huynh Truong Tu\n",
                " Below is my assignment for Sprint11's \"Convolutional Scratch\""
            ]
        },
        {
            "cell_type": "markdown",
            "metadata": {},
            "source": [
                "-----------------------------------------------------------------------------------------"
            ]
        },
        {
            "cell_type": "markdown",
            "metadata": {},
            "source": [
                "# Introduction"
            ]
        },
        {
            "cell_type": "code",
            "execution_count": 1,
            "metadata": {},
            "outputs": [],
            "source": [
                "#needed\n",
                "import pandas as pd\n",
                "import numpy as np\n",
                "import seaborn as sns\n",
                "import matplotlib.pyplot as plt"
            ]
        },
        {
            "cell_type": "markdown",
            "metadata": {},
            "source": [
                "# Needed Old Code"
            ]
        },
        {
            "cell_type": "code",
            "execution_count": 2,
            "metadata": {},
            "outputs": [],
            "source": [
                "#intializer\n",
                "class SimpleInitializer:\n",
                "  def __init__(self, sigma = 0.1):\n",
                "    self.sigma = sigma\n",
                "  def W(self, n_nodes1, n_nodes2):\n",
                "    W = self.sigma * np.random.randn(n_nodes1,n_nodes2)\n",
                "    return W\n",
                "  def B(self, n_nodes2):\n",
                "\n",
                "    B = self.sigma * np.random.randn(1,n_nodes2)\n",
                "    return B\n",
                "class SGD:\n",
                "    \"\"\"\n",
                "    Stochastic gradient descent\n",
                "    Parameters\n",
                "    ----------\n",
                "    lr : Learning rate\n",
                "    \"\"\"\n",
                "    def __init__(self, lr=0.01):\n",
                "        self.lr = lr\n",
                "    def update(self, layer):\n",
                "        \"\"\"\n",
                "        Update weights and biases for a layer\n",
                "        Parameters\n",
                "        ----------\n",
                "        layer : Instance of the layer before update\n",
                "        \"\"\"\n",
                "        #update\n",
                "        layer.B += - self.lr * layer.dB\n",
                "        layer.W += - self.lr * layer.dW\n",
                "        return layer\n",
                "#! mini batch...........................\n",
                "class GetMiniBatch:\n",
                "    \"\"\"\n",
                "Iterator to get a mini-batch\n",
                "    Parameters\n",
                "    ----------\n",
                "    X : The following forms of ndarray, shape (n_samples, n_features)\n",
                "      Training data\n",
                "    y : The following form of ndarray, shape (n_samples, 1)\n",
                "      Correct answer value\n",
                "    batch_size : int\n",
                "      Batch size\n",
                "    seed : int\n",
                "      NumPy random number seed\n",
                "    \"\"\"\n",
                "    def __init__(self, X, y = None, batch_size = 20, seed=0):\n",
                "        self.batch_size = batch_size\n",
                "        np.random.seed(seed)\n",
                "        shuffle_index = np.random.permutation(np.arange(X.shape[0]))\n",
                "        self._X = X[shuffle_index]\n",
                "        self._y = y[shuffle_index] if y is not None else None\n",
                "        self._stop = np.ceil(X.shape[0]/self.batch_size).astype(np.int)\n",
                "    def __len__(self):\n",
                "        return self._stop\n",
                "    def __getitem__(self,item):\n",
                "        p0 = item*self.batch_size\n",
                "        p1 = item*self.batch_size + self.batch_size\n",
                "        if self._y is not None:\n",
                "          return self._X[p0:p1], self._y[p0:p1] \n",
                "        else:\n",
                "          return self._X[p0:p1]       \n",
                "    def __iter__(self):\n",
                "        self._counter = 0\n",
                "        return self\n",
                "    def __next__(self):\n",
                "        if self._counter >= self._stop:\n",
                "            raise StopIteration()\n",
                "        p0 = self._counter*self.batch_size\n",
                "        p1 = self._counter*self.batch_size + self.batch_size\n",
                "        self._counter += 1\n",
                "        if self._y is not None:\n",
                "          return self._X[p0:p1], self._y[p0:p1] \n",
                "        else:\n",
                "          return self._X[p0:p1]"
            ]
        },
        {
            "cell_type": "markdown",
            "metadata": {},
            "source": [
                "# Problem 1 - 1 Dim convolutional Layer that limit number of channels to 1"
            ]
        },
        {
            "cell_type": "markdown",
            "metadata": {},
            "source": [
                "## Forward"
            ]
        },
        {
            "cell_type": "code",
            "execution_count": 3,
            "metadata": {},
            "outputs": [],
            "source": [
                "class SimpleConv1D:\n",
                "  def __init__(self, filter_size, initializer, optimizer):\n",
                "    # Initialize\n",
                "    self.optimizer = optimizer\n",
                "    self.filter_size = filter_size\n",
                "    # Initialize self.W and self.B using the initializer method\n",
                "    self.W = initializer.W(filter_size, 1)\n",
                "    self.B = initializer.B(1)\n",
                "  def forward(self, X):\n",
                "    filter_size = self.filter_size\n",
                "    self.X = X\n",
                "    return self.convolve(self.W,X, bias = self.B)\n",
                "\n",
                "  def backward(self, dA):\n",
                "    # update\n",
                "    self.dA = dA\n",
                "    self.dW = self.calc_dW()\n",
                "    self.dB = self.calc_dB()\n",
                "    self.dX = self.calc_dX()\n",
                "    self = self.optimizer.update(self)\n",
                "    return self.dW, self.dB, self.dX\n",
                "  def calc_dW(self):\n",
                "    return self.convolve(self.dA, self.X)\n",
                "  def calc_dB(self):\n",
                "    return np.array(self.dA.sum()).ravel()\n",
                "  def calc_dX(self):\n",
                "    padA = self.padA()\n",
                "    return self.convolve(np.flip(self.W),padA)\n",
                "  def padA(self):\n",
                "    padding = (len(self.X) - 1 + len(self.W) - len(self.dA)) //2 # cause out = (in - fil + 2pad) + 1\n",
                "    print('Padding size: ', padding)\n",
                "    return np.pad(self.dA,(padding, padding), mode = 'constant')\n",
                "  def convolve(self,F,X,bias = [0]):\n",
                "    A = []\n",
                "    filter_size = len(F)\n",
                "    for i in range(len(X) - filter_size + 1):\n",
                "      A.append(X[i : i + filter_size] @ F + bias[0])\n",
                "    return np.array(A)\n",
                "\n",
                "    \n",
                "  "
            ]
        },
        {
            "cell_type": "markdown",
            "metadata": {},
            "source": [
                "# Problem 2 - Output size calculation"
            ]
        },
        {
            "cell_type": "code",
            "execution_count": 4,
            "metadata": {},
            "outputs": [
                {
                    "name": "stdout",
                    "output_type": "stream",
                    "text": [
                        "Convolutional n-out of input 30 and filter 3: 28\n"
                    ]
                }
            ],
            "source": [
                "def conv_n_out(n_in,filter_size, padding=0, stride=1):\n",
                "    return (n_in + 2*padding - filter_size) //stride + 1\n",
                "print('Convolutional n-out of input 30 and filter 3:', conv_n_out(30,3))"
            ]
        },
        {
            "cell_type": "markdown",
            "metadata": {},
            "source": [
                "# Problem 3 - Experiment of one-dimensional convolutional layer with small array"
            ]
        },
        {
            "cell_type": "code",
            "execution_count": 5,
            "metadata": {},
            "outputs": [
                {
                    "name": "stdout",
                    "output_type": "stream",
                    "text": [
                        "n_output:  2\n",
                        "forward:  [35. 50.] correct result:  [35 50]\n",
                        "Padding size:  2\n",
                        "dB:  [30] correct result:  [30]\n",
                        "dW:  [ 50  80 110] correct result:  [ 50  80 110]\n",
                        "dX:  [ 30. 110. 170. 140.] correct result:  [ 30 110 170 140]\n"
                    ]
                }
            ],
            "source": [
                "x = np.array([1,2,3,4])\n",
                "w = np.array([3, 5, 7], dtype = np.float64)\n",
                "b = np.array([1], dtype = np.float64)\n",
                "layer = SimpleConv1D(3,SimpleInitializer(),SGD())\n",
                "layer.W = w\n",
                "layer.B = b\n",
                "\n",
                "print('n_output: ', conv_n_out(len(x),len(w)))\n",
                "\n",
                "correct_forward_result = np.array([35, 50])\n",
                "a = layer.forward(x)\n",
                "print('forward: ', layer.forward(x), 'correct result: ', correct_forward_result)\n",
                "\n",
                "\n",
                "delta_a = np.array([10, 20])\n",
                "dW,dB,dX = layer.backward(delta_a)\n",
                "\n",
                "\n",
                "correct_delta_b = np.array([30])\n",
                "correct_delta_x = np.array([30, 110, 170, 140])\n",
                "correct_delta_w = np.array([50, 80, 110])\n",
                "print('dB: ', dB, 'correct result: ', correct_delta_b)\n",
                "print('dW: ', dW,'correct result: ', correct_delta_w)\n",
                "print('dX: ', dX, 'correct result: ', correct_delta_x)"
            ]
        },
        {
            "cell_type": "markdown",
            "metadata": {},
            "source": [
                "# Problem 4 - Creating a one-dimensional convolutional layer class that does not limit the number of channels"
            ]
        },
        {
            "cell_type": "markdown",
            "metadata": {},
            "source": [
                "# Updated Prototype (NO STRIDE, NO BATCH)"
            ]
        },
        {
            "cell_type": "code",
            "execution_count": 6,
            "metadata": {},
            "outputs": [],
            "source": [
                "class Conv1D:\n",
                "  def __init__(self, filter_size = 3, n_input = 2, n_output = 3, optimizer = SGD(), padding = 0):\n",
                "    # Initialize\n",
                "    self.optimizer = optimizer\n",
                "    self.filter_size = filter_size\n",
                "    # Initialize self.W and self.B using the initializer method\n",
                "    self.filter_size = filter_size\n",
                "    self.n_input = n_input\n",
                "    self.n_output = n_output\n",
                "\n",
                "    self.W = np.ones((n_output, n_input,filter_size))\n",
                "    self.B = np.ones(n_output)\n",
                "    #padding and stride\n",
                "    self.padding = padding\n",
                "  def forward(self, X): \n",
                "    X = np.pad(X,[(0,0),(self.padding, self.padding)], mode = 'constant')\n",
                "    self.X = X\n",
                "    output = []\n",
                "    for i in range(self.n_output):\n",
                "      filt = self.W[i]\n",
                "      bias = self.B[i]\n",
                "      conv = self.convolve(filt, X)\n",
                "      output.append(conv.sum(axis = 0) + bias)\n",
                "    return np.array(output)\n",
                "  def backward(self, dA):\n",
                "    # update\n",
                "    self.dA = dA\n",
                "    self.dW = self.calc_dW()\n",
                "    self.dB = self.calc_dB()\n",
                "    self.dX = self.calc_dX()\n",
                "    self = self.optimizer.update(self)\n",
                "    # print(f'After backward: x {self.X.shape}, w: {self.W.shape}, b: {self.B.shape}, dX: {self.dX.shape}, dW: {self.dW.shape}, dB: {self.dB.shape}, dA: {self.dA.shape}')\n",
                "    # print(f'filterz: {self.filter_size}')\n",
                "    return self.dW, self.dB, self.dX\n",
                "  def calc_dW(self):\n",
                "    dW = []\n",
                "    dupped_dA = np.repeat(self.dA[:,np.newaxis, : ], self.n_input, axis=1)\n",
                "    for i in range(self.n_output): #convolve each output_channel through X\n",
                "      conv = self.convolve(dupped_dA[i], self.X)\n",
                "      dW.append(conv) \n",
                "    return np.array(dW)\n",
                "  def calc_dB(self):\n",
                "    return np.array(self.dA.sum(axis = 1))\n",
                "  def calc_dX(self):\n",
                "    pad_dA = self.pad_dA() #match a with x\n",
                "    flipped_W = np.flip(self.W,axis = 2).reshape(self.n_input,self.n_output, -1) # flip each filter and the in_out dim also\n",
                "    output = []\n",
                "    for i in range(self.n_input):\n",
                "      filt = flipped_W[i]\n",
                "      conv = self.convolve(filt, pad_dA)\n",
                "      output.append(conv.sum(axis = 0))\n",
                "    return np.array(output)\n",
                "  def pad_dA(self):\n",
                "    n_features_in = self.dA.shape[1]\n",
                "    n_features_out = self.X.shape[1]\n",
                "    filter_size = self.filter_size\n",
                "    padding = (n_features_out - 1 + filter_size - n_features_in) // 2\n",
                "    return self.pad(self.dA, padding)\n",
                "  def pad(self,array,padding):\n",
                "    return np.pad(array,[(0,0),(padding, padding)], mode = 'constant')\n",
                "  def convolve(self,F,X):\n",
                "    A = []\n",
                "    filter_size = F.shape[1]\n",
                "    feature_count = X.shape[1]\n",
                "    n_out_features = (feature_count - filter_size) + 1\n",
                "    for i in range(n_out_features):\n",
                "      A.append((X[:,i : i + filter_size] * F).sum(axis=1))\n",
                "    return np.array(A).T"
            ]
        },
        {
            "cell_type": "markdown",
            "metadata": {},
            "source": [
                "## Forward"
            ]
        },
        {
            "cell_type": "code",
            "execution_count": 8,
            "metadata": {},
            "outputs": [
                {
                    "name": "stdout",
                    "output_type": "stream",
                    "text": [
                        "[[16. 22.]\n",
                        " [17. 23.]\n",
                        " [18. 24.]]\n",
                        "correct: result:  [[16 22]\n",
                        " [17 23]\n",
                        " [18 24]]\n"
                    ]
                }
            ],
            "source": [
                "x = np.array([[1, 2, 3, 4], [2, 3, 4, 5]]) #shape (2, 4), (number of input channels, number of features).\n",
                "w = np.ones((3, 2, 3)) # Set to 1 for simplification of the example. (Number of output channels, number of input channels, filter size).\n",
                "b = np.array([1, 2, 3]) # (Number of output channels)\n",
                "\n",
                "conv = Conv1D(3,2,3)\n",
                "conv.B = b\n",
                "print(conv.forward(x))\n",
                "print('correct: result: ',np.array([[16, 22], [17, 23], [18, 24]]))"
            ]
        },
        {
            "cell_type": "markdown",
            "metadata": {},
            "source": [
                "## Let's user problem 3 as a reference to make the multichannel propagation"
            ]
        },
        {
            "cell_type": "code",
            "execution_count": 9,
            "metadata": {},
            "outputs": [
                {
                    "name": "stdout",
                    "output_type": "stream",
                    "text": [
                        "X:  [[1 2 3 4]\n",
                        " [1 2 3 4]]\n",
                        "w:  [[[3. 5. 7.]\n",
                        "  [3. 5. 7.]]\n",
                        "\n",
                        " [[3. 5. 7.]\n",
                        "  [3. 5. 7.]]\n",
                        "\n",
                        " [[3. 5. 7.]\n",
                        "  [3. 5. 7.]]]\n",
                        "b:  [1. 1. 1.]\n",
                        "forward:  [[69. 99.]\n",
                        " [69. 99.]\n",
                        " [69. 99.]] correct result:  [35 50]\n",
                        "dB:  [30 30 30] correct result:  [30]\n",
                        "dW:  [[[ 50  80 110]\n",
                        "  [ 50  80 110]]\n",
                        "\n",
                        " [[ 50  80 110]\n",
                        "  [ 50  80 110]]\n",
                        "\n",
                        " [[ 50  80 110]\n",
                        "  [ 50  80 110]]] correct result:  [ 50  80 110]\n",
                        "dX:  [[ 90. 330. 510. 420.]\n",
                        " [ 90. 330. 510. 420.]] correct result:  [ 30 110 170 140]\n"
                    ]
                }
            ],
            "source": [
                "x = np.array([1,2,3,4])\n",
                "w = np.array([3, 5, 7], dtype = np.float64)\n",
                "filter_size, n_input,n_output = 3,2,3\n",
                "# print('f,nin,nout: ', filter_size, n_input,n_output)\n",
                "layer = Conv1D()\n",
                "x = np.vstack([x] * n_input)\n",
                "w = np.vstack([[np.vstack([w]*n_input)]] * n_output)\n",
                "b = np.ones(n_output)\n",
                "layer.W = w\n",
                "layer.B = b\n",
                "\n",
                "print('X: ', x)\n",
                "print('w: ', w)\n",
                "print('b: ', b)\n",
                "\n",
                "correct_forward_result = np.array([35, 50])\n",
                "a = layer.forward(x)\n",
                "print('forward: ', layer.forward(x), 'correct result: ', correct_forward_result)\n",
                "\n",
                "\n",
                "delta_a = np.vstack([[10, 20]]* n_output)\n",
                "layer.dA = delta_a\n",
                "dW = layer.calc_dW()\n",
                "dB = layer.calc_dB()\n",
                "dX = layer.calc_dX()\n",
                "\n",
                "print('dB: ', dB, 'correct result: ', correct_delta_b)\n",
                "print('dW: ', dW,'correct result: ', correct_delta_w)\n",
                "print('dX: ', dX, 'correct result: ', correct_delta_x)"
            ]
        },
        {
            "cell_type": "markdown",
            "metadata": {},
            "source": [
                "# Problem 5 - Implement Padding"
            ]
        },
        {
            "cell_type": "markdown",
            "metadata": {},
            "source": [
                "### Note: padding added in prototype"
            ]
        },
        {
            "cell_type": "code",
            "execution_count": 10,
            "metadata": {},
            "outputs": [
                {
                    "name": "stdout",
                    "output_type": "stream",
                    "text": [
                        "x: [[1 2 3 4]\n",
                        " [1 2 3 4]]\n",
                        "padded:\n",
                        " [[0 0 0 1 2 3 4 0 0 0]\n",
                        " [0 0 0 1 2 3 4 0 0 0]]\n"
                    ]
                }
            ],
            "source": [
                "#padding example\n",
                "def add_padding(X, padding_size):\n",
                "    return np.pad(X, ((0,0),(padding_size,padding_size)), mode = 'constant', constant_values = 0)\n",
                "\n",
                "#we are conv 1d so just pad horizontally\n",
                "print(f'x: {x}')\n",
                "print(f'padded:\\n {add_padding(x, 3)}')"
            ]
        },
        {
            "cell_type": "code",
            "execution_count": 11,
            "metadata": {},
            "outputs": [
                {
                    "name": "stdout",
                    "output_type": "stream",
                    "text": [
                        "shapes:  (3, 2, 3) (3,) (2, 8)\n"
                    ]
                }
            ],
            "source": [
                "# test run on prototype just to see if it works\n",
                "padded_layer = Conv1D(padding = 2)\n",
                "a = padded_layer.forward(x)\n",
                "dW,dB,dX = padded_layer.backward(a)\n",
                "print('shapes: ', dW.shape,dB.shape,dX.shape)"
            ]
        },
        {
            "cell_type": "markdown",
            "metadata": {},
            "source": [
                "# Problem 6 - Response to mini batch"
            ]
        },
        {
            "cell_type": "markdown",
            "metadata": {},
            "source": [
                "### NOTE\n",
                "Currently, our layer only works with one sample with many layers\n",
                "\n",
                "**Let's add many samples**\n"
            ]
        },
        {
            "cell_type": "markdown",
            "metadata": {},
            "source": [
                "# Batch Prototype"
            ]
        },
        {
            "cell_type": "code",
            "execution_count": 12,
            "metadata": {},
            "outputs": [],
            "source": [
                "class ConvInitializer:\n",
                "  def __init__(self, sigma = 0.1):\n",
                "    self.sigma = sigma\n",
                "  def W(self, n_output, n_input, filter_size):\n",
                "    W = self.sigma * np.random.randn(n_output, n_input, filter_size)\n",
                "    return W\n",
                "  def B(self, n_output):\n",
                "\n",
                "    B = self.sigma * np.random.randn(n_output)\n",
                "    return B"
            ]
        },
        {
            "cell_type": "code",
            "execution_count": 13,
            "metadata": {},
            "outputs": [],
            "source": [
                "class Conv1DBatch:\n",
                "  def __init__(self, filter_size = 3, n_input = 2, n_output = 3, optimizer = SGD(), initializer = ConvInitializer(), padding = 0):\n",
                "    # Initialize\n",
                "    self.optimizer = optimizer\n",
                "    self.filter_size = filter_size\n",
                "    # Initialize self.W and self.B using the initializer method\n",
                "    self.filter_size = filter_size\n",
                "    self.n_input = n_input\n",
                "    self.n_output = n_output\n",
                "\n",
                "    if initializer == None:\n",
                "      self.W = np.ones((n_output, n_input,filter_size))\n",
                "      self.B = np.ones(n_output)\n",
                "    else:\n",
                "      self.W = initializer.W(n_output, n_input, filter_size)\n",
                "      self.B = initializer.B(n_output)\n",
                "    #padding and stride\n",
                "    self.padding = padding\n",
                "        \n",
                "  def forward(self,X): #! NOTE: X must be 3 dimensional (batch_size, channel_count, feature_count)\n",
                "    self.batch_size = len(X)\n",
                "    X = np.pad(X,[(0,0),(0,0),(self.padding, self.padding)], mode = 'constant')\n",
                "    self.X = X\n",
                "    result = []\n",
                "    for x in self.X:\n",
                "      result.append(self._forward_sample(x))\n",
                "    # print('forward: ', np.array(result).shape)\n",
                "    return np.array(result)\n",
                "  def _forward_sample(self,X):    \n",
                "    output = []\n",
                "    for i in range(self.n_output):\n",
                "      filt = self.W[i]\n",
                "      bias = self.B[i]\n",
                "      conv = self.convolve(filt, X)\n",
                "      output.append(conv.sum(axis = 0) + bias)\n",
                "    return np.array(output)\n",
                "\n",
                "  def backward(self, dA):\n",
                "    # update\n",
                "    self.dA = dA\n",
                "    self.dX = []\n",
                "\n",
                "    for i in range(self.batch_size):\n",
                "      self.dW = self.calc_dW(i)\n",
                "      self.dB = self.calc_dB(i)\n",
                "      self.dx = self.calc_dx(i)\n",
                "      self = self.optimizer.update(self)\n",
                "      self.dX.append(self.dx) #! keep updating while calculating error for prev layer\n",
                "      # print('dx: ', i, self.dx.shape,self.dx)\n",
                "    self.dX = np.array(self.dX)\n",
                "    return self.dW, self.dB , self.dX\n",
                "    \n",
                "\n",
                "  def calc_dW(self,sample_index):\n",
                "    dW = []\n",
                "    dupped_dA = np.repeat(self.dA[sample_index][:,np.newaxis, : ], self.n_input, axis=1)\n",
                "    for i in range(self.n_output): #convolve each output_channel through X\n",
                "      conv = self.convolve(dupped_dA[i], self.X[sample_index])\n",
                "      dW.append(conv) \n",
                "    return np.array(dW)\n",
                "  def calc_dB(self,sample_index):\n",
                "    return np.array(self.dA[sample_index].sum(axis = 1))\n",
                "\n",
                "  def calc_dx(self, sample_index): #! careful\n",
                "    pad_dA = self.pad_dA(sample_index) #match a with x\n",
                "    flipped_W = np.flip(self.W,axis = 2).reshape(self.n_input,self.n_output, -1) # flip each filter and the in_out dim also\n",
                "    output = []\n",
                "    for i in range(self.n_input):\n",
                "      filt = flipped_W[i]\n",
                "      conv = self.convolve(filt, pad_dA)\n",
                "      output.append(conv.sum(axis = 0))\n",
                "    return np.array(output)\n",
                "  def pad_dA(self,sample_index):\n",
                "    array = self.dA[sample_index]\n",
                "    n_features_in = array.shape[1]\n",
                "    n_features_out = self.X.shape[-1]\n",
                "    filter_size = self.filter_size\n",
                "    padding = (n_features_out - 1 + filter_size - n_features_in) // 2\n",
                "    return self.pad(array, padding)\n",
                "  def pad(self,array,padding):\n",
                "    return np.pad(array,[(0,0),(padding, padding)], mode = 'constant')\n",
                "  def convolve(self,F,X):\n",
                "    A = []\n",
                "    filter_size = F.shape[-1]\n",
                "    feature_count = X.shape[-1]\n",
                "    n_out_features = (feature_count - filter_size) + 1\n",
                "    for i in range(n_out_features):\n",
                "      A.append((X[...,i : i + filter_size] * F).sum(axis=-1))\n",
                "    return np.array(A).T\n",
                "\n",
                "# layer = Conv1DBatch(padding = 2)\n",
                "# X = np.array([[[1,2,3],[4,5,6]], [[2,3,4],[5,6,7]]])\n",
                "# layer.B = np.array([1,2,3])\n",
                "# fr = layer.forward(X)\n",
                "# print(fr.shape, fr)"
            ]
        },
        {
            "cell_type": "code",
            "execution_count": 14,
            "metadata": {},
            "outputs": [
                {
                    "name": "stdout",
                    "output_type": "stream",
                    "text": [
                        "(2, 2, 4) [[[1 2 3 4]\n",
                        "  [1 2 3 4]]\n",
                        "\n",
                        " [[1 2 3 4]\n",
                        "  [1 2 3 4]]]\n",
                        "[[[69. 99.]\n",
                        "  [69. 99.]\n",
                        "  [69. 99.]]\n",
                        "\n",
                        " [[69. 99.]\n",
                        "  [69. 99.]\n",
                        "  [69. 99.]]]\n",
                        "delta_a:  (2, 3, 2) [[[10 20]\n",
                        "  [10 20]\n",
                        "  [10 20]]\n",
                        "\n",
                        " [[10 20]\n",
                        "  [10 20]\n",
                        "  [10 20]]]\n",
                        "dB:  [30 30 30] correct result:  [30]\n",
                        "dW:  [[[ 50  80 110]\n",
                        "  [ 50  80 110]]\n",
                        "\n",
                        " [[ 50  80 110]\n",
                        "  [ 50  80 110]]\n",
                        "\n",
                        " [[ 50  80 110]\n",
                        "  [ 50  80 110]]] correct result:  [ 50  80 110]\n",
                        "dX:  [[[ 90. 330. 510. 420.]\n",
                        "  [ 90. 330. 510. 420.]]\n",
                        "\n",
                        " [[ 75. 276. 429. 354.]\n",
                        "  [ 75. 276. 429. 354.]]] correct result:  [ 30 110 170 140]\n"
                    ]
                }
            ],
            "source": [
                "\n",
                "#batch test\n",
                "x = np.array([1,2,3,4])\n",
                "w = np.array([3, 5, 7], dtype = np.float64)\n",
                "filter_size, n_input,n_output = 3,2,3\n",
                "# print('f,nin,nout: ', filter_size, n_input,n_output)\n",
                "layer = Conv1DBatch(filter_size = filter_size, n_input = n_input, n_output =n_output)\n",
                "x = np.vstack([x] * n_input)\n",
                "w = np.vstack([[np.vstack([w]*n_input)]] * n_output)\n",
                "b = np.ones(n_output)\n",
                "layer.W = w\n",
                "layer.B = b\n",
                "\n",
                "#add dim\n",
                "batch_size = 2\n",
                "x = np.vstack([[x]] * batch_size)\n",
                "\n",
                "print(x.shape,x)\n",
                "fr = layer.forward(x)\n",
                "print(fr)\n",
                "\n",
                "delta_a = np.vstack([[10, 20]]* n_output)\n",
                "delta_a = np.vstack([[delta_a]] * batch_size)\n",
                "# layer.dA = delta_a\n",
                "print('delta_a: ', delta_a.shape, delta_a)\n",
                "dW,dB,dX = layer.backward(delta_a)\n",
                "\n",
                "print('dB: ', dB, 'correct result: ', correct_delta_b)\n",
                "print('dW: ', dW,'correct result: ', correct_delta_w)\n",
                "print('dX: ', dX, 'correct result: ', correct_delta_x)"
            ]
        },
        {
            "cell_type": "markdown",
            "metadata": {},
            "source": [
                "# Modified Copy Old Code"
            ]
        },
        {
            "cell_type": "code",
            "execution_count": 15,
            "metadata": {},
            "outputs": [],
            "source": [
                "from sklearn.preprocessing import OneHotEncoder\n",
                "from sklearn.metrics import accuracy_score\n",
                "\n",
                "\n",
                "#! activations..............\n",
                "\n",
                "class ActivationFunction():\n",
                "  def forward(self,A):\n",
                "    pass\n",
                "  def backward(self,dZ):\n",
                "    pass\n",
                "class Tanh(ActivationFunction):\n",
                "  def forward(self,A):\n",
                "    self.A = A\n",
                "    Z = (np.exp(A) - np.exp(-A)) / (np.exp(A) + np.exp(-A))\n",
                "    return Z\n",
                "  def backward(self,dZ):\n",
                "    A = self.A\n",
                "    dA = dZ * (1 - np.tanh(A) ** 2)\n",
                "    return dA\n",
                "  \n",
                "class SoftMax(ActivationFunction):\n",
                "  def forward(self,A):\n",
                "    self.A = A\n",
                "    Z = np.exp(A) / np.sum(np.exp(A), axis = 1).reshape(-1,1)\n",
                "    return Z\n",
                "  def backward(self,Z,Y):\n",
                "    A = self.A\n",
                "    nb = Z.shape[0]\n",
                "    dA = 1/nb * (Z - Y)\n",
                "    return dA\n",
                "\n",
                "#! Full Connected Layer ...........................\n",
                "\n",
                "class FC:\n",
                "    def __init__(self, n_nodes1, n_nodes2, initializer, optimizer):\n",
                "        # Initialize\n",
                "        self.optimizer = optimizer\n",
                "        self.n_nodes1, self.n_nodes2 = n_nodes1, n_nodes2\n",
                "        # Initialize self.W and self.B using the initializer method\n",
                "        self.W = initializer.W(n_nodes1, n_nodes2)\n",
                "        self.B = initializer.B(n_nodes2)\n",
                "        pass\n",
                "    def forward(self, X):   \n",
                "        self.X = X\n",
                "        A = X @ self.W + self.B\n",
                "        return A\n",
                "    def backward(self, dA):\n",
                "        # update\n",
                "        self.dA = dA\n",
                "        self.dW = self.calc_dW()\n",
                "        self.dB = self.calc_dB()\n",
                "        self.dZ = self.calc_dZ()\n",
                "\n",
                "        self = self.optimizer.update(self)\n",
                "        return self.dW, self.dB, self.dZ\n",
                "        # return self.dZ\n",
                "    def calc_dB(self):\n",
                "        dB = self.dA.sum(axis = 0).reshape(1,-1)  \n",
                "        return dB\n",
                "    def calc_dW(self):\n",
                "        dW = self.X.T @ self.dA\n",
                "        return dW\n",
                "    def calc_dZ(self):\n",
                "        dZ = self.dA @ self.W.T\n",
                "        return dZ\n",
                "\n",
                "class AdaGrad():\n",
                "    \"\"\"\n",
                "    Stochastic gradient descent\n",
                "    Parameters\n",
                "    ----------\n",
                "    lr : Learning rate\n",
                "    \"\"\"\n",
                "    def __init__(self, lr):\n",
                "        self.lr = lr\n",
                "        self.Hw = 0\n",
                "        self.Hb = 0\n",
                "    def update(self, layer):\n",
                "        \"\"\"\n",
                "        Update weights and biases for a layer\n",
                "        Parameters\n",
                "        ----------\n",
                "        layer : Instance of the layer before update\n",
                "        \"\"\"\n",
                "        #ada weight\n",
                "        dW = layer.dW\n",
                "        dB = layer.dB\n",
                "\n",
                "        eps = 1e-6\n",
                "        self.Hw += dW ** 2\n",
                "        self.Hb += dB ** 2\n",
                "        layer.W += - self.lr * (1 / np.sqrt(self.Hw + eps)) * dW\n",
                "        layer.B += - self.lr * (1 / np.sqrt(self.Hb + eps)) * dB\n",
                "        return layer\n",
                "\n",
                "\n",
                "\n"
            ]
        },
        {
            "cell_type": "markdown",
            "metadata": {},
            "source": [
                "# Problem 8 - Learing and Estimation"
            ]
        },
        {
            "cell_type": "markdown",
            "metadata": {},
            "source": [
                "# Deep Neural Net Proto\n",
                "**Tweaked from the old implementation to fit with new Conv1D**"
            ]
        },
        {
            "cell_type": "code",
            "execution_count": 16,
            "metadata": {},
            "outputs": [],
            "source": [
                "class DeepNeuralNetworkClassifier():\n",
                "    def __init__(self,encoder, max_iter = 5, lr = 0.1, batch_size = 20 ,\n",
                "               verbose = False, debug = False):\n",
                "        self.epoch = max_iter\n",
                "        self.verbose = verbose\n",
                "        self.debug = debug\n",
                "        self.lr = lr\n",
                "        #other non-parametric vars:\n",
                "        self.encoder = encoder\n",
                "        self.sigma = 0.01\n",
                "        self.batch_size = batch_size # batch size \n",
                "        \n",
                "        #layers and activations\n",
                "        self.layers = []\n",
                "        self.activations = []\n",
                "\n",
                "    def add(self,layer, activation):\n",
                "      self.layers.append(layer)\n",
                "      self.activations.append(activation)\n",
                "        \n",
                "    def enum_layer_act(self, rev = False):\n",
                "      zipped = zip(self.layers, self.activations)\n",
                "      if rev:\n",
                "        return enumerate(reversed(list(zipped)))\n",
                "      return enumerate(zipped)\n",
                "      \n",
                "    def forward_prop(self,X):\n",
                "      Z = X\n",
                "      for i, (layer, activation) in self.enum_layer_act():\n",
                "        A = layer.forward(Z)\n",
                "        Z = activation.forward(A)\n",
                "        if self.debug:\n",
                "          print(f'Z{i+1}: ', Z.shape, A.shape)\n",
                "      return Z\n",
                "\n",
                "    def backward_prop(self,Z,y):\n",
                "      dA = self.activations[-1].backward(Z,y)\n",
                "      if self.debug:\n",
                "        print(f'Backward last Y: ', dA.shape)\n",
                "      for i, (layer, activation) in self.enum_layer_act(rev = True):\n",
                "        if i == 0: #last layer has different activation backward!\n",
                "          dW,dB,dZ = layer.backward(dA)\n",
                "          if self.debug:\n",
                "            print(f'Backward layer: {len(self.layers) - (i)} ', dZ.shape)\n",
                "          continue\n",
                "        dA = activation.backward(dZ)\n",
                "        dW,dB,dZ = layer.backward(dA)\n",
                "        if self.debug:\n",
                "          print(f'Backward layer: {len(self.layers) - (i)} ', dZ.shape)\n",
                "        \n",
                "    \n",
                "    def cross_entropy_error(self,Z,y):\n",
                "      return (np.log(Z) * y).sum() / (- len(Z))\n",
                "\n",
                "    def predict(self,X):\n",
                "      y = np.zeros(X.shape[0])\n",
                "      Z  = self.forward_prop(X)\n",
                "      return self.encoder.transform(np.argmax(Z, axis = 1).reshape(-1,1))\n",
                "\n",
                "\n",
                "    def fit(self,X,y, X_val = None, y_val = None):\n",
                "      #prepare\n",
                "      self.n_features = X.shape[1]\n",
                "      self.lenx = len(X)\n",
                "      self.batch_count = len(GetMiniBatch(X,y,batch_size= self.batch_size)) #for debug\n",
                "\n",
                "      if self.verbose:\n",
                "          print('X shape: ', X.shape, 'type: ', X.dtype)\n",
                "          print('Batch count: ', self.batch_count)\n",
                "          # for i, (layer, activation) in self.enum_layer_act():\n",
                "          #   print(f'Layer {i+1}: ', layer.n_nodes1, layer.n_nodes2)\n",
                "          #   print(f'Activ: {i+1}:', activation.__class__.__name__)\n",
                "\n",
                "      #train\n",
                "      self.loss = np.zeros(self.epoch)\n",
                "      self.accuracy = np.zeros(self.epoch)\n",
                "      for i in range(self.epoch): #one full data ilteration\n",
                "          if self.verbose: print('Epoch: ', i)\n",
                "          self.get_mini_batch = GetMiniBatch(X, y, batch_size=self.batch_size)\n",
                "          for idx, (mini_X_train, mini_y_train) in enumerate(self.get_mini_batch):\n",
                "              if self.debug: print('Current batch: ', idx, mini_X_train.shape, mini_y_train.shape)\n",
                "              #train mini_batch\n",
                "              Z = self.forward_prop(mini_X_train)\n",
                "              self.backward_prop(Z,mini_y_train)\n",
                "\n",
                "\n",
                "          #record loss data\n",
                "          if self.debug: print('Predicting and recording loss/acc')\n",
                "          Z = self.forward_prop(X)\n",
                "          self.loss[i] = self.cross_entropy_error(Z,y)\n",
                "          train_pred = self.predict(X)\n",
                "          self.accuracy[i]  = accuracy_score(train_pred,y)\n",
                "          if self.verbose:\n",
                "              print(f'Loss {i}:', self.loss[i])\n",
                "              print(f'Acc {i}:', self.accuracy[i])\n",
                "              \n",
                "      #verbose\n",
                "      if self.verbose:\n",
                "          print('Final train loss:',self.loss[-1])\n",
                "          print('Final train accuracy:',self.accuracy[-1])\n"
            ]
        },
        {
            "cell_type": "code",
            "execution_count": 17,
            "metadata": {},
            "outputs": [
                {
                    "name": "stderr",
                    "output_type": "stream",
                    "text": [
                        "C:\\Users\\ADMIN\\AppData\\Local\\Temp/ipykernel_728/2615912318.py:8: DeprecationWarning: `np.float` is a deprecated alias for the builtin `float`. To silence this warning, use `float` by itself. Doing this will not modify any behavior and is safe. If you specifically wanted the numpy scalar type, use `np.float64` here.\n",
                        "Deprecated in NumPy 1.20; for more details and guidance: https://numpy.org/devdocs/release/1.20.0-notes.html#deprecations\n",
                        "  X_train = X_train.astype(np.float)\n",
                        "C:\\Users\\ADMIN\\AppData\\Local\\Temp/ipykernel_728/2615912318.py:9: DeprecationWarning: `np.float` is a deprecated alias for the builtin `float`. To silence this warning, use `float` by itself. Doing this will not modify any behavior and is safe. If you specifically wanted the numpy scalar type, use `np.float64` here.\n",
                        "Deprecated in NumPy 1.20; for more details and guidance: https://numpy.org/devdocs/release/1.20.0-notes.html#deprecations\n",
                        "  X_test = X_test.astype(np.float)\n"
                    ]
                }
            ],
            "source": [
                "#data set\n",
                "from keras.datasets import mnist\n",
                "(X_train, y_train), (X_test, y_test) = mnist.load_data()\n",
                "# #reshape\n",
                "# X_train = X_train.reshape(-1, 784)\n",
                "# X_test = X_test.reshape(-1, 784)\n",
                "#scaling\n",
                "X_train = X_train.astype(np.float)\n",
                "X_test = X_test.astype(np.float)\n",
                "X_train /= 255\n",
                "X_test /= 255\n",
                "#one hot encode for multiclass labels!\n",
                "from sklearn.preprocessing import OneHotEncoder\n",
                "enc = OneHotEncoder(handle_unknown='ignore', sparse=False)\n",
                "y_train_one_hot = enc.fit_transform(y_train[:, np.newaxis])\n",
                "y_test_one_hot = enc.transform(y_test[:, np.newaxis])\n",
                "#validation split\n",
                "from sklearn.model_selection import train_test_split\n",
                "X_train, X_val, y_train, y_val = train_test_split(X_train, y_train_one_hot, train_size=0.5)\n"
            ]
        },
        {
            "cell_type": "code",
            "execution_count": 18,
            "metadata": {},
            "outputs": [
                {
                    "name": "stdout",
                    "output_type": "stream",
                    "text": [
                        "(30000, 28, 28)\n"
                    ]
                }
            ],
            "source": [
                "print(X_train.shape)"
            ]
        },
        {
            "cell_type": "code",
            "execution_count": 19,
            "metadata": {},
            "outputs": [],
            "source": [
                "#flatten layer\n",
                "class FlattenLayer():\n",
                "    def __init__(self):\n",
                "        self.in_shape = None\n",
                "    def forward(self,X):\n",
                "        if (X.shape != self.in_shape): print('self: ', self.in_shape, 'x: ',X.shape)\n",
                "        self.in_shape = X.shape\n",
                "        return X.reshape(-1,X.shape[-1]) #flatten the channel to 1\n",
                "    def backward(self,dA):\n",
                "        return None, None ,dA.reshape(self.in_shape)\n",
                "class TransparentFunction():\n",
                "    def forward(self,X):\n",
                "        return X\n",
                "    def backward(self,dA):\n",
                "        return dA"
            ]
        },
        {
            "cell_type": "code",
            "execution_count": 20,
            "metadata": {},
            "outputs": [
                {
                    "name": "stdout",
                    "output_type": "stream",
                    "text": [
                        "train shape:  (30000, 28, 28)\n",
                        "input features:  28\n",
                        "input channels:  20\n"
                    ]
                }
            ],
            "source": [
                "# test run deep neural\n",
                "model = DeepNeuralNetworkClassifier(enc, debug = False, verbose = True, max_iter = 5)\n",
                "n_in_features = X_train.shape[1]\n",
                "batch_size  = 20\n",
                "print('train shape: ', X_train.shape)\n",
                "print('input features: ', n_in_features)\n",
                "print('input channels: ', batch_size)\n",
                "\n",
                "\n",
                "in_channel = X_train.shape[1]\n",
                "\n",
                "l1 = Conv1DBatch(filter_size = 3, n_input = in_channel, n_output = 1, optimizer = AdaGrad(0.1))\n",
                "model.add(l1,Tanh())\n",
                "lshape = FlattenLayer()\n",
                "model.add(lshape,TransparentFunction())\n",
                "l2 = FC(26,100, SimpleInitializer(),SGD()) #cause output of conv is 394\n",
                "model.add(l2,Tanh())\n",
                "l3 = FC(100,10, SimpleInitializer(),SGD())\n",
                "model.add(l3,SoftMax())"
            ]
        },
        {
            "cell_type": "code",
            "execution_count": 21,
            "metadata": {},
            "outputs": [
                {
                    "name": "stdout",
                    "output_type": "stream",
                    "text": [
                        "xshape:  (30000, 28, 28) yshape:  (30000, 10)\n",
                        "X shape:  (30000, 28, 28) type:  float64\n",
                        "Batch count:  1500\n",
                        "Epoch:  0\n",
                        "self:  None x:  (20, 1, 26)\n"
                    ]
                },
                {
                    "name": "stderr",
                    "output_type": "stream",
                    "text": [
                        "C:\\Users\\ADMIN\\AppData\\Local\\Temp/ipykernel_728/3471495081.py:53: DeprecationWarning: `np.int` is a deprecated alias for the builtin `int`. To silence this warning, use `int` by itself. Doing this will not modify any behavior and is safe. When replacing `np.int`, you may wish to use e.g. `np.int64` or `np.int32` to specify the precision. If you wish to review your current use, check the release note link for additional information.\n",
                        "Deprecated in NumPy 1.20; for more details and guidance: https://numpy.org/devdocs/release/1.20.0-notes.html#deprecations\n",
                        "  self._stop = np.ceil(X.shape[0]/self.batch_size).astype(np.int)\n"
                    ]
                },
                {
                    "name": "stdout",
                    "output_type": "stream",
                    "text": [
                        "self:  (20, 1, 26) x:  (30000, 1, 26)\n",
                        "Loss 0: 1.1809910515214375\n",
                        "Acc 0: 0.6013333333333334\n",
                        "Epoch:  1\n",
                        "self:  (30000, 1, 26) x:  (20, 1, 26)\n"
                    ]
                },
                {
                    "name": "stderr",
                    "output_type": "stream",
                    "text": [
                        "C:\\Users\\ADMIN\\AppData\\Local\\Temp/ipykernel_728/3471495081.py:53: DeprecationWarning: `np.int` is a deprecated alias for the builtin `int`. To silence this warning, use `int` by itself. Doing this will not modify any behavior and is safe. When replacing `np.int`, you may wish to use e.g. `np.int64` or `np.int32` to specify the precision. If you wish to review your current use, check the release note link for additional information.\n",
                        "Deprecated in NumPy 1.20; for more details and guidance: https://numpy.org/devdocs/release/1.20.0-notes.html#deprecations\n",
                        "  self._stop = np.ceil(X.shape[0]/self.batch_size).astype(np.int)\n"
                    ]
                },
                {
                    "name": "stdout",
                    "output_type": "stream",
                    "text": [
                        "self:  (20, 1, 26) x:  (30000, 1, 26)\n",
                        "Loss 1: 1.0935130522746976\n",
                        "Acc 1: 0.6294666666666666\n",
                        "Epoch:  2\n"
                    ]
                },
                {
                    "name": "stderr",
                    "output_type": "stream",
                    "text": [
                        "C:\\Users\\ADMIN\\AppData\\Local\\Temp/ipykernel_728/3471495081.py:53: DeprecationWarning: `np.int` is a deprecated alias for the builtin `int`. To silence this warning, use `int` by itself. Doing this will not modify any behavior and is safe. When replacing `np.int`, you may wish to use e.g. `np.int64` or `np.int32` to specify the precision. If you wish to review your current use, check the release note link for additional information.\n",
                        "Deprecated in NumPy 1.20; for more details and guidance: https://numpy.org/devdocs/release/1.20.0-notes.html#deprecations\n",
                        "  self._stop = np.ceil(X.shape[0]/self.batch_size).astype(np.int)\n"
                    ]
                },
                {
                    "name": "stdout",
                    "output_type": "stream",
                    "text": [
                        "self:  (30000, 1, 26) x:  (20, 1, 26)\n",
                        "self:  (20, 1, 26) x:  (30000, 1, 26)\n",
                        "Loss 2: 1.0396127040649055\n",
                        "Acc 2: 0.6495333333333333\n",
                        "Epoch:  3\n",
                        "self:  (30000, 1, 26) x:  (20, 1, 26)\n"
                    ]
                },
                {
                    "name": "stderr",
                    "output_type": "stream",
                    "text": [
                        "C:\\Users\\ADMIN\\AppData\\Local\\Temp/ipykernel_728/3471495081.py:53: DeprecationWarning: `np.int` is a deprecated alias for the builtin `int`. To silence this warning, use `int` by itself. Doing this will not modify any behavior and is safe. When replacing `np.int`, you may wish to use e.g. `np.int64` or `np.int32` to specify the precision. If you wish to review your current use, check the release note link for additional information.\n",
                        "Deprecated in NumPy 1.20; for more details and guidance: https://numpy.org/devdocs/release/1.20.0-notes.html#deprecations\n",
                        "  self._stop = np.ceil(X.shape[0]/self.batch_size).astype(np.int)\n"
                    ]
                },
                {
                    "name": "stdout",
                    "output_type": "stream",
                    "text": [
                        "self:  (20, 1, 26) x:  (30000, 1, 26)\n",
                        "Loss 3: 1.0019688489200658\n",
                        "Acc 3: 0.6639333333333334\n",
                        "Epoch:  4\n",
                        "self:  (30000, 1, 26) x:  (20, 1, 26)\n"
                    ]
                },
                {
                    "name": "stderr",
                    "output_type": "stream",
                    "text": [
                        "C:\\Users\\ADMIN\\AppData\\Local\\Temp/ipykernel_728/3471495081.py:53: DeprecationWarning: `np.int` is a deprecated alias for the builtin `int`. To silence this warning, use `int` by itself. Doing this will not modify any behavior and is safe. When replacing `np.int`, you may wish to use e.g. `np.int64` or `np.int32` to specify the precision. If you wish to review your current use, check the release note link for additional information.\n",
                        "Deprecated in NumPy 1.20; for more details and guidance: https://numpy.org/devdocs/release/1.20.0-notes.html#deprecations\n",
                        "  self._stop = np.ceil(X.shape[0]/self.batch_size).astype(np.int)\n"
                    ]
                },
                {
                    "name": "stdout",
                    "output_type": "stream",
                    "text": [
                        "self:  (20, 1, 26) x:  (30000, 1, 26)\n",
                        "Loss 4: 0.9736878055673618\n",
                        "Acc 4: 0.6751\n",
                        "Final train loss: 0.9736878055673618\n",
                        "Final train accuracy: 0.6751\n"
                    ]
                }
            ],
            "source": [
                "print('xshape: ', X_train.shape, 'yshape: ', y_train.shape)\n",
                "model.fit(X_train, y_train)"
            ]
        },
        {
            "cell_type": "code",
            "execution_count": 22,
            "metadata": {},
            "outputs": [
                {
                    "data": {
                        "image/png": "[encoded data removed]",
                        "text/plain": [
                            "<Figure size 432x288 with 1 Axes>"
                        ]
                    },
                    "metadata": {
                        "needs_background": "light"
                    },
                    "output_type": "display_data"
                }
            ],
            "source": [
                "# loss result\n",
                "plt.plot(model.loss, label = 'TrainLoss')\n",
                "plt.plot(model.accuracy, label = 'TrainAccuracy')\n",
                "plt.title('Training Metrics')\n",
                "plt.legend()\n",
                "plt.show()"
            ]
        },
        {
            "cell_type": "markdown",
            "metadata": {},
            "source": [
                "-----------------------------------------------------------------------------------------"
            ]
        },
        {
            "cell_type": "markdown",
            "metadata": {},
            "source": [
                "This is the end of my assignment. Thank you for reading!"
            ]
        }
    ],
    "metadata": {
        "interpreter": {
            "hash": "a9d1005c97ab2ad518cdcb8630936f46560d68ad33a376b7934a63663128f392"
        },
        "kernelspec": {
            "display_name": "Python 3.8.10 64-bit (windows store)",
            "language": "python",
            "name": "python3"
        },
        "language_info": {
            "codemirror_mode": {
                "name": "ipython",
                "version": 3
            },
            "file_extension": ".py",
            "mimetype": "text/x-python",
            "name": "python",
            "nbconvert_exporter": "python",
            "pygments_lexer": "ipython3",
            "version": "3.8.10"
        },
        "orig_nbformat": 4
    },
    "nbformat": 4,
    "nbformat_minor": 2
}
