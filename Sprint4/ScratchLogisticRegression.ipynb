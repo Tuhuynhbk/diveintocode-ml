{
 "cells": [
  {
   "cell_type": "markdown",
   "metadata": {},
   "source": [
    "# Student Name: Huynh Truong Tu\r\n",
    " Below is my assignment for Sprint4's \"Logistic regression\""
   ]
  },
  {
   "cell_type": "markdown",
   "metadata": {},
   "source": [
    "-----------------------------------------------------------------------------------------------------------------------------------------"
   ]
  },
  {
   "cell_type": "code",
   "execution_count": 1,
   "metadata": {},
   "outputs": [],
   "source": [
    "import numpy as np\r\n",
    "import seaborn as sns\r\n",
    "import matplotlib.pyplot as plt"
   ]
  },
  {
   "cell_type": "markdown",
   "metadata": {},
   "source": [
    "# Logistic Regression Class"
   ]
  },
  {
   "cell_type": "code",
   "execution_count": 4,
   "metadata": {},
   "outputs": [],
   "source": [
    "from mpl_toolkits import mplot3d\r\n",
    "\r\n",
    "class ScratchLogisticRegression():\r\n",
    "  def __init__(self,num_iter, lr, no_bias, verbose):\r\n",
    "    # Record hyperparameters as attributes\r\n",
    "    self.iter = num_iter\r\n",
    "    self.lr = lr\r\n",
    "    self.no_bias = no_bias\r\n",
    "    self.verbose = verbose\r\n",
    "    # Prepare an array to record the loss\r\n",
    "    self.loss = np.zeros(self.iter)\r\n",
    "    self.val_loss = np.zeros(self.iter)\r\n",
    "  def add_bias(self,data):\r\n",
    "    if self.no_bias or data is None: return data\r\n",
    "\r\n",
    "    bias = np.ones((data.shape[0],1))\r\n",
    "    return np.hstack((bias,data))\r\n",
    "            \r\n",
    "  def fit(self, X, y, X_val=None, y_val=None):\r\n",
    "    verbose = self.verbose\r\n",
    "    X = self.add_bias(X)\r\n",
    "    X_val = self.add_bias(X_val)\r\n",
    "    self.labels = np.unique(y)\r\n",
    "    if verbose: print('Labels: ', self.labels)\r\n",
    "    conv_y = np.vectorize(lambda yi: 0 if yi == self.labels[0] else 1)\r\n",
    "    y = conv_y(y)\r\n",
    "    #setup param and weight\r\n",
    "    n, k = X.shape \r\n",
    "    self.theta = np.zeros(k)\r\n",
    "    self.param_weight = np.ones(k)\r\n",
    "    self.param_weight[0] = 0 #zero-th param is not included in regularization\r\n",
    "\r\n",
    "\r\n",
    "    if verbose: \r\n",
    "      print('Tup count: ', n)\r\n",
    "      print('Dim count: ', k)\r\n",
    "    \r\n",
    "    for i in range(self.iter):\r\n",
    "      self.loss[i] = self.objective_func(X,y)\r\n",
    "      self.val_loss[i] = self.objective_func(X_val,y_val)\r\n",
    "      # train\r\n",
    "      grad = self.gradient(X,y)\r\n",
    "      self.theta = self.theta - self.lr * grad\r\n",
    "    if verbose:    \r\n",
    "      print('Train loss: ')\r\n",
    "      print(self.loss)\r\n",
    "      print(' Val Loss: ')\r\n",
    "      print(self.val_loss)\r\n",
    "    return None\r\n",
    "    \r\n",
    "  def gradient(self,X,y):\r\n",
    "    n = X.shape[0]\r\n",
    "    grad = X.T @ (self.predict_proba(X, bias_added = True) - y)/n\r\n",
    "    normalize_term = (self.param_weight* self.theta)/n\r\n",
    "    return grad + normalize_term\r\n",
    "  def predict(self, X):\r\n",
    "    pred = np.vectorize(lambda proba: self.labels[1] if proba>0.5 else self.labels[0])\r\n",
    "    return pred(self.predict_proba(X))\r\n",
    "    \r\n",
    "  def predict_proba(self, X, bias_added = False):\r\n",
    "    return 1 / (1 + np.exp(- self.linear_hypo(X,bias_added = bias_added)))\r\n",
    "  def linear_hypo(self,X, bias_added):\r\n",
    "    X = X if self.no_bias or bias_added else self.add_bias(X)\r\n",
    "    return X @ self.theta\r\n",
    "  def objective_func(self,X,y):\r\n",
    "    if X is None: return 0\r\n",
    "    \r\n",
    "    predicted = self.predict_proba(X, bias_added = True)\r\n",
    "    n = X.shape[0]\r\n",
    "    obj = -(y* np.log(predicted)+(1-y)*np.log(1-predicted)).mean()\r\n",
    "    normalize_term = (self.param_weight/ (2*n) * self.theta**2).mean()/2\r\n",
    "    return obj + normalize_term"
   ]
  },
  {
   "cell_type": "markdown",
   "metadata": {},
   "source": [
    "# Problem 1 - Hypothetical Function"
   ]
  },
  {
   "cell_type": "markdown",
   "metadata": {},
   "source": [
    "- Sigmoid Function:\n",
    "\n",
    "    $ g(z) = \\frac{1}{1 + e^{-z}} $\n",
    "- Linear regression hypothesys:\n",
    "    \n",
    "    $ h_\\theta (x) = \\theta^T.X $\n",
    "\n",
    "- Logistic assumption function:\n",
    "\n",
    "    $ h_\\theta (x) = \\frac {1}{1 + e^{- \\theta^T.X}}$"
   ]
  },
  {
   "cell_type": "markdown",
   "metadata": {},
   "source": [
    "# Problem 2 - Steepest Descend"
   ]
  },
  {
   "cell_type": "markdown",
   "metadata": {},
   "source": [
    "**I already added fit model in the code**"
   ]
  },
  {
   "cell_type": "markdown",
   "metadata": {},
   "source": [
    "# Problem 3 - Estimated \r\n"
   ]
  },
  {
   "cell_type": "markdown",
   "metadata": {},
   "source": [
    "**I also added predict and predict_proba in code**"
   ]
  },
  {
   "cell_type": "markdown",
   "metadata": {},
   "source": [
    "# Problem 4 - Objective Function"
   ]
  },
  {
   "cell_type": "markdown",
   "metadata": {},
   "source": [
    "**I've already added Obj Func in code**"
   ]
  },
  {
   "cell_type": "markdown",
   "metadata": {},
   "source": [
    "# Problem 5 - Learning and Estimation"
   ]
  },
  {
   "cell_type": "code",
   "execution_count": 5,
   "metadata": {},
   "outputs": [
    {
     "name": "stdout",
     "output_type": "stream",
     "text": [
      "X shape:  (100, 4)\n",
      "Classes:  [0 1]\n",
      "----------------------\n",
      "Model:  SGDClassifier\n",
      "Acc: 1.0\n",
      "Recall:  1.0\n",
      "Percision:  1.0\n"
     ]
    },
    {
     "data": {
      "text/plain": [
       "array([[ 7,  0],\n",
       "       [ 0, 13]], dtype=int64)"
      ]
     },
     "metadata": {},
     "output_type": "display_data"
    },
    {
     "name": "stdout",
     "output_type": "stream",
     "text": [
      "----------------------\n",
      "Model:  ScratchLogisticRegression\n",
      "Acc: 1.0\n",
      "Recall:  1.0\n",
      "Percision:  1.0\n"
     ]
    },
    {
     "data": {
      "text/plain": [
       "array([[ 7,  0],\n",
       "       [ 0, 13]], dtype=int64)"
      ]
     },
     "metadata": {},
     "output_type": "display_data"
    },
    {
     "name": "stdout",
     "output_type": "stream",
     "text": [
      "----------------------\n",
      "Model:  LogisticRegression\n",
      "Acc: 1.0\n",
      "Recall:  1.0\n",
      "Percision:  1.0\n"
     ]
    },
    {
     "data": {
      "text/plain": [
       "array([[ 7,  0],\n",
       "       [ 0, 13]], dtype=int64)"
      ]
     },
     "metadata": {},
     "output_type": "display_data"
    }
   ],
   "source": [
    "from sklearn.model_selection import train_test_split\n",
    "from sklearn.metrics import confusion_matrix\n",
    "from sklearn.linear_model import LogisticRegression\n",
    "from sklearn.metrics import accuracy_score\n",
    "from sklearn.metrics import recall_score\n",
    "from sklearn.metrics import precision_score\n",
    "def classification_problem(X, Y, models, test_size = 0.2):\n",
    "    result = []\n",
    "    x_train, x_test,y_train,y_test = train_test_split(X,Y,test_size = test_size)\n",
    "    for model in models:\n",
    "        model.fit(x_train,y_train)\n",
    "        y_pred = model.predict(x_test)\n",
    "        result.append((\n",
    "            model.__class__.__name__,\n",
    "            confusion_matrix(y_test, y_pred),\n",
    "            accuracy_score(y_test, y_pred),\n",
    "            recall_score(y_test, y_pred),\n",
    "            precision_score(y_test, y_pred),))\n",
    "    \n",
    "    return result\n",
    "\n",
    "\n",
    "from  sklearn.datasets import load_iris\n",
    "iris_data = load_iris(as_frame = True)\n",
    "i_x = iris_data.data\n",
    "i_y = iris_data.target\n",
    "choosen_tuple = (i_y == 0) | (i_y == 1)\n",
    "i_x = i_x[choosen_tuple]\n",
    "i_y = i_y[choosen_tuple]\n",
    "print('X shape: ',i_x.shape)\n",
    "print('Classes: ',np.unique(i_y))\n",
    "from sklearn.linear_model import SGDClassifier\n",
    "\n",
    "scratch_model = ScratchLogisticRegression(num_iter = 50, lr = 0.1, no_bias = False, verbose = False)\n",
    "models = [\n",
    "    SGDClassifier(max_iter= 50, alpha = 0.1, verbose = False),\n",
    "    scratch_model,\n",
    "    LogisticRegression(max_iter = 50)\n",
    "]\n",
    "result = classification_problem(i_x,i_y,models)\n",
    "\n",
    "for name, conf_matrix, accuracy, recall, percision in result:\n",
    "    print('----------------------')\n",
    "    print('Model: ',name)\n",
    "    print('Acc:',accuracy)\n",
    "    print('Recall: ',recall)\n",
    "    print('Percision: ', percision)\n",
    "    display(conf_matrix)"
   ]
  },
  {
   "cell_type": "markdown",
   "metadata": {},
   "source": [
    "# Problem 6 - Plot of learning curve"
   ]
  },
  {
   "cell_type": "code",
   "execution_count": 6,
   "metadata": {},
   "outputs": [
    {
     "data": {
      "text/plain": [
       "[<matplotlib.lines.Line2D at 0x23ad3ccd040>]"
      ]
     },
     "execution_count": 6,
     "metadata": {},
     "output_type": "execute_result"
    },
    {
     "data": {
      "image/png": "[encoded data removed]",
      "text/plain": [
       "<Figure size 432x288 with 1 Axes>"
      ]
     },
     "metadata": {
      "needs_background": "light"
     },
     "output_type": "display_data"
    }
   ],
   "source": [
    "plt.plot(scratch_model.loss)"
   ]
  },
  {
   "cell_type": "markdown",
   "metadata": {},
   "source": [
    "# Problem 7 - Visualization of decision area"
   ]
  },
  {
   "cell_type": "code",
   "execution_count": 7,
   "metadata": {},
   "outputs": [
    {
     "name": "stdout",
     "output_type": "stream",
     "text": [
      "shape x:  (100, 4)\n"
     ]
    },
    {
     "data": {
      "image/png": "[encoded data removed]",
      "text/plain": [
       "<Figure size 432x288 with 1 Axes>"
      ]
     },
     "metadata": {
      "needs_background": "light"
     },
     "output_type": "display_data"
    }
   ],
   "source": [
    "# i_x = i_x.iloc[:,0:1]\n",
    "new_scratch_model = ScratchLogisticRegression(num_iter = 100, lr = 0.1, no_bias = False, verbose = False)\n",
    "print('shape x: ',i_x.shape)\n",
    "# print(i_x)\n",
    "x_train,x_test,y_train,y_test = train_test_split(i_x,i_y, test_size = 0.5)\n",
    "new_scratch_model.fit(x_train,y_train)\n",
    "pred_y = new_scratch_model.predict_proba(x_test)\n",
    "reg_x = new_scratch_model.linear_hypo(x_test,bias_added = False)\n",
    "plt.scatter(reg_x,pred_y)\n",
    "pred_label = new_scratch_model.predict(x_test)\n",
    "x1 = reg_x[pred_label == 0]\n",
    "x2 = reg_x[pred_label == 1]\n",
    "y1 = pred_y[pred_label == 0]\n",
    "y2 = pred_y[pred_label == 1]\n",
    "\n",
    "domain = np.linspace(-100,100,1000).reshape(-1,1)\n",
    "\n",
    "# log_line = new_scratch_model.predict_proba(domain)\n",
    "log_line = 1 / (1 + np.exp (- domain))\n",
    "plt.plot(domain,log_line, label = 'Log Func')\n",
    "plt.scatter(x1,y1, label = 'Class 0')\n",
    "plt.scatter(x2,y2, label = 'Class 1')\n",
    "plt.hlines(0.5,-100,100, label = 'Decision Boundary', colors = 'red')\n",
    "plt.legend()\n",
    "plt.ylabel('Probability')\n",
    "plt.xlabel('Regression Value')\n",
    "plt.show()\n",
    "\n"
   ]
  },
  {
   "cell_type": "markdown",
   "metadata": {},
   "source": [
    "### Now I plot the decision bound of training on 2 dimension"
   ]
  },
  {
   "cell_type": "code",
   "execution_count": 8,
   "metadata": {},
   "outputs": [
    {
     "name": "stdout",
     "output_type": "stream",
     "text": [
      "(71300, 2)\n"
     ]
    },
    {
     "data": {
      "image/png": "[encoded data removed]",
      "text/plain": [
       "<Figure size 432x288 with 1 Axes>"
      ]
     },
     "metadata": {
      "needs_background": "light"
     },
     "output_type": "display_data"
    }
   ],
   "source": [
    "import matplotlib.pyplot as plt\n",
    "from matplotlib.colors import ListedColormap\n",
    "import matplotlib.patches as mpatches\n",
    "def decision_region(X, y, model, step=0.01, title='decision region', xlabel='xlabel', ylabel='ylabel', target_names=['versicolor', 'virginica'],class_count = 2):\n",
    "    \"\"\"\n",
    "    Draw the determination area of the model that learned binary classification with two-dimensional features.\n",
    "    The background color is drawn from the estimated values of the trained model.\n",
    "    The points on the scatter plot are training or validation data.\n",
    "    Parameters\n",
    "    ----------------\n",
    "    X : ndarray, shape(n_samples, 2)\n",
    "        Feature value\n",
    "    y : ndarray, shape(n_samples,)\n",
    "        label\n",
    "    model : object\n",
    "        Insert the installed model of the learned model\n",
    "    step : float, (default : 0.1)\n",
    "        Set the interval to calculate the estimate\n",
    "    title : str\n",
    "        Give the text of the graph Title\n",
    "    xlabel, ylabel : str\n",
    "        Give the text of the axis label\n",
    "    target_names= : list of str\n",
    "        Give a list of legends\n",
    "    \"\"\"\n",
    "    # setting\n",
    "    scatter_color = ['green', 'red', 'blue'] if class_count == 3 else ['red', 'blue']\n",
    "    contourf_color = ['lightgreen','pink', 'skyblue'] if class_count == 3 else ['pink', 'skyblue']\n",
    "    n_class = class_count\n",
    "    # pred\n",
    "    mesh_f0, mesh_f1  = np.meshgrid(np.arange(np.min(X[:,0])-0.5, np.max(X[:,0])+0.5, step), np.arange(np.min(X[:,1])-0.5, np.max(X[:,1])+0.5, step))\n",
    "    mesh = np.c_[np.ravel(mesh_f0),np.ravel(mesh_f1)]\n",
    "    print(mesh.shape)\n",
    "    y_pred = model.predict(mesh).reshape(mesh_f0.shape)\n",
    "    # plot\n",
    "    plt.title(title)\n",
    "    plt.xlabel(xlabel)\n",
    "    plt.ylabel(ylabel)\n",
    "    plt.contourf(mesh_f0, mesh_f1, y_pred, n_class-1, cmap=ListedColormap(contourf_color))\n",
    "    plt.contour(mesh_f0, mesh_f1, y_pred, n_class-1, colors='y', linewidths=3, alpha=0.5)\n",
    "    for i, target in enumerate(set(y)):\n",
    "        plt.scatter(X[y==target][:, 0], X[y==target][:, 1], s=80, color=scatter_color[i], label=target_names[i], marker='o')\n",
    "    patches = [mpatches.Patch(color=scatter_color[i], label=target_names[i]) for i in range(n_class)]\n",
    "    plt.legend(handles=patches)\n",
    "    plt.legend()\n",
    "    plt.show()\n",
    "\n",
    "from  sklearn.datasets import load_iris\n",
    "iris_data = load_iris(as_frame = True)\n",
    "i_x = iris_data.data\n",
    "i_y = iris_data.target\n",
    "choosen_tuple = (i_y == 0) | (i_y == 1)\n",
    "i_x = i_x[choosen_tuple]\n",
    "i_y = i_y[choosen_tuple]\n",
    "\n",
    "x_np = np.array(i_x)[:,0:2]\n",
    "y_np = np.array(i_y)\n",
    "# print(x_np.shape, y_np.shape)\n",
    "x_train,x_test,y_train,y_test = train_test_split(x_np,y_np, test_size = 0.2)\n",
    "new_scratch_model.fit(x_train,y_train)\n",
    "decision_region(x_test,y_test,new_scratch_model)\n"
   ]
  },
  {
   "cell_type": "markdown",
   "metadata": {},
   "source": [
    "----------------------------------------------------------------------------------------------------------------------------------------------"
   ]
  },
  {
   "cell_type": "markdown",
   "metadata": {},
   "source": [
    "This is the end of my assignment, thank you for reading!"
   ]
  }
 ],
 "metadata": {
  "interpreter": {
   "hash": "cf6663ca35ebd57d6121109460e534e72c1e1f8ff142ad985cdcb4b7e585eb79"
  },
  "kernelspec": {
   "display_name": "Python 3.9.0 64-bit",
   "name": "python3"
  },
  "language_info": {
   "codemirror_mode": {
    "name": "ipython",
    "version": 3
   },
   "file_extension": ".py",
   "mimetype": "text/x-python",
   "name": "python",
   "nbconvert_exporter": "python",
   "pygments_lexer": "ipython3",
   "version": "3.9.0"
  },
  "orig_nbformat": 2
 },
 "nbformat": 4,
 "nbformat_minor": 2
}