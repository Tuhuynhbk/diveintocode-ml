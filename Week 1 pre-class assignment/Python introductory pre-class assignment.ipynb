{
 "cells": [
  {
   "cell_type": "markdown",
   "id": "above-shopper",
   "metadata": {},
   "source": [
    "### Student Name: Huynh Truong Tu \n",
    "# My python program to calculate the folded-43-time paper's thickness.\n",
    "------------------------------------------------------------------------------------------------------------------------------"
   ]
  },
  {
   "cell_type": "markdown",
   "id": "offshore-gazette",
   "metadata": {},
   "source": [
    "## 1.What I know: "
   ]
  },
  {
   "cell_type": "markdown",
   "id": "italian-shooting",
   "metadata": {},
   "source": [
    "* The distance to  the  moon  is  384400 km "
   ]
  },
  {
   "cell_type": "code",
   "execution_count": 23,
   "id": "rural-scanning",
   "metadata": {},
   "outputs": [],
   "source": [
    "MOON_DISTANCE = 384400 #kilometers"
   ]
  },
  {
   "cell_type": "markdown",
   "id": "honest-train",
   "metadata": {},
   "source": [
    "* The original thickness of the paper before folding is 0.00008m."
   ]
  },
  {
   "cell_type": "code",
   "execution_count": 24,
   "id": "eight-mouse",
   "metadata": {},
   "outputs": [],
   "source": [
    "O_THICKNESS_M = 0.00008 #Original Thickness in Meters"
   ]
  },
  {
   "cell_type": "markdown",
   "id": "integral-script",
   "metadata": {},
   "source": [
    "* [Problem 2] I'll use the \"Unit Conversion Sample code\" to converse it from m into km right from the start. Thus, we don't have to worry about it in later calculations."
   ]
  },
  {
   "cell_type": "code",
   "execution_count": 25,
   "id": "generous-headline",
   "metadata": {
    "scrolled": true
   },
   "outputs": [
    {
     "name": "stdout",
     "output_type": "stream",
     "text": [
      "Thickness: 8e-08 kilometers\n"
     ]
    }
   ],
   "source": [
    "# Convert meters to kilometers\n",
    "O_THICKNESS_KM = O_THICKNESS_M/1000 \n",
    "print(\"Thickness: {:} kilometers\".format(O_THICKNESS_KM)) #Original Thickness in Kilometers."
   ]
  },
  {
   "cell_type": "markdown",
   "id": "square-filter",
   "metadata": {},
   "source": [
    "* Formular:"
   ]
  },
  {
   "cell_type": "markdown",
   "id": "renewable-azerbaijan",
   "metadata": {},
   "source": [
    "$$\n",
    "t_{43} = t_{0}{ }x{ }2^{43}\n",
    "$$\n"
   ]
  },
  {
   "cell_type": "markdown",
   "id": "legislative-notification",
   "metadata": {},
   "source": [
    "## 2.What to do:"
   ]
  },
  {
   "cell_type": "markdown",
   "id": "invisible-series",
   "metadata": {},
   "source": [
    "* Thickness calculation by two methods: Exponentiation arithmetic operators & For statement."
   ]
  },
  {
   "cell_type": "markdown",
   "id": "placed-familiar",
   "metadata": {},
   "source": [
    "* Comparison of calculation time."
   ]
  },
  {
   "cell_type": "markdown",
   "id": "minimal-australian",
   "metadata": {},
   "source": [
    "* Saving the value after each fold to a list."
   ]
  },
  {
   "cell_type": "markdown",
   "id": "grand-visiting",
   "metadata": {},
   "source": [
    "* Displaying a line graph & Customizing it."
   ]
  },
  {
   "cell_type": "markdown",
   "id": "fitting-clinic",
   "metadata": {},
   "source": [
    "## 3.Execution:"
   ]
  },
  {
   "cell_type": "markdown",
   "id": "sustainable-discussion",
   "metadata": {},
   "source": [
    "##### [Problem 1] Create using using exponentiation arithmetic operator."
   ]
  },
  {
   "cell_type": "code",
   "execution_count": 26,
   "id": "ancient-wildlife",
   "metadata": {},
   "outputs": [
    {
     "name": "stdout",
     "output_type": "stream",
     "text": [
      "Thickness: 703687.44 kilometers\n"
     ]
    }
   ],
   "source": [
    "\"\"\"\n",
    "Code to calculate the thickness when the paper is folded 43 times\n",
    "\"\"\"\n",
    "folded_thickness_p1 = O_THICKNESS_KM*2**43 \n",
    "print(\"Thickness: {:.2f} kilometers\".format(folded_thickness_p1))"
   ]
  },
  {
   "cell_type": "markdown",
   "id": "sunrise-bidder",
   "metadata": {},
   "source": [
    "##### [Problem 3] Create using a for statement"
   ]
  },
  {
   "cell_type": "code",
   "execution_count": 27,
   "id": "spanish-deficit",
   "metadata": {},
   "outputs": [
    {
     "name": "stdout",
     "output_type": "stream",
     "text": [
      "Thickness: 703687.44 kilometers\n"
     ]
    }
   ],
   "source": [
    "folded_thickness_p3 = O_THICKNESS_KM #initial folded_thickness of problem 3\n",
    "for fold_time in range(1,44):\n",
    "    folded_thickness_p3 *=2\n",
    "print(\"Thickness: {:.2f} kilometers\".format(folded_thickness_p3))"
   ]
  },
  {
   "cell_type": "markdown",
   "id": "nasty-count",
   "metadata": {},
   "source": [
    "=> In comparation, the result of the two methods above is the same, and the thickness of the folded-43-time paper is more than enough to reach the moon"
   ]
  },
  {
   "cell_type": "markdown",
   "id": "later-friday",
   "metadata": {},
   "source": [
    "##### [Problem 4] Comparison of calculation time"
   ]
  },
  {
   "cell_type": "code",
   "execution_count": 28,
   "id": "charming-delicious",
   "metadata": {},
   "outputs": [
    {
     "name": "stdout",
     "output_type": "stream",
     "text": [
      "time : 0.0[s]\n"
     ]
    }
   ],
   "source": [
    "import time\n",
    "start = time.time()\n",
    "#####\n",
    "# Paste the code you want to compare here\n",
    "folded_thickness_p1 = O_THICKNESS_KM*2**43 \n",
    "#####\n",
    "elapsed_time = time.time() - start\n",
    "print(\"time : {}[s]\".format(elapsed_time))"
   ]
  },
  {
   "cell_type": "code",
   "execution_count": 29,
   "id": "driven-collectible",
   "metadata": {},
   "outputs": [
    {
     "name": "stdout",
     "output_type": "stream",
     "text": [
      "time : 0.0[s]\n"
     ]
    }
   ],
   "source": [
    "import time\n",
    "start = time.time()\n",
    "#####\n",
    "# Paste the code you want to compare here\n",
    "folded_thickness_p3 = O_THICKNESS_KM\n",
    "for fold_time in range(1,44): #it goes from \n",
    "    folded_thickness_p3 *=2\n",
    "#####\n",
    "elapsed_time = time.time() - start\n",
    "print(\"time : {}[s]\".format(elapsed_time))"
   ]
  },
  {
   "cell_type": "markdown",
   "id": "superior-ticket",
   "metadata": {},
   "source": [
    "> Within a few loop, the difference in time is hard to notice."
   ]
  },
  {
   "cell_type": "markdown",
   "id": "rural-first",
   "metadata": {},
   "source": [
    "* <Development: Increase the number of repetitions>"
   ]
  },
  {
   "cell_type": "code",
   "execution_count": 30,
   "id": "approved-fifteen",
   "metadata": {},
   "outputs": [
    {
     "name": "stdout",
     "output_type": "stream",
     "text": [
      "time : 0.0[s]\n"
     ]
    }
   ],
   "source": [
    "import time\n",
    "start = time.time()\n",
    "#####\n",
    "# Paste the code you want to compare here\n",
    "folded_thickness_p1 = O_THICKNESS_KM*2**500\n",
    "#####\n",
    "elapsed_time = time.time() - start\n",
    "print(\"time : {}[s]\".format(elapsed_time))"
   ]
  },
  {
   "cell_type": "code",
   "execution_count": 31,
   "id": "negative-backing",
   "metadata": {},
   "outputs": [
    {
     "name": "stdout",
     "output_type": "stream",
     "text": [
      "time : 0.0[s]\n"
     ]
    }
   ],
   "source": [
    "import time\n",
    "start = time.time()\n",
    "#####\n",
    "# Paste the code you want to compare here\n",
    "folded_thickness_p3 = O_THICKNESS_KM\n",
    "for fold_time in range(1,501):\n",
    "    folded_thickness_p3 *=2\n",
    "#####\n",
    "elapsed_time = time.time() - start\n",
    "print(\"time : {}[s]\".format(elapsed_time))"
   ]
  },
  {
   "cell_type": "markdown",
   "id": "juvenile-lunch",
   "metadata": {},
   "source": [
    " > I tried with 500 times, but the results are still hard to compare."
   ]
  },
  {
   "cell_type": "markdown",
   "id": "earlier-dream",
   "metadata": {},
   "source": [
    "* <Development: Using magic commands>"
   ]
  },
  {
   "cell_type": "code",
   "execution_count": 32,
   "id": "stupid-burst",
   "metadata": {},
   "outputs": [
    {
     "name": "stdout",
     "output_type": "stream",
     "text": [
      "69.4 ns ± 1.54 ns per loop (mean ± std. dev. of 7 runs, 10000000 loops each)\n"
     ]
    }
   ],
   "source": [
    "%%timeit\n",
    "#####\n",
    "# Paste the code you want to compare here\n",
    "folded_thickness_p1 = O_THICKNESS_KM*2**43\n",
    "#####"
   ]
  },
  {
   "cell_type": "code",
   "execution_count": 33,
   "id": "revised-worship",
   "metadata": {},
   "outputs": [
    {
     "name": "stdout",
     "output_type": "stream",
     "text": [
      "1.75 µs ± 97.7 ns per loop (mean ± std. dev. of 7 runs, 1000000 loops each)\n"
     ]
    }
   ],
   "source": [
    "%%timeit\n",
    "#####\n",
    "# Paste the code you want to compare here\n",
    "folded_thickness_p3 = O_THICKNESS_KM\n",
    "for fold_time in range(1,44):\n",
    "    folded_thickness_p3 *=2\n",
    "#####"
   ]
  },
  {
   "cell_type": "markdown",
   "id": "preceding-cartridge",
   "metadata": {},
   "source": [
    "> With this, we can see the run time per loop of the for loop is longer than exponentiation arithmetic operator."
   ]
  },
  {
   "cell_type": "markdown",
   "id": "useful-techno",
   "metadata": {},
   "source": [
    "##### [Problem 5] Saving to a list\n"
   ]
  },
  {
   "cell_type": "code",
   "execution_count": 43,
   "id": "sudden-robert",
   "metadata": {},
   "outputs": [
    {
     "name": "stdout",
     "output_type": "stream",
     "text": [
      "Number of values in the list is: 44\n"
     ]
    }
   ],
   "source": [
    "#initial list\n",
    "folded_values = []\n",
    "folded_values.append(O_THICKNESS_KM)\n",
    "folded_thickness_p3 = O_THICKNESS_KM\n",
    "for fold_time in range(1,44):\n",
    "    folded_thickness_p3 *=2\n",
    "    folded_values.append(folded_thickness_p3)\n",
    "print(\"Number of values in the list is:\",len(folded_values)) # to confirm that the list contains 44 values using the len function."
   ]
  },
  {
   "cell_type": "markdown",
   "id": "clinical-fourth",
   "metadata": {},
   "source": [
    "> I've tested the results by using \"print()\" function, I'm confident that the folded values in the list are correct."
   ]
  },
  {
   "cell_type": "markdown",
   "id": "verified-weekly",
   "metadata": {},
   "source": [
    "##### [Problem 6] Displaying a line graph"
   ]
  },
  {
   "cell_type": "code",
   "execution_count": 35,
   "id": "designing-indiana",
   "metadata": {},
   "outputs": [
    {
     "data": {
      "image/png": "[encoded data removed]",
      "text/plain": [
       "<Figure size 432x288 with 1 Axes>"
      ]
     },
     "metadata": {
      "needs_background": "light"
     },
     "output_type": "display_data"
    }
   ],
   "source": [
    "\"\"\"\n",
    "Display the graph. Title and axis label name.\n",
    "\"\"\"\n",
    "import matplotlib.pyplot as plt\n",
    "%matplotlib inline\n",
    "plt.title(\"thickness of folded paper\")\n",
    "plt.xlabel(\"number of folds\")\n",
    "plt.ylabel(\"thickness[km]\")\n",
    "plt.plot(folded_values) # Enter the variable name of the list in \"List name\"\n",
    "plt.show()"
   ]
  },
  {
   "cell_type": "markdown",
   "id": "alive-style",
   "metadata": {},
   "source": [
    "> The value of the first 35 folds is barely noticable, but, as expected from exponential factor, it scales really quickly afterwards."
   ]
  },
  {
   "cell_type": "markdown",
   "id": "driving-tradition",
   "metadata": {},
   "source": [
    "##### [Problem 7] Customizing graphs"
   ]
  },
  {
   "cell_type": "code",
   "execution_count": 36,
   "id": "union-julian",
   "metadata": {},
   "outputs": [
    {
     "data": {
      "image/png": "[encoded data removed]",
      "text/plain": [
       "<Figure size 432x288 with 1 Axes>"
      ]
     },
     "metadata": {
      "needs_background": "light"
     },
     "output_type": "display_data"
    }
   ],
   "source": [
    "\"\"\"\n",
    "Display a red line graph.\n",
    "\"\"\"\n",
    "plt.title(\"thickness of folded paper\")\n",
    "plt.xlabel(\"number of folds\")\n",
    "plt.ylabel(\"thickness[km]\")\n",
    "plt.plot(folded_values, color='red')\n",
    "plt.show()"
   ]
  },
  {
   "cell_type": "code",
   "execution_count": 37,
   "id": "regulation-reading",
   "metadata": {},
   "outputs": [
    {
     "data": {
      "image/png": "[encoded data removed]",
      "text/plain": [
       "<Figure size 432x288 with 1 Axes>"
      ]
     },
     "metadata": {
      "needs_background": "light"
     },
     "output_type": "display_data"
    }
   ],
   "source": [
    "\"\"\"\n",
    "Display a green line graph.\n",
    "\"\"\"\n",
    "plt.title(\"thickness of folded paper\")\n",
    "plt.xlabel(\"number of folds\")\n",
    "plt.ylabel(\"thickness[km]\")\n",
    "plt.plot(folded_values,color='green')\n",
    "plt.show()"
   ]
  },
  {
   "cell_type": "markdown",
   "id": "simple-virus",
   "metadata": {},
   "source": [
    "> In the above graphs, I change the colour by adding specific color parameter in \"plt.show()\" function. "
   ]
  },
  {
   "cell_type": "code",
   "execution_count": 38,
   "id": "advance-brook",
   "metadata": {},
   "outputs": [
    {
     "data": {
      "image/png": "[encoded data removed]",
      "text/plain": [
       "<Figure size 432x288 with 1 Axes>"
      ]
     },
     "metadata": {
      "needs_background": "light"
     },
     "output_type": "display_data"
    }
   ],
   "source": [
    "\"\"\"\n",
    "Display a green dotted line graph.\n",
    "\"\"\"\n",
    "plt.title(\"thickness of folded paper\")\n",
    "plt.xlabel(\"number of folds\")\n",
    "plt.ylabel(\"thickness[km]\")\n",
    "plt.plot(folded_values, ls=':',color='green')\n",
    "plt.show()"
   ]
  },
  {
   "cell_type": "markdown",
   "id": "comprehensive-compromise",
   "metadata": {},
   "source": [
    "> In this graph, I change the line into dot by specify line style parameter in \"plt.plot()\" function."
   ]
  },
  {
   "cell_type": "code",
   "execution_count": 39,
   "id": "christian-revision",
   "metadata": {},
   "outputs": [
    {
     "data": {
      "image/png": "[encoded data removed]",
      "text/plain": [
       "<Figure size 432x288 with 1 Axes>"
      ]
     },
     "metadata": {
      "needs_background": "light"
     },
     "output_type": "display_data"
    }
   ],
   "source": [
    "\"\"\"\n",
    "Display a thicker green dotted line graph.\n",
    "\"\"\"\n",
    "plt.title(\"thickness of folded paper\")\n",
    "plt.xlabel(\"number of folds\")\n",
    "plt.ylabel(\"thickness[km]\")\n",
    "plt.tick_params(labelsize=15) \n",
    "plt.plot(folded_values, ls=':',color='green', linewidth = 5)\n",
    "plt.show()"
   ]
  },
  {
   "cell_type": "markdown",
   "id": "early-secretariat",
   "metadata": {},
   "source": [
    "> Finaly, for this graph, I make the line thicker and incease the label font size."
   ]
  },
  {
   "cell_type": "markdown",
   "id": "tropical-expert",
   "metadata": {},
   "source": [
    "=================================================================================================\n",
    "### This is the end of my assignment, thank you for reading!"
   ]
  }
 ],
 "metadata": {
  "celltoolbar": "Raw Cell Format",
  "kernelspec": {
   "display_name": "Python 3",
   "language": "python",
   "name": "python3"
  },
  "language_info": {
   "codemirror_mode": {
    "name": "ipython",
    "version": 3
   },
   "file_extension": ".py",
   "mimetype": "text/x-python",
   "name": "python",
   "nbconvert_exporter": "python",
   "pygments_lexer": "ipython3",
   "version": "3.9.0"
  }
 },
 "nbformat": 4,
 "nbformat_minor": 5
}
