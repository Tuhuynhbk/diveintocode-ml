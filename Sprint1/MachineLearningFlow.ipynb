{
 "cells": [
  {
   "cell_type": "markdown",
   "metadata": {},
   "source": [
    "# Student Name: Huynh Truong Tu\r\n",
    " Below is my assignment for Sprint1's \"Machine Learning Flow\""
   ]
  },
  {
   "cell_type": "markdown",
   "metadata": {},
   "source": [
    "-----------------------------------------------------------------------------------"
   ]
  },
  {
   "cell_type": "code",
   "execution_count": 1,
   "metadata": {},
   "outputs": [],
   "source": [
    "import pandas as pd\r\n",
    "import sklearn as sk\r\n",
    "import numpy as np\r\n",
    "import matplotlib.pyplot as plt\r\n",
    "import seaborn as sns"
   ]
  },
  {
   "cell_type": "markdown",
   "metadata": {},
   "source": [
    "# Data Preparation"
   ]
  },
  {
   "cell_type": "code",
   "execution_count": 5,
   "metadata": {},
   "outputs": [
    {
     "name": "stdout",
     "output_type": "stream",
     "text": [
      "Any Null value? False\n",
      "          SVR\n",
      "MSE  0.212654\n"
     ]
    }
   ],
   "source": [
    "init_data = pd.read_csv('./houseprice_train.csv')\r\n",
    "house_price = init_data[['GrLivArea','YearBuilt','TotalBsmtSF','OverallQual','SalePrice']]\r\n",
    "print('Any Null value?',house_price.isnull().sum().all())\r\n",
    "\r\n",
    "from sklearn.model_selection import train_test_split\r\n",
    "from sklearn.preprocessing import StandardScaler\r\n",
    "scaler = StandardScaler()\r\n",
    "X = house_price[['GrLivArea','YearBuilt','TotalBsmtSF','OverallQual']]\r\n",
    "Y = house_price[['SalePrice']]\r\n",
    "X = scaler.fit_transform(X)\r\n",
    "Y = scaler.fit_transform(Y).reshape((Y.shape[0],))\r\n",
    "x_train,x_test,y_train,y_test = train_test_split(X,Y,test_size=0.2)\r\n",
    "train = x_train,y_train\r\n",
    "test = x_test,y_test\r\n",
    "\r\n",
    "\r\n",
    "def plot_prediction(xtest,ytest,pred, methodname):\r\n",
    "    fig = plt.figure(figsize=[8,8])\r\n",
    "    ax = fig.add_subplot(projection='3d')\r\n",
    "    ax.set_title(methodname)\r\n",
    "    ax.scatter(xtest[:,0],xtest[:,1],ytest,c = 'lightblue')\r\n",
    "    ax.scatter(xtest[:,0],xtest[:,1],pred,c = 'red')\r\n",
    "    ax.legend(['Real Values', 'Predictions'])\r\n",
    "    ax.set_xlabel('LivingRoom Area')\r\n",
    "    ax.set_ylabel('Year Built')\r\n",
    "    ax.set_zlabel('Sale Price')\r\n",
    "    plt.show()\r\n",
    "\r\n",
    "def test_plot_summary(cls, train,test,plot = True):\r\n",
    "    x_train,y_train = train\r\n",
    "    x_test,y_test = test\r\n",
    "    cls.fit(x_train,y_train)\r\n",
    "    prediction = cls.predict(x_test)\r\n",
    "\r\n",
    "    method_name = cls.__class__.__name__\r\n",
    "    if plot: plot_prediction(x_test,y_test,prediction,method_name)\r\n",
    "    return pd.DataFrame(columns=[method_name], index= ['MSE'], data=[[mean_squared_error(y_test,prediction)]])\r\n",
    "\r\n",
    "\r\n",
    "from sklearn.linear_model import LinearRegression\r\n",
    "from sklearn.metrics import mean_squared_error\r\n",
    "from sklearn.svm import SVR\r\n",
    "\r\n",
    "cls = SVR()\r\n",
    "summary = test_plot_summary(cls, train,test,plot = False)\r\n",
    "print(summary)"
   ]
  },
  {
   "cell_type": "markdown",
   "metadata": {},
   "source": [
    "# Problem 1\n",
    "## Cross Validation"
   ]
  },
  {
   "cell_type": "code",
   "execution_count": 6,
   "metadata": {},
   "outputs": [
    {
     "name": "stdout",
     "output_type": "stream",
     "text": [
      "[0.14291340718541917, 0.19050930282014564, 0.2401485514475553, 0.11284134542682014, 0.28461876174798084]\n",
      "AVG score:  0.19420627372558422\n"
     ]
    }
   ],
   "source": [
    "from sklearn.linear_model import SGDClassifier\n",
    "from sklearn.model_selection import KFold\n",
    "from sklearn.metrics import accuracy_score\n",
    "model = SVR()\n",
    "k = 5\n",
    "kfold = KFold(n_splits= 5)\n",
    "score = []\n",
    "for train_index, test_index in kfold.split(X):\n",
    "    x_train,x_test = X[train_index], X[test_index]\n",
    "    y_train,y_test = Y[train_index], Y[test_index]\n",
    "    model.fit(x_train,y_train)\n",
    "    pred = model.predict(x_test)\n",
    "    score.append(mean_squared_error(y_test,pred))\n",
    "print(score)\n",
    "print('AVG score: ', np.average(score))\n"
   ]
  },
  {
   "cell_type": "markdown",
   "metadata": {},
   "source": [
    "# Problem 2\n",
    "## Grid Search"
   ]
  },
  {
   "cell_type": "code",
   "execution_count": 7,
   "metadata": {},
   "outputs": [
    {
     "data": {
      "text/plain": [
       "{'C': 1.0,\n",
       " 'cache_size': 200,\n",
       " 'coef0': 0.0,\n",
       " 'degree': 3,\n",
       " 'epsilon': 0.1,\n",
       " 'gamma': 'scale',\n",
       " 'kernel': 'rbf',\n",
       " 'max_iter': -1,\n",
       " 'shrinking': True,\n",
       " 'tol': 0.001,\n",
       " 'verbose': False}"
      ]
     },
     "metadata": {},
     "output_type": "display_data"
    }
   ],
   "source": [
    "display(model.get_params())"
   ]
  },
  {
   "cell_type": "code",
   "execution_count": 8,
   "metadata": {},
   "outputs": [
    {
     "name": "stdout",
     "output_type": "stream",
     "text": [
      "Fitting 3 folds for each of 24 candidates, totalling 72 fits\n",
      "{'coef0': 0.01, 'degree': 3, 'kernel': 'rbf'}\n",
      "SVR Error:  -0.14436565770267767\n"
     ]
    }
   ],
   "source": [
    "from sklearn.model_selection import GridSearchCV\n",
    "param_svr = {\n",
    "    'kernel' : ('linear', 'poly', 'rbf', 'sigmoid'),\n",
    "    'degree' : [3,8],\n",
    "    'coef0' : [0.01,0.1,0.5],\n",
    "    }\n",
    "base_estimator = SVR() \n",
    "grid_search_model = GridSearchCV(base_estimator,param_svr,cv = 3,n_jobs = -1, verbose = 2,scoring='neg_mean_squared_error')\n",
    "grid_search_model.fit(X,Y)\n",
    "print(grid_search_model.best_params_)\n",
    "#Model score of the best param \n",
    "score0 = grid_search_model.score(X,Y)\n",
    "print('SVR Error: ', score0)\n"
   ]
  },
  {
   "cell_type": "markdown",
   "metadata": {},
   "source": [
    "# Problem 3\n",
    "## Survey the Kaggle Community"
   ]
  },
  {
   "cell_type": "markdown",
   "metadata": {},
   "source": [
    "### Ideas from Kaggle\r\n",
    "\r\n",
    "Some modes that can be used (Surveyed Kaggle):\r\n",
    "- Lasso Regression\r\n",
    "- Random Forest Regressor\r\n",
    "- Gradient Boosting Regressor\r\n",
    "\r\n",
    "I'll compare these models with K-fold validation and choose the best performing one."
   ]
  },
  {
   "cell_type": "markdown",
   "metadata": {},
   "source": [
    "# Problem 4\n",
    "## Creating a model with high generalization performance"
   ]
  },
  {
   "cell_type": "code",
   "execution_count": 9,
   "metadata": {},
   "outputs": [
    {
     "name": "stdout",
     "output_type": "stream",
     "text": [
      "Fitting 3 folds for each of 5 candidates, totalling 15 fits\n",
      "{'alpha': 0.005}\n",
      "Lasso regression score: -0.2421882692302284\n"
     ]
    }
   ],
   "source": [
    "param_lasso = [\n",
    "    {\n",
    "        'alpha' : [0.005, 0.02, 0.03, 0.05, 0.06],\n",
    "    }\n",
    "]\n",
    "\n",
    "from sklearn.linear_model import Lasso\n",
    "lasso = Lasso()\n",
    "grid_search_model = GridSearchCV(lasso,param_lasso,scoring='neg_mean_squared_error',cv = 3,n_jobs = -1, verbose = 2)\n",
    "grid_search_model.fit(X,Y)\n",
    "print(grid_search_model.best_params_)\n",
    "score1 = grid_search_model.score(X,Y)\n",
    "print('Lasso regression score:', score1)"
   ]
  },
  {
   "cell_type": "code",
   "execution_count": 10,
   "metadata": {},
   "outputs": [
    {
     "name": "stdout",
     "output_type": "stream",
     "text": [
      "Fitting 3 folds for each of 60 candidates, totalling 180 fits\n",
      "{'criterion': 'mae', 'max_depth': 8, 'max_features': 'log2', 'n_estimators': 500}\n",
      "Random Forest regression score: -0.07061310097521388\n"
     ]
    }
   ],
   "source": [
    "from sklearn.model_selection import cross_val_score\n",
    "from sklearn.ensemble import RandomForestRegressor\n",
    "\n",
    "forest = RandomForestRegressor()\n",
    "param_grid = { \n",
    "    'n_estimators': [200, 500],\n",
    "    'max_features': ['auto', 'sqrt', 'log2'],\n",
    "    'max_depth' : [4,5,6,7,8],\n",
    "    'criterion' :['mse', 'mae']\n",
    "}\n",
    "random_forest = RandomForestRegressor(random_state=42)\n",
    "grid_search_model = GridSearchCV(forest,param_grid,cv = 3,scoring='neg_mean_squared_error',verbose=2, n_jobs=-1)\n",
    "grid_search_model.fit(X,Y)\n",
    "print(grid_search_model.best_params_)\n",
    "score2 = grid_search_model.score(X,Y)\n",
    "print('Random Forest regression score:', score2)  "
   ]
  },
  {
   "cell_type": "code",
   "execution_count": 11,
   "metadata": {},
   "outputs": [
    {
     "name": "stdout",
     "output_type": "stream",
     "text": [
      "Fitting 3 folds for each of 81 candidates, totalling 243 fits\n",
      "{'learning_rate': 0.01, 'max_depth': 4, 'n_estimators': 500, 'subsample': 0.9}\n",
      "Gradient Boosting score:  -0.07291952486122666\n"
     ]
    }
   ],
   "source": [
    "from sklearn.ensemble import GradientBoostingRegressor\n",
    "# gradient = GradientBoostingClassifier(max_features = 'sqrt', max_depth = 2, learning_rate = 0.5)\n",
    "gadient = GradientBoostingRegressor()\n",
    "param_gradient = {'learning_rate': [0.01,0.05,0.1],\n",
    "                  'subsample'    : [0.9, 0.5, 0.1],\n",
    "                  'n_estimators' : [100,500,1000],\n",
    "                  'max_depth'    : [4,8,10]\n",
    "                 }\n",
    "\n",
    "grid_search_model = GridSearchCV(gadient,param_gradient,cv = 3,scoring='neg_mean_squared_error',verbose=2, n_jobs=-1)\n",
    "grid_search_model.fit(X,Y)\n",
    "print(grid_search_model.best_params_)\n",
    "score3 = grid_search_model.score(X,Y)\n",
    "print('Gradient Boosting score: ',score3)   "
   ]
  },
  {
   "cell_type": "code",
   "execution_count": 12,
   "metadata": {},
   "outputs": [
    {
     "name": "stdout",
     "output_type": "stream",
     "text": [
      "{'SVR': -0.14436565770267767, 'Lasso': -0.2421882692302284, 'GradientBoost': -0.07291952486122666, 'RandomForest': -0.07061310097521388}\n",
      "Best Model:  RandomForest\n"
     ]
    }
   ],
   "source": [
    "# Comparing all:\n",
    "score_map = {'SVR': score0, 'Lasso': score1, 'GradientBoost': score3,'RandomForest': score2}\n",
    "best = -10\n",
    "mod = None\n",
    "print(score_map)\n",
    "for model,value in score_map.items():\n",
    "    if value > best: \n",
    "        best = value\n",
    "        mod = model\n",
    "print('Best Model: ', mod)\n",
    "        \n"
   ]
  },
  {
   "cell_type": "markdown",
   "metadata": {},
   "source": [
    "# Problem 5\n",
    "## Final model selection"
   ]
  },
  {
   "cell_type": "markdown",
   "metadata": {},
   "source": [
    "### From the above result I'll work with the random forest model.\r\n",
    "**Model will be re-train on the full dataset to get most of the value**"
   ]
  },
  {
   "cell_type": "code",
   "execution_count": 13,
   "metadata": {},
   "outputs": [
    {
     "data": {
      "text/plain": [
       "RandomForestRegressor(criterion='mae', max_depth=8, max_features='sqrt',\n",
       "                      n_estimators=500)"
      ]
     },
     "execution_count": 13,
     "metadata": {},
     "output_type": "execute_result"
    }
   ],
   "source": [
    "# best param: {'criterion': 'mae', 'max_depth': 8, 'max_features': 'sqrt', 'n_estimators': 500}\n",
    "final_model = RandomForestRegressor(criterion='mae',max_depth=8, max_features='sqrt', n_estimators=500)\n",
    "final_model.fit(X,Y)\n"
   ]
  },
  {
   "cell_type": "code",
   "execution_count": 19,
   "metadata": {},
   "outputs": [
    {
     "name": "stdout",
     "output_type": "stream",
     "text": [
      "Null check: \n"
     ]
    },
    {
     "data": {
      "text/plain": [
       "GrLivArea      0\n",
       "YearBuilt      0\n",
       "TotalBsmtSF    1\n",
       "OverallQual    0\n",
       "dtype: int64"
      ]
     },
     "metadata": {},
     "output_type": "display_data"
    },
    {
     "name": "stdout",
     "output_type": "stream",
     "text": [
      "Test Data\n"
     ]
    },
    {
     "data": {
      "text/html": [
       "<div>\n",
       "<style scoped>\n",
       "    .dataframe tbody tr th:only-of-type {\n",
       "        vertical-align: middle;\n",
       "    }\n",
       "\n",
       "    .dataframe tbody tr th {\n",
       "        vertical-align: top;\n",
       "    }\n",
       "\n",
       "    .dataframe thead th {\n",
       "        text-align: right;\n",
       "    }\n",
       "</style>\n",
       "<table border=\"1\" class=\"dataframe\">\n",
       "  <thead>\n",
       "    <tr style=\"text-align: right;\">\n",
       "      <th></th>\n",
       "      <th>GrLivArea</th>\n",
       "      <th>YearBuilt</th>\n",
       "      <th>TotalBsmtSF</th>\n",
       "      <th>OverallQual</th>\n",
       "    </tr>\n",
       "  </thead>\n",
       "  <tbody>\n",
       "    <tr>\n",
       "      <th>0</th>\n",
       "      <td>896</td>\n",
       "      <td>1961</td>\n",
       "      <td>882.0</td>\n",
       "      <td>5</td>\n",
       "    </tr>\n",
       "    <tr>\n",
       "      <th>1</th>\n",
       "      <td>1329</td>\n",
       "      <td>1958</td>\n",
       "      <td>1329.0</td>\n",
       "      <td>6</td>\n",
       "    </tr>\n",
       "    <tr>\n",
       "      <th>2</th>\n",
       "      <td>1629</td>\n",
       "      <td>1997</td>\n",
       "      <td>928.0</td>\n",
       "      <td>5</td>\n",
       "    </tr>\n",
       "    <tr>\n",
       "      <th>3</th>\n",
       "      <td>1604</td>\n",
       "      <td>1998</td>\n",
       "      <td>926.0</td>\n",
       "      <td>6</td>\n",
       "    </tr>\n",
       "    <tr>\n",
       "      <th>4</th>\n",
       "      <td>1280</td>\n",
       "      <td>1992</td>\n",
       "      <td>1280.0</td>\n",
       "      <td>8</td>\n",
       "    </tr>\n",
       "  </tbody>\n",
       "</table>\n",
       "</div>"
      ],
      "text/plain": [
       "   GrLivArea  YearBuilt  TotalBsmtSF  OverallQual\n",
       "0        896       1961        882.0            5\n",
       "1       1329       1958       1329.0            6\n",
       "2       1629       1997        928.0            5\n",
       "3       1604       1998        926.0            6\n",
       "4       1280       1992       1280.0            8"
      ]
     },
     "metadata": {},
     "output_type": "display_data"
    },
    {
     "name": "stdout",
     "output_type": "stream",
     "text": [
      "result\n"
     ]
    },
    {
     "data": {
      "text/plain": [
       "array([253545.516, 253545.516, 253545.516, 253545.516, 253545.516,\n",
       "       253545.516, 253545.516, 253545.516, 253545.516, 253545.516])"
      ]
     },
     "metadata": {},
     "output_type": "display_data"
    },
    {
     "data": {
      "text/html": [
       "<div>\n",
       "<style scoped>\n",
       "    .dataframe tbody tr th:only-of-type {\n",
       "        vertical-align: middle;\n",
       "    }\n",
       "\n",
       "    .dataframe tbody tr th {\n",
       "        vertical-align: top;\n",
       "    }\n",
       "\n",
       "    .dataframe thead th {\n",
       "        text-align: right;\n",
       "    }\n",
       "</style>\n",
       "<table border=\"1\" class=\"dataframe\">\n",
       "  <thead>\n",
       "    <tr style=\"text-align: right;\">\n",
       "      <th></th>\n",
       "      <th>Id</th>\n",
       "      <th>SalePrice</th>\n",
       "    </tr>\n",
       "  </thead>\n",
       "  <tbody>\n",
       "    <tr>\n",
       "      <th>0</th>\n",
       "      <td>1461</td>\n",
       "      <td>253545.516</td>\n",
       "    </tr>\n",
       "    <tr>\n",
       "      <th>1</th>\n",
       "      <td>1462</td>\n",
       "      <td>253545.516</td>\n",
       "    </tr>\n",
       "    <tr>\n",
       "      <th>2</th>\n",
       "      <td>1463</td>\n",
       "      <td>253545.516</td>\n",
       "    </tr>\n",
       "    <tr>\n",
       "      <th>3</th>\n",
       "      <td>1464</td>\n",
       "      <td>253545.516</td>\n",
       "    </tr>\n",
       "    <tr>\n",
       "      <th>4</th>\n",
       "      <td>1465</td>\n",
       "      <td>253545.516</td>\n",
       "    </tr>\n",
       "  </tbody>\n",
       "</table>\n",
       "</div>"
      ],
      "text/plain": [
       "     Id   SalePrice\n",
       "0  1461  253545.516\n",
       "1  1462  253545.516\n",
       "2  1463  253545.516\n",
       "3  1464  253545.516\n",
       "4  1465  253545.516"
      ]
     },
     "metadata": {},
     "output_type": "display_data"
    }
   ],
   "source": [
    "#Load\r\n",
    "test_data = pd.read_csv('./test_house_price.csv')\r\n",
    "test_ids = test_data['Id']\r\n",
    "\r\n",
    "#preprocess\r\n",
    "x_test = test_data[['GrLivArea','YearBuilt','TotalBsmtSF','OverallQual']]\r\n",
    "print('Null check: ')\r\n",
    "display(x_test.isna().sum())\r\n",
    "x_test = x_test.fillna(0)\r\n",
    "# show test data\r\n",
    "print('Test Data')\r\n",
    "display(x_test.head())\r\n",
    "#predict\r\n",
    "prediction = final_model.predict(x_test)\r\n",
    "result = scaler.inverse_transform(prediction)\r\n",
    "print('result')\r\n",
    "display(result[:10])\r\n",
    "#put into a frame\r\n",
    "submission = pd.DataFrame()\r\n",
    "submission['Id'] = test_ids\r\n",
    "submission['SalePrice'] = result\r\n",
    "display(submission.head())"
   ]
  },
  {
   "cell_type": "code",
   "execution_count": 17,
   "metadata": {},
   "outputs": [],
   "source": [
    "#save csv submission\r\n",
    "submission.to_csv('./submission_sprint1.csv',index = False)"
   ]
  },
  {
   "cell_type": "markdown",
   "metadata": {},
   "source": [
    "## Submission Result\r\n",
    "![image](./pic.PNG)"
   ]
  },
  {
   "cell_type": "markdown",
   "metadata": {},
   "source": [
    "## Conclusion\r\n",
    "Since I choose only 4 attributes for **RFR** the result is expected. I believe the score will be better when we input more related attributes."
   ]
  },
  {
   "cell_type": "markdown",
   "metadata": {},
   "source": [
    "--------------------------------------------------------------------------------------------------------------------------------------------------"
   ]
  },
  {
   "cell_type": "markdown",
   "metadata": {},
   "source": [
    "This is the end of my assignment, thank you for reading!"
   ]
  }
 ],
 "metadata": {
  "interpreter": {
   "hash": "cf6663ca35ebd57d6121109460e534e72c1e1f8ff142ad985cdcb4b7e585eb79"
  },
  "kernelspec": {
   "display_name": "Python 3.9.0 64-bit",
   "name": "python3"
  },
  "language_info": {
   "name": "python",
   "version": ""
  },
  "orig_nbformat": 3
 },
 "nbformat": 4,
 "nbformat_minor": 2
}